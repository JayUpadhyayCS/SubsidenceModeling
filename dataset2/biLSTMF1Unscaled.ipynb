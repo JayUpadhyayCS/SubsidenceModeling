{
 "cells": [
  {
   "cell_type": "code",
   "execution_count": 1,
   "metadata": {},
   "outputs": [
    {
     "name": "stderr",
     "output_type": "stream",
     "text": [
      "c:\\Python\\Python310\\lib\\site-packages\\requests\\__init__.py:109: RequestsDependencyWarning: urllib3 (1.26.9) or chardet (5.0.0)/charset_normalizer (2.0.12) doesn't match a supported version!\n",
      "  warnings.warn(\n"
     ]
    },
    {
     "name": "stdout",
     "output_type": "stream",
     "text": [
      "Tensorflow/Keras: 2.9.0\n",
      "pandas: 1.4.2\n",
      "numpy: 1.22.4\n",
      "sklearn: 1.1.1\n",
      "plotly: 5.9.0\n"
     ]
    }
   ],
   "source": [
    "# Tensorflow / Keras\n",
    "from tensorflow import keras # for building Neural Networks\n",
    "print('Tensorflow/Keras: %s' % keras.__version__) # print version\n",
    "from keras.models import Sequential # for creating a linear stack of layers for our Neural Network\n",
    "from keras import Input # for instantiating a keras tensor\n",
    "from keras.layers import Masking,Bidirectional, LSTM, RepeatVector, Dense, TimeDistributed,MaxPooling1D, Flatten, Conv1D,Conv2D,Dropout, MaxPooling2D, GRU # for creating layers inside the Neural Network\n",
    "from keras.optimizers import Adam , SGD\n",
    "from keras import metrics, callbacks\n",
    "from keras.utils import plot_model\n",
    "# Data manipulation\n",
    "import pandas as pd # for data manipulation\n",
    "print('pandas: %s' % pd.__version__) # print version\n",
    "import numpy as np # for data manipulation\n",
    "print('numpy: %s' % np.__version__) # print version\n",
    "import numpy.ma as ma\n",
    "# Sklearn\n",
    "import sklearn\n",
    "print('sklearn: %s' % sklearn.__version__) # print version\n",
    "from sklearn.preprocessing import MinMaxScaler, StandardScaler # for feature scaling\n",
    "from sklearn.model_selection import train_test_split\n",
    "# Visualization\n",
    "import plotly \n",
    "import plotly.express as px\n",
    "import plotly.graph_objects as go\n",
    "print('plotly: %s' % plotly.__version__) # print version\n",
    "from matplotlib import pyplot as plt\n",
    "\n",
    "#file accessing\n",
    "import os\n",
    "# time stuff\n",
    "from datetime import timedelta\n",
    "import calendar\n"
   ]
  },
  {
   "cell_type": "code",
   "execution_count": 2,
   "metadata": {},
   "outputs": [
    {
     "name": "stdout",
     "output_type": "stream",
     "text": [
      "Defined the plot_the_model and plot_the_loss_curve functions.\n"
     ]
    }
   ],
   "source": [
    "#@title Define the plotting functions\n",
    "def plot_the_model(trained_weight, trained_bias, feature, label):\n",
    "  \"\"\"Plot the trained model against the training feature and label.\"\"\"\n",
    "\n",
    "  # Label the axes.\n",
    "  plt.xlabel(\"feature\")\n",
    "  plt.ylabel(\"label\")\n",
    "\n",
    "  # Plot the feature values vs. label values.\n",
    "  plt.scatter(feature, label)\n",
    "\n",
    "  # Create a red line representing the model. The red line starts\n",
    "  # at coordinates (x0, y0) and ends at coordinates (x1, y1).\n",
    "  x0 = 0\n",
    "  y0 = trained_bias\n",
    "  x1 = feature[-1]\n",
    "  y1 = trained_bias + (trained_weight * x1)\n",
    "  plt.plot([x0, x1], [y0, y1], c='r')\n",
    "\n",
    "  # Render the scatter plot and the red line.\n",
    "  plt.show()\n",
    "\n",
    "def plot_the_loss_curve(epochs, mse):\n",
    "  \"\"\"Plot the loss curve, which shows loss vs. epoch.\"\"\"\n",
    "\n",
    "  plt.figure()\n",
    "  plt.xlabel(\"Epoch\")\n",
    "  plt.ylabel(\"Mean Squared Error\")\n",
    "  #epochs.remove(max(epochs))\n",
    "  \n",
    "  #rmse.drop(max(rmse))\n",
    "  plt.plot(epochs, mse, label=\"Loss\")\n",
    "  plt.legend()\n",
    "  plt.ylim([min(mse)*0.97, max(mse)])\n",
    "  plt.show()\n",
    "\n",
    "print(\"Defined the plot_the_model and plot_the_loss_curve functions.\")"
   ]
  },
  {
   "cell_type": "markdown",
   "metadata": {},
   "source": [
    "##### Read from file and establish dataframe and future functions"
   ]
  },
  {
   "cell_type": "code",
   "execution_count": 3,
   "metadata": {},
   "outputs": [
    {
     "data": {
      "text/html": [
       "<div>\n",
       "<style scoped>\n",
       "    .dataframe tbody tr th:only-of-type {\n",
       "        vertical-align: middle;\n",
       "    }\n",
       "\n",
       "    .dataframe tbody tr th {\n",
       "        vertical-align: top;\n",
       "    }\n",
       "\n",
       "    .dataframe thead th {\n",
       "        text-align: right;\n",
       "    }\n",
       "</style>\n",
       "<table border=\"1\" class=\"dataframe\">\n",
       "  <thead>\n",
       "    <tr style=\"text-align: right;\">\n",
       "      <th></th>\n",
       "      <th></th>\n",
       "      <th>2014-11-08</th>\n",
       "      <th>2014-12-02</th>\n",
       "      <th>2014-12-26</th>\n",
       "      <th>2015-02-12</th>\n",
       "      <th>2015-03-08</th>\n",
       "      <th>2015-04-01</th>\n",
       "      <th>2015-04-25</th>\n",
       "      <th>2015-05-19</th>\n",
       "      <th>2015-06-12</th>\n",
       "      <th>2015-07-06</th>\n",
       "      <th>...</th>\n",
       "      <th>2018-10-18</th>\n",
       "      <th>2018-10-30</th>\n",
       "      <th>2018-11-11</th>\n",
       "      <th>2018-11-17</th>\n",
       "      <th>2018-11-23</th>\n",
       "      <th>2018-12-05</th>\n",
       "      <th>2018-12-17</th>\n",
       "      <th>2018-12-29</th>\n",
       "      <th>2019-01-10</th>\n",
       "      <th>2019-01-22</th>\n",
       "    </tr>\n",
       "    <tr>\n",
       "      <th>Longitude</th>\n",
       "      <th>Latitude</th>\n",
       "      <th></th>\n",
       "      <th></th>\n",
       "      <th></th>\n",
       "      <th></th>\n",
       "      <th></th>\n",
       "      <th></th>\n",
       "      <th></th>\n",
       "      <th></th>\n",
       "      <th></th>\n",
       "      <th></th>\n",
       "      <th></th>\n",
       "      <th></th>\n",
       "      <th></th>\n",
       "      <th></th>\n",
       "      <th></th>\n",
       "      <th></th>\n",
       "      <th></th>\n",
       "      <th></th>\n",
       "      <th></th>\n",
       "      <th></th>\n",
       "      <th></th>\n",
       "    </tr>\n",
       "  </thead>\n",
       "  <tbody>\n",
       "    <tr>\n",
       "      <th>-120.3387</th>\n",
       "      <th>36.5393</th>\n",
       "      <td>0.0</td>\n",
       "      <td>-6.2129</td>\n",
       "      <td>3.4247</td>\n",
       "      <td>5.7830</td>\n",
       "      <td>2.13990</td>\n",
       "      <td>6.8538</td>\n",
       "      <td>1.83540</td>\n",
       "      <td>2.1142</td>\n",
       "      <td>1.83670</td>\n",
       "      <td>-1.5935</td>\n",
       "      <td>...</td>\n",
       "      <td>4.93520</td>\n",
       "      <td>8.059200</td>\n",
       "      <td>6.39190</td>\n",
       "      <td>6.56470</td>\n",
       "      <td>3.58430</td>\n",
       "      <td>5.337900</td>\n",
       "      <td>7.14430</td>\n",
       "      <td>9.1285</td>\n",
       "      <td>8.73970</td>\n",
       "      <td>10.38400</td>\n",
       "    </tr>\n",
       "    <tr>\n",
       "      <th>-120.1908</th>\n",
       "      <th>36.1412</th>\n",
       "      <td>0.0</td>\n",
       "      <td>-5.6951</td>\n",
       "      <td>2.2257</td>\n",
       "      <td>4.5835</td>\n",
       "      <td>1.70790</td>\n",
       "      <td>6.5348</td>\n",
       "      <td>2.98530</td>\n",
       "      <td>2.7613</td>\n",
       "      <td>3.76730</td>\n",
       "      <td>2.2235</td>\n",
       "      <td>...</td>\n",
       "      <td>6.28560</td>\n",
       "      <td>8.606700</td>\n",
       "      <td>7.15330</td>\n",
       "      <td>8.06940</td>\n",
       "      <td>5.60730</td>\n",
       "      <td>4.977600</td>\n",
       "      <td>8.18450</td>\n",
       "      <td>9.0591</td>\n",
       "      <td>8.89620</td>\n",
       "      <td>10.35300</td>\n",
       "    </tr>\n",
       "    <tr>\n",
       "      <th>-119.8869</th>\n",
       "      <th>35.6171</th>\n",
       "      <td>0.0</td>\n",
       "      <td>-6.7674</td>\n",
       "      <td>1.8611</td>\n",
       "      <td>3.5773</td>\n",
       "      <td>0.77856</td>\n",
       "      <td>4.5700</td>\n",
       "      <td>1.90460</td>\n",
       "      <td>2.8225</td>\n",
       "      <td>0.89615</td>\n",
       "      <td>2.6578</td>\n",
       "      <td>...</td>\n",
       "      <td>6.42140</td>\n",
       "      <td>7.527900</td>\n",
       "      <td>6.25500</td>\n",
       "      <td>7.12750</td>\n",
       "      <td>7.43410</td>\n",
       "      <td>3.680000</td>\n",
       "      <td>6.77130</td>\n",
       "      <td>8.8868</td>\n",
       "      <td>7.87950</td>\n",
       "      <td>9.15160</td>\n",
       "    </tr>\n",
       "    <tr>\n",
       "      <th>-119.8849</th>\n",
       "      <th>35.8671</th>\n",
       "      <td>0.0</td>\n",
       "      <td>-6.9006</td>\n",
       "      <td>1.5378</td>\n",
       "      <td>3.1628</td>\n",
       "      <td>0.49591</td>\n",
       "      <td>5.3001</td>\n",
       "      <td>1.69690</td>\n",
       "      <td>2.4262</td>\n",
       "      <td>1.60660</td>\n",
       "      <td>1.9497</td>\n",
       "      <td>...</td>\n",
       "      <td>6.71270</td>\n",
       "      <td>8.195900</td>\n",
       "      <td>6.89780</td>\n",
       "      <td>7.72280</td>\n",
       "      <td>7.08070</td>\n",
       "      <td>5.015800</td>\n",
       "      <td>6.95200</td>\n",
       "      <td>8.8647</td>\n",
       "      <td>8.17390</td>\n",
       "      <td>9.19100</td>\n",
       "    </tr>\n",
       "    <tr>\n",
       "      <th>-119.8829</th>\n",
       "      <th>35.9512</th>\n",
       "      <td>0.0</td>\n",
       "      <td>-6.3572</td>\n",
       "      <td>1.1703</td>\n",
       "      <td>2.1735</td>\n",
       "      <td>-0.47235</td>\n",
       "      <td>3.9732</td>\n",
       "      <td>0.57705</td>\n",
       "      <td>1.4311</td>\n",
       "      <td>0.69616</td>\n",
       "      <td>1.1763</td>\n",
       "      <td>...</td>\n",
       "      <td>5.86560</td>\n",
       "      <td>7.390000</td>\n",
       "      <td>6.27260</td>\n",
       "      <td>7.15710</td>\n",
       "      <td>5.54560</td>\n",
       "      <td>3.736800</td>\n",
       "      <td>6.18420</td>\n",
       "      <td>7.5924</td>\n",
       "      <td>6.51850</td>\n",
       "      <td>8.10940</td>\n",
       "    </tr>\n",
       "    <tr>\n",
       "      <th>...</th>\n",
       "      <th>...</th>\n",
       "      <td>...</td>\n",
       "      <td>...</td>\n",
       "      <td>...</td>\n",
       "      <td>...</td>\n",
       "      <td>...</td>\n",
       "      <td>...</td>\n",
       "      <td>...</td>\n",
       "      <td>...</td>\n",
       "      <td>...</td>\n",
       "      <td>...</td>\n",
       "      <td>...</td>\n",
       "      <td>...</td>\n",
       "      <td>...</td>\n",
       "      <td>...</td>\n",
       "      <td>...</td>\n",
       "      <td>...</td>\n",
       "      <td>...</td>\n",
       "      <td>...</td>\n",
       "      <td>...</td>\n",
       "      <td>...</td>\n",
       "      <td>...</td>\n",
       "    </tr>\n",
       "    <tr>\n",
       "      <th>-118.9071</th>\n",
       "      <th>35.3750</th>\n",
       "      <td>0.0</td>\n",
       "      <td>-3.8828</td>\n",
       "      <td>-1.1999</td>\n",
       "      <td>-1.2152</td>\n",
       "      <td>-2.12550</td>\n",
       "      <td>-3.4199</td>\n",
       "      <td>-0.94401</td>\n",
       "      <td>-3.6226</td>\n",
       "      <td>0.56910</td>\n",
       "      <td>-1.4506</td>\n",
       "      <td>...</td>\n",
       "      <td>2.44230</td>\n",
       "      <td>2.689300</td>\n",
       "      <td>3.37490</td>\n",
       "      <td>3.22130</td>\n",
       "      <td>3.32230</td>\n",
       "      <td>2.285500</td>\n",
       "      <td>1.94290</td>\n",
       "      <td>5.8860</td>\n",
       "      <td>2.26160</td>\n",
       "      <td>2.42750</td>\n",
       "    </tr>\n",
       "    <tr>\n",
       "      <th>-118.9051</th>\n",
       "      <th>35.3430</th>\n",
       "      <td>0.0</td>\n",
       "      <td>-4.1356</td>\n",
       "      <td>-1.1255</td>\n",
       "      <td>-1.2232</td>\n",
       "      <td>-2.18530</td>\n",
       "      <td>-3.3244</td>\n",
       "      <td>-0.70324</td>\n",
       "      <td>-3.5807</td>\n",
       "      <td>0.53279</td>\n",
       "      <td>-1.5025</td>\n",
       "      <td>...</td>\n",
       "      <td>1.45350</td>\n",
       "      <td>1.393300</td>\n",
       "      <td>2.12930</td>\n",
       "      <td>1.83520</td>\n",
       "      <td>2.14240</td>\n",
       "      <td>1.547400</td>\n",
       "      <td>1.06060</td>\n",
       "      <td>4.7605</td>\n",
       "      <td>0.96871</td>\n",
       "      <td>1.18650</td>\n",
       "    </tr>\n",
       "    <tr>\n",
       "      <th rowspan=\"2\" valign=\"top\">-118.9031</th>\n",
       "      <th>35.3110</th>\n",
       "      <td>0.0</td>\n",
       "      <td>-4.1879</td>\n",
       "      <td>-1.1213</td>\n",
       "      <td>-1.7977</td>\n",
       "      <td>-2.28030</td>\n",
       "      <td>-3.4793</td>\n",
       "      <td>-0.84339</td>\n",
       "      <td>-3.6445</td>\n",
       "      <td>0.30264</td>\n",
       "      <td>-2.1569</td>\n",
       "      <td>...</td>\n",
       "      <td>-0.17429</td>\n",
       "      <td>0.098737</td>\n",
       "      <td>0.56824</td>\n",
       "      <td>0.16814</td>\n",
       "      <td>0.69418</td>\n",
       "      <td>-0.011814</td>\n",
       "      <td>-0.57993</td>\n",
       "      <td>2.7450</td>\n",
       "      <td>-1.03220</td>\n",
       "      <td>-0.71361</td>\n",
       "    </tr>\n",
       "    <tr>\n",
       "      <th>35.4270</th>\n",
       "      <td>0.0</td>\n",
       "      <td>-4.1305</td>\n",
       "      <td>-1.2911</td>\n",
       "      <td>-1.1049</td>\n",
       "      <td>-2.53270</td>\n",
       "      <td>-3.4353</td>\n",
       "      <td>-0.79675</td>\n",
       "      <td>-3.7570</td>\n",
       "      <td>0.58227</td>\n",
       "      <td>-1.2981</td>\n",
       "      <td>...</td>\n",
       "      <td>3.02090</td>\n",
       "      <td>3.222600</td>\n",
       "      <td>4.33210</td>\n",
       "      <td>3.71760</td>\n",
       "      <td>4.08800</td>\n",
       "      <td>2.244900</td>\n",
       "      <td>2.98550</td>\n",
       "      <td>6.4669</td>\n",
       "      <td>2.77250</td>\n",
       "      <td>2.71350</td>\n",
       "    </tr>\n",
       "    <tr>\n",
       "      <th>-118.9011</th>\n",
       "      <th>35.3950</th>\n",
       "      <td>0.0</td>\n",
       "      <td>-4.1354</td>\n",
       "      <td>-1.3291</td>\n",
       "      <td>-1.1547</td>\n",
       "      <td>-2.29250</td>\n",
       "      <td>-3.5912</td>\n",
       "      <td>-0.82694</td>\n",
       "      <td>-3.6488</td>\n",
       "      <td>0.71169</td>\n",
       "      <td>-1.0560</td>\n",
       "      <td>...</td>\n",
       "      <td>2.84470</td>\n",
       "      <td>3.160200</td>\n",
       "      <td>4.13480</td>\n",
       "      <td>3.61790</td>\n",
       "      <td>3.82230</td>\n",
       "      <td>2.624100</td>\n",
       "      <td>2.65560</td>\n",
       "      <td>6.3724</td>\n",
       "      <td>2.70740</td>\n",
       "      <td>2.72110</td>\n",
       "    </tr>\n",
       "  </tbody>\n",
       "</table>\n",
       "<p>603 rows × 110 columns</p>\n",
       "</div>"
      ],
      "text/plain": [
       "                    2014-11-08  2014-12-02  2014-12-26  2015-02-12  \\\n",
       "Longitude Latitude                                                   \n",
       "-120.3387 36.5393          0.0     -6.2129      3.4247      5.7830   \n",
       "-120.1908 36.1412          0.0     -5.6951      2.2257      4.5835   \n",
       "-119.8869 35.6171          0.0     -6.7674      1.8611      3.5773   \n",
       "-119.8849 35.8671          0.0     -6.9006      1.5378      3.1628   \n",
       "-119.8829 35.9512          0.0     -6.3572      1.1703      2.1735   \n",
       "...                        ...         ...         ...         ...   \n",
       "-118.9071 35.3750          0.0     -3.8828     -1.1999     -1.2152   \n",
       "-118.9051 35.3430          0.0     -4.1356     -1.1255     -1.2232   \n",
       "-118.9031 35.3110          0.0     -4.1879     -1.1213     -1.7977   \n",
       "          35.4270          0.0     -4.1305     -1.2911     -1.1049   \n",
       "-118.9011 35.3950          0.0     -4.1354     -1.3291     -1.1547   \n",
       "\n",
       "                    2015-03-08  2015-04-01  2015-04-25  2015-05-19  \\\n",
       "Longitude Latitude                                                   \n",
       "-120.3387 36.5393      2.13990      6.8538     1.83540      2.1142   \n",
       "-120.1908 36.1412      1.70790      6.5348     2.98530      2.7613   \n",
       "-119.8869 35.6171      0.77856      4.5700     1.90460      2.8225   \n",
       "-119.8849 35.8671      0.49591      5.3001     1.69690      2.4262   \n",
       "-119.8829 35.9512     -0.47235      3.9732     0.57705      1.4311   \n",
       "...                        ...         ...         ...         ...   \n",
       "-118.9071 35.3750     -2.12550     -3.4199    -0.94401     -3.6226   \n",
       "-118.9051 35.3430     -2.18530     -3.3244    -0.70324     -3.5807   \n",
       "-118.9031 35.3110     -2.28030     -3.4793    -0.84339     -3.6445   \n",
       "          35.4270     -2.53270     -3.4353    -0.79675     -3.7570   \n",
       "-118.9011 35.3950     -2.29250     -3.5912    -0.82694     -3.6488   \n",
       "\n",
       "                    2015-06-12  2015-07-06  ...  2018-10-18  2018-10-30  \\\n",
       "Longitude Latitude                          ...                           \n",
       "-120.3387 36.5393      1.83670     -1.5935  ...     4.93520    8.059200   \n",
       "-120.1908 36.1412      3.76730      2.2235  ...     6.28560    8.606700   \n",
       "-119.8869 35.6171      0.89615      2.6578  ...     6.42140    7.527900   \n",
       "-119.8849 35.8671      1.60660      1.9497  ...     6.71270    8.195900   \n",
       "-119.8829 35.9512      0.69616      1.1763  ...     5.86560    7.390000   \n",
       "...                        ...         ...  ...         ...         ...   \n",
       "-118.9071 35.3750      0.56910     -1.4506  ...     2.44230    2.689300   \n",
       "-118.9051 35.3430      0.53279     -1.5025  ...     1.45350    1.393300   \n",
       "-118.9031 35.3110      0.30264     -2.1569  ...    -0.17429    0.098737   \n",
       "          35.4270      0.58227     -1.2981  ...     3.02090    3.222600   \n",
       "-118.9011 35.3950      0.71169     -1.0560  ...     2.84470    3.160200   \n",
       "\n",
       "                    2018-11-11  2018-11-17  2018-11-23  2018-12-05  \\\n",
       "Longitude Latitude                                                   \n",
       "-120.3387 36.5393      6.39190     6.56470     3.58430    5.337900   \n",
       "-120.1908 36.1412      7.15330     8.06940     5.60730    4.977600   \n",
       "-119.8869 35.6171      6.25500     7.12750     7.43410    3.680000   \n",
       "-119.8849 35.8671      6.89780     7.72280     7.08070    5.015800   \n",
       "-119.8829 35.9512      6.27260     7.15710     5.54560    3.736800   \n",
       "...                        ...         ...         ...         ...   \n",
       "-118.9071 35.3750      3.37490     3.22130     3.32230    2.285500   \n",
       "-118.9051 35.3430      2.12930     1.83520     2.14240    1.547400   \n",
       "-118.9031 35.3110      0.56824     0.16814     0.69418   -0.011814   \n",
       "          35.4270      4.33210     3.71760     4.08800    2.244900   \n",
       "-118.9011 35.3950      4.13480     3.61790     3.82230    2.624100   \n",
       "\n",
       "                    2018-12-17  2018-12-29  2019-01-10  2019-01-22  \n",
       "Longitude Latitude                                                  \n",
       "-120.3387 36.5393      7.14430      9.1285     8.73970    10.38400  \n",
       "-120.1908 36.1412      8.18450      9.0591     8.89620    10.35300  \n",
       "-119.8869 35.6171      6.77130      8.8868     7.87950     9.15160  \n",
       "-119.8849 35.8671      6.95200      8.8647     8.17390     9.19100  \n",
       "-119.8829 35.9512      6.18420      7.5924     6.51850     8.10940  \n",
       "...                        ...         ...         ...         ...  \n",
       "-118.9071 35.3750      1.94290      5.8860     2.26160     2.42750  \n",
       "-118.9051 35.3430      1.06060      4.7605     0.96871     1.18650  \n",
       "-118.9031 35.3110     -0.57993      2.7450    -1.03220    -0.71361  \n",
       "          35.4270      2.98550      6.4669     2.77250     2.71350  \n",
       "-118.9011 35.3950      2.65560      6.3724     2.70740     2.72110  \n",
       "\n",
       "[603 rows x 110 columns]"
      ]
     },
     "execution_count": 3,
     "metadata": {},
     "output_type": "execute_result"
    }
   ],
   "source": [
    "df=pd.read_csv('E:\\DSFellowship\\Complete\\dataset2\\dataset2.csv')\n",
    "df=df.set_index([df.columns[0],df.columns[1]])\n",
    "df.columns=pd.to_datetime(df.columns, format='%Y-%m-%d')\n",
    "df=df.dropna(axis=0, how='all')#drop full nan rows\n",
    "df"
   ]
  },
  {
   "cell_type": "markdown",
   "metadata": {},
   "source": [
    "##### Remove next line to include all data"
   ]
  },
  {
   "cell_type": "markdown",
   "metadata": {},
   "source": [
    "# Timestep"
   ]
  },
  {
   "cell_type": "code",
   "execution_count": 4,
   "metadata": {},
   "outputs": [],
   "source": [
    "timestep=10\n",
    "# 1 2 3 4 5 6 7 ...\n",
    "# w/ timestep of 2\n",
    "# [[1,2][2,3][3,4]"
   ]
  },
  {
   "cell_type": "markdown",
   "metadata": {},
   "source": [
    "# Shaping function (remove start and step for first for loop to include all data)"
   ]
  },
  {
   "cell_type": "code",
   "execution_count": 5,
   "metadata": {},
   "outputs": [],
   "source": [
    "def shaping(datain, timestep):\n",
    "    #print(arr)\n",
    "    cnt=0\n",
    "    for row in range(len(datain.index)): #picks a row at every iteration, allows to reduction of input and inclusion of multiple time series, remove start and step to run on full dataset \n",
    "    # Convert input dataframe to array and flatten\n",
    "        #datain.iloc[row].fillna(datain.iloc[row].mean).to_numpy().flatten()\n",
    "        arr=datain.iloc[row].interpolate().to_numpy().flatten() # flatten row\n",
    "        #arr=arr.fillna(arr.mean)\n",
    "        #arr=np.where(np.isnan(arr), ma.array(arr, mask=np.isnan(arr)).mean(), arr) \n",
    "        for mth in range(0, len(datain.columns)-(2*timestep)+1): # Define range lenght of the dates - 2* amount of timesep?? +1\n",
    "            cnt=cnt+1 # Gives us the number of samples. Later used to reshape the data\n",
    "            X_start=mth # Start month for inputs of each sample\n",
    "            X_end=mth+timestep # End month for inputs of each sample\n",
    "            Y_start=mth+timestep # Start month for targets of each sample. Note, start is inclusive and end is exclusive, that's why X_end and Y_start is the same number\n",
    "            Y_end=mth+2*timestep # End month for targets of each sample.  \n",
    "            \n",
    "            # Assemble input and target arrays containing all samples\n",
    "            if cnt==1:\n",
    "                X_comb=arr[X_start:X_end]\n",
    "                Y_comb=arr[Y_start:Y_end]\n",
    "            else: \n",
    "                X_comb=np.append(X_comb, arr[X_start:X_end])\n",
    "                Y_comb=np.append(Y_comb, arr[Y_start:Y_end])\n",
    "    # Reshape input and target arrays\n",
    "    X_out=np.reshape(X_comb, (cnt, timestep, 1))\n",
    "    Y_out=np.reshape(Y_comb, (cnt, timestep, 1))\n",
    "    return X_out, Y_out"
   ]
  },
  {
   "cell_type": "markdown",
   "metadata": {},
   "source": [
    "##### Step 2 - Split and Shape data"
   ]
  },
  {
   "cell_type": "code",
   "execution_count": 6,
   "metadata": {},
   "outputs": [],
   "source": [
    "#Divides data into 80% training 20% testing\n",
    "#train, test = train_test_split(df, test_size=0.2)\n",
    "# creates sequences to train\n",
    "# X , Y = shaping(datain=df, timestep= timestep )\n",
    "# X_train, X_test, Y_train, Y_test = train_test_split(X,Y , test_size=0.2, random_state=28)\n",
    "# nsamples, nx, ny = X_train.shape\n",
    "# X_train = X_train.reshape((nsamples,nx*ny))\n",
    "# nsamples, nx, ny = Y_train.shape\n",
    "# Y_train = Y_train.reshape((nsamples,nx*ny))\n",
    "# nsamples, nx, ny = X_test.shape\n",
    "# X_test = X_test.reshape((nsamples,nx*ny))\n",
    "# nsamples, nx, ny = Y_test.shape\n",
    "# Y_test = Y_test.reshape((nsamples,nx*ny))\n",
    "#Divides data into 80% training 20% testing\n",
    "# scaler=MinMaxScaler()\n",
    "# scaler2=MinMaxScaler()\n",
    "\n",
    "train, test=train_test_split(df,test_size=.2,shuffle=True,random_state=42)\n",
    "# creates sequences to train\n",
    "\n",
    "X_train, Y_train = shaping(datain=train, timestep= timestep )\n",
    "X_test, Y_test = shaping(datain=test, timestep=timestep)\n",
    "# X_train=scaler.fit_transform(X_train.reshape(-1,X_train.shape[-1])).reshape(X_train.shape)\n",
    "# X_test=scaler.transform(X_test.reshape(-1,X_test.shape[-1])).reshape(X_test.shape)\n",
    "\n",
    "# Y_train=scaler2.fit_transform(Y_train.reshape(-1,Y_train.shape[-1])).reshape(Y_train.shape)\n",
    "# Y_test=scaler2.transform(Y_test.reshape(-1,Y_test.shape[-1])).reshape(Y_test.shape)"
   ]
  },
  {
   "cell_type": "code",
   "execution_count": 7,
   "metadata": {},
   "outputs": [],
   "source": [
    "# scaler = MinMaxScaler()\n",
    "# scaler2 = MinMaxScaler()\n",
    "# X_train = scaler.fit_transform(X_train.reshape(-1, X_train.shape[-1])).reshape(X_train.shape)\n",
    "# X_test = scaler.transform(X_test.reshape(-1, X_test.shape[-1])).reshape(X_test.shape)\n",
    "# Y_train = scaler2.fit_transform(Y_train.reshape(-1, Y_train.shape[-1])).reshape(Y_train.shape)\n",
    "# Y_test = scaler.transform(Y_test.reshape(-1, Y_test.shape[-1])).reshape(Y_test.shape)\n"
   ]
  },
  {
   "cell_type": "markdown",
   "metadata": {},
   "source": [
    "##### Step 3 - Specify the structure of a Neural Network, first model"
   ]
  },
  {
   "cell_type": "code",
   "execution_count": 8,
   "metadata": {},
   "outputs": [],
   "source": [
    "callback = callbacks.EarlyStopping(monitor='loss', patience=3)\n",
    "model2 = Sequential(name=\"biLSTM-Model\") # Model\n",
    "#model2.add(Masking(mask_value=-1000, input_shape=(timestep, 1)))\n",
    "\n",
    "model2.add(Input(shape=(X_train.shape[1],X_train.shape[2]), name='Input-Layer')) # Input Layer - need to speicfy the shape of inputs\n",
    "model2.add(Bidirectional(LSTM(units=64, activation='relu', recurrent_activation='sigmoid', stateful=False), name='Hidden-LSTM-Encoder-Layer')) # Encoder Layer\n",
    "model2.add(RepeatVector(Y_train.shape[1], name='Repeat-Vector-Layer')) # Repeat Vector\n",
    "model2.add(Bidirectional(LSTM(units=64, activation='relu', recurrent_activation='sigmoid', stateful=False, return_sequences=True), name='Hidden-LSTM-Decoder-Layer')) # Decoder Layer\n",
    "model2.add(TimeDistributed(Dense(units=1, activation='linear'), name='Output-Layer')) # Output Layer, Linear(x) = x\n",
    "#optimizer=Adam(.005)\n",
    "model2.compile(optimizer='adam', # default='rmsprop', an algorithm to be used in backpropagation\n",
    "              loss='mean_squared_error', # Loss function to be optimized. A string (name of loss function), or a tf.keras.losses.Loss instance.\n",
    "              metrics=['MeanSquaredError', 'mean_absolute_error'], # List of metrics to be evaluated by the model during training and testing. Each of this can be a string (name of a built-in function), function or a tf.keras.metrics.Metric instance. \n",
    "              loss_weights=None, # default=None, Optional list or dictionary specifying scalar coefficients (Python floats) to weight the loss contributions of different model outputs.\n",
    "              weighted_metrics=None, # default=None, List of metrics to be evaluated and weighted by sample_weight or class_weight during training and testing.\n",
    "              run_eagerly=None, # Defaults to False. If True, this Model's logic will not be wrapped in a tf.function. Recommended to leave this as None unless your Model cannot be run inside a tf.function.\n",
    "              steps_per_execution=None, # Defaults to 1. The number of batches to run during each tf.function call. Running multiple batches inside a single tf.function call can greatly improve performance on TPUs or small models with a large Python overhead.\n",
    "                   \n",
    "             )"
   ]
  },
  {
   "cell_type": "code",
   "execution_count": 9,
   "metadata": {},
   "outputs": [],
   "source": [
    "##### Train model"
   ]
  },
  {
   "cell_type": "code",
   "execution_count": 10,
   "metadata": {},
   "outputs": [
    {
     "name": "stdout",
     "output_type": "stream",
     "text": [
      "Epoch 1/100\n",
      "1028/1028 - 25s - loss: 12.1138 - mean_squared_error: 12.1138 - mean_absolute_error: 2.3652 - 25s/epoch - 25ms/step\n",
      "Epoch 2/100\n",
      "1028/1028 - 14s - loss: 8.1957 - mean_squared_error: 8.1957 - mean_absolute_error: 2.1201 - 14s/epoch - 14ms/step\n",
      "Epoch 3/100\n",
      "1028/1028 - 14s - loss: 7.8733 - mean_squared_error: 7.8733 - mean_absolute_error: 2.0754 - 14s/epoch - 14ms/step\n",
      "Epoch 4/100\n",
      "1028/1028 - 14s - loss: 7.6384 - mean_squared_error: 7.6384 - mean_absolute_error: 2.0443 - 14s/epoch - 14ms/step\n",
      "Epoch 5/100\n",
      "1028/1028 - 14s - loss: 7.3733 - mean_squared_error: 7.3733 - mean_absolute_error: 2.0059 - 14s/epoch - 14ms/step\n",
      "Epoch 6/100\n",
      "1028/1028 - 15s - loss: 6.9556 - mean_squared_error: 6.9556 - mean_absolute_error: 1.9552 - 15s/epoch - 15ms/step\n",
      "Epoch 7/100\n",
      "1028/1028 - 15s - loss: 6.6110 - mean_squared_error: 6.6111 - mean_absolute_error: 1.9098 - 15s/epoch - 14ms/step\n",
      "Epoch 8/100\n",
      "1028/1028 - 15s - loss: 6.1252 - mean_squared_error: 6.1252 - mean_absolute_error: 1.8428 - 15s/epoch - 15ms/step\n",
      "Epoch 9/100\n",
      "1028/1028 - 15s - loss: 5.6977 - mean_squared_error: 5.6977 - mean_absolute_error: 1.7849 - 15s/epoch - 14ms/step\n",
      "Epoch 10/100\n",
      "1028/1028 - 14s - loss: 5.2595 - mean_squared_error: 5.2595 - mean_absolute_error: 1.7175 - 14s/epoch - 14ms/step\n",
      "Epoch 11/100\n",
      "1028/1028 - 15s - loss: 5.0564 - mean_squared_error: 5.0564 - mean_absolute_error: 1.6805 - 15s/epoch - 15ms/step\n",
      "Epoch 12/100\n",
      "1028/1028 - 14s - loss: 4.5976 - mean_squared_error: 4.5976 - mean_absolute_error: 1.6020 - 14s/epoch - 14ms/step\n",
      "Epoch 13/100\n",
      "1028/1028 - 15s - loss: 4.3645 - mean_squared_error: 4.3645 - mean_absolute_error: 1.5554 - 15s/epoch - 14ms/step\n",
      "Epoch 14/100\n",
      "1028/1028 - 15s - loss: 4.0280 - mean_squared_error: 4.0280 - mean_absolute_error: 1.4948 - 15s/epoch - 15ms/step\n",
      "Epoch 15/100\n",
      "1028/1028 - 16s - loss: 3.8684 - mean_squared_error: 3.8684 - mean_absolute_error: 1.4616 - 16s/epoch - 15ms/step\n",
      "Epoch 16/100\n",
      "1028/1028 - 16s - loss: 3.5777 - mean_squared_error: 3.5777 - mean_absolute_error: 1.4079 - 16s/epoch - 16ms/step\n",
      "Epoch 17/100\n",
      "1028/1028 - 16s - loss: 3.2659 - mean_squared_error: 3.2659 - mean_absolute_error: 1.3428 - 16s/epoch - 15ms/step\n",
      "Epoch 18/100\n",
      "1028/1028 - 17s - loss: 3.1739 - mean_squared_error: 3.1739 - mean_absolute_error: 1.3176 - 17s/epoch - 16ms/step\n",
      "Epoch 19/100\n",
      "1028/1028 - 17s - loss: 2.9822 - mean_squared_error: 2.9822 - mean_absolute_error: 1.2825 - 17s/epoch - 16ms/step\n",
      "Epoch 20/100\n",
      "1028/1028 - 17s - loss: 2.9266 - mean_squared_error: 2.9266 - mean_absolute_error: 1.2602 - 17s/epoch - 17ms/step\n",
      "Epoch 21/100\n",
      "1028/1028 - 15s - loss: 2.7271 - mean_squared_error: 2.7271 - mean_absolute_error: 1.2202 - 15s/epoch - 14ms/step\n",
      "Epoch 22/100\n",
      "1028/1028 - 15s - loss: 3.0219 - mean_squared_error: 3.0219 - mean_absolute_error: 1.2650 - 15s/epoch - 14ms/step\n",
      "Epoch 23/100\n",
      "1028/1028 - 15s - loss: 2.4076 - mean_squared_error: 2.4076 - mean_absolute_error: 1.1462 - 15s/epoch - 15ms/step\n",
      "Epoch 24/100\n",
      "1028/1028 - 15s - loss: 2.5717 - mean_squared_error: 2.5717 - mean_absolute_error: 1.1749 - 15s/epoch - 14ms/step\n",
      "Epoch 25/100\n",
      "1028/1028 - 15s - loss: 2.8461 - mean_squared_error: 2.8461 - mean_absolute_error: 1.2129 - 15s/epoch - 14ms/step\n",
      "Epoch 26/100\n",
      "1028/1028 - 15s - loss: 2.3375 - mean_squared_error: 2.3375 - mean_absolute_error: 1.1174 - 15s/epoch - 15ms/step\n",
      "Epoch 27/100\n",
      "1028/1028 - 15s - loss: 2.0470 - mean_squared_error: 2.0470 - mean_absolute_error: 1.0556 - 15s/epoch - 15ms/step\n",
      "Epoch 28/100\n",
      "1028/1028 - 15s - loss: 2.2581 - mean_squared_error: 2.2581 - mean_absolute_error: 1.0921 - 15s/epoch - 14ms/step\n",
      "Epoch 29/100\n",
      "1028/1028 - 15s - loss: 2.0883 - mean_squared_error: 2.0883 - mean_absolute_error: 1.0504 - 15s/epoch - 15ms/step\n",
      "Epoch 30/100\n",
      "1028/1028 - 15s - loss: 1.9352 - mean_squared_error: 1.9352 - mean_absolute_error: 1.0195 - 15s/epoch - 15ms/step\n",
      "Epoch 31/100\n",
      "1028/1028 - 15s - loss: 1.9346 - mean_squared_error: 1.9346 - mean_absolute_error: 1.0130 - 15s/epoch - 15ms/step\n",
      "Epoch 32/100\n",
      "1028/1028 - 16s - loss: 2.0048 - mean_squared_error: 2.0048 - mean_absolute_error: 1.0203 - 16s/epoch - 16ms/step\n",
      "Epoch 33/100\n",
      "1028/1028 - 15s - loss: 1.7247 - mean_squared_error: 1.7247 - mean_absolute_error: 0.9603 - 15s/epoch - 15ms/step\n",
      "Epoch 34/100\n",
      "1028/1028 - 15s - loss: 8.0985 - mean_squared_error: 8.0985 - mean_absolute_error: 1.0999 - 15s/epoch - 15ms/step\n",
      "Epoch 35/100\n",
      "1028/1028 - 14s - loss: 8.4031 - mean_squared_error: 8.4031 - mean_absolute_error: 2.0385 - 14s/epoch - 14ms/step\n",
      "Epoch 36/100\n",
      "1028/1028 - 15s - loss: 5.9621 - mean_squared_error: 5.9621 - mean_absolute_error: 1.7398 - 15s/epoch - 15ms/step\n",
      "Epoch 37/100\n",
      "1028/1028 - 15s - loss: 5.0827 - mean_squared_error: 5.0827 - mean_absolute_error: 1.6217 - 15s/epoch - 14ms/step\n",
      "Epoch 38/100\n",
      "1028/1028 - 16s - loss: 4.6111 - mean_squared_error: 4.6111 - mean_absolute_error: 1.5470 - 16s/epoch - 15ms/step\n",
      "Epoch 39/100\n",
      "1028/1028 - 14s - loss: 4.3395 - mean_squared_error: 4.3395 - mean_absolute_error: 1.4943 - 14s/epoch - 14ms/step\n",
      "Epoch 40/100\n",
      "1028/1028 - 14s - loss: 4.1115 - mean_squared_error: 4.1115 - mean_absolute_error: 1.4542 - 14s/epoch - 14ms/step\n",
      "Epoch 41/100\n",
      "1028/1028 - 14s - loss: 3.9975 - mean_squared_error: 3.9975 - mean_absolute_error: 1.4292 - 14s/epoch - 14ms/step\n",
      "Epoch 42/100\n",
      "1028/1028 - 15s - loss: 3.8725 - mean_squared_error: 3.8725 - mean_absolute_error: 1.4039 - 15s/epoch - 14ms/step\n",
      "Epoch 43/100\n",
      "1028/1028 - 15s - loss: 3.6893 - mean_squared_error: 3.6893 - mean_absolute_error: 1.3726 - 15s/epoch - 15ms/step\n",
      "Epoch 44/100\n",
      "1028/1028 - 15s - loss: 3.8264 - mean_squared_error: 3.8264 - mean_absolute_error: 1.3927 - 15s/epoch - 15ms/step\n",
      "Epoch 45/100\n",
      "1028/1028 - 14s - loss: 3.6952 - mean_squared_error: 3.6952 - mean_absolute_error: 1.3637 - 14s/epoch - 14ms/step\n",
      "Epoch 46/100\n",
      "1028/1028 - 16s - loss: 3.8815 - mean_squared_error: 3.8815 - mean_absolute_error: 1.3900 - 16s/epoch - 16ms/step\n",
      "Epoch 47/100\n",
      "1028/1028 - 17s - loss: 3.6195 - mean_squared_error: 3.6195 - mean_absolute_error: 1.3467 - 17s/epoch - 17ms/step\n",
      "Epoch 48/100\n",
      "1028/1028 - 17s - loss: 3.4733 - mean_squared_error: 3.4733 - mean_absolute_error: 1.3213 - 17s/epoch - 17ms/step\n",
      "Epoch 49/100\n",
      "1028/1028 - 17s - loss: 3.2630 - mean_squared_error: 3.2630 - mean_absolute_error: 1.2782 - 17s/epoch - 16ms/step\n",
      "Epoch 50/100\n",
      "1028/1028 - 17s - loss: 3.3240 - mean_squared_error: 3.3240 - mean_absolute_error: 1.2877 - 17s/epoch - 17ms/step\n",
      "Epoch 51/100\n",
      "1028/1028 - 17s - loss: 3.0239 - mean_squared_error: 3.0239 - mean_absolute_error: 1.2363 - 17s/epoch - 17ms/step\n",
      "Epoch 52/100\n",
      "1028/1028 - 16s - loss: 2.9800 - mean_squared_error: 2.9800 - mean_absolute_error: 1.2221 - 16s/epoch - 16ms/step\n",
      "Epoch 53/100\n",
      "1028/1028 - 16s - loss: 2.8808 - mean_squared_error: 2.8808 - mean_absolute_error: 1.2003 - 16s/epoch - 16ms/step\n",
      "Epoch 54/100\n",
      "1028/1028 - 16s - loss: 2.8439 - mean_squared_error: 2.8439 - mean_absolute_error: 1.1940 - 16s/epoch - 16ms/step\n",
      "Epoch 55/100\n",
      "1028/1028 - 16s - loss: 2.5803 - mean_squared_error: 2.5803 - mean_absolute_error: 1.1415 - 16s/epoch - 16ms/step\n",
      "Epoch 56/100\n",
      "1028/1028 - 17s - loss: 2.7962 - mean_squared_error: 2.7962 - mean_absolute_error: 1.1803 - 17s/epoch - 16ms/step\n",
      "Epoch 57/100\n",
      "1028/1028 - 17s - loss: 2.4603 - mean_squared_error: 2.4603 - mean_absolute_error: 1.1155 - 17s/epoch - 16ms/step\n",
      "Epoch 58/100\n",
      "1028/1028 - 16s - loss: 2.3161 - mean_squared_error: 2.3161 - mean_absolute_error: 1.0801 - 16s/epoch - 16ms/step\n",
      "Epoch 59/100\n",
      "1028/1028 - 16s - loss: 2.2222 - mean_squared_error: 2.2222 - mean_absolute_error: 1.0616 - 16s/epoch - 16ms/step\n",
      "Epoch 60/100\n",
      "1028/1028 - 17s - loss: 2.1410 - mean_squared_error: 2.1410 - mean_absolute_error: 1.0388 - 17s/epoch - 17ms/step\n",
      "Epoch 61/100\n",
      "1028/1028 - 17s - loss: 2.0380 - mean_squared_error: 2.0380 - mean_absolute_error: 1.0189 - 17s/epoch - 16ms/step\n",
      "Epoch 62/100\n",
      "1028/1028 - 16s - loss: 2.5310 - mean_squared_error: 2.5310 - mean_absolute_error: 1.1057 - 16s/epoch - 16ms/step\n",
      "Epoch 63/100\n",
      "1028/1028 - 16s - loss: 1.9205 - mean_squared_error: 1.9205 - mean_absolute_error: 0.9900 - 16s/epoch - 15ms/step\n",
      "Epoch 64/100\n",
      "1028/1028 - 17s - loss: 1.8387 - mean_squared_error: 1.8386 - mean_absolute_error: 0.9682 - 17s/epoch - 16ms/step\n",
      "Epoch 65/100\n",
      "1028/1028 - 16s - loss: 1.9432 - mean_squared_error: 1.9432 - mean_absolute_error: 0.9887 - 16s/epoch - 16ms/step\n",
      "Epoch 66/100\n",
      "1028/1028 - 16s - loss: 1.7682 - mean_squared_error: 1.7682 - mean_absolute_error: 0.9486 - 16s/epoch - 15ms/step\n",
      "Epoch 67/100\n",
      "1028/1028 - 15s - loss: 1.8047 - mean_squared_error: 1.8047 - mean_absolute_error: 0.9518 - 15s/epoch - 15ms/step\n",
      "Epoch 68/100\n",
      "1028/1028 - 15s - loss: 1.7394 - mean_squared_error: 1.7394 - mean_absolute_error: 0.9417 - 15s/epoch - 15ms/step\n",
      "Epoch 69/100\n",
      "1028/1028 - 16s - loss: 1.6509 - mean_squared_error: 1.6509 - mean_absolute_error: 0.9151 - 16s/epoch - 15ms/step\n",
      "Epoch 70/100\n",
      "1028/1028 - 15s - loss: 1.5683 - mean_squared_error: 1.5683 - mean_absolute_error: 0.8961 - 15s/epoch - 15ms/step\n",
      "Epoch 71/100\n",
      "1028/1028 - 16s - loss: 1.5116 - mean_squared_error: 1.5116 - mean_absolute_error: 0.8833 - 16s/epoch - 15ms/step\n",
      "Epoch 72/100\n",
      "1028/1028 - 17s - loss: 1.4938 - mean_squared_error: 1.4938 - mean_absolute_error: 0.8732 - 17s/epoch - 16ms/step\n",
      "Epoch 73/100\n",
      "1028/1028 - 16s - loss: 1.5591 - mean_squared_error: 1.5591 - mean_absolute_error: 0.8862 - 16s/epoch - 15ms/step\n",
      "Epoch 74/100\n",
      "1028/1028 - 15s - loss: 1.4515 - mean_squared_error: 1.4515 - mean_absolute_error: 0.8582 - 15s/epoch - 15ms/step\n",
      "Epoch 75/100\n",
      "1028/1028 - 15s - loss: 1.3852 - mean_squared_error: 1.3852 - mean_absolute_error: 0.8461 - 15s/epoch - 15ms/step\n",
      "Epoch 76/100\n",
      "1028/1028 - 16s - loss: 1.4534 - mean_squared_error: 1.4534 - mean_absolute_error: 0.8575 - 16s/epoch - 15ms/step\n",
      "Epoch 77/100\n",
      "1028/1028 - 16s - loss: 1.6378 - mean_squared_error: 1.6378 - mean_absolute_error: 0.8917 - 16s/epoch - 16ms/step\n",
      "Epoch 78/100\n",
      "1028/1028 - 17s - loss: 1.2890 - mean_squared_error: 1.2890 - mean_absolute_error: 0.8166 - 17s/epoch - 16ms/step\n",
      "Epoch 79/100\n",
      "1028/1028 - 17s - loss: 1.3654 - mean_squared_error: 1.3654 - mean_absolute_error: 0.8301 - 17s/epoch - 17ms/step\n",
      "Epoch 80/100\n",
      "1028/1028 - 16s - loss: 1.2090 - mean_squared_error: 1.2090 - mean_absolute_error: 0.7929 - 16s/epoch - 16ms/step\n",
      "Epoch 81/100\n",
      "1028/1028 - 16s - loss: 1.2513 - mean_squared_error: 1.2513 - mean_absolute_error: 0.8051 - 16s/epoch - 15ms/step\n",
      "Epoch 82/100\n",
      "1028/1028 - 16s - loss: 1.2082 - mean_squared_error: 1.2082 - mean_absolute_error: 0.7901 - 16s/epoch - 16ms/step\n",
      "Epoch 83/100\n",
      "1028/1028 - 17s - loss: 1.3090 - mean_squared_error: 1.3090 - mean_absolute_error: 0.8142 - 17s/epoch - 16ms/step\n",
      "Epoch 84/100\n",
      "1028/1028 - 16s - loss: 1.1643 - mean_squared_error: 1.1643 - mean_absolute_error: 0.7775 - 16s/epoch - 16ms/step\n",
      "Epoch 85/100\n",
      "1028/1028 - 17s - loss: 1.3610 - mean_squared_error: 1.3610 - mean_absolute_error: 0.8178 - 17s/epoch - 16ms/step\n",
      "Epoch 86/100\n",
      "1028/1028 - 16s - loss: 1.1263 - mean_squared_error: 1.1263 - mean_absolute_error: 0.7643 - 16s/epoch - 16ms/step\n",
      "Epoch 87/100\n",
      "1028/1028 - 16s - loss: 1.1160 - mean_squared_error: 1.1160 - mean_absolute_error: 0.7588 - 16s/epoch - 15ms/step\n",
      "Epoch 88/100\n",
      "1028/1028 - 15s - loss: 1.3555 - mean_squared_error: 1.3555 - mean_absolute_error: 0.8196 - 15s/epoch - 14ms/step\n",
      "Epoch 89/100\n",
      "1028/1028 - 12s - loss: 1.0217 - mean_squared_error: 1.0217 - mean_absolute_error: 0.7283 - 12s/epoch - 12ms/step\n",
      "Epoch 90/100\n",
      "1028/1028 - 12s - loss: 1.0437 - mean_squared_error: 1.0437 - mean_absolute_error: 0.7400 - 12s/epoch - 11ms/step\n",
      "Epoch 91/100\n",
      "1028/1028 - 12s - loss: 1.1963 - mean_squared_error: 1.1963 - mean_absolute_error: 0.7765 - 12s/epoch - 11ms/step\n",
      "Epoch 92/100\n",
      "1028/1028 - 15s - loss: 1.0830 - mean_squared_error: 1.0830 - mean_absolute_error: 0.7429 - 15s/epoch - 15ms/step\n",
      "Epoch 93/100\n",
      "1028/1028 - 15s - loss: 1.0668 - mean_squared_error: 1.0668 - mean_absolute_error: 0.7396 - 15s/epoch - 14ms/step\n",
      "Epoch 94/100\n",
      "1028/1028 - 15s - loss: 1.0993 - mean_squared_error: 1.0993 - mean_absolute_error: 0.7475 - 15s/epoch - 15ms/step\n",
      "Epoch 95/100\n",
      "1028/1028 - 15s - loss: 0.9747 - mean_squared_error: 0.9747 - mean_absolute_error: 0.7135 - 15s/epoch - 14ms/step\n",
      "Epoch 96/100\n",
      "1028/1028 - 16s - loss: 0.9938 - mean_squared_error: 0.9938 - mean_absolute_error: 0.7204 - 16s/epoch - 16ms/step\n",
      "Epoch 97/100\n",
      "1028/1028 - 15s - loss: 1.3023 - mean_squared_error: 1.3023 - mean_absolute_error: 0.7914 - 15s/epoch - 15ms/step\n",
      "Epoch 98/100\n",
      "1028/1028 - 15s - loss: 0.9620 - mean_squared_error: 0.9620 - mean_absolute_error: 0.7035 - 15s/epoch - 15ms/step\n",
      "Epoch 99/100\n",
      "1028/1028 - 16s - loss: 1.0715 - mean_squared_error: 1.0715 - mean_absolute_error: 0.7353 - 16s/epoch - 16ms/step\n",
      "Epoch 100/100\n",
      "1028/1028 - 20s - loss: 0.9854 - mean_squared_error: 0.9854 - mean_absolute_error: 0.7096 - val_loss: 1.2948 - val_mean_squared_error: 1.2948 - val_mean_absolute_error: 0.8010 - 20s/epoch - 20ms/step\n"
     ]
    }
   ],
   "source": [
    "\n",
    "history = model2.fit(X_train, # input data\n",
    "                    Y_train, # target data\n",
    "                    batch_size=32, # Number of samples per gradient update. If unspecified, batch_size will default to 32.\n",
    "                    epochs=100, # default=1, Number of epochs to train the model. An epoch is an iteration over the entire x and y data provided\n",
    "                    verbose=2, # default='auto', ('auto', 0, 1, or 2). Verbosity mode. 0 = silent, 1 = progress bar, 2 = one line per epoch. 'auto' defaults to 1 for most cases, but 2 when used with ParameterServerStrategy.\n",
    "                    callbacks=None, # default=None, list of callbacks to apply during training. See tf.keras.callbacks\n",
    "                    validation_split=0.25, # default=0.0, Fraction of the training data to be used as validation data. The model will set apart this fraction of the training data, will not train on it, and will evaluate the loss and any model metrics on this data at the end of each epoch. \n",
    "                    #validation_data=(X_test, y_test), # default=None, Data on which to evaluate the loss and any model metrics at the end of each epoch. \n",
    "                    shuffle=True, # default=True, Boolean (whether to shuffle the training data before each epoch) or str (for 'batch').\n",
    "                    class_weight=None, # default=None, Optional dictionary mapping class indices (integers) to a weight (float) value, used for weighting the loss function (during training only). This can be useful to tell the model to \"pay more attention\" to samples from an under-represented class.\n",
    "                    sample_weight=None, # default=None, Optional Numpy array of weights for the training samples, used for weighting the loss function (during training only).\n",
    "                    initial_epoch=0, # Integer, default=0, Epoch at which to start training (useful for resuming a previous training run).\n",
    "                    steps_per_epoch=None, # Integer or None, default=None, Total number of steps (batches of samples) before declaring one epoch finished and starting the next epoch. When training with input tensors such as TensorFlow data tensors, the default None is equal to the number of samples in your dataset divided by the batch size, or 1 if that cannot be determined. \n",
    "                    validation_steps=None, # Only relevant if validation_data is provided and is a tf.data dataset. Total number of steps (batches of samples) to draw before stopping when performing validation at the end of every epoch.\n",
    "                    validation_batch_size=None, # Integer or None, default=None, Number of samples per validation batch. If unspecified, will default to batch_size.\n",
    "                    validation_freq=100, # default=1, Only relevant if validation data is provided. If an integer, specifies how many training epochs to run before a new validation run is performed, e.g. validation_freq=2 runs validation every 2 epochs.\n",
    "                    max_queue_size=10, # default=10, Used for generator or keras.utils.Sequence input only. Maximum size for the generator queue. If unspecified, max_queue_size will default to 10.\n",
    "                    workers=1, # default=1, Used for generator or keras.utils.Sequence input only. Maximum number of processes to spin up when using process-based threading. If unspecified, workers will default to 1.\n",
    "                    use_multiprocessing=True, # default=False, Used for generator or keras.utils.Sequence input only. If True, use process-based threading. If unspecified, use_multiprocessing will default to False. \n",
    "                \n",
    "                   )\n",
    "\n",
    "\n"
   ]
  },
  {
   "cell_type": "markdown",
   "metadata": {},
   "source": [
    "##### Step 4 - Plot loss over epochs"
   ]
  },
  {
   "cell_type": "code",
   "execution_count": 11,
   "metadata": {},
   "outputs": [
    {
     "data": {
      "image/png": "[encoded data removed]",
      "text/plain": [
       "<Figure size 432x288 with 1 Axes>"
      ]
     },
     "metadata": {
      "needs_background": "light"
     },
     "output_type": "display_data"
    }
   ],
   "source": [
    "#loss: 4.2573 - mean_squared_error: 4.2572 - accuracy: 0.0000e+00 - val_loss: 4.6314 - val_mean_squared_error: 4.6314\n",
    "# Gather the trained model's weight and bias.\n",
    "trained_weight = model2.get_weights()[0]\n",
    "trained_bias = model2.get_weights()[1]\n",
    "\n",
    "  # The list of epochs is stored separately from the \n",
    "  # rest of history.\n",
    "epochs = history.epoch\n",
    "  \n",
    "  # Gather the history (a snapshot) of each epoch.\n",
    "#hist = pd.DataFrame(history.history)\n",
    "\n",
    "  # Specifically gather the model's root mean \n",
    "  # squared error at each epoch. \n",
    "mse = history.history[\"mean_squared_error\"]\n",
    "\n",
    "#plot_the_model(trained_weight, trained_bias, X_test, Y_train)\n",
    "plot_the_loss_curve(epochs, mse)"
   ]
  },
  {
   "cell_type": "markdown",
   "metadata": {},
   "source": [
    "##### Step 5 - Print Performance Summary"
   ]
  },
  {
   "cell_type": "code",
   "execution_count": 12,
   "metadata": {},
   "outputs": [
    {
     "name": "stdout",
     "output_type": "stream",
     "text": [
      "\n",
      "-------------------- Model Summary --------------------\n",
      "Model: \"biLSTM-Model\"\n",
      "_________________________________________________________________\n",
      " Layer (type)                Output Shape              Param #   \n",
      "=================================================================\n",
      " Hidden-LSTM-Encoder-Layer (  (None, 128)              33792     \n",
      " Bidirectional)                                                  \n",
      "                                                                 \n",
      " Repeat-Vector-Layer (Repeat  (None, 10, 128)          0         \n",
      " Vector)                                                         \n",
      "                                                                 \n",
      " Hidden-LSTM-Decoder-Layer (  (None, 10, 128)          98816     \n",
      " Bidirectional)                                                  \n",
      "                                                                 \n",
      " Output-Layer (TimeDistribut  (None, 10, 1)            129       \n",
      " ed)                                                             \n",
      "                                                                 \n",
      "=================================================================\n",
      "Total params: 132,737\n",
      "Trainable params: 132,737\n",
      "Non-trainable params: 0\n",
      "_________________________________________________________________\n",
      "\n",
      "-------------------- Weights and Biases --------------------\n",
      "Too many parameters to print but you can use the code provided if needed\n",
      "\n",
      "-------------------- Evaluation on Training Data --------------------\n",
      "Final loss : 0.9854465126991272\n",
      "Final mean_squared_error : 0.9854462742805481\n",
      "Final mean_absolute_error : 0.7095892429351807\n",
      "Final val_loss : 1.2947791814804077\n",
      "Final val_mean_squared_error : 1.2947789430618286\n",
      "Final val_mean_absolute_error : 0.8010073900222778\n",
      "\n",
      "-------------------- Evaluation on Test Data --------------------\n",
      "345/345 [==============================] - 3s 8ms/step - loss: 1.3426 - mean_squared_error: 1.3426 - mean_absolute_error: 0.8149\n",
      "\n"
     ]
    }
   ],
   "source": [
    "print(\"\")\n",
    "print('-------------------- Model Summary --------------------')\n",
    "model2.summary() # print model summary\n",
    "print(\"\")\n",
    "print('-------------------- Weights and Biases --------------------')\n",
    "print(\"Too many parameters to print but you can use the code provided if needed\")\n",
    "print(\"\")\n",
    "#for layer in model.layers:\n",
    "#    print(layer.name)\n",
    "#    for item in layer.get_weights():\n",
    "#        print(\"  \", item)\n",
    "#print(\"\")\n",
    "\n",
    "# Print the last value in the evaluation metrics contained within history file\n",
    "print('-------------------- Evaluation on Training Data --------------------')\n",
    "for item in history.history:\n",
    "    print(\"Final\", item, \":\", history.history[item][-1])\n",
    "print(\"\")\n",
    "\n",
    "# Evaluate the model on the test data using \"evaluate\"\n",
    "print('-------------------- Evaluation on Test Data --------------------')\n",
    "results = model2.evaluate(X_test, Y_test)\n",
    "print(\"\")"
   ]
  },
  {
   "cell_type": "code",
   "execution_count": 13,
   "metadata": {},
   "outputs": [],
   "source": [
    "#loss: 6.1995 - mean_squared_error: 6.1995 normalize01  loss: 6.8981 - mean_squared_error: 6.8981 - accuracy: 0.0000e+00// After new set loss: 6.3898 - mean_squared_error: 6.3898 - accuracy: 0.0000e+00   mean_squared_error: 5.7319 - accurac\n",
    "\n",
    "\n",
    "# from keras.utils import plot_model,model_to_dot\n",
    "# plot_model(model2, show_shapes=True, to_file='plotmodelbilstm0810.png')\n"
   ]
  },
  {
   "cell_type": "code",
   "execution_count": 14,
   "metadata": {},
   "outputs": [
    {
     "name": "stdout",
     "output_type": "stream",
     "text": [
      "345/345 [==============================] - 4s 8ms/step\n"
     ]
    },
    {
     "data": {
      "text/plain": [
       "array([[[-16.37652 ],\n",
       "        [-19.063328],\n",
       "        [-24.738005],\n",
       "        ...,\n",
       "        [-22.33894 ],\n",
       "        [-27.112494],\n",
       "        [-24.594362]],\n",
       "\n",
       "       [[-19.130136],\n",
       "        [-24.098211],\n",
       "        [-24.129118],\n",
       "        ...,\n",
       "        [-26.752499],\n",
       "        [-24.116886],\n",
       "        [-23.158934]],\n",
       "\n",
       "       [[-24.205612],\n",
       "        [-24.235325],\n",
       "        [-22.211174],\n",
       "        ...,\n",
       "        [-23.967888],\n",
       "        [-23.85351 ],\n",
       "        [-24.694746]],\n",
       "\n",
       "       ...,\n",
       "\n",
       "       [[-73.38923 ],\n",
       "        [-75.54646 ],\n",
       "        [-75.53376 ],\n",
       "        ...,\n",
       "        [-74.89773 ],\n",
       "        [-75.1716  ],\n",
       "        [-75.077736]],\n",
       "\n",
       "       [[-75.600784],\n",
       "        [-75.38594 ],\n",
       "        [-75.292984],\n",
       "        ...,\n",
       "        [-74.627426],\n",
       "        [-74.71225 ],\n",
       "        [-76.13507 ]],\n",
       "\n",
       "       [[-74.924774],\n",
       "        [-75.06812 ],\n",
       "        [-74.677895],\n",
       "        ...,\n",
       "        [-75.10942 ],\n",
       "        [-74.581726],\n",
       "        [-75.94998 ]]], dtype=float32)"
      ]
     },
     "execution_count": 14,
     "metadata": {},
     "output_type": "execute_result"
    }
   ],
   "source": [
    "pred_test=model2.predict(X_test)\n",
    "\n",
    "pred_test"
   ]
  },
  {
   "cell_type": "code",
   "execution_count": 15,
   "metadata": {},
   "outputs": [
    {
     "data": {
      "text/plain": [
       "(11011, 10, 1)"
      ]
     },
     "execution_count": 15,
     "metadata": {},
     "output_type": "execute_result"
    }
   ],
   "source": [
    "Y_test.shape\n",
    "#1792"
   ]
  },
  {
   "cell_type": "code",
   "execution_count": 16,
   "metadata": {},
   "outputs": [
    {
     "data": {
      "text/plain": [
       "13310"
      ]
     },
     "execution_count": 16,
     "metadata": {},
     "output_type": "execute_result"
    }
   ],
   "source": [
    "test.values.size"
   ]
  },
  {
   "cell_type": "code",
   "execution_count": 17,
   "metadata": {},
   "outputs": [
    {
     "data": {
      "text/plain": [
       "(11011, 10, 1)"
      ]
     },
     "execution_count": 17,
     "metadata": {},
     "output_type": "execute_result"
    }
   ],
   "source": [
    "pred_test.shape"
   ]
  },
  {
   "cell_type": "code",
   "execution_count": 18,
   "metadata": {},
   "outputs": [],
   "source": [
    "# # pred_test = scaler2.inverse_transform(pred_test.reshape(-1, pred_test.shape[-1])).reshape(pred_test.shape)\n",
    "# y=pred_test.flatten()\n",
    "# z=[]\n",
    "# for x in range(910*95,910*96,10): #predictioon\n",
    "#     z.append(y[x])\n",
    "# z\n",
    "# b=Y_test.flatten() #Y test should match prediction\n",
    "# c=[] #wtf is this\n",
    "# for x in range(910*95,910*96,10):\n",
    "#     c.append(b[x])\n",
    "# #c\n",
    "\n",
    "# # d=X_test.flatten() # Y train doesnt match because why\n",
    "# # e=[]\n",
    "# # for x in range(0,10000,1):\n",
    "# #     if(d[x]==0):\n",
    "# #         print(x)\n",
    "# #     e.append(d[x])\n",
    "# # # e\n",
    "y=pred_test.flatten()\n",
    "# y=scaler2.inverse_transform(y.reshape(-1,y.shape[-1])).reshape(y.shape)\n",
    "z=[]\n",
    "for x in range(910*96,910*97,10): #predictioon\n",
    "    z.append(y[x])\n",
    "z\n",
    "\n",
    "b=Y_test.flatten() #Y test should match prediction\n",
    "# b=scaler2.inverse_transform(b.reshape(-1,b.shape[-1])).reshape(b.shape)\n",
    "c=[] #wtf is this\n",
    "for x in range(910*96,910*97,10):\n",
    "    c.append(b[x])"
   ]
  },
  {
   "cell_type": "code",
   "execution_count": 19,
   "metadata": {},
   "outputs": [
    {
     "data": {
      "application/vnd.plotly.v1+json": {
       "config": {
        "plotlyServerURL": "https://plot.ly"
       },
       "data": [
        {
         "line": {
          "color": "grey",
          "width": 5
         },
         "mode": "lines",
         "name": "Subsidence - Actual (YTest)",
         "opacity": 0.8,
         "type": "scatter",
         "x": [
          "2015-07-30T00:00:00.000000000",
          "2015-08-23T00:00:00.000000000",
          "2015-09-16T00:00:00.000000000",
          "2015-10-10T00:00:00.000000000",
          "2015-11-03T00:00:00.000000000",
          "2015-11-27T00:00:00.000000000",
          "2015-12-09T00:00:00.000000000",
          "2015-12-21T00:00:00.000000000",
          "2016-01-14T00:00:00.000000000",
          "2016-01-26T00:00:00.000000000",
          "2016-02-07T00:00:00.000000000",
          "2016-02-19T00:00:00.000000000",
          "2016-03-02T00:00:00.000000000",
          "2016-03-14T00:00:00.000000000",
          "2016-03-26T00:00:00.000000000",
          "2016-04-07T00:00:00.000000000",
          "2016-04-19T00:00:00.000000000",
          "2016-05-01T00:00:00.000000000",
          "2016-05-13T00:00:00.000000000",
          "2016-05-25T00:00:00.000000000",
          "2016-06-06T00:00:00.000000000",
          "2016-06-30T00:00:00.000000000",
          "2016-07-24T00:00:00.000000000",
          "2016-08-17T00:00:00.000000000",
          "2016-09-10T00:00:00.000000000",
          "2016-09-22T00:00:00.000000000",
          "2016-10-04T00:00:00.000000000",
          "2016-10-16T00:00:00.000000000",
          "2016-10-28T00:00:00.000000000",
          "2016-11-09T00:00:00.000000000",
          "2016-11-21T00:00:00.000000000",
          "2016-12-03T00:00:00.000000000",
          "2016-12-15T00:00:00.000000000",
          "2016-12-27T00:00:00.000000000",
          "2017-01-08T00:00:00.000000000",
          "2017-01-14T00:00:00.000000000",
          "2017-01-20T00:00:00.000000000",
          "2017-01-26T00:00:00.000000000",
          "2017-02-01T00:00:00.000000000",
          "2017-02-13T00:00:00.000000000",
          "2017-02-25T00:00:00.000000000",
          "2017-03-09T00:00:00.000000000",
          "2017-03-21T00:00:00.000000000",
          "2017-04-02T00:00:00.000000000",
          "2017-04-14T00:00:00.000000000",
          "2017-04-26T00:00:00.000000000",
          "2017-05-08T00:00:00.000000000",
          "2017-05-20T00:00:00.000000000",
          "2017-06-01T00:00:00.000000000",
          "2017-06-13T00:00:00.000000000",
          "2017-06-25T00:00:00.000000000",
          "2017-07-07T00:00:00.000000000",
          "2017-07-19T00:00:00.000000000",
          "2017-07-31T00:00:00.000000000",
          "2017-08-12T00:00:00.000000000",
          "2017-08-24T00:00:00.000000000",
          "2017-09-05T00:00:00.000000000",
          "2017-09-17T00:00:00.000000000",
          "2017-09-29T00:00:00.000000000",
          "2017-10-11T00:00:00.000000000",
          "2017-10-23T00:00:00.000000000",
          "2017-11-04T00:00:00.000000000",
          "2017-11-16T00:00:00.000000000",
          "2017-11-28T00:00:00.000000000",
          "2017-12-10T00:00:00.000000000",
          "2017-12-22T00:00:00.000000000",
          "2018-01-03T00:00:00.000000000",
          "2018-01-15T00:00:00.000000000",
          "2018-01-27T00:00:00.000000000",
          "2018-02-08T00:00:00.000000000",
          "2018-02-20T00:00:00.000000000",
          "2018-03-04T00:00:00.000000000",
          "2018-03-16T00:00:00.000000000",
          "2018-03-28T00:00:00.000000000",
          "2018-04-09T00:00:00.000000000",
          "2018-04-21T00:00:00.000000000",
          "2018-05-03T00:00:00.000000000",
          "2018-05-15T00:00:00.000000000",
          "2018-05-27T00:00:00.000000000",
          "2018-06-08T00:00:00.000000000",
          "2018-06-20T00:00:00.000000000",
          "2018-07-02T00:00:00.000000000",
          "2018-07-14T00:00:00.000000000",
          "2018-07-26T00:00:00.000000000",
          "2018-08-07T00:00:00.000000000",
          "2018-08-19T00:00:00.000000000",
          "2018-08-31T00:00:00.000000000",
          "2018-09-12T00:00:00.000000000",
          "2018-09-24T00:00:00.000000000",
          "2018-10-06T00:00:00.000000000",
          "2018-10-18T00:00:00.000000000",
          "2018-10-30T00:00:00.000000000",
          "2018-11-11T00:00:00.000000000",
          "2018-11-17T00:00:00.000000000",
          "2018-11-23T00:00:00.000000000",
          "2018-12-05T00:00:00.000000000",
          "2018-12-17T00:00:00.000000000",
          "2018-12-29T00:00:00.000000000",
          "2019-01-10T00:00:00.000000000",
          "2019-01-22T00:00:00.000000000"
         ],
         "y": [
          -10.44,
          -12.113,
          -17.499,
          -16.77,
          -13.134,
          -15.072,
          -14.68,
          -11.325,
          -15.596,
          -12.434,
          -11.064,
          -12.867,
          -15.249,
          -13.909,
          -12.297,
          -12.08,
          -15.856,
          -14.95,
          -15.334,
          -17.227,
          -14.545,
          -16.492,
          -20.279,
          -15.919,
          -19.919,
          -18.83,
          -18.126,
          -15.819,
          -20.324,
          -18.288,
          -18.108,
          -15.706,
          -16.646,
          -16.055,
          -14.947,
          -16.923,
          -17.131,
          -15.939,
          -16.039,
          -14.991,
          -15.814,
          -15.526,
          -13.748,
          -16.638,
          -16.999,
          -14.055,
          -14.422,
          -14.465,
          -14.222,
          -16.286,
          -15.957,
          -16.123,
          -16.773,
          -15.261,
          -18.808,
          -15.412,
          -14.29,
          -15.849,
          -16.909,
          -16.9,
          -18.075,
          -18.605,
          -15.411,
          -14.899,
          -17.105,
          -15.76,
          -16.071,
          -14.672,
          -14.467,
          -15.739,
          -15.837,
          -15.271,
          -13.213,
          -14.814,
          -17.741,
          -12.957,
          -16.523,
          -14.462,
          -17.585,
          -16.598,
          -20.176,
          -19.086,
          -19.335,
          -18.618000000000002,
          -17.901,
          -18.805,
          -21.215,
          -21.085,
          -19.445,
          -22.137,
          -19.697
         ]
        },
        {
         "line": {
          "color": "red",
          "width": 5
         },
         "mode": "lines",
         "name": "Subsidence - Predicted ",
         "opacity": 0.8,
         "type": "scatter",
         "x": [
          "2015-07-30T00:00:00.000000000",
          "2015-08-23T00:00:00.000000000",
          "2015-09-16T00:00:00.000000000",
          "2015-10-10T00:00:00.000000000",
          "2015-11-03T00:00:00.000000000",
          "2015-11-27T00:00:00.000000000",
          "2015-12-09T00:00:00.000000000",
          "2015-12-21T00:00:00.000000000",
          "2016-01-14T00:00:00.000000000",
          "2016-01-26T00:00:00.000000000",
          "2016-02-07T00:00:00.000000000",
          "2016-02-19T00:00:00.000000000",
          "2016-03-02T00:00:00.000000000",
          "2016-03-14T00:00:00.000000000",
          "2016-03-26T00:00:00.000000000",
          "2016-04-07T00:00:00.000000000",
          "2016-04-19T00:00:00.000000000",
          "2016-05-01T00:00:00.000000000",
          "2016-05-13T00:00:00.000000000",
          "2016-05-25T00:00:00.000000000",
          "2016-06-06T00:00:00.000000000",
          "2016-06-30T00:00:00.000000000",
          "2016-07-24T00:00:00.000000000",
          "2016-08-17T00:00:00.000000000",
          "2016-09-10T00:00:00.000000000",
          "2016-09-22T00:00:00.000000000",
          "2016-10-04T00:00:00.000000000",
          "2016-10-16T00:00:00.000000000",
          "2016-10-28T00:00:00.000000000",
          "2016-11-09T00:00:00.000000000",
          "2016-11-21T00:00:00.000000000",
          "2016-12-03T00:00:00.000000000",
          "2016-12-15T00:00:00.000000000",
          "2016-12-27T00:00:00.000000000",
          "2017-01-08T00:00:00.000000000",
          "2017-01-14T00:00:00.000000000",
          "2017-01-20T00:00:00.000000000",
          "2017-01-26T00:00:00.000000000",
          "2017-02-01T00:00:00.000000000",
          "2017-02-13T00:00:00.000000000",
          "2017-02-25T00:00:00.000000000",
          "2017-03-09T00:00:00.000000000",
          "2017-03-21T00:00:00.000000000",
          "2017-04-02T00:00:00.000000000",
          "2017-04-14T00:00:00.000000000",
          "2017-04-26T00:00:00.000000000",
          "2017-05-08T00:00:00.000000000",
          "2017-05-20T00:00:00.000000000",
          "2017-06-01T00:00:00.000000000",
          "2017-06-13T00:00:00.000000000",
          "2017-06-25T00:00:00.000000000",
          "2017-07-07T00:00:00.000000000",
          "2017-07-19T00:00:00.000000000",
          "2017-07-31T00:00:00.000000000",
          "2017-08-12T00:00:00.000000000",
          "2017-08-24T00:00:00.000000000",
          "2017-09-05T00:00:00.000000000",
          "2017-09-17T00:00:00.000000000",
          "2017-09-29T00:00:00.000000000",
          "2017-10-11T00:00:00.000000000",
          "2017-10-23T00:00:00.000000000",
          "2017-11-04T00:00:00.000000000",
          "2017-11-16T00:00:00.000000000",
          "2017-11-28T00:00:00.000000000",
          "2017-12-10T00:00:00.000000000",
          "2017-12-22T00:00:00.000000000",
          "2018-01-03T00:00:00.000000000",
          "2018-01-15T00:00:00.000000000",
          "2018-01-27T00:00:00.000000000",
          "2018-02-08T00:00:00.000000000",
          "2018-02-20T00:00:00.000000000",
          "2018-03-04T00:00:00.000000000",
          "2018-03-16T00:00:00.000000000",
          "2018-03-28T00:00:00.000000000",
          "2018-04-09T00:00:00.000000000",
          "2018-04-21T00:00:00.000000000",
          "2018-05-03T00:00:00.000000000",
          "2018-05-15T00:00:00.000000000",
          "2018-05-27T00:00:00.000000000",
          "2018-06-08T00:00:00.000000000",
          "2018-06-20T00:00:00.000000000",
          "2018-07-02T00:00:00.000000000",
          "2018-07-14T00:00:00.000000000",
          "2018-07-26T00:00:00.000000000",
          "2018-08-07T00:00:00.000000000",
          "2018-08-19T00:00:00.000000000",
          "2018-08-31T00:00:00.000000000",
          "2018-09-12T00:00:00.000000000",
          "2018-09-24T00:00:00.000000000",
          "2018-10-06T00:00:00.000000000",
          "2018-10-18T00:00:00.000000000",
          "2018-10-30T00:00:00.000000000",
          "2018-11-11T00:00:00.000000000",
          "2018-11-17T00:00:00.000000000",
          "2018-11-23T00:00:00.000000000",
          "2018-12-05T00:00:00.000000000",
          "2018-12-17T00:00:00.000000000",
          "2018-12-29T00:00:00.000000000",
          "2019-01-10T00:00:00.000000000",
          "2019-01-22T00:00:00.000000000"
         ],
         "y": [
          -8.857526779174805,
          -10.30106258392334,
          -18.030210494995117,
          -16.89319610595703,
          -14.093696594238281,
          -15.523316383361816,
          -14.181455612182617,
          -12.354528427124023,
          -16.5506591796875,
          -12.628572463989258,
          -11.105663299560547,
          -12.932938575744629,
          -15.433120727539062,
          -13.937195777893066,
          -13.273660659790039,
          -11.44633960723877,
          -15.704734802246094,
          -15.178825378417969,
          -16.110187530517578,
          -16.86426544189453,
          -14.082565307617188,
          -15.830306053161621,
          -19.10996437072754,
          -17.601001739501953,
          -18.752866744995117,
          -18.425439834594727,
          -17.618398666381836,
          -16.76740264892578,
          -18.91451072692871,
          -18.24452018737793,
          -17.92193031311035,
          -15.656404495239258,
          -15.68421459197998,
          -16.20787811279297,
          -14.895328521728516,
          -17.077512741088867,
          -17.109066009521484,
          -15.779130935668945,
          -15.459155082702637,
          -15.23114013671875,
          -15.839552879333496,
          -16.34422492980957,
          -15.693603515625,
          -15.670514106750488,
          -16.42293930053711,
          -14.617504119873047,
          -14.010641098022461,
          -14.726327896118164,
          -16.212940216064453,
          -15.756852149963379,
          -16.694042205810547,
          -15.616305351257324,
          -17.119077682495117,
          -16.500019073486328,
          -16.114770889282227,
          -15.319258689880371,
          -15.29478931427002,
          -14.825335502624512,
          -16.58757781982422,
          -16.655942916870117,
          -17.620140075683594,
          -17.920833587646484,
          -17.04863166809082,
          -15.006803512573242,
          -16.82090950012207,
          -15.561727523803711,
          -16.033498764038086,
          -15.198083877563477,
          -13.678191184997559,
          -15.335700988769531,
          -15.876728057861328,
          -14.98199462890625,
          -13.713177680969238,
          -14.141975402832031,
          -17.69321632385254,
          -13.936006546020508,
          -15.230979919433594,
          -14.814923286437988,
          -17.39937400817871,
          -17.90665626525879,
          -18.62685775756836,
          -18.56104850769043,
          -19.039953231811523,
          -19.477258682250977,
          -16.90699005126953,
          -18.985713958740234,
          -19.054285049438477,
          -20.2823429107666,
          -19.627685546875,
          -21.2762508392334,
          -20.919111251831055
         ]
        }
       ],
       "layout": {
        "legend": {
         "orientation": "h",
         "x": 1,
         "xanchor": "right",
         "y": 1.02,
         "yanchor": "bottom"
        },
        "plot_bgcolor": "white",
        "template": {
         "data": {
          "bar": [
           {
            "error_x": {
             "color": "#2a3f5f"
            },
            "error_y": {
             "color": "#2a3f5f"
            },
            "marker": {
             "line": {
              "color": "#E5ECF6",
              "width": 0.5
             },
             "pattern": {
              "fillmode": "overlay",
              "size": 10,
              "solidity": 0.2
             }
            },
            "type": "bar"
           }
          ],
          "barpolar": [
           {
            "marker": {
             "line": {
              "color": "#E5ECF6",
              "width": 0.5
             },
             "pattern": {
              "fillmode": "overlay",
              "size": 10,
              "solidity": 0.2
             }
            },
            "type": "barpolar"
           }
          ],
          "carpet": [
           {
            "aaxis": {
             "endlinecolor": "#2a3f5f",
             "gridcolor": "white",
             "linecolor": "white",
             "minorgridcolor": "white",
             "startlinecolor": "#2a3f5f"
            },
            "baxis": {
             "endlinecolor": "#2a3f5f",
             "gridcolor": "white",
             "linecolor": "white",
             "minorgridcolor": "white",
             "startlinecolor": "#2a3f5f"
            },
            "type": "carpet"
           }
          ],
          "choropleth": [
           {
            "colorbar": {
             "outlinewidth": 0,
             "ticks": ""
            },
            "type": "choropleth"
           }
          ],
          "contour": [
           {
            "colorbar": {
             "outlinewidth": 0,
             "ticks": ""
            },
            "colorscale": [
             [
              0,
              "#0d0887"
             ],
             [
              0.1111111111111111,
              "#46039f"
             ],
             [
              0.2222222222222222,
              "#7201a8"
             ],
             [
              0.3333333333333333,
              "#9c179e"
             ],
             [
              0.4444444444444444,
              "#bd3786"
             ],
             [
              0.5555555555555556,
              "#d8576b"
             ],
             [
              0.6666666666666666,
              "#ed7953"
             ],
             [
              0.7777777777777778,
              "#fb9f3a"
             ],
             [
              0.8888888888888888,
              "#fdca26"
             ],
             [
              1,
              "#f0f921"
             ]
            ],
            "type": "contour"
           }
          ],
          "contourcarpet": [
           {
            "colorbar": {
             "outlinewidth": 0,
             "ticks": ""
            },
            "type": "contourcarpet"
           }
          ],
          "heatmap": [
           {
            "colorbar": {
             "outlinewidth": 0,
             "ticks": ""
            },
            "colorscale": [
             [
              0,
              "#0d0887"
             ],
             [
              0.1111111111111111,
              "#46039f"
             ],
             [
              0.2222222222222222,
              "#7201a8"
             ],
             [
              0.3333333333333333,
              "#9c179e"
             ],
             [
              0.4444444444444444,
              "#bd3786"
             ],
             [
              0.5555555555555556,
              "#d8576b"
             ],
             [
              0.6666666666666666,
              "#ed7953"
             ],
             [
              0.7777777777777778,
              "#fb9f3a"
             ],
             [
              0.8888888888888888,
              "#fdca26"
             ],
             [
              1,
              "#f0f921"
             ]
            ],
            "type": "heatmap"
           }
          ],
          "heatmapgl": [
           {
            "colorbar": {
             "outlinewidth": 0,
             "ticks": ""
            },
            "colorscale": [
             [
              0,
              "#0d0887"
             ],
             [
              0.1111111111111111,
              "#46039f"
             ],
             [
              0.2222222222222222,
              "#7201a8"
             ],
             [
              0.3333333333333333,
              "#9c179e"
             ],
             [
              0.4444444444444444,
              "#bd3786"
             ],
             [
              0.5555555555555556,
              "#d8576b"
             ],
             [
              0.6666666666666666,
              "#ed7953"
             ],
             [
              0.7777777777777778,
              "#fb9f3a"
             ],
             [
              0.8888888888888888,
              "#fdca26"
             ],
             [
              1,
              "#f0f921"
             ]
            ],
            "type": "heatmapgl"
           }
          ],
          "histogram": [
           {
            "marker": {
             "pattern": {
              "fillmode": "overlay",
              "size": 10,
              "solidity": 0.2
             }
            },
            "type": "histogram"
           }
          ],
          "histogram2d": [
           {
            "colorbar": {
             "outlinewidth": 0,
             "ticks": ""
            },
            "colorscale": [
             [
              0,
              "#0d0887"
             ],
             [
              0.1111111111111111,
              "#46039f"
             ],
             [
              0.2222222222222222,
              "#7201a8"
             ],
             [
              0.3333333333333333,
              "#9c179e"
             ],
             [
              0.4444444444444444,
              "#bd3786"
             ],
             [
              0.5555555555555556,
              "#d8576b"
             ],
             [
              0.6666666666666666,
              "#ed7953"
             ],
             [
              0.7777777777777778,
              "#fb9f3a"
             ],
             [
              0.8888888888888888,
              "#fdca26"
             ],
             [
              1,
              "#f0f921"
             ]
            ],
            "type": "histogram2d"
           }
          ],
          "histogram2dcontour": [
           {
            "colorbar": {
             "outlinewidth": 0,
             "ticks": ""
            },
            "colorscale": [
             [
              0,
              "#0d0887"
             ],
             [
              0.1111111111111111,
              "#46039f"
             ],
             [
              0.2222222222222222,
              "#7201a8"
             ],
             [
              0.3333333333333333,
              "#9c179e"
             ],
             [
              0.4444444444444444,
              "#bd3786"
             ],
             [
              0.5555555555555556,
              "#d8576b"
             ],
             [
              0.6666666666666666,
              "#ed7953"
             ],
             [
              0.7777777777777778,
              "#fb9f3a"
             ],
             [
              0.8888888888888888,
              "#fdca26"
             ],
             [
              1,
              "#f0f921"
             ]
            ],
            "type": "histogram2dcontour"
           }
          ],
          "mesh3d": [
           {
            "colorbar": {
             "outlinewidth": 0,
             "ticks": ""
            },
            "type": "mesh3d"
           }
          ],
          "parcoords": [
           {
            "line": {
             "colorbar": {
              "outlinewidth": 0,
              "ticks": ""
             }
            },
            "type": "parcoords"
           }
          ],
          "pie": [
           {
            "automargin": true,
            "type": "pie"
           }
          ],
          "scatter": [
           {
            "fillpattern": {
             "fillmode": "overlay",
             "size": 10,
             "solidity": 0.2
            },
            "type": "scatter"
           }
          ],
          "scatter3d": [
           {
            "line": {
             "colorbar": {
              "outlinewidth": 0,
              "ticks": ""
             }
            },
            "marker": {
             "colorbar": {
              "outlinewidth": 0,
              "ticks": ""
             }
            },
            "type": "scatter3d"
           }
          ],
          "scattercarpet": [
           {
            "marker": {
             "colorbar": {
              "outlinewidth": 0,
              "ticks": ""
             }
            },
            "type": "scattercarpet"
           }
          ],
          "scattergeo": [
           {
            "marker": {
             "colorbar": {
              "outlinewidth": 0,
              "ticks": ""
             }
            },
            "type": "scattergeo"
           }
          ],
          "scattergl": [
           {
            "marker": {
             "colorbar": {
              "outlinewidth": 0,
              "ticks": ""
             }
            },
            "type": "scattergl"
           }
          ],
          "scattermapbox": [
           {
            "marker": {
             "colorbar": {
              "outlinewidth": 0,
              "ticks": ""
             }
            },
            "type": "scattermapbox"
           }
          ],
          "scatterpolar": [
           {
            "marker": {
             "colorbar": {
              "outlinewidth": 0,
              "ticks": ""
             }
            },
            "type": "scatterpolar"
           }
          ],
          "scatterpolargl": [
           {
            "marker": {
             "colorbar": {
              "outlinewidth": 0,
              "ticks": ""
             }
            },
            "type": "scatterpolargl"
           }
          ],
          "scatterternary": [
           {
            "marker": {
             "colorbar": {
              "outlinewidth": 0,
              "ticks": ""
             }
            },
            "type": "scatterternary"
           }
          ],
          "surface": [
           {
            "colorbar": {
             "outlinewidth": 0,
             "ticks": ""
            },
            "colorscale": [
             [
              0,
              "#0d0887"
             ],
             [
              0.1111111111111111,
              "#46039f"
             ],
             [
              0.2222222222222222,
              "#7201a8"
             ],
             [
              0.3333333333333333,
              "#9c179e"
             ],
             [
              0.4444444444444444,
              "#bd3786"
             ],
             [
              0.5555555555555556,
              "#d8576b"
             ],
             [
              0.6666666666666666,
              "#ed7953"
             ],
             [
              0.7777777777777778,
              "#fb9f3a"
             ],
             [
              0.8888888888888888,
              "#fdca26"
             ],
             [
              1,
              "#f0f921"
             ]
            ],
            "type": "surface"
           }
          ],
          "table": [
           {
            "cells": {
             "fill": {
              "color": "#EBF0F8"
             },
             "line": {
              "color": "white"
             }
            },
            "header": {
             "fill": {
              "color": "#C8D4E3"
             },
             "line": {
              "color": "white"
             }
            },
            "type": "table"
           }
          ]
         },
         "layout": {
          "annotationdefaults": {
           "arrowcolor": "#2a3f5f",
           "arrowhead": 0,
           "arrowwidth": 1
          },
          "autotypenumbers": "strict",
          "coloraxis": {
           "colorbar": {
            "outlinewidth": 0,
            "ticks": ""
           }
          },
          "colorscale": {
           "diverging": [
            [
             0,
             "#8e0152"
            ],
            [
             0.1,
             "#c51b7d"
            ],
            [
             0.2,
             "#de77ae"
            ],
            [
             0.3,
             "#f1b6da"
            ],
            [
             0.4,
             "#fde0ef"
            ],
            [
             0.5,
             "#f7f7f7"
            ],
            [
             0.6,
             "#e6f5d0"
            ],
            [
             0.7,
             "#b8e186"
            ],
            [
             0.8,
             "#7fbc41"
            ],
            [
             0.9,
             "#4d9221"
            ],
            [
             1,
             "#276419"
            ]
           ],
           "sequential": [
            [
             0,
             "#0d0887"
            ],
            [
             0.1111111111111111,
             "#46039f"
            ],
            [
             0.2222222222222222,
             "#7201a8"
            ],
            [
             0.3333333333333333,
             "#9c179e"
            ],
            [
             0.4444444444444444,
             "#bd3786"
            ],
            [
             0.5555555555555556,
             "#d8576b"
            ],
            [
             0.6666666666666666,
             "#ed7953"
            ],
            [
             0.7777777777777778,
             "#fb9f3a"
            ],
            [
             0.8888888888888888,
             "#fdca26"
            ],
            [
             1,
             "#f0f921"
            ]
           ],
           "sequentialminus": [
            [
             0,
             "#0d0887"
            ],
            [
             0.1111111111111111,
             "#46039f"
            ],
            [
             0.2222222222222222,
             "#7201a8"
            ],
            [
             0.3333333333333333,
             "#9c179e"
            ],
            [
             0.4444444444444444,
             "#bd3786"
            ],
            [
             0.5555555555555556,
             "#d8576b"
            ],
            [
             0.6666666666666666,
             "#ed7953"
            ],
            [
             0.7777777777777778,
             "#fb9f3a"
            ],
            [
             0.8888888888888888,
             "#fdca26"
            ],
            [
             1,
             "#f0f921"
            ]
           ]
          },
          "colorway": [
           "#636efa",
           "#EF553B",
           "#00cc96",
           "#ab63fa",
           "#FFA15A",
           "#19d3f3",
           "#FF6692",
           "#B6E880",
           "#FF97FF",
           "#FECB52"
          ],
          "font": {
           "color": "#2a3f5f"
          },
          "geo": {
           "bgcolor": "white",
           "lakecolor": "white",
           "landcolor": "#E5ECF6",
           "showlakes": true,
           "showland": true,
           "subunitcolor": "white"
          },
          "hoverlabel": {
           "align": "left"
          },
          "hovermode": "closest",
          "mapbox": {
           "style": "light"
          },
          "paper_bgcolor": "white",
          "plot_bgcolor": "#E5ECF6",
          "polar": {
           "angularaxis": {
            "gridcolor": "white",
            "linecolor": "white",
            "ticks": ""
           },
           "bgcolor": "#E5ECF6",
           "radialaxis": {
            "gridcolor": "white",
            "linecolor": "white",
            "ticks": ""
           }
          },
          "scene": {
           "xaxis": {
            "backgroundcolor": "#E5ECF6",
            "gridcolor": "white",
            "gridwidth": 2,
            "linecolor": "white",
            "showbackground": true,
            "ticks": "",
            "zerolinecolor": "white"
           },
           "yaxis": {
            "backgroundcolor": "#E5ECF6",
            "gridcolor": "white",
            "gridwidth": 2,
            "linecolor": "white",
            "showbackground": true,
            "ticks": "",
            "zerolinecolor": "white"
           },
           "zaxis": {
            "backgroundcolor": "#E5ECF6",
            "gridcolor": "white",
            "gridwidth": 2,
            "linecolor": "white",
            "showbackground": true,
            "ticks": "",
            "zerolinecolor": "white"
           }
          },
          "shapedefaults": {
           "line": {
            "color": "#2a3f5f"
           }
          },
          "ternary": {
           "aaxis": {
            "gridcolor": "white",
            "linecolor": "white",
            "ticks": ""
           },
           "baxis": {
            "gridcolor": "white",
            "linecolor": "white",
            "ticks": ""
           },
           "bgcolor": "#E5ECF6",
           "caxis": {
            "gridcolor": "white",
            "linecolor": "white",
            "ticks": ""
           }
          },
          "title": {
           "x": 0.05
          },
          "xaxis": {
           "automargin": true,
           "gridcolor": "white",
           "linecolor": "white",
           "ticks": "",
           "title": {
            "standoff": 15
           },
           "zerolinecolor": "white",
           "zerolinewidth": 2
          },
          "yaxis": {
           "automargin": true,
           "gridcolor": "white",
           "linecolor": "white",
           "ticks": "",
           "title": {
            "standoff": 15
           },
           "zerolinecolor": "white",
           "zerolinewidth": 2
          }
         }
        },
        "title": {
         "font": {
          "color": "black"
         },
         "text": "Subsidence"
        },
        "xaxis": {
         "gridcolor": "lightgrey",
         "gridwidth": 1,
         "linecolor": "black",
         "linewidth": 1,
         "showgrid": true,
         "showline": true,
         "title": {
          "text": "Month-Year"
         },
         "zeroline": true,
         "zerolinecolor": "lightgrey",
         "zerolinewidth": 1
        },
        "yaxis": {
         "gridcolor": "lightgrey",
         "gridwidth": 1,
         "linecolor": "black",
         "linewidth": 1,
         "showgrid": true,
         "showline": true,
         "title": {
          "text": "Subsidence"
         },
         "zeroline": true,
         "zerolinecolor": "lightgrey",
         "zerolinewidth": 1
        }
       }
      }
     },
     "metadata": {},
     "output_type": "display_data"
    }
   ],
   "source": [
    "# Plot (actual and predicted) for test (out of time) data\n",
    "fig = go.Figure()\n",
    "\n",
    "# #Trace for actual val\n",
    "# fig.add_trace(go.Scatter(x=np.array(test.columns),\n",
    "#                          y=np.array(test.values).flatten(),\n",
    "#                          mode='lines',\n",
    "#                          name='Subsidence - Actual (Test)',\n",
    "#                          opacity=0.8,\n",
    "#                          line=dict(color='black', width=1)\n",
    "#                         ))\n",
    "# fig.add_trace(go.Scatter(x=np.array(test.columns),\n",
    "#                          y=e,\n",
    "#                          mode='lines',\n",
    "#                          name='Subsidence - Actual (YTrain)',\n",
    "#                          opacity=0.8,\n",
    "#                          line=dict(color='pink', width=1)\n",
    "#                         ))\n",
    "\n",
    "fig.add_trace(go.Scatter(x=np.array(test.columns[10:]),\n",
    "                         y=c,\n",
    "                         mode='lines',\n",
    "                         name='Subsidence - Actual (YTest)',\n",
    "                         opacity=0.8,\n",
    "                         line=dict(color='grey', width=5)\n",
    "                        ))\n",
    "\n",
    "\n",
    "# Trace for predicted \n",
    "fig.add_trace(go.Scatter(x=np.array(test.columns[10:]),\n",
    "                         y=z,\n",
    "                         mode='lines',\n",
    "                         name='Subsidence - Predicted ',\n",
    "                         opacity=0.8,\n",
    "                         line=dict(color='red', width=5)\n",
    "                        ))\n",
    "\n",
    "# Change chart background color\n",
    "fig.update_layout(dict(plot_bgcolor = 'white'))\n",
    "\n",
    "# Update axes lines\n",
    "fig.update_xaxes(showgrid=True, gridwidth=1, gridcolor='lightgrey', \n",
    "                 zeroline=True, zerolinewidth=1, zerolinecolor='lightgrey', \n",
    "                 showline=True, linewidth=1, linecolor='black',\n",
    "                 title='Month-Year'\n",
    "                )\n",
    "\n",
    "fig.update_yaxes(showgrid=True, gridwidth=1, gridcolor='lightgrey', \n",
    "                 zeroline=True, zerolinewidth=1, zerolinecolor='lightgrey', \n",
    "                 showline=True, linewidth=1, linecolor='black',\n",
    "                 title='Subsidence'\n",
    "                )\n",
    "\n",
    "# Set figure title\n",
    "fig.update_layout(title=dict(text=\"Subsidence\", font=dict(color='black')),\n",
    "                  legend=dict(orientation=\"h\", yanchor=\"bottom\", y=1.02, xanchor=\"right\", x=1)\n",
    "                 )\n",
    "fig.show()"
   ]
  },
  {
   "cell_type": "markdown",
   "metadata": {},
   "source": []
  }
 ],
 "metadata": {
  "kernelspec": {
   "display_name": "Python 3.10.5 64-bit",
   "language": "python",
   "name": "python3"
  },
  "language_info": {
   "codemirror_mode": {
    "name": "ipython",
    "version": 3
   },
   "file_extension": ".py",
   "mimetype": "text/x-python",
   "name": "python",
   "nbconvert_exporter": "python",
   "pygments_lexer": "ipython3",
   "version": "3.10.5"
  },
  "orig_nbformat": 4,
  "vscode": {
   "interpreter": {
    "hash": "d3e10ef16274dd72e574b8fa73b58450b957d8421a2901baded3cca26fcf5dda"
   }
  }
 },
 "nbformat": 4,
 "nbformat_minor": 2
}
