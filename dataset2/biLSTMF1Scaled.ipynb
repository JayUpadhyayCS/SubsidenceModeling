{
 "cells": [
  {
   "cell_type": "code",
   "execution_count": 39,
   "metadata": {},
   "outputs": [
    {
     "name": "stdout",
     "output_type": "stream",
     "text": [
      "Tensorflow/Keras: 2.9.0\n",
      "pandas: 1.4.2\n",
      "numpy: 1.22.4\n",
      "sklearn: 1.1.1\n",
      "plotly: 5.9.0\n"
     ]
    }
   ],
   "source": [
    "# Tensorflow / Keras\n",
    "from tensorflow import keras # for building Neural Networks\n",
    "print('Tensorflow/Keras: %s' % keras.__version__) # print version\n",
    "from keras.models import Sequential # for creating a linear stack of layers for our Neural Network\n",
    "from keras import Input # for instantiating a keras tensor\n",
    "from keras.layers import Masking,Bidirectional, LSTM, RepeatVector, Dense, TimeDistributed,MaxPooling1D, Flatten, Conv1D,Conv2D,Dropout, MaxPooling2D, GRU # for creating layers inside the Neural Network\n",
    "from keras.optimizers import Adam , SGD\n",
    "from keras import metrics, callbacks\n",
    "from keras.utils import plot_model\n",
    "# Data manipulation\n",
    "import pandas as pd # for data manipulation\n",
    "print('pandas: %s' % pd.__version__) # print version\n",
    "import numpy as np # for data manipulation\n",
    "print('numpy: %s' % np.__version__) # print version\n",
    "import numpy.ma as ma\n",
    "# Sklearn\n",
    "import sklearn\n",
    "print('sklearn: %s' % sklearn.__version__) # print version\n",
    "from sklearn.preprocessing import MinMaxScaler, StandardScaler # for feature scaling\n",
    "from sklearn.model_selection import train_test_split\n",
    "# Visualization\n",
    "import plotly \n",
    "import plotly.express as px\n",
    "import plotly.graph_objects as go\n",
    "print('plotly: %s' % plotly.__version__) # print version\n",
    "from matplotlib import pyplot as plt\n",
    "\n",
    "#file accessing\n",
    "import os\n",
    "# time stuff\n",
    "from datetime import timedelta\n",
    "import calendar\n"
   ]
  },
  {
   "cell_type": "code",
   "execution_count": 40,
   "metadata": {},
   "outputs": [
    {
     "name": "stdout",
     "output_type": "stream",
     "text": [
      "Defined the plot_the_model and plot_the_loss_curve functions.\n"
     ]
    }
   ],
   "source": [
    "#@title Define the plotting functions\n",
    "def plot_the_model(trained_weight, trained_bias, feature, label):\n",
    "  \"\"\"Plot the trained model against the training feature and label.\"\"\"\n",
    "\n",
    "  # Label the axes.\n",
    "  plt.xlabel(\"feature\")\n",
    "  plt.ylabel(\"label\")\n",
    "\n",
    "  # Plot the feature values vs. label values.\n",
    "  plt.scatter(feature, label)\n",
    "\n",
    "  # Create a red line representing the model. The red line starts\n",
    "  # at coordinates (x0, y0) and ends at coordinates (x1, y1).\n",
    "  x0 = 0\n",
    "  y0 = trained_bias\n",
    "  x1 = feature[-1]\n",
    "  y1 = trained_bias + (trained_weight * x1)\n",
    "  plt.plot([x0, x1], [y0, y1], c='r')\n",
    "\n",
    "  # Render the scatter plot and the red line.\n",
    "  plt.show()\n",
    "\n",
    "def plot_the_loss_curve(epochs, mse):\n",
    "  \"\"\"Plot the loss curve, which shows loss vs. epoch.\"\"\"\n",
    "\n",
    "  plt.figure()\n",
    "  plt.xlabel(\"Epoch\")\n",
    "  plt.ylabel(\"Mean Squared Error\")\n",
    "  #epochs.remove(max(epochs))\n",
    "  \n",
    "  #rmse.drop(max(rmse))\n",
    "  plt.plot(epochs, mse, label=\"Loss\")\n",
    "  plt.legend()\n",
    "  plt.ylim([min(mse)*0.97, max(mse)])\n",
    "  plt.show()\n",
    "\n",
    "print(\"Defined the plot_the_model and plot_the_loss_curve functions.\")"
   ]
  },
  {
   "cell_type": "markdown",
   "metadata": {},
   "source": [
    "##### Read from file and establish dataframe and future functions"
   ]
  },
  {
   "cell_type": "code",
   "execution_count": 41,
   "metadata": {},
   "outputs": [
    {
     "data": {
      "text/html": [
       "<div>\n",
       "<style scoped>\n",
       "    .dataframe tbody tr th:only-of-type {\n",
       "        vertical-align: middle;\n",
       "    }\n",
       "\n",
       "    .dataframe tbody tr th {\n",
       "        vertical-align: top;\n",
       "    }\n",
       "\n",
       "    .dataframe thead th {\n",
       "        text-align: right;\n",
       "    }\n",
       "</style>\n",
       "<table border=\"1\" class=\"dataframe\">\n",
       "  <thead>\n",
       "    <tr style=\"text-align: right;\">\n",
       "      <th></th>\n",
       "      <th></th>\n",
       "      <th>2014-11-08</th>\n",
       "      <th>2014-12-02</th>\n",
       "      <th>2014-12-26</th>\n",
       "      <th>2015-02-12</th>\n",
       "      <th>2015-03-08</th>\n",
       "      <th>2015-04-01</th>\n",
       "      <th>2015-04-25</th>\n",
       "      <th>2015-05-19</th>\n",
       "      <th>2015-06-12</th>\n",
       "      <th>2015-07-06</th>\n",
       "      <th>...</th>\n",
       "      <th>2018-10-18</th>\n",
       "      <th>2018-10-30</th>\n",
       "      <th>2018-11-11</th>\n",
       "      <th>2018-11-17</th>\n",
       "      <th>2018-11-23</th>\n",
       "      <th>2018-12-05</th>\n",
       "      <th>2018-12-17</th>\n",
       "      <th>2018-12-29</th>\n",
       "      <th>2019-01-10</th>\n",
       "      <th>2019-01-22</th>\n",
       "    </tr>\n",
       "    <tr>\n",
       "      <th>Longitude</th>\n",
       "      <th>Latitude</th>\n",
       "      <th></th>\n",
       "      <th></th>\n",
       "      <th></th>\n",
       "      <th></th>\n",
       "      <th></th>\n",
       "      <th></th>\n",
       "      <th></th>\n",
       "      <th></th>\n",
       "      <th></th>\n",
       "      <th></th>\n",
       "      <th></th>\n",
       "      <th></th>\n",
       "      <th></th>\n",
       "      <th></th>\n",
       "      <th></th>\n",
       "      <th></th>\n",
       "      <th></th>\n",
       "      <th></th>\n",
       "      <th></th>\n",
       "      <th></th>\n",
       "      <th></th>\n",
       "    </tr>\n",
       "  </thead>\n",
       "  <tbody>\n",
       "    <tr>\n",
       "      <th>-120.3387</th>\n",
       "      <th>36.5393</th>\n",
       "      <td>0.0</td>\n",
       "      <td>-6.2129</td>\n",
       "      <td>3.4247</td>\n",
       "      <td>5.7830</td>\n",
       "      <td>2.13990</td>\n",
       "      <td>6.8538</td>\n",
       "      <td>1.83540</td>\n",
       "      <td>2.1142</td>\n",
       "      <td>1.83670</td>\n",
       "      <td>-1.5935</td>\n",
       "      <td>...</td>\n",
       "      <td>4.93520</td>\n",
       "      <td>8.059200</td>\n",
       "      <td>6.39190</td>\n",
       "      <td>6.56470</td>\n",
       "      <td>3.58430</td>\n",
       "      <td>5.337900</td>\n",
       "      <td>7.14430</td>\n",
       "      <td>9.1285</td>\n",
       "      <td>8.73970</td>\n",
       "      <td>10.38400</td>\n",
       "    </tr>\n",
       "    <tr>\n",
       "      <th>-120.1908</th>\n",
       "      <th>36.1412</th>\n",
       "      <td>0.0</td>\n",
       "      <td>-5.6951</td>\n",
       "      <td>2.2257</td>\n",
       "      <td>4.5835</td>\n",
       "      <td>1.70790</td>\n",
       "      <td>6.5348</td>\n",
       "      <td>2.98530</td>\n",
       "      <td>2.7613</td>\n",
       "      <td>3.76730</td>\n",
       "      <td>2.2235</td>\n",
       "      <td>...</td>\n",
       "      <td>6.28560</td>\n",
       "      <td>8.606700</td>\n",
       "      <td>7.15330</td>\n",
       "      <td>8.06940</td>\n",
       "      <td>5.60730</td>\n",
       "      <td>4.977600</td>\n",
       "      <td>8.18450</td>\n",
       "      <td>9.0591</td>\n",
       "      <td>8.89620</td>\n",
       "      <td>10.35300</td>\n",
       "    </tr>\n",
       "    <tr>\n",
       "      <th>-119.8869</th>\n",
       "      <th>35.6171</th>\n",
       "      <td>0.0</td>\n",
       "      <td>-6.7674</td>\n",
       "      <td>1.8611</td>\n",
       "      <td>3.5773</td>\n",
       "      <td>0.77856</td>\n",
       "      <td>4.5700</td>\n",
       "      <td>1.90460</td>\n",
       "      <td>2.8225</td>\n",
       "      <td>0.89615</td>\n",
       "      <td>2.6578</td>\n",
       "      <td>...</td>\n",
       "      <td>6.42140</td>\n",
       "      <td>7.527900</td>\n",
       "      <td>6.25500</td>\n",
       "      <td>7.12750</td>\n",
       "      <td>7.43410</td>\n",
       "      <td>3.680000</td>\n",
       "      <td>6.77130</td>\n",
       "      <td>8.8868</td>\n",
       "      <td>7.87950</td>\n",
       "      <td>9.15160</td>\n",
       "    </tr>\n",
       "    <tr>\n",
       "      <th>-119.8849</th>\n",
       "      <th>35.8671</th>\n",
       "      <td>0.0</td>\n",
       "      <td>-6.9006</td>\n",
       "      <td>1.5378</td>\n",
       "      <td>3.1628</td>\n",
       "      <td>0.49591</td>\n",
       "      <td>5.3001</td>\n",
       "      <td>1.69690</td>\n",
       "      <td>2.4262</td>\n",
       "      <td>1.60660</td>\n",
       "      <td>1.9497</td>\n",
       "      <td>...</td>\n",
       "      <td>6.71270</td>\n",
       "      <td>8.195900</td>\n",
       "      <td>6.89780</td>\n",
       "      <td>7.72280</td>\n",
       "      <td>7.08070</td>\n",
       "      <td>5.015800</td>\n",
       "      <td>6.95200</td>\n",
       "      <td>8.8647</td>\n",
       "      <td>8.17390</td>\n",
       "      <td>9.19100</td>\n",
       "    </tr>\n",
       "    <tr>\n",
       "      <th>-119.8829</th>\n",
       "      <th>35.9512</th>\n",
       "      <td>0.0</td>\n",
       "      <td>-6.3572</td>\n",
       "      <td>1.1703</td>\n",
       "      <td>2.1735</td>\n",
       "      <td>-0.47235</td>\n",
       "      <td>3.9732</td>\n",
       "      <td>0.57705</td>\n",
       "      <td>1.4311</td>\n",
       "      <td>0.69616</td>\n",
       "      <td>1.1763</td>\n",
       "      <td>...</td>\n",
       "      <td>5.86560</td>\n",
       "      <td>7.390000</td>\n",
       "      <td>6.27260</td>\n",
       "      <td>7.15710</td>\n",
       "      <td>5.54560</td>\n",
       "      <td>3.736800</td>\n",
       "      <td>6.18420</td>\n",
       "      <td>7.5924</td>\n",
       "      <td>6.51850</td>\n",
       "      <td>8.10940</td>\n",
       "    </tr>\n",
       "    <tr>\n",
       "      <th>...</th>\n",
       "      <th>...</th>\n",
       "      <td>...</td>\n",
       "      <td>...</td>\n",
       "      <td>...</td>\n",
       "      <td>...</td>\n",
       "      <td>...</td>\n",
       "      <td>...</td>\n",
       "      <td>...</td>\n",
       "      <td>...</td>\n",
       "      <td>...</td>\n",
       "      <td>...</td>\n",
       "      <td>...</td>\n",
       "      <td>...</td>\n",
       "      <td>...</td>\n",
       "      <td>...</td>\n",
       "      <td>...</td>\n",
       "      <td>...</td>\n",
       "      <td>...</td>\n",
       "      <td>...</td>\n",
       "      <td>...</td>\n",
       "      <td>...</td>\n",
       "      <td>...</td>\n",
       "    </tr>\n",
       "    <tr>\n",
       "      <th>-118.9071</th>\n",
       "      <th>35.3750</th>\n",
       "      <td>0.0</td>\n",
       "      <td>-3.8828</td>\n",
       "      <td>-1.1999</td>\n",
       "      <td>-1.2152</td>\n",
       "      <td>-2.12550</td>\n",
       "      <td>-3.4199</td>\n",
       "      <td>-0.94401</td>\n",
       "      <td>-3.6226</td>\n",
       "      <td>0.56910</td>\n",
       "      <td>-1.4506</td>\n",
       "      <td>...</td>\n",
       "      <td>2.44230</td>\n",
       "      <td>2.689300</td>\n",
       "      <td>3.37490</td>\n",
       "      <td>3.22130</td>\n",
       "      <td>3.32230</td>\n",
       "      <td>2.285500</td>\n",
       "      <td>1.94290</td>\n",
       "      <td>5.8860</td>\n",
       "      <td>2.26160</td>\n",
       "      <td>2.42750</td>\n",
       "    </tr>\n",
       "    <tr>\n",
       "      <th>-118.9051</th>\n",
       "      <th>35.3430</th>\n",
       "      <td>0.0</td>\n",
       "      <td>-4.1356</td>\n",
       "      <td>-1.1255</td>\n",
       "      <td>-1.2232</td>\n",
       "      <td>-2.18530</td>\n",
       "      <td>-3.3244</td>\n",
       "      <td>-0.70324</td>\n",
       "      <td>-3.5807</td>\n",
       "      <td>0.53279</td>\n",
       "      <td>-1.5025</td>\n",
       "      <td>...</td>\n",
       "      <td>1.45350</td>\n",
       "      <td>1.393300</td>\n",
       "      <td>2.12930</td>\n",
       "      <td>1.83520</td>\n",
       "      <td>2.14240</td>\n",
       "      <td>1.547400</td>\n",
       "      <td>1.06060</td>\n",
       "      <td>4.7605</td>\n",
       "      <td>0.96871</td>\n",
       "      <td>1.18650</td>\n",
       "    </tr>\n",
       "    <tr>\n",
       "      <th rowspan=\"2\" valign=\"top\">-118.9031</th>\n",
       "      <th>35.3110</th>\n",
       "      <td>0.0</td>\n",
       "      <td>-4.1879</td>\n",
       "      <td>-1.1213</td>\n",
       "      <td>-1.7977</td>\n",
       "      <td>-2.28030</td>\n",
       "      <td>-3.4793</td>\n",
       "      <td>-0.84339</td>\n",
       "      <td>-3.6445</td>\n",
       "      <td>0.30264</td>\n",
       "      <td>-2.1569</td>\n",
       "      <td>...</td>\n",
       "      <td>-0.17429</td>\n",
       "      <td>0.098737</td>\n",
       "      <td>0.56824</td>\n",
       "      <td>0.16814</td>\n",
       "      <td>0.69418</td>\n",
       "      <td>-0.011814</td>\n",
       "      <td>-0.57993</td>\n",
       "      <td>2.7450</td>\n",
       "      <td>-1.03220</td>\n",
       "      <td>-0.71361</td>\n",
       "    </tr>\n",
       "    <tr>\n",
       "      <th>35.4270</th>\n",
       "      <td>0.0</td>\n",
       "      <td>-4.1305</td>\n",
       "      <td>-1.2911</td>\n",
       "      <td>-1.1049</td>\n",
       "      <td>-2.53270</td>\n",
       "      <td>-3.4353</td>\n",
       "      <td>-0.79675</td>\n",
       "      <td>-3.7570</td>\n",
       "      <td>0.58227</td>\n",
       "      <td>-1.2981</td>\n",
       "      <td>...</td>\n",
       "      <td>3.02090</td>\n",
       "      <td>3.222600</td>\n",
       "      <td>4.33210</td>\n",
       "      <td>3.71760</td>\n",
       "      <td>4.08800</td>\n",
       "      <td>2.244900</td>\n",
       "      <td>2.98550</td>\n",
       "      <td>6.4669</td>\n",
       "      <td>2.77250</td>\n",
       "      <td>2.71350</td>\n",
       "    </tr>\n",
       "    <tr>\n",
       "      <th>-118.9011</th>\n",
       "      <th>35.3950</th>\n",
       "      <td>0.0</td>\n",
       "      <td>-4.1354</td>\n",
       "      <td>-1.3291</td>\n",
       "      <td>-1.1547</td>\n",
       "      <td>-2.29250</td>\n",
       "      <td>-3.5912</td>\n",
       "      <td>-0.82694</td>\n",
       "      <td>-3.6488</td>\n",
       "      <td>0.71169</td>\n",
       "      <td>-1.0560</td>\n",
       "      <td>...</td>\n",
       "      <td>2.84470</td>\n",
       "      <td>3.160200</td>\n",
       "      <td>4.13480</td>\n",
       "      <td>3.61790</td>\n",
       "      <td>3.82230</td>\n",
       "      <td>2.624100</td>\n",
       "      <td>2.65560</td>\n",
       "      <td>6.3724</td>\n",
       "      <td>2.70740</td>\n",
       "      <td>2.72110</td>\n",
       "    </tr>\n",
       "  </tbody>\n",
       "</table>\n",
       "<p>603 rows × 110 columns</p>\n",
       "</div>"
      ],
      "text/plain": [
       "                    2014-11-08  2014-12-02  2014-12-26  2015-02-12  \\\n",
       "Longitude Latitude                                                   \n",
       "-120.3387 36.5393          0.0     -6.2129      3.4247      5.7830   \n",
       "-120.1908 36.1412          0.0     -5.6951      2.2257      4.5835   \n",
       "-119.8869 35.6171          0.0     -6.7674      1.8611      3.5773   \n",
       "-119.8849 35.8671          0.0     -6.9006      1.5378      3.1628   \n",
       "-119.8829 35.9512          0.0     -6.3572      1.1703      2.1735   \n",
       "...                        ...         ...         ...         ...   \n",
       "-118.9071 35.3750          0.0     -3.8828     -1.1999     -1.2152   \n",
       "-118.9051 35.3430          0.0     -4.1356     -1.1255     -1.2232   \n",
       "-118.9031 35.3110          0.0     -4.1879     -1.1213     -1.7977   \n",
       "          35.4270          0.0     -4.1305     -1.2911     -1.1049   \n",
       "-118.9011 35.3950          0.0     -4.1354     -1.3291     -1.1547   \n",
       "\n",
       "                    2015-03-08  2015-04-01  2015-04-25  2015-05-19  \\\n",
       "Longitude Latitude                                                   \n",
       "-120.3387 36.5393      2.13990      6.8538     1.83540      2.1142   \n",
       "-120.1908 36.1412      1.70790      6.5348     2.98530      2.7613   \n",
       "-119.8869 35.6171      0.77856      4.5700     1.90460      2.8225   \n",
       "-119.8849 35.8671      0.49591      5.3001     1.69690      2.4262   \n",
       "-119.8829 35.9512     -0.47235      3.9732     0.57705      1.4311   \n",
       "...                        ...         ...         ...         ...   \n",
       "-118.9071 35.3750     -2.12550     -3.4199    -0.94401     -3.6226   \n",
       "-118.9051 35.3430     -2.18530     -3.3244    -0.70324     -3.5807   \n",
       "-118.9031 35.3110     -2.28030     -3.4793    -0.84339     -3.6445   \n",
       "          35.4270     -2.53270     -3.4353    -0.79675     -3.7570   \n",
       "-118.9011 35.3950     -2.29250     -3.5912    -0.82694     -3.6488   \n",
       "\n",
       "                    2015-06-12  2015-07-06  ...  2018-10-18  2018-10-30  \\\n",
       "Longitude Latitude                          ...                           \n",
       "-120.3387 36.5393      1.83670     -1.5935  ...     4.93520    8.059200   \n",
       "-120.1908 36.1412      3.76730      2.2235  ...     6.28560    8.606700   \n",
       "-119.8869 35.6171      0.89615      2.6578  ...     6.42140    7.527900   \n",
       "-119.8849 35.8671      1.60660      1.9497  ...     6.71270    8.195900   \n",
       "-119.8829 35.9512      0.69616      1.1763  ...     5.86560    7.390000   \n",
       "...                        ...         ...  ...         ...         ...   \n",
       "-118.9071 35.3750      0.56910     -1.4506  ...     2.44230    2.689300   \n",
       "-118.9051 35.3430      0.53279     -1.5025  ...     1.45350    1.393300   \n",
       "-118.9031 35.3110      0.30264     -2.1569  ...    -0.17429    0.098737   \n",
       "          35.4270      0.58227     -1.2981  ...     3.02090    3.222600   \n",
       "-118.9011 35.3950      0.71169     -1.0560  ...     2.84470    3.160200   \n",
       "\n",
       "                    2018-11-11  2018-11-17  2018-11-23  2018-12-05  \\\n",
       "Longitude Latitude                                                   \n",
       "-120.3387 36.5393      6.39190     6.56470     3.58430    5.337900   \n",
       "-120.1908 36.1412      7.15330     8.06940     5.60730    4.977600   \n",
       "-119.8869 35.6171      6.25500     7.12750     7.43410    3.680000   \n",
       "-119.8849 35.8671      6.89780     7.72280     7.08070    5.015800   \n",
       "-119.8829 35.9512      6.27260     7.15710     5.54560    3.736800   \n",
       "...                        ...         ...         ...         ...   \n",
       "-118.9071 35.3750      3.37490     3.22130     3.32230    2.285500   \n",
       "-118.9051 35.3430      2.12930     1.83520     2.14240    1.547400   \n",
       "-118.9031 35.3110      0.56824     0.16814     0.69418   -0.011814   \n",
       "          35.4270      4.33210     3.71760     4.08800    2.244900   \n",
       "-118.9011 35.3950      4.13480     3.61790     3.82230    2.624100   \n",
       "\n",
       "                    2018-12-17  2018-12-29  2019-01-10  2019-01-22  \n",
       "Longitude Latitude                                                  \n",
       "-120.3387 36.5393      7.14430      9.1285     8.73970    10.38400  \n",
       "-120.1908 36.1412      8.18450      9.0591     8.89620    10.35300  \n",
       "-119.8869 35.6171      6.77130      8.8868     7.87950     9.15160  \n",
       "-119.8849 35.8671      6.95200      8.8647     8.17390     9.19100  \n",
       "-119.8829 35.9512      6.18420      7.5924     6.51850     8.10940  \n",
       "...                        ...         ...         ...         ...  \n",
       "-118.9071 35.3750      1.94290      5.8860     2.26160     2.42750  \n",
       "-118.9051 35.3430      1.06060      4.7605     0.96871     1.18650  \n",
       "-118.9031 35.3110     -0.57993      2.7450    -1.03220    -0.71361  \n",
       "          35.4270      2.98550      6.4669     2.77250     2.71350  \n",
       "-118.9011 35.3950      2.65560      6.3724     2.70740     2.72110  \n",
       "\n",
       "[603 rows x 110 columns]"
      ]
     },
     "execution_count": 41,
     "metadata": {},
     "output_type": "execute_result"
    }
   ],
   "source": [
    "df=pd.read_csv('E:\\DSFellowship\\Complete\\dataset2\\dataset2.csv')\n",
    "df=df.set_index([df.columns[0],df.columns[1]])\n",
    "df.columns=pd.to_datetime(df.columns, format='%Y-%m-%d')\n",
    "df=df.dropna(axis=0, how='all')#drop full nan rows\n",
    "df"
   ]
  },
  {
   "cell_type": "markdown",
   "metadata": {},
   "source": [
    "##### Remove next line to include all data"
   ]
  },
  {
   "cell_type": "markdown",
   "metadata": {},
   "source": [
    "# Timestep"
   ]
  },
  {
   "cell_type": "code",
   "execution_count": 42,
   "metadata": {},
   "outputs": [],
   "source": [
    "timestep=10\n",
    "# 1 2 3 4 5 6 7 ...\n",
    "# w/ timestep of 2\n",
    "# [[1,2][2,3][3,4]"
   ]
  },
  {
   "cell_type": "markdown",
   "metadata": {},
   "source": [
    "# Shaping function (remove start and step for first for loop to include all data)"
   ]
  },
  {
   "cell_type": "code",
   "execution_count": 43,
   "metadata": {},
   "outputs": [],
   "source": [
    "def shaping(datain, timestep):\n",
    "    #print(arr)\n",
    "    cnt=0\n",
    "    for row in range(len(datain.index)): #picks a row at every iteration, allows to reduction of input and inclusion of multiple time series, remove start and step to run on full dataset \n",
    "    # Convert input dataframe to array and flatten\n",
    "        #datain.iloc[row].fillna(datain.iloc[row].mean).to_numpy().flatten()\n",
    "        arr=datain.iloc[row].interpolate().to_numpy().flatten() # flatten row\n",
    "        #arr=arr.fillna(arr.mean)\n",
    "        #arr=np.where(np.isnan(arr), ma.array(arr, mask=np.isnan(arr)).mean(), arr) \n",
    "        for mth in range(0, len(datain.columns)-(2*timestep)+1): # Define range lenght of the dates - 2* amount of timesep?? +1\n",
    "            cnt=cnt+1 # Gives us the number of samples. Later used to reshape the data\n",
    "            X_start=mth # Start month for inputs of each sample\n",
    "            X_end=mth+timestep # End month for inputs of each sample\n",
    "            Y_start=mth+timestep # Start month for targets of each sample. Note, start is inclusive and end is exclusive, that's why X_end and Y_start is the same number\n",
    "            Y_end=mth+2*timestep # End month for targets of each sample.  \n",
    "            \n",
    "            # Assemble input and target arrays containing all samples\n",
    "            if cnt==1:\n",
    "                X_comb=arr[X_start:X_end]\n",
    "                Y_comb=arr[Y_start:Y_end]\n",
    "            else: \n",
    "                X_comb=np.append(X_comb, arr[X_start:X_end])\n",
    "                Y_comb=np.append(Y_comb, arr[Y_start:Y_end])\n",
    "    # Reshape input and target arrays\n",
    "    X_out=np.reshape(X_comb, (cnt, timestep, 1))\n",
    "    Y_out=np.reshape(Y_comb, (cnt, timestep, 1))\n",
    "    return X_out, Y_out"
   ]
  },
  {
   "cell_type": "markdown",
   "metadata": {},
   "source": [
    "##### Step 2 - Split and Shape data"
   ]
  },
  {
   "cell_type": "code",
   "execution_count": 44,
   "metadata": {},
   "outputs": [],
   "source": [
    "#Divides data into 80% training 20% testing\n",
    "#train, test = train_test_split(df, test_size=0.2)\n",
    "# creates sequences to train\n",
    "# X , Y = shaping(datain=df, timestep= timestep )\n",
    "# X_train, X_test, Y_train, Y_test = train_test_split(X,Y , test_size=0.2, random_state=28)\n",
    "# nsamples, nx, ny = X_train.shape\n",
    "# X_train = X_train.reshape((nsamples,nx*ny))\n",
    "# nsamples, nx, ny = Y_train.shape\n",
    "# Y_train = Y_train.reshape((nsamples,nx*ny))\n",
    "# nsamples, nx, ny = X_test.shape\n",
    "# X_test = X_test.reshape((nsamples,nx*ny))\n",
    "# nsamples, nx, ny = Y_test.shape\n",
    "# Y_test = Y_test.reshape((nsamples,nx*ny))\n",
    "#Divides data into 80% training 20% testing\n",
    "scaler=MinMaxScaler()\n",
    "scaler2=MinMaxScaler()\n",
    "train, test = train_test_split(df, test_size=0.2, random_state=42, shuffle=True)\n",
    "# creates sequences to train\n",
    "X_train, Y_train = shaping(datain=train, timestep= timestep )\n",
    "\n",
    "\n",
    "X_test, Y_test = shaping(datain=test, timestep=timestep)\n",
    "X_train=scaler.fit_transform(X_train.reshape(-1,X_train.shape[-1])).reshape(X_train.shape)\n",
    "X_test=scaler.transform(X_test.reshape(-1,X_test.shape[-1])).reshape(X_test.shape)\n",
    "\n",
    "# Y_train=scaler2.fit_transform(Y_train.reshape(-1,Y_train.shape[-1])).reshape(Y_train.shape)\n",
    "# Y_test=scaler2.transform(Y_test.reshape(-1,Y_test.shape[-1])).reshape(Y_test.shape)"
   ]
  },
  {
   "cell_type": "code",
   "execution_count": 45,
   "metadata": {},
   "outputs": [],
   "source": [
    "# scaler = MinMaxScaler()\n",
    "# scaler2 = MinMaxScaler()\n",
    "# X_train = scaler.fit_transform(X_train.reshape(-1, X_train.shape[-1])).reshape(X_train.shape)\n",
    "# X_test = scaler.transform(X_test.reshape(-1, X_test.shape[-1])).reshape(X_test.shape)\n",
    "# Y_train = scaler2.fit_transform(Y_train.reshape(-1, Y_train.shape[-1])).reshape(Y_train.shape)\n",
    "# Y_test = scaler.transform(Y_test.reshape(-1, Y_test.shape[-1])).reshape(Y_test.shape)\n"
   ]
  },
  {
   "cell_type": "markdown",
   "metadata": {},
   "source": [
    "##### Step 3 - Specify the structure of a Neural Network, first model"
   ]
  },
  {
   "cell_type": "code",
   "execution_count": 46,
   "metadata": {},
   "outputs": [],
   "source": [
    "\n",
    "model2 = Sequential(name=\"biLSTM-Model\") # Model\n",
    "#model2.add(Masking(mask_value=-1000, input_shape=(timestep, 1)))\n",
    "\n",
    "model2.add(Input(shape=(X_train.shape[1],X_train.shape[2]), name='Input-Layer')) # Input Layer - need to speicfy the shape of inputs\n",
    "model2.add(Bidirectional(LSTM(units=64, activation='relu', recurrent_activation='sigmoid', stateful=False), name='Hidden-LSTM-Encoder-Layer')) # Encoder Layer\n",
    "model2.add(RepeatVector(Y_train.shape[1], name='Repeat-Vector-Layer')) # Repeat Vector\n",
    "model2.add(Bidirectional(LSTM(units=64, activation='relu', recurrent_activation='sigmoid', stateful=False, return_sequences=True), name='Hidden-LSTM-Decoder-Layer')) # Decoder Layer\n",
    "model2.add(TimeDistributed(Dense(units=1, activation='linear'), name='Output-Layer')) # Output Layer, Linear(x) = x\n",
    "#optimizer=Adam(.005)\n",
    "model2.compile(optimizer='adam', # default='rmsprop', an algorithm to be used in backpropagation\n",
    "              loss='mean_squared_error', # Loss function to be optimized. A string (name of loss function), or a tf.keras.losses.Loss instance.\n",
    "                metrics=['MeanSquaredError', 'mean_absolute_error'], # List of metrics to be evaluated by the model during training and testing. Each of this can be a string (name of a built-in function), function or a tf.keras.metrics.Metric instance. \n",
    "              loss_weights=None, # default=None, Optional list or dictionary specifying scalar coefficients (Python floats) to weight the loss contributions of different model outputs.\n",
    "              weighted_metrics=None, # default=None, List of metrics to be evaluated and weighted by sample_weight or class_weight during training and testing.\n",
    "              run_eagerly=None, # Defaults to False. If True, this Model's logic will not be wrapped in a tf.function. Recommended to leave this as None unless your Model cannot be run inside a tf.function.\n",
    "              steps_per_execution=None, # Defaults to 1. The number of batches to run during each tf.function call. Running multiple batches inside a single tf.function call can greatly improve performance on TPUs or small models with a large Python overhead.\n",
    "                   \n",
    "             )"
   ]
  },
  {
   "cell_type": "code",
   "execution_count": 47,
   "metadata": {},
   "outputs": [],
   "source": [
    "##### Train model"
   ]
  },
  {
   "cell_type": "code",
   "execution_count": 48,
   "metadata": {},
   "outputs": [
    {
     "name": "stdout",
     "output_type": "stream",
     "text": [
      "Epoch 1/100\n",
      "1028/1028 - 19s - loss: 95.8019 - mean_squared_error: 95.8019 - mean_absolute_error: 5.3066 - val_loss: 15.4625 - val_mean_squared_error: 15.4625 - val_mean_absolute_error: 2.8347 - 19s/epoch - 18ms/step\n",
      "Epoch 2/100\n",
      "1028/1028 - 14s - loss: 14.3510 - mean_squared_error: 14.3510 - mean_absolute_error: 2.8289 - val_loss: 13.0584 - val_mean_squared_error: 13.0584 - val_mean_absolute_error: 2.5879 - 14s/epoch - 13ms/step\n",
      "Epoch 3/100\n",
      "1028/1028 - 14s - loss: 12.1192 - mean_squared_error: 12.1192 - mean_absolute_error: 2.6035 - val_loss: 10.8537 - val_mean_squared_error: 10.8537 - val_mean_absolute_error: 2.4399 - 14s/epoch - 13ms/step\n",
      "Epoch 4/100\n",
      "1028/1028 - 14s - loss: 11.0905 - mean_squared_error: 11.0905 - mean_absolute_error: 2.4828 - val_loss: 11.1791 - val_mean_squared_error: 11.1791 - val_mean_absolute_error: 2.6464 - 14s/epoch - 14ms/step\n",
      "Epoch 5/100\n",
      "1028/1028 - 14s - loss: 10.7854 - mean_squared_error: 10.7853 - mean_absolute_error: 2.4525 - val_loss: 10.5257 - val_mean_squared_error: 10.5257 - val_mean_absolute_error: 2.5324 - 14s/epoch - 13ms/step\n",
      "Epoch 6/100\n",
      "1028/1028 - 14s - loss: 10.5135 - mean_squared_error: 10.5135 - mean_absolute_error: 2.4141 - val_loss: 10.5193 - val_mean_squared_error: 10.5193 - val_mean_absolute_error: 2.4940 - 14s/epoch - 13ms/step\n",
      "Epoch 7/100\n",
      "1028/1028 - 14s - loss: 10.3285 - mean_squared_error: 10.3285 - mean_absolute_error: 2.3947 - val_loss: 10.2253 - val_mean_squared_error: 10.2253 - val_mean_absolute_error: 2.4708 - 14s/epoch - 13ms/step\n",
      "Epoch 8/100\n",
      "1028/1028 - 14s - loss: 10.2540 - mean_squared_error: 10.2540 - mean_absolute_error: 2.3867 - val_loss: 9.6125 - val_mean_squared_error: 9.6125 - val_mean_absolute_error: 2.2288 - 14s/epoch - 13ms/step\n",
      "Epoch 9/100\n",
      "1028/1028 - 14s - loss: 10.0208 - mean_squared_error: 10.0208 - mean_absolute_error: 2.3588 - val_loss: 10.0963 - val_mean_squared_error: 10.0963 - val_mean_absolute_error: 2.4787 - 14s/epoch - 13ms/step\n",
      "Epoch 10/100\n",
      "1028/1028 - 14s - loss: 9.8692 - mean_squared_error: 9.8692 - mean_absolute_error: 2.3382 - val_loss: 9.3603 - val_mean_squared_error: 9.3603 - val_mean_absolute_error: 2.3262 - 14s/epoch - 13ms/step\n",
      "Epoch 11/100\n",
      "1028/1028 - 14s - loss: 9.7162 - mean_squared_error: 9.7162 - mean_absolute_error: 2.3195 - val_loss: 9.5546 - val_mean_squared_error: 9.5546 - val_mean_absolute_error: 2.3626 - 14s/epoch - 13ms/step\n",
      "Epoch 12/100\n",
      "1028/1028 - 14s - loss: 9.5823 - mean_squared_error: 9.5823 - mean_absolute_error: 2.2996 - val_loss: 10.7069 - val_mean_squared_error: 10.7069 - val_mean_absolute_error: 2.3339 - 14s/epoch - 13ms/step\n",
      "Epoch 13/100\n",
      "1028/1028 - 14s - loss: 9.6188 - mean_squared_error: 9.6188 - mean_absolute_error: 2.3078 - val_loss: 10.0095 - val_mean_squared_error: 10.0095 - val_mean_absolute_error: 2.2736 - 14s/epoch - 13ms/step\n",
      "Epoch 14/100\n",
      "1028/1028 - 14s - loss: 9.3612 - mean_squared_error: 9.3612 - mean_absolute_error: 2.2741 - val_loss: 8.9942 - val_mean_squared_error: 8.9942 - val_mean_absolute_error: 2.2053 - 14s/epoch - 13ms/step\n",
      "Epoch 15/100\n",
      "1028/1028 - 14s - loss: 9.4202 - mean_squared_error: 9.4202 - mean_absolute_error: 2.2819 - val_loss: 10.8237 - val_mean_squared_error: 10.8237 - val_mean_absolute_error: 2.6251 - 14s/epoch - 14ms/step\n",
      "Epoch 16/100\n",
      "1028/1028 - 15s - loss: 9.2042 - mean_squared_error: 9.2042 - mean_absolute_error: 2.2531 - val_loss: 9.2993 - val_mean_squared_error: 9.2993 - val_mean_absolute_error: 2.3314 - 15s/epoch - 14ms/step\n",
      "Epoch 17/100\n",
      "1028/1028 - 14s - loss: 9.2276 - mean_squared_error: 9.2276 - mean_absolute_error: 2.2575 - val_loss: 9.0077 - val_mean_squared_error: 9.0077 - val_mean_absolute_error: 2.1816 - 14s/epoch - 14ms/step\n",
      "Epoch 18/100\n",
      "1028/1028 - 14s - loss: 9.0351 - mean_squared_error: 9.0351 - mean_absolute_error: 2.2334 - val_loss: 9.4548 - val_mean_squared_error: 9.4548 - val_mean_absolute_error: 2.1875 - 14s/epoch - 14ms/step\n",
      "Epoch 19/100\n",
      "1028/1028 - 14s - loss: 8.9810 - mean_squared_error: 8.9810 - mean_absolute_error: 2.2296 - val_loss: 9.7429 - val_mean_squared_error: 9.7429 - val_mean_absolute_error: 2.4165 - 14s/epoch - 13ms/step\n",
      "Epoch 20/100\n",
      "1028/1028 - 13s - loss: 8.9261 - mean_squared_error: 8.9261 - mean_absolute_error: 2.2223 - val_loss: 9.4775 - val_mean_squared_error: 9.4775 - val_mean_absolute_error: 2.2380 - 13s/epoch - 13ms/step\n",
      "Epoch 21/100\n",
      "1028/1028 - 13s - loss: 8.7788 - mean_squared_error: 8.7788 - mean_absolute_error: 2.2006 - val_loss: 10.4003 - val_mean_squared_error: 10.4003 - val_mean_absolute_error: 2.3533 - 13s/epoch - 13ms/step\n",
      "Epoch 22/100\n",
      "1028/1028 - 13s - loss: 8.8242 - mean_squared_error: 8.8242 - mean_absolute_error: 2.2110 - val_loss: 8.8115 - val_mean_squared_error: 8.8115 - val_mean_absolute_error: 2.2785 - 13s/epoch - 13ms/step\n",
      "Epoch 23/100\n",
      "1028/1028 - 13s - loss: 8.6518 - mean_squared_error: 8.6518 - mean_absolute_error: 2.1889 - val_loss: 9.2315 - val_mean_squared_error: 9.2315 - val_mean_absolute_error: 2.2568 - 13s/epoch - 13ms/step\n",
      "Epoch 24/100\n",
      "1028/1028 - 14s - loss: 8.5915 - mean_squared_error: 8.5915 - mean_absolute_error: 2.1834 - val_loss: 8.4985 - val_mean_squared_error: 8.4986 - val_mean_absolute_error: 2.1564 - 14s/epoch - 13ms/step\n",
      "Epoch 25/100\n",
      "1028/1028 - 14s - loss: 8.4649 - mean_squared_error: 8.4649 - mean_absolute_error: 2.1658 - val_loss: 9.5322 - val_mean_squared_error: 9.5322 - val_mean_absolute_error: 2.2864 - 14s/epoch - 13ms/step\n",
      "Epoch 26/100\n",
      "1028/1028 - 14s - loss: 8.5591 - mean_squared_error: 8.5591 - mean_absolute_error: 2.1830 - val_loss: 9.4074 - val_mean_squared_error: 9.4074 - val_mean_absolute_error: 2.2083 - 14s/epoch - 13ms/step\n",
      "Epoch 27/100\n",
      "1028/1028 - 13s - loss: 8.4263 - mean_squared_error: 8.4263 - mean_absolute_error: 2.1606 - val_loss: 9.1558 - val_mean_squared_error: 9.1558 - val_mean_absolute_error: 2.3471 - 13s/epoch - 13ms/step\n",
      "Epoch 28/100\n",
      "1028/1028 - 14s - loss: 8.4240 - mean_squared_error: 8.4240 - mean_absolute_error: 2.1606 - val_loss: 8.1343 - val_mean_squared_error: 8.1343 - val_mean_absolute_error: 2.1032 - 14s/epoch - 14ms/step\n",
      "Epoch 29/100\n",
      "1028/1028 - 14s - loss: 8.3851 - mean_squared_error: 8.3851 - mean_absolute_error: 2.1612 - val_loss: 8.2206 - val_mean_squared_error: 8.2206 - val_mean_absolute_error: 2.1491 - 14s/epoch - 14ms/step\n",
      "Epoch 30/100\n",
      "1028/1028 - 13s - loss: 8.3374 - mean_squared_error: 8.3374 - mean_absolute_error: 2.1513 - val_loss: 8.6435 - val_mean_squared_error: 8.6435 - val_mean_absolute_error: 2.2409 - 13s/epoch - 13ms/step\n",
      "Epoch 31/100\n",
      "1028/1028 - 14s - loss: 8.3457 - mean_squared_error: 8.3457 - mean_absolute_error: 2.1560 - val_loss: 9.3834 - val_mean_squared_error: 9.3834 - val_mean_absolute_error: 2.3799 - 14s/epoch - 13ms/step\n",
      "Epoch 32/100\n",
      "1028/1028 - 14s - loss: 8.3089 - mean_squared_error: 8.3089 - mean_absolute_error: 2.1507 - val_loss: 8.2794 - val_mean_squared_error: 8.2794 - val_mean_absolute_error: 2.1354 - 14s/epoch - 13ms/step\n",
      "Epoch 33/100\n",
      "1028/1028 - 13s - loss: 8.2105 - mean_squared_error: 8.2105 - mean_absolute_error: 2.1347 - val_loss: 8.5472 - val_mean_squared_error: 8.5472 - val_mean_absolute_error: 2.2444 - 13s/epoch - 13ms/step\n",
      "Epoch 34/100\n",
      "1028/1028 - 14s - loss: 8.1154 - mean_squared_error: 8.1155 - mean_absolute_error: 2.1245 - val_loss: 8.0141 - val_mean_squared_error: 8.0141 - val_mean_absolute_error: 2.1094 - 14s/epoch - 13ms/step\n",
      "Epoch 35/100\n",
      "1028/1028 - 14s - loss: 8.1465 - mean_squared_error: 8.1465 - mean_absolute_error: 2.1266 - val_loss: 8.7524 - val_mean_squared_error: 8.7524 - val_mean_absolute_error: 2.2806 - 14s/epoch - 13ms/step\n",
      "Epoch 36/100\n",
      "1028/1028 - 14s - loss: 8.1293 - mean_squared_error: 8.1293 - mean_absolute_error: 2.1234 - val_loss: 8.5710 - val_mean_squared_error: 8.5710 - val_mean_absolute_error: 2.2511 - 14s/epoch - 13ms/step\n",
      "Epoch 37/100\n",
      "1028/1028 - 14s - loss: 8.0069 - mean_squared_error: 8.0069 - mean_absolute_error: 2.1050 - val_loss: 8.1027 - val_mean_squared_error: 8.1027 - val_mean_absolute_error: 2.1435 - 14s/epoch - 13ms/step\n",
      "Epoch 38/100\n",
      "1028/1028 - 14s - loss: 8.0711 - mean_squared_error: 8.0711 - mean_absolute_error: 2.1176 - val_loss: 8.1209 - val_mean_squared_error: 8.1209 - val_mean_absolute_error: 2.1641 - 14s/epoch - 13ms/step\n",
      "Epoch 39/100\n",
      "1028/1028 - 14s - loss: 7.9331 - mean_squared_error: 7.9331 - mean_absolute_error: 2.0993 - val_loss: 8.0369 - val_mean_squared_error: 8.0369 - val_mean_absolute_error: 2.0772 - 14s/epoch - 13ms/step\n",
      "Epoch 40/100\n",
      "1028/1028 - 14s - loss: 7.9078 - mean_squared_error: 7.9078 - mean_absolute_error: 2.0924 - val_loss: 7.9434 - val_mean_squared_error: 7.9434 - val_mean_absolute_error: 2.1271 - 14s/epoch - 13ms/step\n",
      "Epoch 41/100\n",
      "1028/1028 - 14s - loss: 7.9524 - mean_squared_error: 7.9524 - mean_absolute_error: 2.0977 - val_loss: 8.1893 - val_mean_squared_error: 8.1893 - val_mean_absolute_error: 2.1175 - 14s/epoch - 13ms/step\n",
      "Epoch 42/100\n",
      "1028/1028 - 15s - loss: 7.8191 - mean_squared_error: 7.8191 - mean_absolute_error: 2.0844 - val_loss: 7.7973 - val_mean_squared_error: 7.7973 - val_mean_absolute_error: 2.0706 - 15s/epoch - 14ms/step\n",
      "Epoch 43/100\n",
      "1028/1028 - 15s - loss: 7.8679 - mean_squared_error: 7.8679 - mean_absolute_error: 2.0873 - val_loss: 7.6544 - val_mean_squared_error: 7.6544 - val_mean_absolute_error: 2.0484 - 15s/epoch - 14ms/step\n",
      "Epoch 44/100\n",
      "1028/1028 - 15s - loss: 7.8061 - mean_squared_error: 7.8061 - mean_absolute_error: 2.0781 - val_loss: 7.6705 - val_mean_squared_error: 7.6705 - val_mean_absolute_error: 2.0871 - 15s/epoch - 15ms/step\n",
      "Epoch 45/100\n",
      "1028/1028 - 15s - loss: 7.7277 - mean_squared_error: 7.7277 - mean_absolute_error: 2.0667 - val_loss: 7.9403 - val_mean_squared_error: 7.9402 - val_mean_absolute_error: 2.1137 - 15s/epoch - 15ms/step\n",
      "Epoch 46/100\n",
      "1028/1028 - 15s - loss: 7.6087 - mean_squared_error: 7.6087 - mean_absolute_error: 2.0510 - val_loss: 7.7249 - val_mean_squared_error: 7.7249 - val_mean_absolute_error: 2.0909 - 15s/epoch - 14ms/step\n",
      "Epoch 47/100\n",
      "1028/1028 - 15s - loss: 7.6195 - mean_squared_error: 7.6195 - mean_absolute_error: 2.0540 - val_loss: 7.4190 - val_mean_squared_error: 7.4190 - val_mean_absolute_error: 2.0296 - 15s/epoch - 14ms/step\n",
      "Epoch 48/100\n",
      "1028/1028 - 15s - loss: 7.6605 - mean_squared_error: 7.6605 - mean_absolute_error: 2.0587 - val_loss: 7.7924 - val_mean_squared_error: 7.7924 - val_mean_absolute_error: 2.0966 - 15s/epoch - 14ms/step\n",
      "Epoch 49/100\n",
      "1028/1028 - 15s - loss: 7.6212 - mean_squared_error: 7.6212 - mean_absolute_error: 2.0554 - val_loss: 7.7579 - val_mean_squared_error: 7.7579 - val_mean_absolute_error: 2.0706 - 15s/epoch - 15ms/step\n",
      "Epoch 50/100\n",
      "1028/1028 - 15s - loss: 7.5482 - mean_squared_error: 7.5482 - mean_absolute_error: 2.0434 - val_loss: 7.7990 - val_mean_squared_error: 7.7990 - val_mean_absolute_error: 2.0388 - 15s/epoch - 14ms/step\n",
      "Epoch 51/100\n",
      "1028/1028 - 16s - loss: 7.4973 - mean_squared_error: 7.4973 - mean_absolute_error: 2.0350 - val_loss: 9.0151 - val_mean_squared_error: 9.0151 - val_mean_absolute_error: 2.3665 - 16s/epoch - 15ms/step\n",
      "Epoch 52/100\n",
      "1028/1028 - 15s - loss: 7.5101 - mean_squared_error: 7.5101 - mean_absolute_error: 2.0354 - val_loss: 8.1030 - val_mean_squared_error: 8.1030 - val_mean_absolute_error: 2.1087 - 15s/epoch - 15ms/step\n",
      "Epoch 53/100\n",
      "1028/1028 - 15s - loss: 7.5060 - mean_squared_error: 7.5060 - mean_absolute_error: 2.0366 - val_loss: 7.9573 - val_mean_squared_error: 7.9573 - val_mean_absolute_error: 2.1254 - 15s/epoch - 14ms/step\n",
      "Epoch 54/100\n",
      "1028/1028 - 15s - loss: 7.4685 - mean_squared_error: 7.4685 - mean_absolute_error: 2.0308 - val_loss: 7.5135 - val_mean_squared_error: 7.5135 - val_mean_absolute_error: 2.0875 - 15s/epoch - 15ms/step\n",
      "Epoch 55/100\n",
      "1028/1028 - 15s - loss: 7.4833 - mean_squared_error: 7.4833 - mean_absolute_error: 2.0340 - val_loss: 7.4498 - val_mean_squared_error: 7.4498 - val_mean_absolute_error: 2.0569 - 15s/epoch - 14ms/step\n",
      "Epoch 56/100\n",
      "1028/1028 - 15s - loss: 7.4260 - mean_squared_error: 7.4260 - mean_absolute_error: 2.0252 - val_loss: 7.6259 - val_mean_squared_error: 7.6259 - val_mean_absolute_error: 2.0933 - 15s/epoch - 14ms/step\n",
      "Epoch 57/100\n",
      "1028/1028 - 15s - loss: 7.3913 - mean_squared_error: 7.3913 - mean_absolute_error: 2.0224 - val_loss: 7.4397 - val_mean_squared_error: 7.4397 - val_mean_absolute_error: 2.0396 - 15s/epoch - 14ms/step\n",
      "Epoch 58/100\n",
      "1028/1028 - 15s - loss: 7.4289 - mean_squared_error: 7.4289 - mean_absolute_error: 2.0280 - val_loss: 7.2713 - val_mean_squared_error: 7.2713 - val_mean_absolute_error: 2.0065 - 15s/epoch - 14ms/step\n",
      "Epoch 59/100\n",
      "1028/1028 - 15s - loss: 7.3629 - mean_squared_error: 7.3629 - mean_absolute_error: 2.0192 - val_loss: 7.6563 - val_mean_squared_error: 7.6563 - val_mean_absolute_error: 2.1156 - 15s/epoch - 14ms/step\n",
      "Epoch 60/100\n",
      "1028/1028 - 15s - loss: 7.3393 - mean_squared_error: 7.3393 - mean_absolute_error: 2.0153 - val_loss: 7.3604 - val_mean_squared_error: 7.3604 - val_mean_absolute_error: 2.0251 - 15s/epoch - 14ms/step\n",
      "Epoch 61/100\n",
      "1028/1028 - 15s - loss: 7.3426 - mean_squared_error: 7.3426 - mean_absolute_error: 2.0133 - val_loss: 7.4911 - val_mean_squared_error: 7.4911 - val_mean_absolute_error: 1.9882 - 15s/epoch - 14ms/step\n",
      "Epoch 62/100\n",
      "1028/1028 - 15s - loss: 7.3042 - mean_squared_error: 7.3042 - mean_absolute_error: 2.0102 - val_loss: 7.2673 - val_mean_squared_error: 7.2673 - val_mean_absolute_error: 1.9918 - 15s/epoch - 14ms/step\n",
      "Epoch 63/100\n",
      "1028/1028 - 15s - loss: 7.2579 - mean_squared_error: 7.2579 - mean_absolute_error: 2.0006 - val_loss: 7.3826 - val_mean_squared_error: 7.3826 - val_mean_absolute_error: 1.9831 - 15s/epoch - 14ms/step\n",
      "Epoch 64/100\n",
      "1028/1028 - 15s - loss: 7.2738 - mean_squared_error: 7.2738 - mean_absolute_error: 2.0033 - val_loss: 7.4314 - val_mean_squared_error: 7.4314 - val_mean_absolute_error: 2.0554 - 15s/epoch - 14ms/step\n",
      "Epoch 65/100\n",
      "1028/1028 - 15s - loss: 7.2647 - mean_squared_error: 7.2647 - mean_absolute_error: 2.0030 - val_loss: 7.9211 - val_mean_squared_error: 7.9210 - val_mean_absolute_error: 2.0910 - 15s/epoch - 14ms/step\n",
      "Epoch 66/100\n",
      "1028/1028 - 15s - loss: 7.2145 - mean_squared_error: 7.2145 - mean_absolute_error: 1.9921 - val_loss: 7.5386 - val_mean_squared_error: 7.5386 - val_mean_absolute_error: 2.0215 - 15s/epoch - 14ms/step\n",
      "Epoch 67/100\n",
      "1028/1028 - 15s - loss: 7.2244 - mean_squared_error: 7.2244 - mean_absolute_error: 1.9962 - val_loss: 8.3494 - val_mean_squared_error: 8.3494 - val_mean_absolute_error: 2.1429 - 15s/epoch - 14ms/step\n",
      "Epoch 68/100\n",
      "1028/1028 - 15s - loss: 7.1540 - mean_squared_error: 7.1540 - mean_absolute_error: 1.9840 - val_loss: 7.1396 - val_mean_squared_error: 7.1396 - val_mean_absolute_error: 1.9970 - 15s/epoch - 14ms/step\n",
      "Epoch 69/100\n",
      "1028/1028 - 15s - loss: 7.1851 - mean_squared_error: 7.1851 - mean_absolute_error: 1.9911 - val_loss: 7.6943 - val_mean_squared_error: 7.6943 - val_mean_absolute_error: 2.0679 - 15s/epoch - 14ms/step\n",
      "Epoch 70/100\n",
      "1028/1028 - 15s - loss: 7.1742 - mean_squared_error: 7.1742 - mean_absolute_error: 1.9876 - val_loss: 7.0170 - val_mean_squared_error: 7.0170 - val_mean_absolute_error: 1.9889 - 15s/epoch - 14ms/step\n",
      "Epoch 71/100\n",
      "1028/1028 - 15s - loss: 7.1526 - mean_squared_error: 7.1526 - mean_absolute_error: 1.9857 - val_loss: 6.8963 - val_mean_squared_error: 6.8963 - val_mean_absolute_error: 1.9687 - 15s/epoch - 15ms/step\n",
      "Epoch 72/100\n",
      "1028/1028 - 15s - loss: 7.1255 - mean_squared_error: 7.1255 - mean_absolute_error: 1.9827 - val_loss: 7.3158 - val_mean_squared_error: 7.3158 - val_mean_absolute_error: 2.0084 - 15s/epoch - 14ms/step\n",
      "Epoch 73/100\n",
      "1028/1028 - 15s - loss: 7.0319 - mean_squared_error: 7.0319 - mean_absolute_error: 1.9674 - val_loss: 6.9690 - val_mean_squared_error: 6.9690 - val_mean_absolute_error: 1.9712 - 15s/epoch - 14ms/step\n",
      "Epoch 74/100\n",
      "1028/1028 - 15s - loss: 7.1175 - mean_squared_error: 7.1176 - mean_absolute_error: 1.9811 - val_loss: 7.0858 - val_mean_squared_error: 7.0858 - val_mean_absolute_error: 1.9600 - 15s/epoch - 14ms/step\n",
      "Epoch 75/100\n",
      "1028/1028 - 15s - loss: 7.0053 - mean_squared_error: 7.0053 - mean_absolute_error: 1.9645 - val_loss: 6.8544 - val_mean_squared_error: 6.8544 - val_mean_absolute_error: 1.9339 - 15s/epoch - 14ms/step\n",
      "Epoch 76/100\n",
      "1028/1028 - 15s - loss: 6.9692 - mean_squared_error: 6.9692 - mean_absolute_error: 1.9582 - val_loss: 7.2287 - val_mean_squared_error: 7.2287 - val_mean_absolute_error: 1.9531 - 15s/epoch - 15ms/step\n",
      "Epoch 77/100\n",
      "1028/1028 - 15s - loss: 6.9647 - mean_squared_error: 6.9647 - mean_absolute_error: 1.9588 - val_loss: 7.5804 - val_mean_squared_error: 7.5804 - val_mean_absolute_error: 2.0847 - 15s/epoch - 14ms/step\n",
      "Epoch 78/100\n",
      "1028/1028 - 15s - loss: 6.9908 - mean_squared_error: 6.9908 - mean_absolute_error: 1.9619 - val_loss: 7.0558 - val_mean_squared_error: 7.0558 - val_mean_absolute_error: 1.9530 - 15s/epoch - 14ms/step\n",
      "Epoch 79/100\n",
      "1028/1028 - 15s - loss: 6.8796 - mean_squared_error: 6.8797 - mean_absolute_error: 1.9447 - val_loss: 6.5921 - val_mean_squared_error: 6.5921 - val_mean_absolute_error: 1.9079 - 15s/epoch - 14ms/step\n",
      "Epoch 80/100\n",
      "1028/1028 - 15s - loss: 6.9011 - mean_squared_error: 6.9011 - mean_absolute_error: 1.9490 - val_loss: 6.7068 - val_mean_squared_error: 6.7068 - val_mean_absolute_error: 1.9074 - 15s/epoch - 14ms/step\n",
      "Epoch 81/100\n",
      "1028/1028 - 15s - loss: 6.8658 - mean_squared_error: 6.8658 - mean_absolute_error: 1.9422 - val_loss: 7.5433 - val_mean_squared_error: 7.5433 - val_mean_absolute_error: 1.9921 - 15s/epoch - 14ms/step\n",
      "Epoch 82/100\n",
      "1028/1028 - 15s - loss: 6.8628 - mean_squared_error: 6.8628 - mean_absolute_error: 1.9400 - val_loss: 6.6191 - val_mean_squared_error: 6.6191 - val_mean_absolute_error: 1.9272 - 15s/epoch - 14ms/step\n",
      "Epoch 83/100\n",
      "1028/1028 - 15s - loss: 6.7925 - mean_squared_error: 6.7925 - mean_absolute_error: 1.9309 - val_loss: 6.7894 - val_mean_squared_error: 6.7894 - val_mean_absolute_error: 1.9600 - 15s/epoch - 14ms/step\n",
      "Epoch 84/100\n",
      "1028/1028 - 15s - loss: 6.7490 - mean_squared_error: 6.7490 - mean_absolute_error: 1.9266 - val_loss: 7.2772 - val_mean_squared_error: 7.2772 - val_mean_absolute_error: 1.9944 - 15s/epoch - 14ms/step\n",
      "Epoch 85/100\n",
      "1028/1028 - 15s - loss: 6.7759 - mean_squared_error: 6.7758 - mean_absolute_error: 1.9302 - val_loss: 6.7147 - val_mean_squared_error: 6.7147 - val_mean_absolute_error: 1.9727 - 15s/epoch - 14ms/step\n",
      "Epoch 86/100\n",
      "1028/1028 - 15s - loss: 6.6818 - mean_squared_error: 6.6818 - mean_absolute_error: 1.9157 - val_loss: 6.3599 - val_mean_squared_error: 6.3599 - val_mean_absolute_error: 1.8747 - 15s/epoch - 14ms/step\n",
      "Epoch 87/100\n",
      "1028/1028 - 15s - loss: 6.6836 - mean_squared_error: 6.6836 - mean_absolute_error: 1.9145 - val_loss: 6.9736 - val_mean_squared_error: 6.9736 - val_mean_absolute_error: 1.9659 - 15s/epoch - 14ms/step\n",
      "Epoch 88/100\n",
      "1028/1028 - 15s - loss: 6.6679 - mean_squared_error: 6.6679 - mean_absolute_error: 1.9146 - val_loss: 6.5801 - val_mean_squared_error: 6.5801 - val_mean_absolute_error: 1.9141 - 15s/epoch - 14ms/step\n",
      "Epoch 89/100\n",
      "1028/1028 - 15s - loss: 6.5796 - mean_squared_error: 6.5796 - mean_absolute_error: 1.9030 - val_loss: 7.5866 - val_mean_squared_error: 7.5866 - val_mean_absolute_error: 2.1103 - 15s/epoch - 14ms/step\n",
      "Epoch 90/100\n",
      "1028/1028 - 15s - loss: 6.5912 - mean_squared_error: 6.5912 - mean_absolute_error: 1.9026 - val_loss: 6.6990 - val_mean_squared_error: 6.6990 - val_mean_absolute_error: 1.9281 - 15s/epoch - 14ms/step\n",
      "Epoch 91/100\n",
      "1028/1028 - 15s - loss: 6.5088 - mean_squared_error: 6.5088 - mean_absolute_error: 1.8936 - val_loss: 6.3266 - val_mean_squared_error: 6.3266 - val_mean_absolute_error: 1.8574 - 15s/epoch - 14ms/step\n",
      "Epoch 92/100\n",
      "1028/1028 - 15s - loss: 6.5029 - mean_squared_error: 6.5029 - mean_absolute_error: 1.8900 - val_loss: 6.4957 - val_mean_squared_error: 6.4957 - val_mean_absolute_error: 1.8753 - 15s/epoch - 14ms/step\n",
      "Epoch 93/100\n",
      "1028/1028 - 13s - loss: 6.4290 - mean_squared_error: 6.4290 - mean_absolute_error: 1.8809 - val_loss: 6.2624 - val_mean_squared_error: 6.2624 - val_mean_absolute_error: 1.8686 - 13s/epoch - 12ms/step\n",
      "Epoch 94/100\n",
      "1028/1028 - 13s - loss: 6.3743 - mean_squared_error: 6.3743 - mean_absolute_error: 1.8718 - val_loss: 6.1425 - val_mean_squared_error: 6.1425 - val_mean_absolute_error: 1.8439 - 13s/epoch - 12ms/step\n",
      "Epoch 95/100\n",
      "1028/1028 - 13s - loss: 6.3851 - mean_squared_error: 6.3851 - mean_absolute_error: 1.8749 - val_loss: 6.0970 - val_mean_squared_error: 6.0970 - val_mean_absolute_error: 1.8301 - 13s/epoch - 12ms/step\n",
      "Epoch 96/100\n",
      "1028/1028 - 13s - loss: 6.3027 - mean_squared_error: 6.3027 - mean_absolute_error: 1.8615 - val_loss: 6.1376 - val_mean_squared_error: 6.1376 - val_mean_absolute_error: 1.8369 - 13s/epoch - 12ms/step\n",
      "Epoch 97/100\n",
      "1028/1028 - 13s - loss: 6.2265 - mean_squared_error: 6.2265 - mean_absolute_error: 1.8515 - val_loss: 6.0082 - val_mean_squared_error: 6.0082 - val_mean_absolute_error: 1.8354 - 13s/epoch - 12ms/step\n",
      "Epoch 98/100\n",
      "1028/1028 - 13s - loss: 6.2069 - mean_squared_error: 6.2069 - mean_absolute_error: 1.8498 - val_loss: 6.0829 - val_mean_squared_error: 6.0829 - val_mean_absolute_error: 1.8457 - 13s/epoch - 12ms/step\n",
      "Epoch 99/100\n",
      "1028/1028 - 13s - loss: 6.1363 - mean_squared_error: 6.1363 - mean_absolute_error: 1.8395 - val_loss: 6.0190 - val_mean_squared_error: 6.0190 - val_mean_absolute_error: 1.8231 - 13s/epoch - 13ms/step\n",
      "Epoch 100/100\n",
      "1028/1028 - 13s - loss: 6.1430 - mean_squared_error: 6.1430 - mean_absolute_error: 1.8403 - val_loss: 6.1458 - val_mean_squared_error: 6.1458 - val_mean_absolute_error: 1.8478 - 13s/epoch - 13ms/step\n"
     ]
    }
   ],
   "source": [
    "\n",
    "history = model2.fit(X_train, # input data\n",
    "                    Y_train, # target data\n",
    "                    batch_size=32, # Number of samples per gradient update. If unspecified, batch_size will default to 32.\n",
    "                    epochs=100, # default=1, Number of epochs to train the model. An epoch is an iteration over the entire x and y data provided\n",
    "                    verbose=2, # default='auto', ('auto', 0, 1, or 2). Verbosity mode. 0 = silent, 1 = progress bar, 2 = one line per epoch. 'auto' defaults to 1 for most cases, but 2 when used with ParameterServerStrategy.\n",
    "                    callbacks=None, # default=None, list of callbacks to apply during training. See tf.keras.callbacks\n",
    "                    validation_split=0.25, # default=0.0, Fraction of the training data to be used as validation data. The model will set apart this fraction of the training data, will not train on it, and will evaluate the loss and any model metrics on this data at the end of each epoch. \n",
    "                    #validation_data=(X_test, y_test), # default=None, Data on which to evaluate the loss and any model metrics at the end of each epoch. \n",
    "                    shuffle=True, # default=True, Boolean (whether to shuffle the training data before each epoch) or str (for 'batch').\n",
    "                    class_weight=None, # default=None, Optional dictionary mapping class indices (integers) to a weight (float) value, used for weighting the loss function (during training only). This can be useful to tell the model to \"pay more attention\" to samples from an under-represented class.\n",
    "                    sample_weight=None, # default=None, Optional Numpy array of weights for the training samples, used for weighting the loss function (during training only).\n",
    "                    initial_epoch=0, # Integer, default=0, Epoch at which to start training (useful for resuming a previous training run).\n",
    "                    steps_per_epoch=None, # Integer or None, default=None, Total number of steps (batches of samples) before declaring one epoch finished and starting the next epoch. When training with input tensors such as TensorFlow data tensors, the default None is equal to the number of samples in your dataset divided by the batch size, or 1 if that cannot be determined. \n",
    "                    validation_steps=None, # Only relevant if validation_data is provided and is a tf.data dataset. Total number of steps (batches of samples) to draw before stopping when performing validation at the end of every epoch.\n",
    "                    validation_batch_size=None, # Integer or None, default=None, Number of samples per validation batch. If unspecified, will default to batch_size.\n",
    "                    validation_freq=1, # default=1, Only relevant if validation data is provided. If an integer, specifies how many training epochs to run before a new validation run is performed, e.g. validation_freq=2 runs validation every 2 epochs.\n",
    "                    max_queue_size=10, # default=10, Used for generator or keras.utils.Sequence input only. Maximum size for the generator queue. If unspecified, max_queue_size will default to 10.\n",
    "                    workers=1, # default=1, Used for generator or keras.utils.Sequence input only. Maximum number of processes to spin up when using process-based threading. If unspecified, workers will default to 1.\n",
    "                    use_multiprocessing=True, # default=False, Used for generator or keras.utils.Sequence input only. If True, use process-based threading. If unspecified, use_multiprocessing will default to False. \n",
    "                \n",
    "                   )\n",
    "\n",
    "\n"
   ]
  },
  {
   "cell_type": "markdown",
   "metadata": {},
   "source": [
    "##### Step 4 - Plot loss over epochs"
   ]
  },
  {
   "cell_type": "code",
   "execution_count": 49,
   "metadata": {},
   "outputs": [
    {
     "data": {
      "image/png": "[encoded data removed]",
      "text/plain": [
       "<Figure size 432x288 with 1 Axes>"
      ]
     },
     "metadata": {
      "needs_background": "light"
     },
     "output_type": "display_data"
    }
   ],
   "source": [
    "#loss: 4.2573 - mean_squared_error: 4.2572 - accuracy: 0.0000e+00 - val_loss: 4.6314 - val_mean_squared_error: 4.6314\n",
    "# Gather the trained model's weight and bias.\n",
    "trained_weight = model2.get_weights()[0]\n",
    "trained_bias = model2.get_weights()[1]\n",
    "\n",
    "  # The list of epochs is stored separately from the \n",
    "  # rest of history.\n",
    "epochs = history.epoch\n",
    "  \n",
    "  # Gather the history (a snapshot) of each epoch.\n",
    "#hist = pd.DataFrame(history.history)\n",
    "\n",
    "  # Specifically gather the model's root mean \n",
    "  # squared error at each epoch. \n",
    "mse = history.history[\"mean_squared_error\"]\n",
    "\n",
    "#plot_the_model(trained_weight, trained_bias, X_test, Y_train)\n",
    "plot_the_loss_curve(epochs, mse)"
   ]
  },
  {
   "cell_type": "markdown",
   "metadata": {},
   "source": [
    "##### Step 5 - Print Performance Summary"
   ]
  },
  {
   "cell_type": "code",
   "execution_count": 50,
   "metadata": {},
   "outputs": [
    {
     "name": "stdout",
     "output_type": "stream",
     "text": [
      "\n",
      "-------------------- Model Summary --------------------\n",
      "Model: \"biLSTM-Model\"\n",
      "_________________________________________________________________\n",
      " Layer (type)                Output Shape              Param #   \n",
      "=================================================================\n",
      " Hidden-LSTM-Encoder-Layer (  (None, 128)              33792     \n",
      " Bidirectional)                                                  \n",
      "                                                                 \n",
      " Repeat-Vector-Layer (Repeat  (None, 10, 128)          0         \n",
      " Vector)                                                         \n",
      "                                                                 \n",
      " Hidden-LSTM-Decoder-Layer (  (None, 10, 128)          98816     \n",
      " Bidirectional)                                                  \n",
      "                                                                 \n",
      " Output-Layer (TimeDistribut  (None, 10, 1)            129       \n",
      " ed)                                                             \n",
      "                                                                 \n",
      "=================================================================\n",
      "Total params: 132,737\n",
      "Trainable params: 132,737\n",
      "Non-trainable params: 0\n",
      "_________________________________________________________________\n",
      "\n",
      "-------------------- Weights and Biases --------------------\n",
      "Too many parameters to print but you can use the code provided if needed\n",
      "\n",
      "-------------------- Evaluation on Training Data --------------------\n",
      "Final loss : 6.143019676208496\n",
      "Final mean_squared_error : 6.143014907836914\n",
      "Final mean_absolute_error : 1.840317964553833\n",
      "Final val_loss : 6.145811557769775\n",
      "Final val_mean_squared_error : 6.145812034606934\n",
      "Final val_mean_absolute_error : 1.847829818725586\n",
      "\n",
      "-------------------- Evaluation on Test Data --------------------\n",
      "345/345 [==============================] - 2s 5ms/step - loss: 6.0973 - mean_squared_error: 6.0973 - mean_absolute_error: 1.8350\n",
      "\n"
     ]
    }
   ],
   "source": [
    "print(\"\")\n",
    "print('-------------------- Model Summary --------------------')\n",
    "model2.summary() # print model summary\n",
    "print(\"\")\n",
    "print('-------------------- Weights and Biases --------------------')\n",
    "print(\"Too many parameters to print but you can use the code provided if needed\")\n",
    "print(\"\")\n",
    "#for layer in model.layers:\n",
    "#    print(layer.name)\n",
    "#    for item in layer.get_weights():\n",
    "#        print(\"  \", item)\n",
    "#print(\"\")\n",
    "\n",
    "# Print the last value in the evaluation metrics contained within history file\n",
    "print('-------------------- Evaluation on Training Data --------------------')\n",
    "for item in history.history:\n",
    "    print(\"Final\", item, \":\", history.history[item][-1])\n",
    "print(\"\")\n",
    "\n",
    "# Evaluate the model on the test data using \"evaluate\"\n",
    "print('-------------------- Evaluation on Test Data --------------------')\n",
    "results = model2.evaluate(X_test, Y_test)\n",
    "print(\"\")"
   ]
  },
  {
   "cell_type": "code",
   "execution_count": 51,
   "metadata": {},
   "outputs": [
    {
     "data": {
      "image/png": "[encoded data removed]",
      "text/plain": [
       "<IPython.core.display.Image object>"
      ]
     },
     "execution_count": 51,
     "metadata": {},
     "output_type": "execute_result"
    }
   ],
   "source": [
    "#loss: 6.1995 - mean_squared_error: 6.1995 normalize01  loss: 6.8981 - mean_squared_error: 6.8981 - accuracy: 0.0000e+00// After new set loss: 6.3898 - mean_squared_error: 6.3898 - accuracy: 0.0000e+00\n",
    "\n",
    "\n",
    "from keras.utils import plot_model,model_to_dot\n",
    "plot_model(model2, show_shapes=True, to_file='plotmodelbilstm0810.png')\n"
   ]
  },
  {
   "cell_type": "code",
   "execution_count": 52,
   "metadata": {},
   "outputs": [
    {
     "name": "stdout",
     "output_type": "stream",
     "text": [
      "345/345 [==============================] - 2s 5ms/step\n"
     ]
    },
    {
     "data": {
      "text/plain": [
       "array([[[-17.851591],\n",
       "        [-19.712225],\n",
       "        [-20.75817 ],\n",
       "        ...,\n",
       "        [-20.828367],\n",
       "        [-21.49414 ],\n",
       "        [-21.778202]],\n",
       "\n",
       "       [[-19.353203],\n",
       "        [-19.90663 ],\n",
       "        [-20.41071 ],\n",
       "        ...,\n",
       "        [-21.519117],\n",
       "        [-22.65136 ],\n",
       "        [-23.276344]],\n",
       "\n",
       "       [[-21.97166 ],\n",
       "        [-22.346733],\n",
       "        [-22.603136],\n",
       "        ...,\n",
       "        [-22.874172],\n",
       "        [-23.633223],\n",
       "        [-23.448885]],\n",
       "\n",
       "       ...,\n",
       "\n",
       "       [[-75.79594 ],\n",
       "        [-76.40684 ],\n",
       "        [-76.570206],\n",
       "        ...,\n",
       "        [-77.73388 ],\n",
       "        [-77.8061  ],\n",
       "        [-77.89222 ]],\n",
       "\n",
       "       [[-75.69838 ],\n",
       "        [-75.64671 ],\n",
       "        [-75.92047 ],\n",
       "        ...,\n",
       "        [-75.964325],\n",
       "        [-75.927086],\n",
       "        [-75.820076]],\n",
       "\n",
       "       [[-77.60897 ],\n",
       "        [-77.40653 ],\n",
       "        [-77.79472 ],\n",
       "        ...,\n",
       "        [-77.65267 ],\n",
       "        [-77.499504],\n",
       "        [-77.4894  ]]], dtype=float32)"
      ]
     },
     "execution_count": 52,
     "metadata": {},
     "output_type": "execute_result"
    }
   ],
   "source": [
    "pred_test=model2.predict(X_test)\n",
    "\n",
    "pred_test"
   ]
  },
  {
   "cell_type": "code",
   "execution_count": 53,
   "metadata": {},
   "outputs": [
    {
     "data": {
      "text/plain": [
       "(11011, 10, 1)"
      ]
     },
     "execution_count": 53,
     "metadata": {},
     "output_type": "execute_result"
    }
   ],
   "source": [
    "Y_test.shape\n",
    "#1792"
   ]
  },
  {
   "cell_type": "code",
   "execution_count": 54,
   "metadata": {},
   "outputs": [
    {
     "data": {
      "text/plain": [
       "13310"
      ]
     },
     "execution_count": 54,
     "metadata": {},
     "output_type": "execute_result"
    }
   ],
   "source": [
    "test.values.size"
   ]
  },
  {
   "cell_type": "code",
   "execution_count": 55,
   "metadata": {},
   "outputs": [
    {
     "data": {
      "text/plain": [
       "(11011, 10, 1)"
      ]
     },
     "execution_count": 55,
     "metadata": {},
     "output_type": "execute_result"
    }
   ],
   "source": [
    "pred_test.shape"
   ]
  },
  {
   "cell_type": "code",
   "execution_count": 56,
   "metadata": {},
   "outputs": [],
   "source": [
    "# # pred_test = scaler2.inverse_transform(pred_test.reshape(-1, pred_test.shape[-1])).reshape(pred_test.shape)\n",
    "# y=pred_test.flatten()\n",
    "# z=[]\n",
    "# for x in range(910*95,910*96,10): #predictioon\n",
    "#     z.append(y[x])\n",
    "# z\n",
    "# b=Y_test.flatten() #Y test should match prediction\n",
    "# c=[] #wtf is this\n",
    "# for x in range(910*95,910*96,10):\n",
    "#     c.append(b[x])\n",
    "# #c\n",
    "\n",
    "# # d=X_test.flatten() # Y train doesnt match because why\n",
    "# # e=[]\n",
    "# # for x in range(0,10000,1):\n",
    "# #     if(d[x]==0):\n",
    "# #         print(x)\n",
    "# #     e.append(d[x])\n",
    "# # # e\n",
    "y=pred_test.flatten()\n",
    "# y=scaler2.inverse_transform(y.reshape(-1,y.shape[-1])).reshape(y.shape)\n",
    "z=[]\n",
    "for x in range(910*95,910*96,10): #predictioon\n",
    "    z.append(y[x])\n",
    "z\n",
    "\n",
    "b=Y_test.flatten() #Y test should match prediction\n",
    "# b=scaler2.inverse_transform(b.reshape(-1,b.shape[-1])).reshape(b.shape)\n",
    "c=[] #wtf is this\n",
    "for x in range(910*95,910*96,10):\n",
    "    c.append(b[x])"
   ]
  },
  {
   "cell_type": "code",
   "execution_count": 57,
   "metadata": {},
   "outputs": [
    {
     "data": {
      "application/vnd.plotly.v1+json": {
       "config": {
        "plotlyServerURL": "https://plot.ly"
       },
       "data": [
        {
         "line": {
          "color": "grey",
          "width": 5
         },
         "mode": "lines",
         "name": "Subsidence - Actual (YTest)",
         "opacity": 0.8,
         "type": "scatter",
         "x": [
          "2015-07-30T00:00:00.000000000",
          "2015-08-23T00:00:00.000000000",
          "2015-09-16T00:00:00.000000000",
          "2015-10-10T00:00:00.000000000",
          "2015-11-03T00:00:00.000000000",
          "2015-11-27T00:00:00.000000000",
          "2015-12-09T00:00:00.000000000",
          "2015-12-21T00:00:00.000000000",
          "2016-01-14T00:00:00.000000000",
          "2016-01-26T00:00:00.000000000",
          "2016-02-07T00:00:00.000000000",
          "2016-02-19T00:00:00.000000000",
          "2016-03-02T00:00:00.000000000",
          "2016-03-14T00:00:00.000000000",
          "2016-03-26T00:00:00.000000000",
          "2016-04-07T00:00:00.000000000",
          "2016-04-19T00:00:00.000000000",
          "2016-05-01T00:00:00.000000000",
          "2016-05-13T00:00:00.000000000",
          "2016-05-25T00:00:00.000000000",
          "2016-06-06T00:00:00.000000000",
          "2016-06-30T00:00:00.000000000",
          "2016-07-24T00:00:00.000000000",
          "2016-08-17T00:00:00.000000000",
          "2016-09-10T00:00:00.000000000",
          "2016-09-22T00:00:00.000000000",
          "2016-10-04T00:00:00.000000000",
          "2016-10-16T00:00:00.000000000",
          "2016-10-28T00:00:00.000000000",
          "2016-11-09T00:00:00.000000000",
          "2016-11-21T00:00:00.000000000",
          "2016-12-03T00:00:00.000000000",
          "2016-12-15T00:00:00.000000000",
          "2016-12-27T00:00:00.000000000",
          "2017-01-08T00:00:00.000000000",
          "2017-01-14T00:00:00.000000000",
          "2017-01-20T00:00:00.000000000",
          "2017-01-26T00:00:00.000000000",
          "2017-02-01T00:00:00.000000000",
          "2017-02-13T00:00:00.000000000",
          "2017-02-25T00:00:00.000000000",
          "2017-03-09T00:00:00.000000000",
          "2017-03-21T00:00:00.000000000",
          "2017-04-02T00:00:00.000000000",
          "2017-04-14T00:00:00.000000000",
          "2017-04-26T00:00:00.000000000",
          "2017-05-08T00:00:00.000000000",
          "2017-05-20T00:00:00.000000000",
          "2017-06-01T00:00:00.000000000",
          "2017-06-13T00:00:00.000000000",
          "2017-06-25T00:00:00.000000000",
          "2017-07-07T00:00:00.000000000",
          "2017-07-19T00:00:00.000000000",
          "2017-07-31T00:00:00.000000000",
          "2017-08-12T00:00:00.000000000",
          "2017-08-24T00:00:00.000000000",
          "2017-09-05T00:00:00.000000000",
          "2017-09-17T00:00:00.000000000",
          "2017-09-29T00:00:00.000000000",
          "2017-10-11T00:00:00.000000000",
          "2017-10-23T00:00:00.000000000",
          "2017-11-04T00:00:00.000000000",
          "2017-11-16T00:00:00.000000000",
          "2017-11-28T00:00:00.000000000",
          "2017-12-10T00:00:00.000000000",
          "2017-12-22T00:00:00.000000000",
          "2018-01-03T00:00:00.000000000",
          "2018-01-15T00:00:00.000000000",
          "2018-01-27T00:00:00.000000000",
          "2018-02-08T00:00:00.000000000",
          "2018-02-20T00:00:00.000000000",
          "2018-03-04T00:00:00.000000000",
          "2018-03-16T00:00:00.000000000",
          "2018-03-28T00:00:00.000000000",
          "2018-04-09T00:00:00.000000000",
          "2018-04-21T00:00:00.000000000",
          "2018-05-03T00:00:00.000000000",
          "2018-05-15T00:00:00.000000000",
          "2018-05-27T00:00:00.000000000",
          "2018-06-08T00:00:00.000000000",
          "2018-06-20T00:00:00.000000000",
          "2018-07-02T00:00:00.000000000",
          "2018-07-14T00:00:00.000000000",
          "2018-07-26T00:00:00.000000000",
          "2018-08-07T00:00:00.000000000",
          "2018-08-19T00:00:00.000000000",
          "2018-08-31T00:00:00.000000000",
          "2018-09-12T00:00:00.000000000",
          "2018-09-24T00:00:00.000000000",
          "2018-10-06T00:00:00.000000000",
          "2018-10-18T00:00:00.000000000",
          "2018-10-30T00:00:00.000000000",
          "2018-11-11T00:00:00.000000000",
          "2018-11-17T00:00:00.000000000",
          "2018-11-23T00:00:00.000000000",
          "2018-12-05T00:00:00.000000000",
          "2018-12-17T00:00:00.000000000",
          "2018-12-29T00:00:00.000000000",
          "2019-01-10T00:00:00.000000000",
          "2019-01-22T00:00:00.000000000"
         ],
         "y": [
          -17.093,
          -19.939,
          -26.643,
          -26.535,
          -22.791,
          -24.276,
          -23.667,
          -20.38,
          -24.689,
          -21.712,
          -20.908,
          -22.297,
          -24.717,
          -23.143,
          -21.659,
          -20.478,
          -24.901,
          -23.464,
          -24.136,
          -26.309,
          -25.547,
          -28.372,
          -32.304,
          -29.753,
          -32.82,
          -32.15,
          -31.518,
          -30.265,
          -33.868,
          -31.543,
          -31.477,
          -29.169,
          -30.379,
          -29.774,
          -28.993,
          -30.736,
          -30.743,
          -29.867,
          -30.217,
          -29.011,
          -30.016,
          -30.063,
          -27.525,
          -30.737,
          -31.866,
          -29.007,
          -29.202,
          -29.962,
          -30.336,
          -32.217,
          -33.656,
          -33.21,
          -33.931,
          -33.781,
          -35.897,
          -32.9,
          -30.449,
          -32.925,
          -34.405,
          -33.723,
          -34.993,
          -35.783,
          -33.599,
          -32.524,
          -34.805,
          -33.754,
          -33.758,
          -32.542,
          -32.233,
          -33.706,
          -33.989,
          -33.716,
          -31.366,
          -32.995,
          -36.09,
          -31.502,
          -34.675,
          -32.855,
          -35.649,
          -35.505,
          -38.275,
          -36.71,
          -36.698,
          -36.319500000000005,
          -35.941,
          -37.075,
          -38.517,
          -38.93,
          -37.269,
          -40.409,
          -37.857
         ]
        },
        {
         "line": {
          "color": "red",
          "width": 5
         },
         "mode": "lines",
         "name": "Subsidence - Predicted ",
         "opacity": 0.8,
         "type": "scatter",
         "x": [
          "2015-07-30T00:00:00.000000000",
          "2015-08-23T00:00:00.000000000",
          "2015-09-16T00:00:00.000000000",
          "2015-10-10T00:00:00.000000000",
          "2015-11-03T00:00:00.000000000",
          "2015-11-27T00:00:00.000000000",
          "2015-12-09T00:00:00.000000000",
          "2015-12-21T00:00:00.000000000",
          "2016-01-14T00:00:00.000000000",
          "2016-01-26T00:00:00.000000000",
          "2016-02-07T00:00:00.000000000",
          "2016-02-19T00:00:00.000000000",
          "2016-03-02T00:00:00.000000000",
          "2016-03-14T00:00:00.000000000",
          "2016-03-26T00:00:00.000000000",
          "2016-04-07T00:00:00.000000000",
          "2016-04-19T00:00:00.000000000",
          "2016-05-01T00:00:00.000000000",
          "2016-05-13T00:00:00.000000000",
          "2016-05-25T00:00:00.000000000",
          "2016-06-06T00:00:00.000000000",
          "2016-06-30T00:00:00.000000000",
          "2016-07-24T00:00:00.000000000",
          "2016-08-17T00:00:00.000000000",
          "2016-09-10T00:00:00.000000000",
          "2016-09-22T00:00:00.000000000",
          "2016-10-04T00:00:00.000000000",
          "2016-10-16T00:00:00.000000000",
          "2016-10-28T00:00:00.000000000",
          "2016-11-09T00:00:00.000000000",
          "2016-11-21T00:00:00.000000000",
          "2016-12-03T00:00:00.000000000",
          "2016-12-15T00:00:00.000000000",
          "2016-12-27T00:00:00.000000000",
          "2017-01-08T00:00:00.000000000",
          "2017-01-14T00:00:00.000000000",
          "2017-01-20T00:00:00.000000000",
          "2017-01-26T00:00:00.000000000",
          "2017-02-01T00:00:00.000000000",
          "2017-02-13T00:00:00.000000000",
          "2017-02-25T00:00:00.000000000",
          "2017-03-09T00:00:00.000000000",
          "2017-03-21T00:00:00.000000000",
          "2017-04-02T00:00:00.000000000",
          "2017-04-14T00:00:00.000000000",
          "2017-04-26T00:00:00.000000000",
          "2017-05-08T00:00:00.000000000",
          "2017-05-20T00:00:00.000000000",
          "2017-06-01T00:00:00.000000000",
          "2017-06-13T00:00:00.000000000",
          "2017-06-25T00:00:00.000000000",
          "2017-07-07T00:00:00.000000000",
          "2017-07-19T00:00:00.000000000",
          "2017-07-31T00:00:00.000000000",
          "2017-08-12T00:00:00.000000000",
          "2017-08-24T00:00:00.000000000",
          "2017-09-05T00:00:00.000000000",
          "2017-09-17T00:00:00.000000000",
          "2017-09-29T00:00:00.000000000",
          "2017-10-11T00:00:00.000000000",
          "2017-10-23T00:00:00.000000000",
          "2017-11-04T00:00:00.000000000",
          "2017-11-16T00:00:00.000000000",
          "2017-11-28T00:00:00.000000000",
          "2017-12-10T00:00:00.000000000",
          "2017-12-22T00:00:00.000000000",
          "2018-01-03T00:00:00.000000000",
          "2018-01-15T00:00:00.000000000",
          "2018-01-27T00:00:00.000000000",
          "2018-02-08T00:00:00.000000000",
          "2018-02-20T00:00:00.000000000",
          "2018-03-04T00:00:00.000000000",
          "2018-03-16T00:00:00.000000000",
          "2018-03-28T00:00:00.000000000",
          "2018-04-09T00:00:00.000000000",
          "2018-04-21T00:00:00.000000000",
          "2018-05-03T00:00:00.000000000",
          "2018-05-15T00:00:00.000000000",
          "2018-05-27T00:00:00.000000000",
          "2018-06-08T00:00:00.000000000",
          "2018-06-20T00:00:00.000000000",
          "2018-07-02T00:00:00.000000000",
          "2018-07-14T00:00:00.000000000",
          "2018-07-26T00:00:00.000000000",
          "2018-08-07T00:00:00.000000000",
          "2018-08-19T00:00:00.000000000",
          "2018-08-31T00:00:00.000000000",
          "2018-09-12T00:00:00.000000000",
          "2018-09-24T00:00:00.000000000",
          "2018-10-06T00:00:00.000000000",
          "2018-10-18T00:00:00.000000000",
          "2018-10-30T00:00:00.000000000",
          "2018-11-11T00:00:00.000000000",
          "2018-11-17T00:00:00.000000000",
          "2018-11-23T00:00:00.000000000",
          "2018-12-05T00:00:00.000000000",
          "2018-12-17T00:00:00.000000000",
          "2018-12-29T00:00:00.000000000",
          "2019-01-10T00:00:00.000000000",
          "2019-01-22T00:00:00.000000000"
         ],
         "y": [
          -15.506673812866211,
          -20.041767120361328,
          -19.582910537719727,
          -21.29123306274414,
          -22.517925262451172,
          -24.85638999938965,
          -24.346004486083984,
          -21.539243698120117,
          -24.93193244934082,
          -22.60253143310547,
          -22.82942008972168,
          -22.0707950592041,
          -22.28515625,
          -23.642507553100586,
          -23.770362854003906,
          -23.478605270385742,
          -22.91716766357422,
          -24.113737106323242,
          -24.182947158813477,
          -24.527780532836914,
          -26.012956619262695,
          -26.8957576751709,
          -29.722118377685547,
          -33.04941940307617,
          -33.975181579589844,
          -35.13593673706055,
          -33.44012451171875,
          -33.73491668701172,
          -32.0592155456543,
          -32.72211456298828,
          -32.43803405761719,
          -32.816898345947266,
          -31.951730728149414,
          -31.455726623535156,
          -30.938377380371094,
          -30.063108444213867,
          -30.356502532958984,
          -30.83411979675293,
          -30.898630142211914,
          -31.118974685668945,
          -30.801671981811523,
          -30.808263778686523,
          -30.72792625427246,
          -29.58217430114746,
          -30.326702117919922,
          -31.498098373413086,
          -31.017162322998047,
          -30.933258056640625,
          -31.04848289489746,
          -31.045475006103516,
          -31.889253616333008,
          -32.80522537231445,
          -33.86911392211914,
          -35.4180793762207,
          -35.09397888183594,
          -35.78190612792969,
          -34.82923126220703,
          -33.192405700683594,
          -32.99566650390625,
          -33.96523666381836,
          -34.357627868652344,
          -35.05367660522461,
          -35.62224197387695,
          -35.34681701660156,
          -35.29106140136719,
          -35.00362777709961,
          -34.30880355834961,
          -34.36241149902344,
          -33.90678787231445,
          -33.5961799621582,
          -34.04878616333008,
          -34.38627624511719,
          -34.40705490112305,
          -33.68512725830078,
          -34.04891586303711,
          -35.68008041381836,
          -34.43888473510742,
          -34.99727249145508,
          -34.85424041748047,
          -35.902652740478516,
          -36.107181549072266,
          -37.37839126586914,
          -37.50235366821289,
          -37.883792877197266,
          -38.29286575317383,
          -37.73405456542969,
          -37.52969741821289,
          -38.08148956298828,
          -39.04685592651367,
          -38.7283821105957,
          -39.91725158691406
         ]
        }
       ],
       "layout": {
        "legend": {
         "orientation": "h",
         "x": 1,
         "xanchor": "right",
         "y": 1.02,
         "yanchor": "bottom"
        },
        "plot_bgcolor": "white",
        "template": {
         "data": {
          "bar": [
           {
            "error_x": {
             "color": "#2a3f5f"
            },
            "error_y": {
             "color": "#2a3f5f"
            },
            "marker": {
             "line": {
              "color": "#E5ECF6",
              "width": 0.5
             },
             "pattern": {
              "fillmode": "overlay",
              "size": 10,
              "solidity": 0.2
             }
            },
            "type": "bar"
           }
          ],
          "barpolar": [
           {
            "marker": {
             "line": {
              "color": "#E5ECF6",
              "width": 0.5
             },
             "pattern": {
              "fillmode": "overlay",
              "size": 10,
              "solidity": 0.2
             }
            },
            "type": "barpolar"
           }
          ],
          "carpet": [
           {
            "aaxis": {
             "endlinecolor": "#2a3f5f",
             "gridcolor": "white",
             "linecolor": "white",
             "minorgridcolor": "white",
             "startlinecolor": "#2a3f5f"
            },
            "baxis": {
             "endlinecolor": "#2a3f5f",
             "gridcolor": "white",
             "linecolor": "white",
             "minorgridcolor": "white",
             "startlinecolor": "#2a3f5f"
            },
            "type": "carpet"
           }
          ],
          "choropleth": [
           {
            "colorbar": {
             "outlinewidth": 0,
             "ticks": ""
            },
            "type": "choropleth"
           }
          ],
          "contour": [
           {
            "colorbar": {
             "outlinewidth": 0,
             "ticks": ""
            },
            "colorscale": [
             [
              0,
              "#0d0887"
             ],
             [
              0.1111111111111111,
              "#46039f"
             ],
             [
              0.2222222222222222,
              "#7201a8"
             ],
             [
              0.3333333333333333,
              "#9c179e"
             ],
             [
              0.4444444444444444,
              "#bd3786"
             ],
             [
              0.5555555555555556,
              "#d8576b"
             ],
             [
              0.6666666666666666,
              "#ed7953"
             ],
             [
              0.7777777777777778,
              "#fb9f3a"
             ],
             [
              0.8888888888888888,
              "#fdca26"
             ],
             [
              1,
              "#f0f921"
             ]
            ],
            "type": "contour"
           }
          ],
          "contourcarpet": [
           {
            "colorbar": {
             "outlinewidth": 0,
             "ticks": ""
            },
            "type": "contourcarpet"
           }
          ],
          "heatmap": [
           {
            "colorbar": {
             "outlinewidth": 0,
             "ticks": ""
            },
            "colorscale": [
             [
              0,
              "#0d0887"
             ],
             [
              0.1111111111111111,
              "#46039f"
             ],
             [
              0.2222222222222222,
              "#7201a8"
             ],
             [
              0.3333333333333333,
              "#9c179e"
             ],
             [
              0.4444444444444444,
              "#bd3786"
             ],
             [
              0.5555555555555556,
              "#d8576b"
             ],
             [
              0.6666666666666666,
              "#ed7953"
             ],
             [
              0.7777777777777778,
              "#fb9f3a"
             ],
             [
              0.8888888888888888,
              "#fdca26"
             ],
             [
              1,
              "#f0f921"
             ]
            ],
            "type": "heatmap"
           }
          ],
          "heatmapgl": [
           {
            "colorbar": {
             "outlinewidth": 0,
             "ticks": ""
            },
            "colorscale": [
             [
              0,
              "#0d0887"
             ],
             [
              0.1111111111111111,
              "#46039f"
             ],
             [
              0.2222222222222222,
              "#7201a8"
             ],
             [
              0.3333333333333333,
              "#9c179e"
             ],
             [
              0.4444444444444444,
              "#bd3786"
             ],
             [
              0.5555555555555556,
              "#d8576b"
             ],
             [
              0.6666666666666666,
              "#ed7953"
             ],
             [
              0.7777777777777778,
              "#fb9f3a"
             ],
             [
              0.8888888888888888,
              "#fdca26"
             ],
             [
              1,
              "#f0f921"
             ]
            ],
            "type": "heatmapgl"
           }
          ],
          "histogram": [
           {
            "marker": {
             "pattern": {
              "fillmode": "overlay",
              "size": 10,
              "solidity": 0.2
             }
            },
            "type": "histogram"
           }
          ],
          "histogram2d": [
           {
            "colorbar": {
             "outlinewidth": 0,
             "ticks": ""
            },
            "colorscale": [
             [
              0,
              "#0d0887"
             ],
             [
              0.1111111111111111,
              "#46039f"
             ],
             [
              0.2222222222222222,
              "#7201a8"
             ],
             [
              0.3333333333333333,
              "#9c179e"
             ],
             [
              0.4444444444444444,
              "#bd3786"
             ],
             [
              0.5555555555555556,
              "#d8576b"
             ],
             [
              0.6666666666666666,
              "#ed7953"
             ],
             [
              0.7777777777777778,
              "#fb9f3a"
             ],
             [
              0.8888888888888888,
              "#fdca26"
             ],
             [
              1,
              "#f0f921"
             ]
            ],
            "type": "histogram2d"
           }
          ],
          "histogram2dcontour": [
           {
            "colorbar": {
             "outlinewidth": 0,
             "ticks": ""
            },
            "colorscale": [
             [
              0,
              "#0d0887"
             ],
             [
              0.1111111111111111,
              "#46039f"
             ],
             [
              0.2222222222222222,
              "#7201a8"
             ],
             [
              0.3333333333333333,
              "#9c179e"
             ],
             [
              0.4444444444444444,
              "#bd3786"
             ],
             [
              0.5555555555555556,
              "#d8576b"
             ],
             [
              0.6666666666666666,
              "#ed7953"
             ],
             [
              0.7777777777777778,
              "#fb9f3a"
             ],
             [
              0.8888888888888888,
              "#fdca26"
             ],
             [
              1,
              "#f0f921"
             ]
            ],
            "type": "histogram2dcontour"
           }
          ],
          "mesh3d": [
           {
            "colorbar": {
             "outlinewidth": 0,
             "ticks": ""
            },
            "type": "mesh3d"
           }
          ],
          "parcoords": [
           {
            "line": {
             "colorbar": {
              "outlinewidth": 0,
              "ticks": ""
             }
            },
            "type": "parcoords"
           }
          ],
          "pie": [
           {
            "automargin": true,
            "type": "pie"
           }
          ],
          "scatter": [
           {
            "fillpattern": {
             "fillmode": "overlay",
             "size": 10,
             "solidity": 0.2
            },
            "type": "scatter"
           }
          ],
          "scatter3d": [
           {
            "line": {
             "colorbar": {
              "outlinewidth": 0,
              "ticks": ""
             }
            },
            "marker": {
             "colorbar": {
              "outlinewidth": 0,
              "ticks": ""
             }
            },
            "type": "scatter3d"
           }
          ],
          "scattercarpet": [
           {
            "marker": {
             "colorbar": {
              "outlinewidth": 0,
              "ticks": ""
             }
            },
            "type": "scattercarpet"
           }
          ],
          "scattergeo": [
           {
            "marker": {
             "colorbar": {
              "outlinewidth": 0,
              "ticks": ""
             }
            },
            "type": "scattergeo"
           }
          ],
          "scattergl": [
           {
            "marker": {
             "colorbar": {
              "outlinewidth": 0,
              "ticks": ""
             }
            },
            "type": "scattergl"
           }
          ],
          "scattermapbox": [
           {
            "marker": {
             "colorbar": {
              "outlinewidth": 0,
              "ticks": ""
             }
            },
            "type": "scattermapbox"
           }
          ],
          "scatterpolar": [
           {
            "marker": {
             "colorbar": {
              "outlinewidth": 0,
              "ticks": ""
             }
            },
            "type": "scatterpolar"
           }
          ],
          "scatterpolargl": [
           {
            "marker": {
             "colorbar": {
              "outlinewidth": 0,
              "ticks": ""
             }
            },
            "type": "scatterpolargl"
           }
          ],
          "scatterternary": [
           {
            "marker": {
             "colorbar": {
              "outlinewidth": 0,
              "ticks": ""
             }
            },
            "type": "scatterternary"
           }
          ],
          "surface": [
           {
            "colorbar": {
             "outlinewidth": 0,
             "ticks": ""
            },
            "colorscale": [
             [
              0,
              "#0d0887"
             ],
             [
              0.1111111111111111,
              "#46039f"
             ],
             [
              0.2222222222222222,
              "#7201a8"
             ],
             [
              0.3333333333333333,
              "#9c179e"
             ],
             [
              0.4444444444444444,
              "#bd3786"
             ],
             [
              0.5555555555555556,
              "#d8576b"
             ],
             [
              0.6666666666666666,
              "#ed7953"
             ],
             [
              0.7777777777777778,
              "#fb9f3a"
             ],
             [
              0.8888888888888888,
              "#fdca26"
             ],
             [
              1,
              "#f0f921"
             ]
            ],
            "type": "surface"
           }
          ],
          "table": [
           {
            "cells": {
             "fill": {
              "color": "#EBF0F8"
             },
             "line": {
              "color": "white"
             }
            },
            "header": {
             "fill": {
              "color": "#C8D4E3"
             },
             "line": {
              "color": "white"
             }
            },
            "type": "table"
           }
          ]
         },
         "layout": {
          "annotationdefaults": {
           "arrowcolor": "#2a3f5f",
           "arrowhead": 0,
           "arrowwidth": 1
          },
          "autotypenumbers": "strict",
          "coloraxis": {
           "colorbar": {
            "outlinewidth": 0,
            "ticks": ""
           }
          },
          "colorscale": {
           "diverging": [
            [
             0,
             "#8e0152"
            ],
            [
             0.1,
             "#c51b7d"
            ],
            [
             0.2,
             "#de77ae"
            ],
            [
             0.3,
             "#f1b6da"
            ],
            [
             0.4,
             "#fde0ef"
            ],
            [
             0.5,
             "#f7f7f7"
            ],
            [
             0.6,
             "#e6f5d0"
            ],
            [
             0.7,
             "#b8e186"
            ],
            [
             0.8,
             "#7fbc41"
            ],
            [
             0.9,
             "#4d9221"
            ],
            [
             1,
             "#276419"
            ]
           ],
           "sequential": [
            [
             0,
             "#0d0887"
            ],
            [
             0.1111111111111111,
             "#46039f"
            ],
            [
             0.2222222222222222,
             "#7201a8"
            ],
            [
             0.3333333333333333,
             "#9c179e"
            ],
            [
             0.4444444444444444,
             "#bd3786"
            ],
            [
             0.5555555555555556,
             "#d8576b"
            ],
            [
             0.6666666666666666,
             "#ed7953"
            ],
            [
             0.7777777777777778,
             "#fb9f3a"
            ],
            [
             0.8888888888888888,
             "#fdca26"
            ],
            [
             1,
             "#f0f921"
            ]
           ],
           "sequentialminus": [
            [
             0,
             "#0d0887"
            ],
            [
             0.1111111111111111,
             "#46039f"
            ],
            [
             0.2222222222222222,
             "#7201a8"
            ],
            [
             0.3333333333333333,
             "#9c179e"
            ],
            [
             0.4444444444444444,
             "#bd3786"
            ],
            [
             0.5555555555555556,
             "#d8576b"
            ],
            [
             0.6666666666666666,
             "#ed7953"
            ],
            [
             0.7777777777777778,
             "#fb9f3a"
            ],
            [
             0.8888888888888888,
             "#fdca26"
            ],
            [
             1,
             "#f0f921"
            ]
           ]
          },
          "colorway": [
           "#636efa",
           "#EF553B",
           "#00cc96",
           "#ab63fa",
           "#FFA15A",
           "#19d3f3",
           "#FF6692",
           "#B6E880",
           "#FF97FF",
           "#FECB52"
          ],
          "font": {
           "color": "#2a3f5f"
          },
          "geo": {
           "bgcolor": "white",
           "lakecolor": "white",
           "landcolor": "#E5ECF6",
           "showlakes": true,
           "showland": true,
           "subunitcolor": "white"
          },
          "hoverlabel": {
           "align": "left"
          },
          "hovermode": "closest",
          "mapbox": {
           "style": "light"
          },
          "paper_bgcolor": "white",
          "plot_bgcolor": "#E5ECF6",
          "polar": {
           "angularaxis": {
            "gridcolor": "white",
            "linecolor": "white",
            "ticks": ""
           },
           "bgcolor": "#E5ECF6",
           "radialaxis": {
            "gridcolor": "white",
            "linecolor": "white",
            "ticks": ""
           }
          },
          "scene": {
           "xaxis": {
            "backgroundcolor": "#E5ECF6",
            "gridcolor": "white",
            "gridwidth": 2,
            "linecolor": "white",
            "showbackground": true,
            "ticks": "",
            "zerolinecolor": "white"
           },
           "yaxis": {
            "backgroundcolor": "#E5ECF6",
            "gridcolor": "white",
            "gridwidth": 2,
            "linecolor": "white",
            "showbackground": true,
            "ticks": "",
            "zerolinecolor": "white"
           },
           "zaxis": {
            "backgroundcolor": "#E5ECF6",
            "gridcolor": "white",
            "gridwidth": 2,
            "linecolor": "white",
            "showbackground": true,
            "ticks": "",
            "zerolinecolor": "white"
           }
          },
          "shapedefaults": {
           "line": {
            "color": "#2a3f5f"
           }
          },
          "ternary": {
           "aaxis": {
            "gridcolor": "white",
            "linecolor": "white",
            "ticks": ""
           },
           "baxis": {
            "gridcolor": "white",
            "linecolor": "white",
            "ticks": ""
           },
           "bgcolor": "#E5ECF6",
           "caxis": {
            "gridcolor": "white",
            "linecolor": "white",
            "ticks": ""
           }
          },
          "title": {
           "x": 0.05
          },
          "xaxis": {
           "automargin": true,
           "gridcolor": "white",
           "linecolor": "white",
           "ticks": "",
           "title": {
            "standoff": 15
           },
           "zerolinecolor": "white",
           "zerolinewidth": 2
          },
          "yaxis": {
           "automargin": true,
           "gridcolor": "white",
           "linecolor": "white",
           "ticks": "",
           "title": {
            "standoff": 15
           },
           "zerolinecolor": "white",
           "zerolinewidth": 2
          }
         }
        },
        "title": {
         "font": {
          "color": "black"
         },
         "text": "Subsidence"
        },
        "xaxis": {
         "gridcolor": "lightgrey",
         "gridwidth": 1,
         "linecolor": "black",
         "linewidth": 1,
         "showgrid": true,
         "showline": true,
         "title": {
          "text": "Month-Year"
         },
         "zeroline": true,
         "zerolinecolor": "lightgrey",
         "zerolinewidth": 1
        },
        "yaxis": {
         "gridcolor": "lightgrey",
         "gridwidth": 1,
         "linecolor": "black",
         "linewidth": 1,
         "showgrid": true,
         "showline": true,
         "title": {
          "text": "Subsidence"
         },
         "zeroline": true,
         "zerolinecolor": "lightgrey",
         "zerolinewidth": 1
        }
       }
      }
     },
     "metadata": {},
     "output_type": "display_data"
    }
   ],
   "source": [
    "# Plot (actual and predicted) for test (out of time) data\n",
    "fig = go.Figure()\n",
    "\n",
    "# #Trace for actual val\n",
    "# fig.add_trace(go.Scatter(x=np.array(test.columns),\n",
    "#                          y=np.array(test.values).flatten(),\n",
    "#                          mode='lines',\n",
    "#                          name='Subsidence - Actual (Test)',\n",
    "#                          opacity=0.8,\n",
    "#                          line=dict(color='black', width=1)\n",
    "#                         ))\n",
    "# fig.add_trace(go.Scatter(x=np.array(test.columns),\n",
    "#                          y=e,\n",
    "#                          mode='lines',\n",
    "#                          name='Subsidence - Actual (YTrain)',\n",
    "#                          opacity=0.8,\n",
    "#                          line=dict(color='pink', width=1)\n",
    "#                         ))\n",
    "\n",
    "fig.add_trace(go.Scatter(x=np.array(test.columns[10:]),\n",
    "                         y=c,\n",
    "                         mode='lines',\n",
    "                         name='Subsidence - Actual (YTest)',\n",
    "                         opacity=0.8,\n",
    "                         line=dict(color='grey', width=5)\n",
    "                        ))\n",
    "\n",
    "\n",
    "# Trace for predicted \n",
    "fig.add_trace(go.Scatter(x=np.array(test.columns[10:]),\n",
    "                         y=z,\n",
    "                         mode='lines',\n",
    "                         name='Subsidence - Predicted ',\n",
    "                         opacity=0.8,\n",
    "                         line=dict(color='red', width=5)\n",
    "                        ))\n",
    "\n",
    "# Change chart background color\n",
    "fig.update_layout(dict(plot_bgcolor = 'white'))\n",
    "\n",
    "# Update axes lines\n",
    "fig.update_xaxes(showgrid=True, gridwidth=1, gridcolor='lightgrey', \n",
    "                 zeroline=True, zerolinewidth=1, zerolinecolor='lightgrey', \n",
    "                 showline=True, linewidth=1, linecolor='black',\n",
    "                 title='Month-Year'\n",
    "                )\n",
    "\n",
    "fig.update_yaxes(showgrid=True, gridwidth=1, gridcolor='lightgrey', \n",
    "                 zeroline=True, zerolinewidth=1, zerolinecolor='lightgrey', \n",
    "                 showline=True, linewidth=1, linecolor='black',\n",
    "                 title='Subsidence'\n",
    "                )\n",
    "\n",
    "# Set figure title\n",
    "fig.update_layout(title=dict(text=\"Subsidence\", font=dict(color='black')),\n",
    "                  legend=dict(orientation=\"h\", yanchor=\"bottom\", y=1.02, xanchor=\"right\", x=1)\n",
    "                 )\n",
    "fig.show()"
   ]
  },
  {
   "cell_type": "markdown",
   "metadata": {},
   "source": []
  }
 ],
 "metadata": {
  "kernelspec": {
   "display_name": "Python 3.10.5 64-bit",
   "language": "python",
   "name": "python3"
  },
  "language_info": {
   "codemirror_mode": {
    "name": "ipython",
    "version": 3
   },
   "file_extension": ".py",
   "mimetype": "text/x-python",
   "name": "python",
   "nbconvert_exporter": "python",
   "pygments_lexer": "ipython3",
   "version": "3.10.5"
  },
  "orig_nbformat": 4,
  "vscode": {
   "interpreter": {
    "hash": "d3e10ef16274dd72e574b8fa73b58450b957d8421a2901baded3cca26fcf5dda"
   }
  }
 },
 "nbformat": 4,
 "nbformat_minor": 2
}
