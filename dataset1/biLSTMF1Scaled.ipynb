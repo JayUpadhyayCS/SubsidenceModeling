{
 "cells": [
  {
   "cell_type": "code",
   "execution_count": 26,
   "metadata": {},
   "outputs": [
    {
     "name": "stdout",
     "output_type": "stream",
     "text": [
      "Tensorflow/Keras: 2.9.0\n",
      "pandas: 1.4.2\n",
      "numpy: 1.22.4\n",
      "sklearn: 1.1.1\n",
      "plotly: 5.9.0\n"
     ]
    }
   ],
   "source": [
    "# Tensorflow / Keras\n",
    "from tensorflow import keras # for building Neural Networks\n",
    "print('Tensorflow/Keras: %s' % keras.__version__) # print version\n",
    "from keras.models import Sequential # for creating a linear stack of layers for our Neural Network\n",
    "from keras import Input # for instantiating a keras tensor\n",
    "from keras.layers import Masking,Bidirectional, LSTM, RepeatVector, Dense, TimeDistributed,MaxPooling1D, Flatten, Conv1D,Conv2D,Dropout, MaxPooling2D, GRU # for creating layers inside the Neural Network\n",
    "from keras.optimizers import Adam , SGD\n",
    "from keras import metrics, callbacks\n",
    "from keras.utils import plot_model\n",
    "# Data manipulation\n",
    "import pandas as pd # for data manipulation\n",
    "print('pandas: %s' % pd.__version__) # print version\n",
    "import numpy as np # for data manipulation\n",
    "print('numpy: %s' % np.__version__) # print version\n",
    "import numpy.ma as ma\n",
    "# Sklearn\n",
    "import sklearn\n",
    "print('sklearn: %s' % sklearn.__version__) # print version\n",
    "from sklearn.preprocessing import MinMaxScaler, StandardScaler # for feature scaling\n",
    "from sklearn.model_selection import train_test_split\n",
    "# Visualization\n",
    "import plotly \n",
    "import plotly.express as px\n",
    "import plotly.graph_objects as go\n",
    "print('plotly: %s' % plotly.__version__) # print version\n",
    "from matplotlib import pyplot as plt\n",
    "\n",
    "#file accessing\n",
    "import os\n",
    "# time stuff\n",
    "from datetime import timedelta\n",
    "import calendar\n"
   ]
  },
  {
   "cell_type": "code",
   "execution_count": 27,
   "metadata": {},
   "outputs": [
    {
     "name": "stdout",
     "output_type": "stream",
     "text": [
      "Defined the plot_the_model and plot_the_loss_curve functions.\n"
     ]
    }
   ],
   "source": [
    "#@title Define the plotting functions\n",
    "def plot_the_model(trained_weight, trained_bias, feature, label):\n",
    "  \"\"\"Plot the trained model against the training feature and label.\"\"\"\n",
    "\n",
    "  # Label the axes.\n",
    "  plt.xlabel(\"feature\")\n",
    "  plt.ylabel(\"label\")\n",
    "\n",
    "  # Plot the feature values vs. label values.\n",
    "  plt.scatter(feature, label)\n",
    "\n",
    "  # Create a red line representing the model. The red line starts\n",
    "  # at coordinates (x0, y0) and ends at coordinates (x1, y1).\n",
    "  x0 = 0\n",
    "  y0 = trained_bias\n",
    "  x1 = feature[-1]\n",
    "  y1 = trained_bias + (trained_weight * x1)\n",
    "  plt.plot([x0, x1], [y0, y1], c='r')\n",
    "\n",
    "  # Render the scatter plot and the red line.\n",
    "  plt.show()\n",
    "\n",
    "def plot_the_loss_curve(epochs, mse):\n",
    "  \"\"\"Plot the loss curve, which shows loss vs. epoch.\"\"\"\n",
    "\n",
    "  plt.figure()\n",
    "  plt.xlabel(\"Epoch\")\n",
    "  plt.ylabel(\"Mean Squared Error\")\n",
    "  #epochs.remove(max(epochs))\n",
    "  \n",
    "  #rmse.drop(max(rmse))\n",
    "  plt.plot(epochs, mse, label=\"Loss\")\n",
    "  plt.legend()\n",
    "  plt.ylim([min(mse)*0.97, max(mse)])\n",
    "  plt.show()\n",
    "\n",
    "print(\"Defined the plot_the_model and plot_the_loss_curve functions.\")"
   ]
  },
  {
   "cell_type": "markdown",
   "metadata": {},
   "source": [
    "##### Read from file and establish dataframe and future functions"
   ]
  },
  {
   "cell_type": "code",
   "execution_count": 28,
   "metadata": {},
   "outputs": [
    {
     "data": {
      "text/html": [
       "<div>\n",
       "<style scoped>\n",
       "    .dataframe tbody tr th:only-of-type {\n",
       "        vertical-align: middle;\n",
       "    }\n",
       "\n",
       "    .dataframe tbody tr th {\n",
       "        vertical-align: top;\n",
       "    }\n",
       "\n",
       "    .dataframe thead th {\n",
       "        text-align: right;\n",
       "    }\n",
       "</style>\n",
       "<table border=\"1\" class=\"dataframe\">\n",
       "  <thead>\n",
       "    <tr style=\"text-align: right;\">\n",
       "      <th></th>\n",
       "      <th></th>\n",
       "      <th>2014-11-08</th>\n",
       "      <th>2014-12-02</th>\n",
       "      <th>2014-12-26</th>\n",
       "      <th>2015-02-12</th>\n",
       "      <th>2015-03-08</th>\n",
       "      <th>2015-04-01</th>\n",
       "      <th>2015-04-25</th>\n",
       "      <th>2015-05-19</th>\n",
       "      <th>2015-06-12</th>\n",
       "      <th>2015-07-06</th>\n",
       "      <th>...</th>\n",
       "      <th>2018-10-18</th>\n",
       "      <th>2018-10-30</th>\n",
       "      <th>2018-11-11</th>\n",
       "      <th>2018-11-17</th>\n",
       "      <th>2018-11-23</th>\n",
       "      <th>2018-12-05</th>\n",
       "      <th>2018-12-17</th>\n",
       "      <th>2018-12-29</th>\n",
       "      <th>2019-01-10</th>\n",
       "      <th>2019-01-22</th>\n",
       "    </tr>\n",
       "    <tr>\n",
       "      <th>Longitude</th>\n",
       "      <th>Latitude</th>\n",
       "      <th></th>\n",
       "      <th></th>\n",
       "      <th></th>\n",
       "      <th></th>\n",
       "      <th></th>\n",
       "      <th></th>\n",
       "      <th></th>\n",
       "      <th></th>\n",
       "      <th></th>\n",
       "      <th></th>\n",
       "      <th></th>\n",
       "      <th></th>\n",
       "      <th></th>\n",
       "      <th></th>\n",
       "      <th></th>\n",
       "      <th></th>\n",
       "      <th></th>\n",
       "      <th></th>\n",
       "      <th></th>\n",
       "      <th></th>\n",
       "      <th></th>\n",
       "    </tr>\n",
       "  </thead>\n",
       "  <tbody>\n",
       "    <tr>\n",
       "      <th>-119.5609</th>\n",
       "      <th>36.1672</th>\n",
       "      <td>0.0</td>\n",
       "      <td>-5.35470</td>\n",
       "      <td>-2.365800</td>\n",
       "      <td>-5.38810</td>\n",
       "      <td>-8.0230</td>\n",
       "      <td>-7.35960</td>\n",
       "      <td>-10.658000</td>\n",
       "      <td>-11.5740</td>\n",
       "      <td>-14.73600</td>\n",
       "      <td>-15.653000</td>\n",
       "      <td>...</td>\n",
       "      <td>-51.2880</td>\n",
       "      <td>-52.2000</td>\n",
       "      <td>-51.5510</td>\n",
       "      <td>-50.8460</td>\n",
       "      <td>-52.1710</td>\n",
       "      <td>-51.1730</td>\n",
       "      <td>-51.0260</td>\n",
       "      <td>-51.1030</td>\n",
       "      <td>-53.1130</td>\n",
       "      <td>-53.6540</td>\n",
       "    </tr>\n",
       "    <tr>\n",
       "      <th>-119.5489</th>\n",
       "      <th>36.0072</th>\n",
       "      <td>0.0</td>\n",
       "      <td>-6.98510</td>\n",
       "      <td>-2.425400</td>\n",
       "      <td>-5.59300</td>\n",
       "      <td>-8.2796</td>\n",
       "      <td>-7.10480</td>\n",
       "      <td>-11.352000</td>\n",
       "      <td>-13.1490</td>\n",
       "      <td>-16.28400</td>\n",
       "      <td>-17.528000</td>\n",
       "      <td>...</td>\n",
       "      <td>-80.4520</td>\n",
       "      <td>-81.3120</td>\n",
       "      <td>-81.3700</td>\n",
       "      <td>-81.0500</td>\n",
       "      <td>-82.8020</td>\n",
       "      <td>-81.8950</td>\n",
       "      <td>-80.9560</td>\n",
       "      <td>-82.2640</td>\n",
       "      <td>-83.5630</td>\n",
       "      <td>-83.4070</td>\n",
       "    </tr>\n",
       "    <tr>\n",
       "      <th>-119.5369</th>\n",
       "      <th>36.0472</th>\n",
       "      <td>0.0</td>\n",
       "      <td>-6.52240</td>\n",
       "      <td>-2.652600</td>\n",
       "      <td>-7.67760</td>\n",
       "      <td>-11.1110</td>\n",
       "      <td>-10.59000</td>\n",
       "      <td>-14.676000</td>\n",
       "      <td>-17.0200</td>\n",
       "      <td>-20.39000</td>\n",
       "      <td>-22.219000</td>\n",
       "      <td>...</td>\n",
       "      <td>-82.7120</td>\n",
       "      <td>-83.1190</td>\n",
       "      <td>-82.8720</td>\n",
       "      <td>-82.5070</td>\n",
       "      <td>-84.1300</td>\n",
       "      <td>-83.3090</td>\n",
       "      <td>-83.1980</td>\n",
       "      <td>-83.6720</td>\n",
       "      <td>-84.9170</td>\n",
       "      <td>-84.5300</td>\n",
       "    </tr>\n",
       "    <tr>\n",
       "      <th>-119.5329</th>\n",
       "      <th>36.0152</th>\n",
       "      <td>0.0</td>\n",
       "      <td>-7.31990</td>\n",
       "      <td>-3.102300</td>\n",
       "      <td>-7.01660</td>\n",
       "      <td>-9.4511</td>\n",
       "      <td>-8.87950</td>\n",
       "      <td>-13.596000</td>\n",
       "      <td>-15.7800</td>\n",
       "      <td>-19.31200</td>\n",
       "      <td>-21.342000</td>\n",
       "      <td>...</td>\n",
       "      <td>-92.7010</td>\n",
       "      <td>-93.6410</td>\n",
       "      <td>-93.4770</td>\n",
       "      <td>-93.2590</td>\n",
       "      <td>-94.9470</td>\n",
       "      <td>-94.3050</td>\n",
       "      <td>-93.6450</td>\n",
       "      <td>-94.7880</td>\n",
       "      <td>-96.0660</td>\n",
       "      <td>-96.0170</td>\n",
       "    </tr>\n",
       "    <tr>\n",
       "      <th>-119.5289</th>\n",
       "      <th>35.9512</th>\n",
       "      <td>0.0</td>\n",
       "      <td>-5.69540</td>\n",
       "      <td>-0.297000</td>\n",
       "      <td>-1.17090</td>\n",
       "      <td>-3.5007</td>\n",
       "      <td>-0.99811</td>\n",
       "      <td>-3.422100</td>\n",
       "      <td>-3.9274</td>\n",
       "      <td>-5.57050</td>\n",
       "      <td>-4.514200</td>\n",
       "      <td>...</td>\n",
       "      <td>-31.5990</td>\n",
       "      <td>-31.9420</td>\n",
       "      <td>-31.8580</td>\n",
       "      <td>-31.5220</td>\n",
       "      <td>-32.9980</td>\n",
       "      <td>-32.5920</td>\n",
       "      <td>-31.5850</td>\n",
       "      <td>-32.0960</td>\n",
       "      <td>-33.1620</td>\n",
       "      <td>-32.8450</td>\n",
       "    </tr>\n",
       "    <tr>\n",
       "      <th>...</th>\n",
       "      <th>...</th>\n",
       "      <td>...</td>\n",
       "      <td>...</td>\n",
       "      <td>...</td>\n",
       "      <td>...</td>\n",
       "      <td>...</td>\n",
       "      <td>...</td>\n",
       "      <td>...</td>\n",
       "      <td>...</td>\n",
       "      <td>...</td>\n",
       "      <td>...</td>\n",
       "      <td>...</td>\n",
       "      <td>...</td>\n",
       "      <td>...</td>\n",
       "      <td>...</td>\n",
       "      <td>...</td>\n",
       "      <td>...</td>\n",
       "      <td>...</td>\n",
       "      <td>...</td>\n",
       "      <td>...</td>\n",
       "      <td>...</td>\n",
       "      <td>...</td>\n",
       "    </tr>\n",
       "    <tr>\n",
       "      <th>-118.9351</th>\n",
       "      <th>35.9912</th>\n",
       "      <td>0.0</td>\n",
       "      <td>1.31960</td>\n",
       "      <td>-0.454550</td>\n",
       "      <td>-1.12980</td>\n",
       "      <td>-2.1960</td>\n",
       "      <td>-2.29490</td>\n",
       "      <td>0.732390</td>\n",
       "      <td>-2.6491</td>\n",
       "      <td>-0.57953</td>\n",
       "      <td>-0.463840</td>\n",
       "      <td>...</td>\n",
       "      <td>3.3119</td>\n",
       "      <td>2.4877</td>\n",
       "      <td>3.7906</td>\n",
       "      <td>3.6429</td>\n",
       "      <td>3.8131</td>\n",
       "      <td>2.7015</td>\n",
       "      <td>5.1692</td>\n",
       "      <td>5.8056</td>\n",
       "      <td>3.2722</td>\n",
       "      <td>3.7133</td>\n",
       "    </tr>\n",
       "    <tr>\n",
       "      <th>-118.9331</th>\n",
       "      <th>35.8431</th>\n",
       "      <td>0.0</td>\n",
       "      <td>-0.27523</td>\n",
       "      <td>0.340730</td>\n",
       "      <td>0.11561</td>\n",
       "      <td>-1.8977</td>\n",
       "      <td>-1.72400</td>\n",
       "      <td>1.244300</td>\n",
       "      <td>-2.6508</td>\n",
       "      <td>0.44136</td>\n",
       "      <td>0.072182</td>\n",
       "      <td>...</td>\n",
       "      <td>5.3406</td>\n",
       "      <td>4.6145</td>\n",
       "      <td>5.8431</td>\n",
       "      <td>5.6430</td>\n",
       "      <td>5.8181</td>\n",
       "      <td>5.7786</td>\n",
       "      <td>7.0684</td>\n",
       "      <td>8.0765</td>\n",
       "      <td>5.0210</td>\n",
       "      <td>5.4701</td>\n",
       "    </tr>\n",
       "    <tr>\n",
       "      <th rowspan=\"2\" valign=\"top\">-118.9311</th>\n",
       "      <th>35.6111</th>\n",
       "      <td>0.0</td>\n",
       "      <td>-2.60280</td>\n",
       "      <td>0.000017</td>\n",
       "      <td>0.94402</td>\n",
       "      <td>-2.1042</td>\n",
       "      <td>-1.87170</td>\n",
       "      <td>0.510950</td>\n",
       "      <td>-2.7147</td>\n",
       "      <td>0.42639</td>\n",
       "      <td>0.334300</td>\n",
       "      <td>...</td>\n",
       "      <td>4.6175</td>\n",
       "      <td>4.2846</td>\n",
       "      <td>5.3261</td>\n",
       "      <td>5.0863</td>\n",
       "      <td>5.6278</td>\n",
       "      <td>4.1805</td>\n",
       "      <td>6.4902</td>\n",
       "      <td>7.5899</td>\n",
       "      <td>4.7841</td>\n",
       "      <td>5.1107</td>\n",
       "    </tr>\n",
       "    <tr>\n",
       "      <th>36.0432</th>\n",
       "      <td>0.0</td>\n",
       "      <td>1.67880</td>\n",
       "      <td>-0.808910</td>\n",
       "      <td>-1.57380</td>\n",
       "      <td>-1.4608</td>\n",
       "      <td>-2.81520</td>\n",
       "      <td>0.054982</td>\n",
       "      <td>-2.9420</td>\n",
       "      <td>-1.33580</td>\n",
       "      <td>-1.282900</td>\n",
       "      <td>...</td>\n",
       "      <td>2.8628</td>\n",
       "      <td>1.8351</td>\n",
       "      <td>3.5058</td>\n",
       "      <td>3.3816</td>\n",
       "      <td>3.2020</td>\n",
       "      <td>2.7933</td>\n",
       "      <td>4.2067</td>\n",
       "      <td>4.5700</td>\n",
       "      <td>2.6953</td>\n",
       "      <td>2.8795</td>\n",
       "    </tr>\n",
       "    <tr>\n",
       "      <th>-118.9271</th>\n",
       "      <th>35.7791</th>\n",
       "      <td>0.0</td>\n",
       "      <td>-0.74982</td>\n",
       "      <td>0.704870</td>\n",
       "      <td>0.91393</td>\n",
       "      <td>-2.0152</td>\n",
       "      <td>-1.41990</td>\n",
       "      <td>1.315100</td>\n",
       "      <td>-2.2612</td>\n",
       "      <td>0.90483</td>\n",
       "      <td>0.531310</td>\n",
       "      <td>...</td>\n",
       "      <td>6.6669</td>\n",
       "      <td>6.1738</td>\n",
       "      <td>7.0694</td>\n",
       "      <td>7.0594</td>\n",
       "      <td>7.1988</td>\n",
       "      <td>6.9346</td>\n",
       "      <td>8.5980</td>\n",
       "      <td>9.5428</td>\n",
       "      <td>6.8206</td>\n",
       "      <td>7.1979</td>\n",
       "    </tr>\n",
       "  </tbody>\n",
       "</table>\n",
       "<p>410 rows × 110 columns</p>\n",
       "</div>"
      ],
      "text/plain": [
       "                    2014-11-08  2014-12-02  2014-12-26  2015-02-12  \\\n",
       "Longitude Latitude                                                   \n",
       "-119.5609 36.1672          0.0    -5.35470   -2.365800    -5.38810   \n",
       "-119.5489 36.0072          0.0    -6.98510   -2.425400    -5.59300   \n",
       "-119.5369 36.0472          0.0    -6.52240   -2.652600    -7.67760   \n",
       "-119.5329 36.0152          0.0    -7.31990   -3.102300    -7.01660   \n",
       "-119.5289 35.9512          0.0    -5.69540   -0.297000    -1.17090   \n",
       "...                        ...         ...         ...         ...   \n",
       "-118.9351 35.9912          0.0     1.31960   -0.454550    -1.12980   \n",
       "-118.9331 35.8431          0.0    -0.27523    0.340730     0.11561   \n",
       "-118.9311 35.6111          0.0    -2.60280    0.000017     0.94402   \n",
       "          36.0432          0.0     1.67880   -0.808910    -1.57380   \n",
       "-118.9271 35.7791          0.0    -0.74982    0.704870     0.91393   \n",
       "\n",
       "                    2015-03-08  2015-04-01  2015-04-25  2015-05-19  \\\n",
       "Longitude Latitude                                                   \n",
       "-119.5609 36.1672      -8.0230    -7.35960  -10.658000    -11.5740   \n",
       "-119.5489 36.0072      -8.2796    -7.10480  -11.352000    -13.1490   \n",
       "-119.5369 36.0472     -11.1110   -10.59000  -14.676000    -17.0200   \n",
       "-119.5329 36.0152      -9.4511    -8.87950  -13.596000    -15.7800   \n",
       "-119.5289 35.9512      -3.5007    -0.99811   -3.422100     -3.9274   \n",
       "...                        ...         ...         ...         ...   \n",
       "-118.9351 35.9912      -2.1960    -2.29490    0.732390     -2.6491   \n",
       "-118.9331 35.8431      -1.8977    -1.72400    1.244300     -2.6508   \n",
       "-118.9311 35.6111      -2.1042    -1.87170    0.510950     -2.7147   \n",
       "          36.0432      -1.4608    -2.81520    0.054982     -2.9420   \n",
       "-118.9271 35.7791      -2.0152    -1.41990    1.315100     -2.2612   \n",
       "\n",
       "                    2015-06-12  2015-07-06  ...  2018-10-18  2018-10-30  \\\n",
       "Longitude Latitude                          ...                           \n",
       "-119.5609 36.1672    -14.73600  -15.653000  ...    -51.2880    -52.2000   \n",
       "-119.5489 36.0072    -16.28400  -17.528000  ...    -80.4520    -81.3120   \n",
       "-119.5369 36.0472    -20.39000  -22.219000  ...    -82.7120    -83.1190   \n",
       "-119.5329 36.0152    -19.31200  -21.342000  ...    -92.7010    -93.6410   \n",
       "-119.5289 35.9512     -5.57050   -4.514200  ...    -31.5990    -31.9420   \n",
       "...                        ...         ...  ...         ...         ...   \n",
       "-118.9351 35.9912     -0.57953   -0.463840  ...      3.3119      2.4877   \n",
       "-118.9331 35.8431      0.44136    0.072182  ...      5.3406      4.6145   \n",
       "-118.9311 35.6111      0.42639    0.334300  ...      4.6175      4.2846   \n",
       "          36.0432     -1.33580   -1.282900  ...      2.8628      1.8351   \n",
       "-118.9271 35.7791      0.90483    0.531310  ...      6.6669      6.1738   \n",
       "\n",
       "                    2018-11-11  2018-11-17  2018-11-23  2018-12-05  \\\n",
       "Longitude Latitude                                                   \n",
       "-119.5609 36.1672     -51.5510    -50.8460    -52.1710    -51.1730   \n",
       "-119.5489 36.0072     -81.3700    -81.0500    -82.8020    -81.8950   \n",
       "-119.5369 36.0472     -82.8720    -82.5070    -84.1300    -83.3090   \n",
       "-119.5329 36.0152     -93.4770    -93.2590    -94.9470    -94.3050   \n",
       "-119.5289 35.9512     -31.8580    -31.5220    -32.9980    -32.5920   \n",
       "...                        ...         ...         ...         ...   \n",
       "-118.9351 35.9912       3.7906      3.6429      3.8131      2.7015   \n",
       "-118.9331 35.8431       5.8431      5.6430      5.8181      5.7786   \n",
       "-118.9311 35.6111       5.3261      5.0863      5.6278      4.1805   \n",
       "          36.0432       3.5058      3.3816      3.2020      2.7933   \n",
       "-118.9271 35.7791       7.0694      7.0594      7.1988      6.9346   \n",
       "\n",
       "                    2018-12-17  2018-12-29  2019-01-10  2019-01-22  \n",
       "Longitude Latitude                                                  \n",
       "-119.5609 36.1672     -51.0260    -51.1030    -53.1130    -53.6540  \n",
       "-119.5489 36.0072     -80.9560    -82.2640    -83.5630    -83.4070  \n",
       "-119.5369 36.0472     -83.1980    -83.6720    -84.9170    -84.5300  \n",
       "-119.5329 36.0152     -93.6450    -94.7880    -96.0660    -96.0170  \n",
       "-119.5289 35.9512     -31.5850    -32.0960    -33.1620    -32.8450  \n",
       "...                        ...         ...         ...         ...  \n",
       "-118.9351 35.9912       5.1692      5.8056      3.2722      3.7133  \n",
       "-118.9331 35.8431       7.0684      8.0765      5.0210      5.4701  \n",
       "-118.9311 35.6111       6.4902      7.5899      4.7841      5.1107  \n",
       "          36.0432       4.2067      4.5700      2.6953      2.8795  \n",
       "-118.9271 35.7791       8.5980      9.5428      6.8206      7.1979  \n",
       "\n",
       "[410 rows x 110 columns]"
      ]
     },
     "execution_count": 28,
     "metadata": {},
     "output_type": "execute_result"
    }
   ],
   "source": [
    "df=pd.read_csv('dataset1\\trainingvalidation.csv')\n",
    "df=df.set_index([df.columns[0],df.columns[1]])\n",
    "df.columns=pd.to_datetime(df.columns, format='%Y-%m-%d')\n",
    "df=df.dropna(axis=0, how='all')#drop full nan rows\n",
    "df"
   ]
  },
  {
   "cell_type": "markdown",
   "metadata": {},
   "source": [
    "##### Remove next line to include all data"
   ]
  },
  {
   "cell_type": "markdown",
   "metadata": {},
   "source": [
    "# Timestep"
   ]
  },
  {
   "cell_type": "code",
   "execution_count": 29,
   "metadata": {},
   "outputs": [],
   "source": [
    "timestep=10\n",
    "# 1 2 3 4 5 6 7 ...\n",
    "# w/ timestep of 2\n",
    "# [[1,2][2,3][3,4]"
   ]
  },
  {
   "cell_type": "markdown",
   "metadata": {},
   "source": [
    "# Shaping function (remove start and step for first for loop to include all data)"
   ]
  },
  {
   "cell_type": "code",
   "execution_count": 30,
   "metadata": {},
   "outputs": [],
   "source": [
    "def shaping(datain, timestep):\n",
    "    #print(arr)\n",
    "    cnt=0\n",
    "    for row in range(len(datain.index)): #picks a row at every iteration, allows to reduction of input and inclusion of multiple time series, remove start and step to run on full dataset \n",
    "    # Convert input dataframe to array and flatten\n",
    "        #datain.iloc[row].fillna(datain.iloc[row].mean).to_numpy().flatten()\n",
    "        arr=datain.iloc[row].interpolate().to_numpy().flatten() # flatten row\n",
    "        #arr=arr.fillna(arr.mean)\n",
    "        #arr=np.where(np.isnan(arr), ma.array(arr, mask=np.isnan(arr)).mean(), arr) \n",
    "        for mth in range(0, len(datain.columns)-(2*timestep)+1): # Define range lenght of the dates - 2* amount of timesep?? +1\n",
    "            cnt=cnt+1 # Gives us the number of samples. Later used to reshape the data\n",
    "            X_start=mth # Start month for inputs of each sample\n",
    "            X_end=mth+timestep # End month for inputs of each sample\n",
    "            Y_start=mth+timestep # Start month for targets of each sample. Note, start is inclusive and end is exclusive, that's why X_end and Y_start is the same number\n",
    "            Y_end=mth+2*timestep # End month for targets of each sample.  \n",
    "            \n",
    "            # Assemble input and target arrays containing all samples\n",
    "            if cnt==1:\n",
    "                X_comb=arr[X_start:X_end]\n",
    "                Y_comb=arr[Y_start:Y_end]\n",
    "            else: \n",
    "                X_comb=np.append(X_comb, arr[X_start:X_end])\n",
    "                Y_comb=np.append(Y_comb, arr[Y_start:Y_end])\n",
    "    # Reshape input and target arrays\n",
    "    X_out=np.reshape(X_comb, (cnt, timestep, 1))\n",
    "    Y_out=np.reshape(Y_comb, (cnt, timestep, 1))\n",
    "    return X_out, Y_out"
   ]
  },
  {
   "cell_type": "markdown",
   "metadata": {},
   "source": [
    "##### Step 2 - Split and Shape data"
   ]
  },
  {
   "cell_type": "code",
   "execution_count": 31,
   "metadata": {},
   "outputs": [],
   "source": [
    "#Divides data into 80% training 20% testing\n",
    "#train, test = train_test_split(df, test_size=0.2)\n",
    "# creates sequences to train\n",
    "# X , Y = shaping(datain=df, timestep= timestep )\n",
    "# X_train, X_test, Y_train, Y_test = train_test_split(X,Y , test_size=0.2, random_state=28)\n",
    "# nsamples, nx, ny = X_train.shape\n",
    "# X_train = X_train.reshape((nsamples,nx*ny))\n",
    "# nsamples, nx, ny = Y_train.shape\n",
    "# Y_train = Y_train.reshape((nsamples,nx*ny))\n",
    "# nsamples, nx, ny = X_test.shape\n",
    "# X_test = X_test.reshape((nsamples,nx*ny))\n",
    "# nsamples, nx, ny = Y_test.shape\n",
    "# Y_test = Y_test.reshape((nsamples,nx*ny))\n",
    "#Divides data into 80% training 20% testing\n",
    "scaler=MinMaxScaler()\n",
    "scaler2=MinMaxScaler()\n",
    "# creates sequences to train\n",
    "shuffled = df.sample(frac=1)\n",
    "X_train, Y_train = shaping(datain=shuffled, timestep= timestep )\n",
    "test=pd.read_csv('dataset1\\testset170.csv')\n",
    "test=test.set_index([test.columns[0],test.columns[1]])\n",
    "test.columns=pd.to_datetime(test.columns, format='%Y-%m-%d')\n",
    "test=test.dropna(axis=0, how='all')#drop full nan rows\n",
    "\n",
    "X_test, Y_test = shaping(datain=test, timestep=timestep)\n",
    "X_train=scaler.fit_transform(X_train.reshape(-1,X_train.shape[-1])).reshape(X_train.shape)\n",
    "X_test=scaler.transform(X_test.reshape(-1,X_test.shape[-1])).reshape(X_test.shape)\n",
    "\n",
    "# Y_train=scaler2.fit_transform(Y_train.reshape(-1,Y_train.shape[-1])).reshape(Y_train.shape)\n",
    "# Y_test=scaler2.transform(Y_test.reshape(-1,Y_test.shape[-1])).reshape(Y_test.shape)"
   ]
  },
  {
   "cell_type": "code",
   "execution_count": 32,
   "metadata": {},
   "outputs": [],
   "source": [
    "# scaler = MinMaxScaler()\n",
    "# scaler2 = MinMaxScaler()\n",
    "# X_train = scaler.fit_transform(X_train.reshape(-1, X_train.shape[-1])).reshape(X_train.shape)\n",
    "# X_test = scaler.transform(X_test.reshape(-1, X_test.shape[-1])).reshape(X_test.shape)\n",
    "# Y_train = scaler2.fit_transform(Y_train.reshape(-1, Y_train.shape[-1])).reshape(Y_train.shape)\n",
    "# Y_test = scaler.transform(Y_test.reshape(-1, Y_test.shape[-1])).reshape(Y_test.shape)\n"
   ]
  },
  {
   "cell_type": "markdown",
   "metadata": {},
   "source": [
    "##### Step 3 - Specify the structure of a Neural Network, first model"
   ]
  },
  {
   "cell_type": "code",
   "execution_count": 33,
   "metadata": {},
   "outputs": [],
   "source": [
    "\n",
    "model2 = Sequential(name=\"biLSTM-Model\") # Model\n",
    "#model2.add(Masking(mask_value=-1000, input_shape=(timestep, 1)))\n",
    "\n",
    "model2.add(Input(shape=(X_train.shape[1],X_train.shape[2]), name='Input-Layer')) # Input Layer - need to speicfy the shape of inputs\n",
    "model2.add(Bidirectional(LSTM(units=64, activation='relu', recurrent_activation='sigmoid', stateful=False), name='Hidden-LSTM-Encoder-Layer')) # Encoder Layer\n",
    "model2.add(RepeatVector(Y_train.shape[1], name='Repeat-Vector-Layer')) # Repeat Vector\n",
    "model2.add(Bidirectional(LSTM(units=64, activation='relu', recurrent_activation='sigmoid', stateful=False, return_sequences=True), name='Hidden-LSTM-Decoder-Layer')) # Decoder Layer\n",
    "model2.add(TimeDistributed(Dense(units=1, activation='linear'), name='Output-Layer')) # Output Layer, Linear(x) = x\n",
    "#optimizer=Adam(.005)\n",
    "model2.compile(optimizer='adam', # default='rmsprop', an algorithm to be used in backpropagation\n",
    "              loss='mean_squared_error', # Loss function to be optimized. A string (name of loss function), or a tf.keras.losses.Loss instance.\n",
    "                metrics=['MeanSquaredError', 'mean_absolute_error'], # List of metrics to be evaluated by the model during training and testing. Each of this can be a string (name of a built-in function), function or a tf.keras.metrics.Metric instance. \n",
    "              loss_weights=None, # default=None, Optional list or dictionary specifying scalar coefficients (Python floats) to weight the loss contributions of different model outputs.\n",
    "              weighted_metrics=None, # default=None, List of metrics to be evaluated and weighted by sample_weight or class_weight during training and testing.\n",
    "              run_eagerly=None, # Defaults to False. If True, this Model's logic will not be wrapped in a tf.function. Recommended to leave this as None unless your Model cannot be run inside a tf.function.\n",
    "              steps_per_execution=None, # Defaults to 1. The number of batches to run during each tf.function call. Running multiple batches inside a single tf.function call can greatly improve performance on TPUs or small models with a large Python overhead.\n",
    "                   \n",
    "             )"
   ]
  },
  {
   "cell_type": "code",
   "execution_count": 34,
   "metadata": {},
   "outputs": [],
   "source": [
    "##### Train model"
   ]
  },
  {
   "cell_type": "code",
   "execution_count": 35,
   "metadata": {},
   "outputs": [
    {
     "name": "stdout",
     "output_type": "stream",
     "text": [
      "Epoch 1/100\n",
      "1001/1001 - 25s - loss: 98.6384 - mean_squared_error: 98.6382 - mean_absolute_error: 4.9614 - val_loss: 13.9150 - val_mean_squared_error: 13.9150 - val_mean_absolute_error: 2.9605 - 25s/epoch - 24ms/step\n",
      "Epoch 2/100\n",
      "1001/1001 - 18s - loss: 12.4306 - mean_squared_error: 12.4306 - mean_absolute_error: 2.6161 - val_loss: 11.1883 - val_mean_squared_error: 11.1883 - val_mean_absolute_error: 2.3830 - 18s/epoch - 18ms/step\n",
      "Epoch 3/100\n",
      "1001/1001 - 18s - loss: 11.4288 - mean_squared_error: 11.4288 - mean_absolute_error: 2.5008 - val_loss: 12.2295 - val_mean_squared_error: 12.2295 - val_mean_absolute_error: 2.4617 - 18s/epoch - 18ms/step\n",
      "Epoch 4/100\n",
      "1001/1001 - 17s - loss: 11.2527 - mean_squared_error: 11.2527 - mean_absolute_error: 2.4857 - val_loss: 9.9342 - val_mean_squared_error: 9.9342 - val_mean_absolute_error: 2.3654 - 17s/epoch - 17ms/step\n",
      "Epoch 5/100\n",
      "1001/1001 - 18s - loss: 10.6187 - mean_squared_error: 10.6187 - mean_absolute_error: 2.4117 - val_loss: 10.1146 - val_mean_squared_error: 10.1146 - val_mean_absolute_error: 2.4255 - 18s/epoch - 18ms/step\n",
      "Epoch 6/100\n",
      "1001/1001 - 18s - loss: 10.2822 - mean_squared_error: 10.2822 - mean_absolute_error: 2.3717 - val_loss: 11.9606 - val_mean_squared_error: 11.9606 - val_mean_absolute_error: 2.7380 - 18s/epoch - 18ms/step\n",
      "Epoch 7/100\n",
      "1001/1001 - 19s - loss: 10.6851 - mean_squared_error: 10.6851 - mean_absolute_error: 2.4213 - val_loss: 9.6090 - val_mean_squared_error: 9.6090 - val_mean_absolute_error: 2.2274 - 19s/epoch - 19ms/step\n",
      "Epoch 8/100\n",
      "1001/1001 - 18s - loss: 10.1924 - mean_squared_error: 10.1924 - mean_absolute_error: 2.3601 - val_loss: 9.5473 - val_mean_squared_error: 9.5473 - val_mean_absolute_error: 2.2705 - 18s/epoch - 18ms/step\n",
      "Epoch 9/100\n",
      "1001/1001 - 18s - loss: 10.1142 - mean_squared_error: 10.1142 - mean_absolute_error: 2.3546 - val_loss: 9.4585 - val_mean_squared_error: 9.4585 - val_mean_absolute_error: 2.2550 - 18s/epoch - 18ms/step\n",
      "Epoch 10/100\n",
      "1001/1001 - 18s - loss: 10.1160 - mean_squared_error: 10.1160 - mean_absolute_error: 2.3501 - val_loss: 12.2900 - val_mean_squared_error: 12.2900 - val_mean_absolute_error: 2.8411 - 18s/epoch - 18ms/step\n",
      "Epoch 11/100\n",
      "1001/1001 - 18s - loss: 9.9782 - mean_squared_error: 9.9782 - mean_absolute_error: 2.3391 - val_loss: 9.7304 - val_mean_squared_error: 9.7304 - val_mean_absolute_error: 2.3216 - 18s/epoch - 18ms/step\n",
      "Epoch 12/100\n",
      "1001/1001 - 17s - loss: 9.8636 - mean_squared_error: 9.8636 - mean_absolute_error: 2.3189 - val_loss: 10.1856 - val_mean_squared_error: 10.1856 - val_mean_absolute_error: 2.2073 - 17s/epoch - 17ms/step\n",
      "Epoch 13/100\n",
      "1001/1001 - 17s - loss: 10.0364 - mean_squared_error: 10.0364 - mean_absolute_error: 2.3457 - val_loss: 10.6874 - val_mean_squared_error: 10.6874 - val_mean_absolute_error: 2.5179 - 17s/epoch - 17ms/step\n",
      "Epoch 14/100\n",
      "1001/1001 - 19s - loss: 9.9592 - mean_squared_error: 9.9592 - mean_absolute_error: 2.3346 - val_loss: 10.1140 - val_mean_squared_error: 10.1140 - val_mean_absolute_error: 2.2321 - 19s/epoch - 19ms/step\n",
      "Epoch 15/100\n",
      "1001/1001 - 19s - loss: 9.6843 - mean_squared_error: 9.6843 - mean_absolute_error: 2.3031 - val_loss: 9.0929 - val_mean_squared_error: 9.0929 - val_mean_absolute_error: 2.2501 - 19s/epoch - 19ms/step\n",
      "Epoch 16/100\n",
      "1001/1001 - 18s - loss: 9.7392 - mean_squared_error: 9.7392 - mean_absolute_error: 2.3131 - val_loss: 9.0921 - val_mean_squared_error: 9.0921 - val_mean_absolute_error: 2.2763 - 18s/epoch - 18ms/step\n",
      "Epoch 17/100\n",
      "1001/1001 - 18s - loss: 9.5846 - mean_squared_error: 9.5845 - mean_absolute_error: 2.2935 - val_loss: 8.7849 - val_mean_squared_error: 8.7849 - val_mean_absolute_error: 2.1727 - 18s/epoch - 18ms/step\n",
      "Epoch 18/100\n",
      "1001/1001 - 18s - loss: 9.5298 - mean_squared_error: 9.5298 - mean_absolute_error: 2.2866 - val_loss: 8.8992 - val_mean_squared_error: 8.8992 - val_mean_absolute_error: 2.2601 - 18s/epoch - 18ms/step\n",
      "Epoch 19/100\n",
      "1001/1001 - 19s - loss: 9.3684 - mean_squared_error: 9.3684 - mean_absolute_error: 2.2655 - val_loss: 9.4133 - val_mean_squared_error: 9.4133 - val_mean_absolute_error: 2.3545 - 19s/epoch - 19ms/step\n",
      "Epoch 20/100\n",
      "1001/1001 - 18s - loss: 9.4112 - mean_squared_error: 9.4112 - mean_absolute_error: 2.2803 - val_loss: 8.9361 - val_mean_squared_error: 8.9361 - val_mean_absolute_error: 2.2084 - 18s/epoch - 18ms/step\n",
      "Epoch 21/100\n",
      "1001/1001 - 19s - loss: 9.3492 - mean_squared_error: 9.3492 - mean_absolute_error: 2.2743 - val_loss: 8.9527 - val_mean_squared_error: 8.9527 - val_mean_absolute_error: 2.1519 - 19s/epoch - 19ms/step\n",
      "Epoch 22/100\n",
      "1001/1001 - 19s - loss: 8.9860 - mean_squared_error: 8.9860 - mean_absolute_error: 2.2281 - val_loss: 9.3357 - val_mean_squared_error: 9.3357 - val_mean_absolute_error: 2.3181 - 19s/epoch - 19ms/step\n",
      "Epoch 23/100\n",
      "1001/1001 - 19s - loss: 8.9179 - mean_squared_error: 8.9179 - mean_absolute_error: 2.2192 - val_loss: 8.2957 - val_mean_squared_error: 8.2957 - val_mean_absolute_error: 2.1463 - 19s/epoch - 19ms/step\n",
      "Epoch 24/100\n",
      "1001/1001 - 20s - loss: 8.9839 - mean_squared_error: 8.9839 - mean_absolute_error: 2.2294 - val_loss: 8.3476 - val_mean_squared_error: 8.3476 - val_mean_absolute_error: 2.1876 - 20s/epoch - 20ms/step\n",
      "Epoch 25/100\n",
      "1001/1001 - 19s - loss: 8.8608 - mean_squared_error: 8.8608 - mean_absolute_error: 2.2192 - val_loss: 8.2427 - val_mean_squared_error: 8.2427 - val_mean_absolute_error: 2.1843 - 19s/epoch - 19ms/step\n",
      "Epoch 26/100\n",
      "1001/1001 - 18s - loss: 8.7042 - mean_squared_error: 8.7042 - mean_absolute_error: 2.2027 - val_loss: 10.0286 - val_mean_squared_error: 10.0286 - val_mean_absolute_error: 2.2500 - 18s/epoch - 18ms/step\n",
      "Epoch 27/100\n",
      "1001/1001 - 17s - loss: 8.5223 - mean_squared_error: 8.5223 - mean_absolute_error: 2.1788 - val_loss: 8.2087 - val_mean_squared_error: 8.2087 - val_mean_absolute_error: 2.1418 - 17s/epoch - 17ms/step\n",
      "Epoch 28/100\n",
      "1001/1001 - 17s - loss: 8.4928 - mean_squared_error: 8.4928 - mean_absolute_error: 2.1758 - val_loss: 10.9087 - val_mean_squared_error: 10.9087 - val_mean_absolute_error: 2.3781 - 17s/epoch - 17ms/step\n",
      "Epoch 29/100\n",
      "1001/1001 - 17s - loss: 8.4904 - mean_squared_error: 8.4904 - mean_absolute_error: 2.1764 - val_loss: 7.8619 - val_mean_squared_error: 7.8619 - val_mean_absolute_error: 2.0759 - 17s/epoch - 17ms/step\n",
      "Epoch 30/100\n",
      "1001/1001 - 17s - loss: 8.5375 - mean_squared_error: 8.5375 - mean_absolute_error: 2.1801 - val_loss: 7.6489 - val_mean_squared_error: 7.6489 - val_mean_absolute_error: 2.0406 - 17s/epoch - 17ms/step\n",
      "Epoch 31/100\n",
      "1001/1001 - 17s - loss: 8.2307 - mean_squared_error: 8.2307 - mean_absolute_error: 2.1393 - val_loss: 7.8636 - val_mean_squared_error: 7.8636 - val_mean_absolute_error: 2.0454 - 17s/epoch - 17ms/step\n",
      "Epoch 32/100\n",
      "1001/1001 - 17s - loss: 8.3109 - mean_squared_error: 8.3109 - mean_absolute_error: 2.1504 - val_loss: 8.8063 - val_mean_squared_error: 8.8063 - val_mean_absolute_error: 2.2959 - 17s/epoch - 17ms/step\n",
      "Epoch 33/100\n",
      "1001/1001 - 17s - loss: 8.2970 - mean_squared_error: 8.2970 - mean_absolute_error: 2.1518 - val_loss: 7.9363 - val_mean_squared_error: 7.9363 - val_mean_absolute_error: 2.0751 - 17s/epoch - 17ms/step\n",
      "Epoch 34/100\n",
      "1001/1001 - 18s - loss: 8.1329 - mean_squared_error: 8.1329 - mean_absolute_error: 2.1295 - val_loss: 9.8212 - val_mean_squared_error: 9.8212 - val_mean_absolute_error: 2.4668 - 18s/epoch - 18ms/step\n",
      "Epoch 35/100\n",
      "1001/1001 - 18s - loss: 8.0794 - mean_squared_error: 8.0794 - mean_absolute_error: 2.1218 - val_loss: 8.5346 - val_mean_squared_error: 8.5346 - val_mean_absolute_error: 2.1089 - 18s/epoch - 18ms/step\n",
      "Epoch 36/100\n",
      "1001/1001 - 18s - loss: 8.0282 - mean_squared_error: 8.0282 - mean_absolute_error: 2.1136 - val_loss: 7.5713 - val_mean_squared_error: 7.5713 - val_mean_absolute_error: 2.0340 - 18s/epoch - 18ms/step\n",
      "Epoch 37/100\n",
      "1001/1001 - 18s - loss: 7.8671 - mean_squared_error: 7.8671 - mean_absolute_error: 2.0920 - val_loss: 7.3740 - val_mean_squared_error: 7.3740 - val_mean_absolute_error: 1.9966 - 18s/epoch - 18ms/step\n",
      "Epoch 38/100\n",
      "1001/1001 - 19s - loss: 7.7143 - mean_squared_error: 7.7143 - mean_absolute_error: 2.0675 - val_loss: 6.9098 - val_mean_squared_error: 6.9098 - val_mean_absolute_error: 1.9763 - 19s/epoch - 19ms/step\n",
      "Epoch 39/100\n",
      "1001/1001 - 18s - loss: 7.8027 - mean_squared_error: 7.8027 - mean_absolute_error: 2.0813 - val_loss: 7.9226 - val_mean_squared_error: 7.9226 - val_mean_absolute_error: 2.1166 - 18s/epoch - 18ms/step\n",
      "Epoch 40/100\n",
      "1001/1001 - 17s - loss: 7.8164 - mean_squared_error: 7.8164 - mean_absolute_error: 2.0874 - val_loss: 8.0160 - val_mean_squared_error: 8.0160 - val_mean_absolute_error: 2.1709 - 17s/epoch - 17ms/step\n",
      "Epoch 41/100\n",
      "1001/1001 - 18s - loss: 7.6237 - mean_squared_error: 7.6237 - mean_absolute_error: 2.0584 - val_loss: 7.2969 - val_mean_squared_error: 7.2969 - val_mean_absolute_error: 2.0493 - 18s/epoch - 18ms/step\n",
      "Epoch 42/100\n",
      "1001/1001 - 17s - loss: 7.6576 - mean_squared_error: 7.6576 - mean_absolute_error: 2.0629 - val_loss: 7.7903 - val_mean_squared_error: 7.7903 - val_mean_absolute_error: 2.0127 - 17s/epoch - 17ms/step\n",
      "Epoch 43/100\n",
      "1001/1001 - 17s - loss: 7.6518 - mean_squared_error: 7.6518 - mean_absolute_error: 2.0622 - val_loss: 7.2848 - val_mean_squared_error: 7.2848 - val_mean_absolute_error: 2.0379 - 17s/epoch - 17ms/step\n",
      "Epoch 44/100\n",
      "1001/1001 - 17s - loss: 7.5917 - mean_squared_error: 7.5917 - mean_absolute_error: 2.0517 - val_loss: 9.0833 - val_mean_squared_error: 9.0833 - val_mean_absolute_error: 2.1877 - 17s/epoch - 17ms/step\n",
      "Epoch 45/100\n",
      "1001/1001 - 18s - loss: 7.5655 - mean_squared_error: 7.5655 - mean_absolute_error: 2.0487 - val_loss: 7.2047 - val_mean_squared_error: 7.2047 - val_mean_absolute_error: 2.0517 - 18s/epoch - 18ms/step\n",
      "Epoch 46/100\n",
      "1001/1001 - 18s - loss: 7.4256 - mean_squared_error: 7.4256 - mean_absolute_error: 2.0282 - val_loss: 6.8976 - val_mean_squared_error: 6.8976 - val_mean_absolute_error: 1.9790 - 18s/epoch - 18ms/step\n",
      "Epoch 47/100\n",
      "1001/1001 - 18s - loss: 7.3980 - mean_squared_error: 7.3980 - mean_absolute_error: 2.0252 - val_loss: 7.2212 - val_mean_squared_error: 7.2212 - val_mean_absolute_error: 2.0075 - 18s/epoch - 18ms/step\n",
      "Epoch 48/100\n",
      "1001/1001 - 18s - loss: 7.3883 - mean_squared_error: 7.3883 - mean_absolute_error: 2.0241 - val_loss: 7.7618 - val_mean_squared_error: 7.7618 - val_mean_absolute_error: 2.0073 - 18s/epoch - 18ms/step\n",
      "Epoch 49/100\n",
      "1001/1001 - 17s - loss: 7.4018 - mean_squared_error: 7.4018 - mean_absolute_error: 2.0229 - val_loss: 7.4661 - val_mean_squared_error: 7.4661 - val_mean_absolute_error: 2.0088 - 17s/epoch - 17ms/step\n",
      "Epoch 50/100\n",
      "1001/1001 - 18s - loss: 7.3212 - mean_squared_error: 7.3212 - mean_absolute_error: 2.0146 - val_loss: 6.8176 - val_mean_squared_error: 6.8176 - val_mean_absolute_error: 1.9627 - 18s/epoch - 18ms/step\n",
      "Epoch 51/100\n",
      "1001/1001 - 18s - loss: 7.3794 - mean_squared_error: 7.3794 - mean_absolute_error: 2.0226 - val_loss: 6.9947 - val_mean_squared_error: 6.9947 - val_mean_absolute_error: 1.9792 - 18s/epoch - 18ms/step\n",
      "Epoch 52/100\n",
      "1001/1001 - 18s - loss: 7.2812 - mean_squared_error: 7.2812 - mean_absolute_error: 2.0080 - val_loss: 8.9079 - val_mean_squared_error: 8.9079 - val_mean_absolute_error: 2.3625 - 18s/epoch - 18ms/step\n",
      "Epoch 53/100\n",
      "1001/1001 - 17s - loss: 7.2237 - mean_squared_error: 7.2237 - mean_absolute_error: 2.0033 - val_loss: 6.9435 - val_mean_squared_error: 6.9435 - val_mean_absolute_error: 1.9734 - 17s/epoch - 17ms/step\n",
      "Epoch 54/100\n",
      "1001/1001 - 18s - loss: 7.1943 - mean_squared_error: 7.1943 - mean_absolute_error: 1.9982 - val_loss: 7.2596 - val_mean_squared_error: 7.2596 - val_mean_absolute_error: 1.9605 - 18s/epoch - 18ms/step\n",
      "Epoch 55/100\n",
      "1001/1001 - 18s - loss: 7.0912 - mean_squared_error: 7.0912 - mean_absolute_error: 1.9824 - val_loss: 6.9900 - val_mean_squared_error: 6.9900 - val_mean_absolute_error: 1.9673 - 18s/epoch - 18ms/step\n",
      "Epoch 56/100\n",
      "1001/1001 - 18s - loss: 7.1226 - mean_squared_error: 7.1226 - mean_absolute_error: 1.9857 - val_loss: 7.6425 - val_mean_squared_error: 7.6425 - val_mean_absolute_error: 1.9974 - 18s/epoch - 18ms/step\n",
      "Epoch 57/100\n",
      "1001/1001 - 17s - loss: 7.0509 - mean_squared_error: 7.0509 - mean_absolute_error: 1.9748 - val_loss: 6.6975 - val_mean_squared_error: 6.6975 - val_mean_absolute_error: 1.9329 - 17s/epoch - 17ms/step\n",
      "Epoch 58/100\n",
      "1001/1001 - 17s - loss: 7.0670 - mean_squared_error: 7.0670 - mean_absolute_error: 1.9795 - val_loss: 6.7348 - val_mean_squared_error: 6.7348 - val_mean_absolute_error: 1.9149 - 17s/epoch - 17ms/step\n",
      "Epoch 59/100\n",
      "1001/1001 - 17s - loss: 7.0127 - mean_squared_error: 7.0127 - mean_absolute_error: 1.9687 - val_loss: 6.6066 - val_mean_squared_error: 6.6066 - val_mean_absolute_error: 1.8859 - 17s/epoch - 17ms/step\n",
      "Epoch 60/100\n",
      "1001/1001 - 17s - loss: 7.0435 - mean_squared_error: 7.0435 - mean_absolute_error: 1.9725 - val_loss: 7.1606 - val_mean_squared_error: 7.1606 - val_mean_absolute_error: 1.9973 - 17s/epoch - 17ms/step\n",
      "Epoch 61/100\n",
      "1001/1001 - 17s - loss: 6.9767 - mean_squared_error: 6.9767 - mean_absolute_error: 1.9647 - val_loss: 7.4292 - val_mean_squared_error: 7.4292 - val_mean_absolute_error: 2.0077 - 17s/epoch - 17ms/step\n",
      "Epoch 62/100\n",
      "1001/1001 - 17s - loss: 6.8639 - mean_squared_error: 6.8639 - mean_absolute_error: 1.9486 - val_loss: 6.8287 - val_mean_squared_error: 6.8287 - val_mean_absolute_error: 1.9506 - 17s/epoch - 17ms/step\n",
      "Epoch 63/100\n",
      "1001/1001 - 17s - loss: 6.8451 - mean_squared_error: 6.8451 - mean_absolute_error: 1.9473 - val_loss: 7.3218 - val_mean_squared_error: 7.3218 - val_mean_absolute_error: 2.0075 - 17s/epoch - 17ms/step\n",
      "Epoch 64/100\n",
      "1001/1001 - 17s - loss: 6.8886 - mean_squared_error: 6.8886 - mean_absolute_error: 1.9547 - val_loss: 6.5668 - val_mean_squared_error: 6.5668 - val_mean_absolute_error: 1.9523 - 17s/epoch - 17ms/step\n",
      "Epoch 65/100\n",
      "1001/1001 - 17s - loss: 6.7957 - mean_squared_error: 6.7957 - mean_absolute_error: 1.9376 - val_loss: 7.4295 - val_mean_squared_error: 7.4295 - val_mean_absolute_error: 2.0333 - 17s/epoch - 17ms/step\n",
      "Epoch 66/100\n",
      "1001/1001 - 17s - loss: 6.7455 - mean_squared_error: 6.7455 - mean_absolute_error: 1.9320 - val_loss: 6.3369 - val_mean_squared_error: 6.3369 - val_mean_absolute_error: 1.8904 - 17s/epoch - 17ms/step\n",
      "Epoch 67/100\n",
      "1001/1001 - 17s - loss: 6.6661 - mean_squared_error: 6.6661 - mean_absolute_error: 1.9216 - val_loss: 6.2117 - val_mean_squared_error: 6.2117 - val_mean_absolute_error: 1.8725 - 17s/epoch - 17ms/step\n",
      "Epoch 68/100\n",
      "1001/1001 - 19s - loss: 6.6886 - mean_squared_error: 6.6886 - mean_absolute_error: 1.9228 - val_loss: 6.9003 - val_mean_squared_error: 6.9003 - val_mean_absolute_error: 1.9376 - 19s/epoch - 19ms/step\n",
      "Epoch 69/100\n",
      "1001/1001 - 18s - loss: 6.6608 - mean_squared_error: 6.6608 - mean_absolute_error: 1.9204 - val_loss: 5.9488 - val_mean_squared_error: 5.9488 - val_mean_absolute_error: 1.8564 - 18s/epoch - 18ms/step\n",
      "Epoch 70/100\n",
      "1001/1001 - 18s - loss: 6.5388 - mean_squared_error: 6.5388 - mean_absolute_error: 1.9016 - val_loss: 6.3913 - val_mean_squared_error: 6.3913 - val_mean_absolute_error: 1.9385 - 18s/epoch - 18ms/step\n",
      "Epoch 71/100\n",
      "1001/1001 - 19s - loss: 6.5622 - mean_squared_error: 6.5622 - mean_absolute_error: 1.9086 - val_loss: 6.9322 - val_mean_squared_error: 6.9322 - val_mean_absolute_error: 1.9691 - 19s/epoch - 19ms/step\n",
      "Epoch 72/100\n",
      "1001/1001 - 20s - loss: 6.4773 - mean_squared_error: 6.4773 - mean_absolute_error: 1.8943 - val_loss: 5.7949 - val_mean_squared_error: 5.7949 - val_mean_absolute_error: 1.8046 - 20s/epoch - 20ms/step\n",
      "Epoch 73/100\n",
      "1001/1001 - 20s - loss: 6.3803 - mean_squared_error: 6.3803 - mean_absolute_error: 1.8825 - val_loss: 6.6411 - val_mean_squared_error: 6.6411 - val_mean_absolute_error: 1.9826 - 20s/epoch - 20ms/step\n",
      "Epoch 74/100\n",
      "1001/1001 - 19s - loss: 6.3714 - mean_squared_error: 6.3714 - mean_absolute_error: 1.8781 - val_loss: 5.9291 - val_mean_squared_error: 5.9291 - val_mean_absolute_error: 1.8287 - 19s/epoch - 19ms/step\n",
      "Epoch 75/100\n",
      "1001/1001 - 19s - loss: 6.3237 - mean_squared_error: 6.3237 - mean_absolute_error: 1.8731 - val_loss: 6.7254 - val_mean_squared_error: 6.7254 - val_mean_absolute_error: 1.9166 - 19s/epoch - 19ms/step\n",
      "Epoch 76/100\n",
      "1001/1001 - 20s - loss: 6.2326 - mean_squared_error: 6.2326 - mean_absolute_error: 1.8587 - val_loss: 5.9966 - val_mean_squared_error: 5.9966 - val_mean_absolute_error: 1.8143 - 20s/epoch - 20ms/step\n",
      "Epoch 77/100\n",
      "1001/1001 - 18s - loss: 6.2281 - mean_squared_error: 6.2281 - mean_absolute_error: 1.8626 - val_loss: 6.0601 - val_mean_squared_error: 6.0601 - val_mean_absolute_error: 1.8674 - 18s/epoch - 18ms/step\n",
      "Epoch 78/100\n",
      "1001/1001 - 19s - loss: 6.1577 - mean_squared_error: 6.1577 - mean_absolute_error: 1.8488 - val_loss: 5.9689 - val_mean_squared_error: 5.9689 - val_mean_absolute_error: 1.8777 - 19s/epoch - 19ms/step\n",
      "Epoch 79/100\n",
      "1001/1001 - 19s - loss: 6.1192 - mean_squared_error: 6.1192 - mean_absolute_error: 1.8433 - val_loss: 5.6971 - val_mean_squared_error: 5.6971 - val_mean_absolute_error: 1.7900 - 19s/epoch - 19ms/step\n",
      "Epoch 80/100\n",
      "1001/1001 - 18s - loss: 6.0816 - mean_squared_error: 6.0816 - mean_absolute_error: 1.8380 - val_loss: 5.6417 - val_mean_squared_error: 5.6417 - val_mean_absolute_error: 1.7896 - 18s/epoch - 18ms/step\n",
      "Epoch 81/100\n",
      "1001/1001 - 18s - loss: 6.0461 - mean_squared_error: 6.0461 - mean_absolute_error: 1.8318 - val_loss: 5.8909 - val_mean_squared_error: 5.8909 - val_mean_absolute_error: 1.8179 - 18s/epoch - 18ms/step\n",
      "Epoch 82/100\n",
      "1001/1001 - 18s - loss: 5.9525 - mean_squared_error: 5.9525 - mean_absolute_error: 1.8210 - val_loss: 5.4615 - val_mean_squared_error: 5.4615 - val_mean_absolute_error: 1.7515 - 18s/epoch - 18ms/step\n",
      "Epoch 83/100\n",
      "1001/1001 - 20s - loss: 5.9170 - mean_squared_error: 5.9170 - mean_absolute_error: 1.8170 - val_loss: 5.8456 - val_mean_squared_error: 5.8456 - val_mean_absolute_error: 1.8384 - 20s/epoch - 20ms/step\n",
      "Epoch 84/100\n",
      "1001/1001 - 19s - loss: 5.8871 - mean_squared_error: 5.8871 - mean_absolute_error: 1.8085 - val_loss: 5.4377 - val_mean_squared_error: 5.4377 - val_mean_absolute_error: 1.7573 - 19s/epoch - 19ms/step\n",
      "Epoch 85/100\n",
      "1001/1001 - 18s - loss: 5.7833 - mean_squared_error: 5.7833 - mean_absolute_error: 1.7970 - val_loss: 6.0615 - val_mean_squared_error: 6.0615 - val_mean_absolute_error: 1.8455 - 18s/epoch - 18ms/step\n",
      "Epoch 86/100\n",
      "1001/1001 - 18s - loss: 5.7631 - mean_squared_error: 5.7631 - mean_absolute_error: 1.7926 - val_loss: 5.6077 - val_mean_squared_error: 5.6077 - val_mean_absolute_error: 1.7714 - 18s/epoch - 18ms/step\n",
      "Epoch 87/100\n",
      "1001/1001 - 18s - loss: 5.6945 - mean_squared_error: 5.6945 - mean_absolute_error: 1.7850 - val_loss: 5.5982 - val_mean_squared_error: 5.5982 - val_mean_absolute_error: 1.8057 - 18s/epoch - 18ms/step\n",
      "Epoch 88/100\n",
      "1001/1001 - 19s - loss: 5.6347 - mean_squared_error: 5.6347 - mean_absolute_error: 1.7772 - val_loss: 5.2199 - val_mean_squared_error: 5.2199 - val_mean_absolute_error: 1.7219 - 19s/epoch - 19ms/step\n",
      "Epoch 89/100\n",
      "1001/1001 - 19s - loss: 5.5451 - mean_squared_error: 5.5451 - mean_absolute_error: 1.7648 - val_loss: 5.7046 - val_mean_squared_error: 5.7046 - val_mean_absolute_error: 1.7872 - 19s/epoch - 19ms/step\n",
      "Epoch 90/100\n",
      "1001/1001 - 18s - loss: 5.5481 - mean_squared_error: 5.5481 - mean_absolute_error: 1.7600 - val_loss: 5.3387 - val_mean_squared_error: 5.3387 - val_mean_absolute_error: 1.7354 - 18s/epoch - 18ms/step\n",
      "Epoch 91/100\n",
      "1001/1001 - 18s - loss: 5.4031 - mean_squared_error: 5.4031 - mean_absolute_error: 1.7394 - val_loss: 4.9945 - val_mean_squared_error: 4.9946 - val_mean_absolute_error: 1.6799 - 18s/epoch - 18ms/step\n",
      "Epoch 92/100\n",
      "1001/1001 - 18s - loss: 5.3650 - mean_squared_error: 5.3650 - mean_absolute_error: 1.7360 - val_loss: 5.7267 - val_mean_squared_error: 5.7267 - val_mean_absolute_error: 1.8031 - 18s/epoch - 18ms/step\n",
      "Epoch 93/100\n",
      "1001/1001 - 18s - loss: 5.2712 - mean_squared_error: 5.2712 - mean_absolute_error: 1.7193 - val_loss: 4.6451 - val_mean_squared_error: 4.6451 - val_mean_absolute_error: 1.6359 - 18s/epoch - 18ms/step\n",
      "Epoch 94/100\n",
      "1001/1001 - 18s - loss: 5.2476 - mean_squared_error: 5.2476 - mean_absolute_error: 1.7173 - val_loss: 4.8299 - val_mean_squared_error: 4.8299 - val_mean_absolute_error: 1.6713 - 18s/epoch - 18ms/step\n",
      "Epoch 95/100\n",
      "1001/1001 - 18s - loss: 5.1741 - mean_squared_error: 5.1741 - mean_absolute_error: 1.7068 - val_loss: 6.2559 - val_mean_squared_error: 6.2559 - val_mean_absolute_error: 1.9867 - 18s/epoch - 18ms/step\n",
      "Epoch 96/100\n",
      "1001/1001 - 18s - loss: 5.0752 - mean_squared_error: 5.0752 - mean_absolute_error: 1.6918 - val_loss: 4.6677 - val_mean_squared_error: 4.6677 - val_mean_absolute_error: 1.6483 - 18s/epoch - 18ms/step\n",
      "Epoch 97/100\n",
      "1001/1001 - 18s - loss: 4.9744 - mean_squared_error: 4.9744 - mean_absolute_error: 1.6723 - val_loss: 4.6211 - val_mean_squared_error: 4.6211 - val_mean_absolute_error: 1.6215 - 18s/epoch - 18ms/step\n",
      "Epoch 98/100\n",
      "1001/1001 - 18s - loss: 4.9530 - mean_squared_error: 4.9530 - mean_absolute_error: 1.6720 - val_loss: 5.0497 - val_mean_squared_error: 5.0497 - val_mean_absolute_error: 1.6924 - 18s/epoch - 18ms/step\n",
      "Epoch 99/100\n",
      "1001/1001 - 19s - loss: 4.8967 - mean_squared_error: 4.8967 - mean_absolute_error: 1.6624 - val_loss: 4.8324 - val_mean_squared_error: 4.8324 - val_mean_absolute_error: 1.6622 - 19s/epoch - 19ms/step\n",
      "Epoch 100/100\n",
      "1001/1001 - 20s - loss: 4.8391 - mean_squared_error: 4.8391 - mean_absolute_error: 1.6510 - val_loss: 4.6674 - val_mean_squared_error: 4.6674 - val_mean_absolute_error: 1.6247 - 20s/epoch - 20ms/step\n"
     ]
    }
   ],
   "source": [
    "\n",
    "history = model2.fit(X_train, # input data\n",
    "                    Y_train, # target data\n",
    "                    batch_size=32, # Number of samples per gradient update. If unspecified, batch_size will default to 32.\n",
    "                    epochs=100, # default=1, Number of epochs to train the model. An epoch is an iteration over the entire x and y data provided\n",
    "                    verbose=2, # default='auto', ('auto', 0, 1, or 2). Verbosity mode. 0 = silent, 1 = progress bar, 2 = one line per epoch. 'auto' defaults to 1 for most cases, but 2 when used with ParameterServerStrategy.\n",
    "                    callbacks=None, # default=None, list of callbacks to apply during training. See tf.keras.callbacks\n",
    "                    validation_split=0.142, # default=0.0, Fraction of the training data to be used as validation data. The model will set apart this fraction of the training data, will not train on it, and will evaluate the loss and any model metrics on this data at the end of each epoch. \n",
    "                    #validation_data=(X_test, y_test), # default=None, Data on which to evaluate the loss and any model metrics at the end of each epoch. \n",
    "                    shuffle=True, # default=True, Boolean (whether to shuffle the training data before each epoch) or str (for 'batch').\n",
    "                    class_weight=None, # default=None, Optional dictionary mapping class indices (integers) to a weight (float) value, used for weighting the loss function (during training only). This can be useful to tell the model to \"pay more attention\" to samples from an under-represented class.\n",
    "                    sample_weight=None, # default=None, Optional Numpy array of weights for the training samples, used for weighting the loss function (during training only).\n",
    "                    initial_epoch=0, # Integer, default=0, Epoch at which to start training (useful for resuming a previous training run).\n",
    "                    steps_per_epoch=None, # Integer or None, default=None, Total number of steps (batches of samples) before declaring one epoch finished and starting the next epoch. When training with input tensors such as TensorFlow data tensors, the default None is equal to the number of samples in your dataset divided by the batch size, or 1 if that cannot be determined. \n",
    "                    validation_steps=None, # Only relevant if validation_data is provided and is a tf.data dataset. Total number of steps (batches of samples) to draw before stopping when performing validation at the end of every epoch.\n",
    "                    validation_batch_size=None, # Integer or None, default=None, Number of samples per validation batch. If unspecified, will default to batch_size.\n",
    "                    validation_freq=1, # default=1, Only relevant if validation data is provided. If an integer, specifies how many training epochs to run before a new validation run is performed, e.g. validation_freq=2 runs validation every 2 epochs.\n",
    "                    max_queue_size=10, # default=10, Used for generator or keras.utils.Sequence input only. Maximum size for the generator queue. If unspecified, max_queue_size will default to 10.\n",
    "                    workers=1, # default=1, Used for generator or keras.utils.Sequence input only. Maximum number of processes to spin up when using process-based threading. If unspecified, workers will default to 1.\n",
    "                    use_multiprocessing=True, # default=False, Used for generator or keras.utils.Sequence input only. If True, use process-based threading. If unspecified, use_multiprocessing will default to False. \n",
    "                \n",
    "                   )\n",
    "\n",
    "\n"
   ]
  },
  {
   "cell_type": "markdown",
   "metadata": {},
   "source": [
    "##### Step 4 - Plot loss over epochs"
   ]
  },
  {
   "cell_type": "code",
   "execution_count": 36,
   "metadata": {},
   "outputs": [
    {
     "data": {
      "image/png": "[encoded data removed]",
      "text/plain": [
       "<Figure size 432x288 with 1 Axes>"
      ]
     },
     "metadata": {
      "needs_background": "light"
     },
     "output_type": "display_data"
    }
   ],
   "source": [
    "#loss: 4.2573 - mean_squared_error: 4.2572 - accuracy: 0.0000e+00 - val_loss: 4.6314 - val_mean_squared_error: 4.6314\n",
    "# Gather the trained model's weight and bias.\n",
    "trained_weight = model2.get_weights()[0]\n",
    "trained_bias = model2.get_weights()[1]\n",
    "\n",
    "  # The list of epochs is stored separately from the \n",
    "  # rest of history.\n",
    "epochs = history.epoch\n",
    "  \n",
    "  # Gather the history (a snapshot) of each epoch.\n",
    "#hist = pd.DataFrame(history.history)\n",
    "\n",
    "  # Specifically gather the model's root mean \n",
    "  # squared error at each epoch. \n",
    "mse = history.history[\"mean_squared_error\"]\n",
    "\n",
    "#plot_the_model(trained_weight, trained_bias, X_test, Y_train)\n",
    "plot_the_loss_curve(epochs, mse)"
   ]
  },
  {
   "cell_type": "markdown",
   "metadata": {},
   "source": [
    "##### Step 5 - Print Performance Summary"
   ]
  },
  {
   "cell_type": "code",
   "execution_count": 37,
   "metadata": {},
   "outputs": [
    {
     "name": "stdout",
     "output_type": "stream",
     "text": [
      "\n",
      "-------------------- Model Summary --------------------\n",
      "Model: \"biLSTM-Model\"\n",
      "_________________________________________________________________\n",
      " Layer (type)                Output Shape              Param #   \n",
      "=================================================================\n",
      " Hidden-LSTM-Encoder-Layer (  (None, 128)              33792     \n",
      " Bidirectional)                                                  \n",
      "                                                                 \n",
      " Repeat-Vector-Layer (Repeat  (None, 10, 128)          0         \n",
      " Vector)                                                         \n",
      "                                                                 \n",
      " Hidden-LSTM-Decoder-Layer (  (None, 10, 128)          98816     \n",
      " Bidirectional)                                                  \n",
      "                                                                 \n",
      " Output-Layer (TimeDistribut  (None, 10, 1)            129       \n",
      " ed)                                                             \n",
      "                                                                 \n",
      "=================================================================\n",
      "Total params: 132,737\n",
      "Trainable params: 132,737\n",
      "Non-trainable params: 0\n",
      "_________________________________________________________________\n",
      "\n",
      "-------------------- Weights and Biases --------------------\n",
      "Too many parameters to print but you can use the code provided if needed\n",
      "\n",
      "-------------------- Evaluation on Training Data --------------------\n",
      "Final loss : 4.839054584503174\n",
      "Final mean_squared_error : 4.839056968688965\n",
      "Final mean_absolute_error : 1.650952935218811\n",
      "Final val_loss : 4.667435646057129\n",
      "Final val_mean_squared_error : 4.667435646057129\n",
      "Final val_mean_absolute_error : 1.6246974468231201\n",
      "\n",
      "-------------------- Evaluation on Test Data --------------------\n",
      "484/484 [==============================] - 4s 8ms/step - loss: 6.2247 - mean_squared_error: 6.2247 - mean_absolute_error: 1.8079\n",
      "\n"
     ]
    }
   ],
   "source": [
    "print(\"\")\n",
    "print('-------------------- Model Summary --------------------')\n",
    "model2.summary() # print model summary\n",
    "print(\"\")\n",
    "print('-------------------- Weights and Biases --------------------')\n",
    "print(\"Too many parameters to print but you can use the code provided if needed\")\n",
    "print(\"\")\n",
    "#for layer in model.layers:\n",
    "#    print(layer.name)\n",
    "#    for item in layer.get_weights():\n",
    "#        print(\"  \", item)\n",
    "#print(\"\")\n",
    "\n",
    "# Print the last value in the evaluation metrics contained within history file\n",
    "print('-------------------- Evaluation on Training Data --------------------')\n",
    "for item in history.history:\n",
    "    print(\"Final\", item, \":\", history.history[item][-1])\n",
    "print(\"\")\n",
    "\n",
    "# Evaluate the model on the test data using \"evaluate\"\n",
    "print('-------------------- Evaluation on Test Data --------------------')\n",
    "results = model2.evaluate(X_test, Y_test)\n",
    "print(\"\")"
   ]
  },
  {
   "cell_type": "code",
   "execution_count": 38,
   "metadata": {},
   "outputs": [
    {
     "data": {
      "image/png": "[encoded data removed]",
      "text/plain": [
       "<IPython.core.display.Image object>"
      ]
     },
     "execution_count": 38,
     "metadata": {},
     "output_type": "execute_result"
    }
   ],
   "source": [
    "#loss: 6.1995 - mean_squared_error: 6.1995 normalize01  loss: 6.8981 - mean_squared_error: 6.8981 - accuracy: 0.0000e+00// After new set loss: 6.3898 - mean_squared_error: 6.3898 - accuracy: 0.0000e+00\n",
    "\n",
    "\n",
    "from keras.utils import plot_model,model_to_dot\n",
    "#plot_model(model2, show_shapes=True, to_file='plotmodelbilstm0810.png')\n"
   ]
  },
  {
   "cell_type": "code",
   "execution_count": 39,
   "metadata": {},
   "outputs": [
    {
     "name": "stdout",
     "output_type": "stream",
     "text": [
      "484/484 [==============================] - 5s 8ms/step\n"
     ]
    },
    {
     "data": {
      "text/plain": [
       "array([[[1.2757629],\n",
       "        [1.9857913],\n",
       "        [2.1219883],\n",
       "        ...,\n",
       "        [2.2716613],\n",
       "        [2.1594157],\n",
       "        [2.1913176]],\n",
       "\n",
       "       [[2.0426216],\n",
       "        [2.6580353],\n",
       "        [2.9001188],\n",
       "        ...,\n",
       "        [2.5995517],\n",
       "        [2.7960844],\n",
       "        [3.181138 ]],\n",
       "\n",
       "       [[1.8734351],\n",
       "        [2.3755875],\n",
       "        [2.8913226],\n",
       "        ...,\n",
       "        [2.3964252],\n",
       "        [2.537551 ],\n",
       "        [2.8993683]],\n",
       "\n",
       "       ...,\n",
       "\n",
       "       [[3.2769656],\n",
       "        [3.325068 ],\n",
       "        [3.540298 ],\n",
       "        ...,\n",
       "        [3.621601 ],\n",
       "        [3.6790037],\n",
       "        [3.9664555]],\n",
       "\n",
       "       [[3.309464 ],\n",
       "        [3.2005806],\n",
       "        [3.288969 ],\n",
       "        ...,\n",
       "        [3.747661 ],\n",
       "        [3.8635802],\n",
       "        [4.091387 ]],\n",
       "\n",
       "       [[3.2066956],\n",
       "        [3.1369767],\n",
       "        [3.398375 ],\n",
       "        ...,\n",
       "        [3.799241 ],\n",
       "        [3.8779674],\n",
       "        [3.974557 ]]], dtype=float32)"
      ]
     },
     "execution_count": 39,
     "metadata": {},
     "output_type": "execute_result"
    }
   ],
   "source": [
    "pred_test=model2.predict(X_test)\n",
    "\n",
    "pred_test"
   ]
  },
  {
   "cell_type": "code",
   "execution_count": 40,
   "metadata": {},
   "outputs": [
    {
     "data": {
      "text/plain": [
       "(15470, 10, 1)"
      ]
     },
     "execution_count": 40,
     "metadata": {},
     "output_type": "execute_result"
    }
   ],
   "source": [
    "Y_test.shape\n",
    "#1792"
   ]
  },
  {
   "cell_type": "code",
   "execution_count": 41,
   "metadata": {},
   "outputs": [
    {
     "data": {
      "text/plain": [
       "18700"
      ]
     },
     "execution_count": 41,
     "metadata": {},
     "output_type": "execute_result"
    }
   ],
   "source": [
    "test.values.size"
   ]
  },
  {
   "cell_type": "code",
   "execution_count": 42,
   "metadata": {},
   "outputs": [
    {
     "data": {
      "text/plain": [
       "(15470, 10, 1)"
      ]
     },
     "execution_count": 42,
     "metadata": {},
     "output_type": "execute_result"
    }
   ],
   "source": [
    "pred_test.shape"
   ]
  },
  {
   "cell_type": "code",
   "execution_count": 43,
   "metadata": {},
   "outputs": [],
   "source": [
    "# # pred_test = scaler2.inverse_transform(pred_test.reshape(-1, pred_test.shape[-1])).reshape(pred_test.shape)\n",
    "# y=pred_test.flatten()\n",
    "# z=[]\n",
    "# for x in range(910*95,910*96,10): #predictioon\n",
    "#     z.append(y[x])\n",
    "# z\n",
    "# b=Y_test.flatten() #Y test should match prediction\n",
    "# c=[] #wtf is this\n",
    "# for x in range(910*95,910*96,10):\n",
    "#     c.append(b[x])\n",
    "# #c\n",
    "\n",
    "# # d=X_test.flatten() # Y train doesnt match because why\n",
    "# # e=[]\n",
    "# # for x in range(0,10000,1):\n",
    "# #     if(d[x]==0):\n",
    "# #         print(x)\n",
    "# #     e.append(d[x])\n",
    "# # # e\n",
    "y=pred_test.flatten()\n",
    "# y=scaler2.inverse_transform(y.reshape(-1,y.shape[-1])).reshape(y.shape)\n",
    "z=[]\n",
    "for x in range(910*95,910*96,10): #predictioon\n",
    "    z.append(y[x])\n",
    "z\n",
    "\n",
    "b=Y_test.flatten() #Y test should match prediction\n",
    "# b=scaler2.inverse_transform(b.reshape(-1,b.shape[-1])).reshape(b.shape)\n",
    "c=[] #wtf is this\n",
    "for x in range(910*95,910*96,10):\n",
    "    c.append(b[x])"
   ]
  },
  {
   "cell_type": "code",
   "execution_count": 44,
   "metadata": {},
   "outputs": [
    {
     "data": {
      "application/vnd.plotly.v1+json": {
       "config": {
        "plotlyServerURL": "https://plot.ly"
       },
       "data": [
        {
         "line": {
          "color": "grey",
          "width": 5
         },
         "mode": "lines",
         "name": "Subsidence - Actual (YTest)",
         "opacity": 0.8,
         "type": "scatter",
         "x": [
          "2015-07-30T00:00:00.000000000",
          "2015-08-23T00:00:00.000000000",
          "2015-09-16T00:00:00.000000000",
          "2015-10-10T00:00:00.000000000",
          "2015-11-03T00:00:00.000000000",
          "2015-11-27T00:00:00.000000000",
          "2015-12-09T00:00:00.000000000",
          "2015-12-21T00:00:00.000000000",
          "2016-01-14T00:00:00.000000000",
          "2016-01-26T00:00:00.000000000",
          "2016-02-07T00:00:00.000000000",
          "2016-02-19T00:00:00.000000000",
          "2016-03-02T00:00:00.000000000",
          "2016-03-14T00:00:00.000000000",
          "2016-03-26T00:00:00.000000000",
          "2016-04-07T00:00:00.000000000",
          "2016-04-19T00:00:00.000000000",
          "2016-05-01T00:00:00.000000000",
          "2016-05-13T00:00:00.000000000",
          "2016-05-25T00:00:00.000000000",
          "2016-06-06T00:00:00.000000000",
          "2016-06-30T00:00:00.000000000",
          "2016-07-24T00:00:00.000000000",
          "2016-08-17T00:00:00.000000000",
          "2016-09-10T00:00:00.000000000",
          "2016-09-22T00:00:00.000000000",
          "2016-10-04T00:00:00.000000000",
          "2016-10-16T00:00:00.000000000",
          "2016-10-28T00:00:00.000000000",
          "2016-11-09T00:00:00.000000000",
          "2016-11-21T00:00:00.000000000",
          "2016-12-03T00:00:00.000000000",
          "2016-12-15T00:00:00.000000000",
          "2016-12-27T00:00:00.000000000",
          "2017-01-08T00:00:00.000000000",
          "2017-01-14T00:00:00.000000000",
          "2017-01-20T00:00:00.000000000",
          "2017-01-26T00:00:00.000000000",
          "2017-02-01T00:00:00.000000000",
          "2017-02-13T00:00:00.000000000",
          "2017-02-25T00:00:00.000000000",
          "2017-03-09T00:00:00.000000000",
          "2017-03-21T00:00:00.000000000",
          "2017-04-02T00:00:00.000000000",
          "2017-04-14T00:00:00.000000000",
          "2017-04-26T00:00:00.000000000",
          "2017-05-08T00:00:00.000000000",
          "2017-05-20T00:00:00.000000000",
          "2017-06-01T00:00:00.000000000",
          "2017-06-13T00:00:00.000000000",
          "2017-06-25T00:00:00.000000000",
          "2017-07-07T00:00:00.000000000",
          "2017-07-19T00:00:00.000000000",
          "2017-07-31T00:00:00.000000000",
          "2017-08-12T00:00:00.000000000",
          "2017-08-24T00:00:00.000000000",
          "2017-09-05T00:00:00.000000000",
          "2017-09-17T00:00:00.000000000",
          "2017-09-29T00:00:00.000000000",
          "2017-10-11T00:00:00.000000000",
          "2017-10-23T00:00:00.000000000",
          "2017-11-04T00:00:00.000000000",
          "2017-11-16T00:00:00.000000000",
          "2017-11-28T00:00:00.000000000",
          "2017-12-10T00:00:00.000000000",
          "2017-12-22T00:00:00.000000000",
          "2018-01-03T00:00:00.000000000",
          "2018-01-15T00:00:00.000000000",
          "2018-01-27T00:00:00.000000000",
          "2018-02-08T00:00:00.000000000",
          "2018-02-20T00:00:00.000000000",
          "2018-03-04T00:00:00.000000000",
          "2018-03-16T00:00:00.000000000",
          "2018-03-28T00:00:00.000000000",
          "2018-04-09T00:00:00.000000000",
          "2018-04-21T00:00:00.000000000",
          "2018-05-03T00:00:00.000000000",
          "2018-05-15T00:00:00.000000000",
          "2018-05-27T00:00:00.000000000",
          "2018-06-08T00:00:00.000000000",
          "2018-06-20T00:00:00.000000000",
          "2018-07-02T00:00:00.000000000",
          "2018-07-14T00:00:00.000000000",
          "2018-07-26T00:00:00.000000000",
          "2018-08-07T00:00:00.000000000",
          "2018-08-19T00:00:00.000000000",
          "2018-08-31T00:00:00.000000000",
          "2018-09-12T00:00:00.000000000",
          "2018-09-24T00:00:00.000000000",
          "2018-10-06T00:00:00.000000000",
          "2018-10-18T00:00:00.000000000",
          "2018-10-30T00:00:00.000000000",
          "2018-11-11T00:00:00.000000000",
          "2018-11-17T00:00:00.000000000",
          "2018-11-23T00:00:00.000000000",
          "2018-12-05T00:00:00.000000000",
          "2018-12-17T00:00:00.000000000",
          "2018-12-29T00:00:00.000000000",
          "2019-01-10T00:00:00.000000000",
          "2019-01-22T00:00:00.000000000"
         ],
         "y": [
          0.81931,
          1.193,
          0.45918,
          0.90713,
          0.35519,
          0.665,
          0.55189,
          0.18997,
          0.68063,
          0.64881,
          0.54099,
          0.9959,
          0.52315,
          0.047612,
          0.69614,
          1.5524,
          0.38875,
          0.56079,
          1.1604,
          0.77496,
          2.3455,
          1.1463,
          1.392,
          0.84732,
          1.0196,
          0.81954,
          0.79047,
          0.94528,
          1.1293,
          0.64376,
          0.74534,
          0.51077,
          1.0451,
          1.0755,
          0.98327,
          0.71059,
          0.65041,
          0.91102,
          1.0649,
          0.80093,
          0.65888,
          0.69866,
          0.85221,
          0.81044,
          1.2727,
          0.96765,
          1.1816,
          1.2106,
          1.7792,
          1.076,
          2.2766,
          1.5063,
          1.4057,
          2.1472,
          0.82685,
          1.4579,
          2.4128,
          1.6781,
          1.1411,
          0.35672,
          0.91664,
          0.83424,
          0.18816,
          0.72377,
          1.0928,
          0.84574,
          0.9316,
          0.72424,
          1.6475,
          0.90543,
          1.0934,
          1.1081,
          0.35582,
          0.9107,
          0.52485,
          0.90082,
          0.8488,
          0.63463,
          1.492,
          1.8595,
          0.96523,
          2.2302,
          1.5158,
          1.4969999999999999,
          1.4782,
          1.6176,
          1.2346,
          1.1408,
          1.836,
          1.8314,
          0.93919
         ]
        },
        {
         "line": {
          "color": "red",
          "width": 5
         },
         "mode": "lines",
         "name": "Subsidence - Predicted ",
         "opacity": 0.8,
         "type": "scatter",
         "x": [
          "2015-07-30T00:00:00.000000000",
          "2015-08-23T00:00:00.000000000",
          "2015-09-16T00:00:00.000000000",
          "2015-10-10T00:00:00.000000000",
          "2015-11-03T00:00:00.000000000",
          "2015-11-27T00:00:00.000000000",
          "2015-12-09T00:00:00.000000000",
          "2015-12-21T00:00:00.000000000",
          "2016-01-14T00:00:00.000000000",
          "2016-01-26T00:00:00.000000000",
          "2016-02-07T00:00:00.000000000",
          "2016-02-19T00:00:00.000000000",
          "2016-03-02T00:00:00.000000000",
          "2016-03-14T00:00:00.000000000",
          "2016-03-26T00:00:00.000000000",
          "2016-04-07T00:00:00.000000000",
          "2016-04-19T00:00:00.000000000",
          "2016-05-01T00:00:00.000000000",
          "2016-05-13T00:00:00.000000000",
          "2016-05-25T00:00:00.000000000",
          "2016-06-06T00:00:00.000000000",
          "2016-06-30T00:00:00.000000000",
          "2016-07-24T00:00:00.000000000",
          "2016-08-17T00:00:00.000000000",
          "2016-09-10T00:00:00.000000000",
          "2016-09-22T00:00:00.000000000",
          "2016-10-04T00:00:00.000000000",
          "2016-10-16T00:00:00.000000000",
          "2016-10-28T00:00:00.000000000",
          "2016-11-09T00:00:00.000000000",
          "2016-11-21T00:00:00.000000000",
          "2016-12-03T00:00:00.000000000",
          "2016-12-15T00:00:00.000000000",
          "2016-12-27T00:00:00.000000000",
          "2017-01-08T00:00:00.000000000",
          "2017-01-14T00:00:00.000000000",
          "2017-01-20T00:00:00.000000000",
          "2017-01-26T00:00:00.000000000",
          "2017-02-01T00:00:00.000000000",
          "2017-02-13T00:00:00.000000000",
          "2017-02-25T00:00:00.000000000",
          "2017-03-09T00:00:00.000000000",
          "2017-03-21T00:00:00.000000000",
          "2017-04-02T00:00:00.000000000",
          "2017-04-14T00:00:00.000000000",
          "2017-04-26T00:00:00.000000000",
          "2017-05-08T00:00:00.000000000",
          "2017-05-20T00:00:00.000000000",
          "2017-06-01T00:00:00.000000000",
          "2017-06-13T00:00:00.000000000",
          "2017-06-25T00:00:00.000000000",
          "2017-07-07T00:00:00.000000000",
          "2017-07-19T00:00:00.000000000",
          "2017-07-31T00:00:00.000000000",
          "2017-08-12T00:00:00.000000000",
          "2017-08-24T00:00:00.000000000",
          "2017-09-05T00:00:00.000000000",
          "2017-09-17T00:00:00.000000000",
          "2017-09-29T00:00:00.000000000",
          "2017-10-11T00:00:00.000000000",
          "2017-10-23T00:00:00.000000000",
          "2017-11-04T00:00:00.000000000",
          "2017-11-16T00:00:00.000000000",
          "2017-11-28T00:00:00.000000000",
          "2017-12-10T00:00:00.000000000",
          "2017-12-22T00:00:00.000000000",
          "2018-01-03T00:00:00.000000000",
          "2018-01-15T00:00:00.000000000",
          "2018-01-27T00:00:00.000000000",
          "2018-02-08T00:00:00.000000000",
          "2018-02-20T00:00:00.000000000",
          "2018-03-04T00:00:00.000000000",
          "2018-03-16T00:00:00.000000000",
          "2018-03-28T00:00:00.000000000",
          "2018-04-09T00:00:00.000000000",
          "2018-04-21T00:00:00.000000000",
          "2018-05-03T00:00:00.000000000",
          "2018-05-15T00:00:00.000000000",
          "2018-05-27T00:00:00.000000000",
          "2018-06-08T00:00:00.000000000",
          "2018-06-20T00:00:00.000000000",
          "2018-07-02T00:00:00.000000000",
          "2018-07-14T00:00:00.000000000",
          "2018-07-26T00:00:00.000000000",
          "2018-08-07T00:00:00.000000000",
          "2018-08-19T00:00:00.000000000",
          "2018-08-31T00:00:00.000000000",
          "2018-09-12T00:00:00.000000000",
          "2018-09-24T00:00:00.000000000",
          "2018-10-06T00:00:00.000000000",
          "2018-10-18T00:00:00.000000000",
          "2018-10-30T00:00:00.000000000",
          "2018-11-11T00:00:00.000000000",
          "2018-11-17T00:00:00.000000000",
          "2018-11-23T00:00:00.000000000",
          "2018-12-05T00:00:00.000000000",
          "2018-12-17T00:00:00.000000000",
          "2018-12-29T00:00:00.000000000",
          "2019-01-10T00:00:00.000000000",
          "2019-01-22T00:00:00.000000000"
         ],
         "y": [
          0.5969245433807373,
          0.4444683790206909,
          0.605049729347229,
          0.640002965927124,
          0.7436058521270752,
          0.773145318031311,
          0.8405518531799316,
          0.8227623701095581,
          0.8614356517791748,
          0.8728429079055786,
          0.8124850988388062,
          0.7252800464630127,
          0.6340311765670776,
          0.6992366313934326,
          0.679875373840332,
          0.7342687845230103,
          1.081545114517212,
          0.9876620769500732,
          0.7552444934844971,
          0.6508634090423584,
          1.004270076751709,
          1.1090627908706665,
          1.2097961902618408,
          1.3018354177474976,
          1.1457704305648804,
          1.407918095588684,
          1.2984734773635864,
          1.3128827810287476,
          1.3184765577316284,
          1.205490231513977,
          1.086316466331482,
          0.9897823333740234,
          0.9614791870117188,
          1.033362627029419,
          1.070970892906189,
          0.9967527389526367,
          0.8856601715087891,
          0.8407187461853027,
          1.0276774168014526,
          1.0700589418411255,
          1.0437631607055664,
          0.9218310117721558,
          0.9008071422576904,
          0.954106330871582,
          0.9677393436431885,
          0.9331377744674683,
          0.9904617071151733,
          0.9600939750671387,
          0.9455643892288208,
          1.109710693359375,
          1.2166589498519897,
          1.3626424074172974,
          1.4428054094314575,
          1.4909194707870483,
          1.5150631666183472,
          1.7393969297409058,
          1.8469845056533813,
          2.0301265716552734,
          1.9705413579940796,
          1.7539609670639038,
          1.4639045000076294,
          1.4757498502731323,
          1.477256178855896,
          1.3162652254104614,
          1.316473364830017,
          1.1059954166412354,
          1.0437357425689697,
          0.8281725645065308,
          0.7701051235198975,
          0.9212824106216431,
          1.0537879467010498,
          1.0665407180786133,
          0.9927620887756348,
          1.1398820877075195,
          1.1062356233596802,
          1.0497708320617676,
          1.1730247735977173,
          0.9908115863800049,
          0.9266774654388428,
          0.8730120658874512,
          1.0777530670166016,
          1.179339051246643,
          1.378330111503601,
          1.3312386274337769,
          1.4522415399551392,
          1.4507049322128296,
          1.8198438882827759,
          1.7052603960037231,
          1.6880735158920288,
          1.6970146894454956,
          1.7441762685775757
         ]
        }
       ],
       "layout": {
        "legend": {
         "orientation": "h",
         "x": 1,
         "xanchor": "right",
         "y": 1.02,
         "yanchor": "bottom"
        },
        "plot_bgcolor": "white",
        "template": {
         "data": {
          "bar": [
           {
            "error_x": {
             "color": "#2a3f5f"
            },
            "error_y": {
             "color": "#2a3f5f"
            },
            "marker": {
             "line": {
              "color": "#E5ECF6",
              "width": 0.5
             },
             "pattern": {
              "fillmode": "overlay",
              "size": 10,
              "solidity": 0.2
             }
            },
            "type": "bar"
           }
          ],
          "barpolar": [
           {
            "marker": {
             "line": {
              "color": "#E5ECF6",
              "width": 0.5
             },
             "pattern": {
              "fillmode": "overlay",
              "size": 10,
              "solidity": 0.2
             }
            },
            "type": "barpolar"
           }
          ],
          "carpet": [
           {
            "aaxis": {
             "endlinecolor": "#2a3f5f",
             "gridcolor": "white",
             "linecolor": "white",
             "minorgridcolor": "white",
             "startlinecolor": "#2a3f5f"
            },
            "baxis": {
             "endlinecolor": "#2a3f5f",
             "gridcolor": "white",
             "linecolor": "white",
             "minorgridcolor": "white",
             "startlinecolor": "#2a3f5f"
            },
            "type": "carpet"
           }
          ],
          "choropleth": [
           {
            "colorbar": {
             "outlinewidth": 0,
             "ticks": ""
            },
            "type": "choropleth"
           }
          ],
          "contour": [
           {
            "colorbar": {
             "outlinewidth": 0,
             "ticks": ""
            },
            "colorscale": [
             [
              0,
              "#0d0887"
             ],
             [
              0.1111111111111111,
              "#46039f"
             ],
             [
              0.2222222222222222,
              "#7201a8"
             ],
             [
              0.3333333333333333,
              "#9c179e"
             ],
             [
              0.4444444444444444,
              "#bd3786"
             ],
             [
              0.5555555555555556,
              "#d8576b"
             ],
             [
              0.6666666666666666,
              "#ed7953"
             ],
             [
              0.7777777777777778,
              "#fb9f3a"
             ],
             [
              0.8888888888888888,
              "#fdca26"
             ],
             [
              1,
              "#f0f921"
             ]
            ],
            "type": "contour"
           }
          ],
          "contourcarpet": [
           {
            "colorbar": {
             "outlinewidth": 0,
             "ticks": ""
            },
            "type": "contourcarpet"
           }
          ],
          "heatmap": [
           {
            "colorbar": {
             "outlinewidth": 0,
             "ticks": ""
            },
            "colorscale": [
             [
              0,
              "#0d0887"
             ],
             [
              0.1111111111111111,
              "#46039f"
             ],
             [
              0.2222222222222222,
              "#7201a8"
             ],
             [
              0.3333333333333333,
              "#9c179e"
             ],
             [
              0.4444444444444444,
              "#bd3786"
             ],
             [
              0.5555555555555556,
              "#d8576b"
             ],
             [
              0.6666666666666666,
              "#ed7953"
             ],
             [
              0.7777777777777778,
              "#fb9f3a"
             ],
             [
              0.8888888888888888,
              "#fdca26"
             ],
             [
              1,
              "#f0f921"
             ]
            ],
            "type": "heatmap"
           }
          ],
          "heatmapgl": [
           {
            "colorbar": {
             "outlinewidth": 0,
             "ticks": ""
            },
            "colorscale": [
             [
              0,
              "#0d0887"
             ],
             [
              0.1111111111111111,
              "#46039f"
             ],
             [
              0.2222222222222222,
              "#7201a8"
             ],
             [
              0.3333333333333333,
              "#9c179e"
             ],
             [
              0.4444444444444444,
              "#bd3786"
             ],
             [
              0.5555555555555556,
              "#d8576b"
             ],
             [
              0.6666666666666666,
              "#ed7953"
             ],
             [
              0.7777777777777778,
              "#fb9f3a"
             ],
             [
              0.8888888888888888,
              "#fdca26"
             ],
             [
              1,
              "#f0f921"
             ]
            ],
            "type": "heatmapgl"
           }
          ],
          "histogram": [
           {
            "marker": {
             "pattern": {
              "fillmode": "overlay",
              "size": 10,
              "solidity": 0.2
             }
            },
            "type": "histogram"
           }
          ],
          "histogram2d": [
           {
            "colorbar": {
             "outlinewidth": 0,
             "ticks": ""
            },
            "colorscale": [
             [
              0,
              "#0d0887"
             ],
             [
              0.1111111111111111,
              "#46039f"
             ],
             [
              0.2222222222222222,
              "#7201a8"
             ],
             [
              0.3333333333333333,
              "#9c179e"
             ],
             [
              0.4444444444444444,
              "#bd3786"
             ],
             [
              0.5555555555555556,
              "#d8576b"
             ],
             [
              0.6666666666666666,
              "#ed7953"
             ],
             [
              0.7777777777777778,
              "#fb9f3a"
             ],
             [
              0.8888888888888888,
              "#fdca26"
             ],
             [
              1,
              "#f0f921"
             ]
            ],
            "type": "histogram2d"
           }
          ],
          "histogram2dcontour": [
           {
            "colorbar": {
             "outlinewidth": 0,
             "ticks": ""
            },
            "colorscale": [
             [
              0,
              "#0d0887"
             ],
             [
              0.1111111111111111,
              "#46039f"
             ],
             [
              0.2222222222222222,
              "#7201a8"
             ],
             [
              0.3333333333333333,
              "#9c179e"
             ],
             [
              0.4444444444444444,
              "#bd3786"
             ],
             [
              0.5555555555555556,
              "#d8576b"
             ],
             [
              0.6666666666666666,
              "#ed7953"
             ],
             [
              0.7777777777777778,
              "#fb9f3a"
             ],
             [
              0.8888888888888888,
              "#fdca26"
             ],
             [
              1,
              "#f0f921"
             ]
            ],
            "type": "histogram2dcontour"
           }
          ],
          "mesh3d": [
           {
            "colorbar": {
             "outlinewidth": 0,
             "ticks": ""
            },
            "type": "mesh3d"
           }
          ],
          "parcoords": [
           {
            "line": {
             "colorbar": {
              "outlinewidth": 0,
              "ticks": ""
             }
            },
            "type": "parcoords"
           }
          ],
          "pie": [
           {
            "automargin": true,
            "type": "pie"
           }
          ],
          "scatter": [
           {
            "fillpattern": {
             "fillmode": "overlay",
             "size": 10,
             "solidity": 0.2
            },
            "type": "scatter"
           }
          ],
          "scatter3d": [
           {
            "line": {
             "colorbar": {
              "outlinewidth": 0,
              "ticks": ""
             }
            },
            "marker": {
             "colorbar": {
              "outlinewidth": 0,
              "ticks": ""
             }
            },
            "type": "scatter3d"
           }
          ],
          "scattercarpet": [
           {
            "marker": {
             "colorbar": {
              "outlinewidth": 0,
              "ticks": ""
             }
            },
            "type": "scattercarpet"
           }
          ],
          "scattergeo": [
           {
            "marker": {
             "colorbar": {
              "outlinewidth": 0,
              "ticks": ""
             }
            },
            "type": "scattergeo"
           }
          ],
          "scattergl": [
           {
            "marker": {
             "colorbar": {
              "outlinewidth": 0,
              "ticks": ""
             }
            },
            "type": "scattergl"
           }
          ],
          "scattermapbox": [
           {
            "marker": {
             "colorbar": {
              "outlinewidth": 0,
              "ticks": ""
             }
            },
            "type": "scattermapbox"
           }
          ],
          "scatterpolar": [
           {
            "marker": {
             "colorbar": {
              "outlinewidth": 0,
              "ticks": ""
             }
            },
            "type": "scatterpolar"
           }
          ],
          "scatterpolargl": [
           {
            "marker": {
             "colorbar": {
              "outlinewidth": 0,
              "ticks": ""
             }
            },
            "type": "scatterpolargl"
           }
          ],
          "scatterternary": [
           {
            "marker": {
             "colorbar": {
              "outlinewidth": 0,
              "ticks": ""
             }
            },
            "type": "scatterternary"
           }
          ],
          "surface": [
           {
            "colorbar": {
             "outlinewidth": 0,
             "ticks": ""
            },
            "colorscale": [
             [
              0,
              "#0d0887"
             ],
             [
              0.1111111111111111,
              "#46039f"
             ],
             [
              0.2222222222222222,
              "#7201a8"
             ],
             [
              0.3333333333333333,
              "#9c179e"
             ],
             [
              0.4444444444444444,
              "#bd3786"
             ],
             [
              0.5555555555555556,
              "#d8576b"
             ],
             [
              0.6666666666666666,
              "#ed7953"
             ],
             [
              0.7777777777777778,
              "#fb9f3a"
             ],
             [
              0.8888888888888888,
              "#fdca26"
             ],
             [
              1,
              "#f0f921"
             ]
            ],
            "type": "surface"
           }
          ],
          "table": [
           {
            "cells": {
             "fill": {
              "color": "#EBF0F8"
             },
             "line": {
              "color": "white"
             }
            },
            "header": {
             "fill": {
              "color": "#C8D4E3"
             },
             "line": {
              "color": "white"
             }
            },
            "type": "table"
           }
          ]
         },
         "layout": {
          "annotationdefaults": {
           "arrowcolor": "#2a3f5f",
           "arrowhead": 0,
           "arrowwidth": 1
          },
          "autotypenumbers": "strict",
          "coloraxis": {
           "colorbar": {
            "outlinewidth": 0,
            "ticks": ""
           }
          },
          "colorscale": {
           "diverging": [
            [
             0,
             "#8e0152"
            ],
            [
             0.1,
             "#c51b7d"
            ],
            [
             0.2,
             "#de77ae"
            ],
            [
             0.3,
             "#f1b6da"
            ],
            [
             0.4,
             "#fde0ef"
            ],
            [
             0.5,
             "#f7f7f7"
            ],
            [
             0.6,
             "#e6f5d0"
            ],
            [
             0.7,
             "#b8e186"
            ],
            [
             0.8,
             "#7fbc41"
            ],
            [
             0.9,
             "#4d9221"
            ],
            [
             1,
             "#276419"
            ]
           ],
           "sequential": [
            [
             0,
             "#0d0887"
            ],
            [
             0.1111111111111111,
             "#46039f"
            ],
            [
             0.2222222222222222,
             "#7201a8"
            ],
            [
             0.3333333333333333,
             "#9c179e"
            ],
            [
             0.4444444444444444,
             "#bd3786"
            ],
            [
             0.5555555555555556,
             "#d8576b"
            ],
            [
             0.6666666666666666,
             "#ed7953"
            ],
            [
             0.7777777777777778,
             "#fb9f3a"
            ],
            [
             0.8888888888888888,
             "#fdca26"
            ],
            [
             1,
             "#f0f921"
            ]
           ],
           "sequentialminus": [
            [
             0,
             "#0d0887"
            ],
            [
             0.1111111111111111,
             "#46039f"
            ],
            [
             0.2222222222222222,
             "#7201a8"
            ],
            [
             0.3333333333333333,
             "#9c179e"
            ],
            [
             0.4444444444444444,
             "#bd3786"
            ],
            [
             0.5555555555555556,
             "#d8576b"
            ],
            [
             0.6666666666666666,
             "#ed7953"
            ],
            [
             0.7777777777777778,
             "#fb9f3a"
            ],
            [
             0.8888888888888888,
             "#fdca26"
            ],
            [
             1,
             "#f0f921"
            ]
           ]
          },
          "colorway": [
           "#636efa",
           "#EF553B",
           "#00cc96",
           "#ab63fa",
           "#FFA15A",
           "#19d3f3",
           "#FF6692",
           "#B6E880",
           "#FF97FF",
           "#FECB52"
          ],
          "font": {
           "color": "#2a3f5f"
          },
          "geo": {
           "bgcolor": "white",
           "lakecolor": "white",
           "landcolor": "#E5ECF6",
           "showlakes": true,
           "showland": true,
           "subunitcolor": "white"
          },
          "hoverlabel": {
           "align": "left"
          },
          "hovermode": "closest",
          "mapbox": {
           "style": "light"
          },
          "paper_bgcolor": "white",
          "plot_bgcolor": "#E5ECF6",
          "polar": {
           "angularaxis": {
            "gridcolor": "white",
            "linecolor": "white",
            "ticks": ""
           },
           "bgcolor": "#E5ECF6",
           "radialaxis": {
            "gridcolor": "white",
            "linecolor": "white",
            "ticks": ""
           }
          },
          "scene": {
           "xaxis": {
            "backgroundcolor": "#E5ECF6",
            "gridcolor": "white",
            "gridwidth": 2,
            "linecolor": "white",
            "showbackground": true,
            "ticks": "",
            "zerolinecolor": "white"
           },
           "yaxis": {
            "backgroundcolor": "#E5ECF6",
            "gridcolor": "white",
            "gridwidth": 2,
            "linecolor": "white",
            "showbackground": true,
            "ticks": "",
            "zerolinecolor": "white"
           },
           "zaxis": {
            "backgroundcolor": "#E5ECF6",
            "gridcolor": "white",
            "gridwidth": 2,
            "linecolor": "white",
            "showbackground": true,
            "ticks": "",
            "zerolinecolor": "white"
           }
          },
          "shapedefaults": {
           "line": {
            "color": "#2a3f5f"
           }
          },
          "ternary": {
           "aaxis": {
            "gridcolor": "white",
            "linecolor": "white",
            "ticks": ""
           },
           "baxis": {
            "gridcolor": "white",
            "linecolor": "white",
            "ticks": ""
           },
           "bgcolor": "#E5ECF6",
           "caxis": {
            "gridcolor": "white",
            "linecolor": "white",
            "ticks": ""
           }
          },
          "title": {
           "x": 0.05
          },
          "xaxis": {
           "automargin": true,
           "gridcolor": "white",
           "linecolor": "white",
           "ticks": "",
           "title": {
            "standoff": 15
           },
           "zerolinecolor": "white",
           "zerolinewidth": 2
          },
          "yaxis": {
           "automargin": true,
           "gridcolor": "white",
           "linecolor": "white",
           "ticks": "",
           "title": {
            "standoff": 15
           },
           "zerolinecolor": "white",
           "zerolinewidth": 2
          }
         }
        },
        "title": {
         "font": {
          "color": "black"
         },
         "text": "Subsidence"
        },
        "xaxis": {
         "gridcolor": "lightgrey",
         "gridwidth": 1,
         "linecolor": "black",
         "linewidth": 1,
         "showgrid": true,
         "showline": true,
         "title": {
          "text": "Month-Year"
         },
         "zeroline": true,
         "zerolinecolor": "lightgrey",
         "zerolinewidth": 1
        },
        "yaxis": {
         "gridcolor": "lightgrey",
         "gridwidth": 1,
         "linecolor": "black",
         "linewidth": 1,
         "showgrid": true,
         "showline": true,
         "title": {
          "text": "Subsidence"
         },
         "zeroline": true,
         "zerolinecolor": "lightgrey",
         "zerolinewidth": 1
        }
       }
      }
     },
     "metadata": {},
     "output_type": "display_data"
    }
   ],
   "source": [
    "# Plot (actual and predicted) for test (out of time) data\n",
    "fig = go.Figure()\n",
    "\n",
    "# #Trace for actual val\n",
    "# fig.add_trace(go.Scatter(x=np.array(test.columns),\n",
    "#                          y=np.array(test.values).flatten(),\n",
    "#                          mode='lines',\n",
    "#                          name='Subsidence - Actual (Test)',\n",
    "#                          opacity=0.8,\n",
    "#                          line=dict(color='black', width=1)\n",
    "#                         ))\n",
    "# fig.add_trace(go.Scatter(x=np.array(test.columns),\n",
    "#                          y=e,\n",
    "#                          mode='lines',\n",
    "#                          name='Subsidence - Actual (YTrain)',\n",
    "#                          opacity=0.8,\n",
    "#                          line=dict(color='pink', width=1)\n",
    "#                         ))\n",
    "\n",
    "fig.add_trace(go.Scatter(x=np.array(test.columns[10:]),\n",
    "                         y=c,\n",
    "                         mode='lines',\n",
    "                         name='Subsidence - Actual (YTest)',\n",
    "                         opacity=0.8,\n",
    "                         line=dict(color='grey', width=5)\n",
    "                        ))\n",
    "\n",
    "\n",
    "# Trace for predicted \n",
    "fig.add_trace(go.Scatter(x=np.array(test.columns[10:]),\n",
    "                         y=z,\n",
    "                         mode='lines',\n",
    "                         name='Subsidence - Predicted ',\n",
    "                         opacity=0.8,\n",
    "                         line=dict(color='red', width=5)\n",
    "                        ))\n",
    "\n",
    "# Change chart background color\n",
    "fig.update_layout(dict(plot_bgcolor = 'white'))\n",
    "\n",
    "# Update axes lines\n",
    "fig.update_xaxes(showgrid=True, gridwidth=1, gridcolor='lightgrey', \n",
    "                 zeroline=True, zerolinewidth=1, zerolinecolor='lightgrey', \n",
    "                 showline=True, linewidth=1, linecolor='black',\n",
    "                 title='Month-Year'\n",
    "                )\n",
    "\n",
    "fig.update_yaxes(showgrid=True, gridwidth=1, gridcolor='lightgrey', \n",
    "                 zeroline=True, zerolinewidth=1, zerolinecolor='lightgrey', \n",
    "                 showline=True, linewidth=1, linecolor='black',\n",
    "                 title='Subsidence'\n",
    "                )\n",
    "\n",
    "# Set figure title\n",
    "fig.update_layout(title=dict(text=\"Subsidence\", font=dict(color='black')),\n",
    "                  legend=dict(orientation=\"h\", yanchor=\"bottom\", y=1.02, xanchor=\"right\", x=1)\n",
    "                 )\n",
    "fig.show()"
   ]
  },
  {
   "cell_type": "markdown",
   "metadata": {},
   "source": []
  }
 ],
 "metadata": {
  "kernelspec": {
   "display_name": "Python 3.10.5 64-bit",
   "language": "python",
   "name": "python3"
  },
  "language_info": {
   "codemirror_mode": {
    "name": "ipython",
    "version": 3
   },
   "file_extension": ".py",
   "mimetype": "text/x-python",
   "name": "python",
   "nbconvert_exporter": "python",
   "pygments_lexer": "ipython3",
   "version": "3.10.5"
  },
  "orig_nbformat": 4,
  "vscode": {
   "interpreter": {
    "hash": "d3e10ef16274dd72e574b8fa73b58450b957d8421a2901baded3cca26fcf5dda"
   }
  }
 },
 "nbformat": 4,
 "nbformat_minor": 2
}
