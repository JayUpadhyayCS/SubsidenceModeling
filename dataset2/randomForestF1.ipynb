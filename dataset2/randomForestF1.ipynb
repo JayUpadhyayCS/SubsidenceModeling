{
 "cells": [
  {
   "cell_type": "code",
   "execution_count": 1,
   "metadata": {},
   "outputs": [
    {
     "name": "stderr",
     "output_type": "stream",
     "text": [
      "c:\\Python\\Python310\\lib\\site-packages\\requests\\__init__.py:109: RequestsDependencyWarning: urllib3 (1.26.9) or chardet (5.0.0)/charset_normalizer (2.0.12) doesn't match a supported version!\n",
      "  warnings.warn(\n"
     ]
    },
    {
     "name": "stdout",
     "output_type": "stream",
     "text": [
      "Tensorflow/Keras: 2.9.0\n",
      "pandas: 1.4.2\n",
      "numpy: 1.22.4\n",
      "sklearn: 1.1.1\n",
      "plotly: 5.9.0\n"
     ]
    }
   ],
   "source": [
    "# Tensorflow / Keras\n",
    "from tensorflow import keras # for building Neural Networks\n",
    "print('Tensorflow/Keras: %s' % keras.__version__) # print version\n",
    "from keras.models import Sequential # for creating a linear stack of layers for our Neural Network\n",
    "from keras import Input # for instantiating a keras tensor\n",
    "from keras.layers import Masking,Bidirectional, LSTM, RepeatVector, Dense, TimeDistributed,MaxPooling1D, Flatten, Conv1D,Conv2D,Dropout, MaxPooling2D # for creating layers inside the Neural Network\n",
    "from keras.optimizers import Adam , SGD\n",
    "# Data manipulation\n",
    "import pandas as pd # for data manipulation\n",
    "print('pandas: %s' % pd.__version__) # print version\n",
    "import numpy as np # for data manipulation\n",
    "print('numpy: %s' % np.__version__) # print version\n",
    "import numpy.ma as ma\n",
    "# Sklearn\n",
    "import sklearn\n",
    "print('sklearn: %s' % sklearn.__version__) # print version\n",
    "from sklearn.preprocessing import MinMaxScaler # for feature scaling\n",
    "from sklearn.model_selection import train_test_split, GridSearchCV\n",
    "from sklearn.metrics import mean_squared_error # for calculating the cost function\n",
    "from sklearn.ensemble import RandomForestRegressor # for building the model\n",
    "# Visualization\n",
    "import plotly \n",
    "import plotly.express as px\n",
    "import plotly.graph_objects as go\n",
    "print('plotly: %s' % plotly.__version__) # print version\n",
    "from matplotlib import pyplot as plt\n",
    "\n",
    "#file accessing\n",
    "import os\n",
    "# time stuff\n",
    "from datetime import timedelta\n",
    "import calendar\n"
   ]
  },
  {
   "cell_type": "code",
   "execution_count": 2,
   "metadata": {},
   "outputs": [
    {
     "name": "stdout",
     "output_type": "stream",
     "text": [
      "Defined the plot_the_model and plot_the_loss_curve functions.\n"
     ]
    }
   ],
   "source": [
    "#@title Define the plotting functions\n",
    "def plot_the_model(trained_weight, trained_bias, feature, label):\n",
    "  \"\"\"Plot the trained model against the training feature and label.\"\"\"\n",
    "\n",
    "  # Label the axes.\n",
    "  plt.xlabel(\"feature\")\n",
    "  plt.ylabel(\"label\")\n",
    "\n",
    "  # Plot the feature values vs. label values.\n",
    "  plt.scatter(feature, label)\n",
    "\n",
    "  # Create a red line representing the model. The red line starts\n",
    "  # at coordinates (x0, y0) and ends at coordinates (x1, y1).\n",
    "  x0 = 0\n",
    "  y0 = trained_bias\n",
    "  x1 = feature[-1]\n",
    "  y1 = trained_bias + (trained_weight * x1)\n",
    "  plt.plot([x0, x1], [y0, y1], c='r')\n",
    "\n",
    "  # Render the scatter plot and the red line.\n",
    "  plt.show()\n",
    "\n",
    "def plot_the_loss_curve(epochs, rmse):\n",
    "  \"\"\"Plot the loss curve, which shows loss vs. epoch.\"\"\"\n",
    "\n",
    "  plt.figure()\n",
    "  plt.xlabel(\"Epoch\")\n",
    "  plt.ylabel(\"Root Mean Squared Error\")\n",
    "  #epochs.remove(max(epochs))\n",
    "  \n",
    "  #rmse.drop(max(rmse))\n",
    "  plt.plot(epochs, rmse, label=\"Loss\")\n",
    "  plt.legend()\n",
    "  plt.ylim([rmse.min()*0.97, rmse.max()])\n",
    "  plt.show()\n",
    "\n",
    "print(\"Defined the plot_the_model and plot_the_loss_curve functions.\")"
   ]
  },
  {
   "cell_type": "markdown",
   "metadata": {},
   "source": [
    "##### Read from file and establish dataframe and future functions"
   ]
  },
  {
   "cell_type": "code",
   "execution_count": 3,
   "metadata": {},
   "outputs": [],
   "source": [
    "df=pd.read_csv('E:\\DSFellowship\\Complete\\dataset2\\dataset2.csv')\n",
    "df=df.set_index([df.columns[0],df.columns[1]])\n",
    "df.columns=pd.to_datetime(df.columns, format='%Y-%m-%d')\n",
    "df=df.dropna(axis=0, how='all')#drop full nan rows"
   ]
  },
  {
   "cell_type": "markdown",
   "metadata": {},
   "source": [
    "##### Remove next line to include all data"
   ]
  },
  {
   "cell_type": "code",
   "execution_count": 4,
   "metadata": {},
   "outputs": [
    {
     "data": {
      "text/html": [
       "<div>\n",
       "<style scoped>\n",
       "    .dataframe tbody tr th:only-of-type {\n",
       "        vertical-align: middle;\n",
       "    }\n",
       "\n",
       "    .dataframe tbody tr th {\n",
       "        vertical-align: top;\n",
       "    }\n",
       "\n",
       "    .dataframe thead th {\n",
       "        text-align: right;\n",
       "    }\n",
       "</style>\n",
       "<table border=\"1\" class=\"dataframe\">\n",
       "  <thead>\n",
       "    <tr style=\"text-align: right;\">\n",
       "      <th></th>\n",
       "      <th></th>\n",
       "      <th>2014-11-08</th>\n",
       "      <th>2014-12-02</th>\n",
       "      <th>2014-12-26</th>\n",
       "      <th>2015-02-12</th>\n",
       "      <th>2015-03-08</th>\n",
       "      <th>2015-04-01</th>\n",
       "      <th>2015-04-25</th>\n",
       "      <th>2015-05-19</th>\n",
       "      <th>2015-06-12</th>\n",
       "      <th>2015-07-06</th>\n",
       "      <th>...</th>\n",
       "      <th>2018-10-18</th>\n",
       "      <th>2018-10-30</th>\n",
       "      <th>2018-11-11</th>\n",
       "      <th>2018-11-17</th>\n",
       "      <th>2018-11-23</th>\n",
       "      <th>2018-12-05</th>\n",
       "      <th>2018-12-17</th>\n",
       "      <th>2018-12-29</th>\n",
       "      <th>2019-01-10</th>\n",
       "      <th>2019-01-22</th>\n",
       "    </tr>\n",
       "    <tr>\n",
       "      <th>Longitude</th>\n",
       "      <th>Latitude</th>\n",
       "      <th></th>\n",
       "      <th></th>\n",
       "      <th></th>\n",
       "      <th></th>\n",
       "      <th></th>\n",
       "      <th></th>\n",
       "      <th></th>\n",
       "      <th></th>\n",
       "      <th></th>\n",
       "      <th></th>\n",
       "      <th></th>\n",
       "      <th></th>\n",
       "      <th></th>\n",
       "      <th></th>\n",
       "      <th></th>\n",
       "      <th></th>\n",
       "      <th></th>\n",
       "      <th></th>\n",
       "      <th></th>\n",
       "      <th></th>\n",
       "      <th></th>\n",
       "    </tr>\n",
       "  </thead>\n",
       "  <tbody>\n",
       "    <tr>\n",
       "      <th>-120.3387</th>\n",
       "      <th>36.5393</th>\n",
       "      <td>0.0</td>\n",
       "      <td>-6.2129</td>\n",
       "      <td>3.4247</td>\n",
       "      <td>5.7830</td>\n",
       "      <td>2.13990</td>\n",
       "      <td>6.8538</td>\n",
       "      <td>1.83540</td>\n",
       "      <td>2.1142</td>\n",
       "      <td>1.83670</td>\n",
       "      <td>-1.5935</td>\n",
       "      <td>...</td>\n",
       "      <td>4.93520</td>\n",
       "      <td>8.059200</td>\n",
       "      <td>6.39190</td>\n",
       "      <td>6.56470</td>\n",
       "      <td>3.58430</td>\n",
       "      <td>5.337900</td>\n",
       "      <td>7.14430</td>\n",
       "      <td>9.1285</td>\n",
       "      <td>8.73970</td>\n",
       "      <td>10.38400</td>\n",
       "    </tr>\n",
       "    <tr>\n",
       "      <th>-120.1908</th>\n",
       "      <th>36.1412</th>\n",
       "      <td>0.0</td>\n",
       "      <td>-5.6951</td>\n",
       "      <td>2.2257</td>\n",
       "      <td>4.5835</td>\n",
       "      <td>1.70790</td>\n",
       "      <td>6.5348</td>\n",
       "      <td>2.98530</td>\n",
       "      <td>2.7613</td>\n",
       "      <td>3.76730</td>\n",
       "      <td>2.2235</td>\n",
       "      <td>...</td>\n",
       "      <td>6.28560</td>\n",
       "      <td>8.606700</td>\n",
       "      <td>7.15330</td>\n",
       "      <td>8.06940</td>\n",
       "      <td>5.60730</td>\n",
       "      <td>4.977600</td>\n",
       "      <td>8.18450</td>\n",
       "      <td>9.0591</td>\n",
       "      <td>8.89620</td>\n",
       "      <td>10.35300</td>\n",
       "    </tr>\n",
       "    <tr>\n",
       "      <th>-119.8869</th>\n",
       "      <th>35.6171</th>\n",
       "      <td>0.0</td>\n",
       "      <td>-6.7674</td>\n",
       "      <td>1.8611</td>\n",
       "      <td>3.5773</td>\n",
       "      <td>0.77856</td>\n",
       "      <td>4.5700</td>\n",
       "      <td>1.90460</td>\n",
       "      <td>2.8225</td>\n",
       "      <td>0.89615</td>\n",
       "      <td>2.6578</td>\n",
       "      <td>...</td>\n",
       "      <td>6.42140</td>\n",
       "      <td>7.527900</td>\n",
       "      <td>6.25500</td>\n",
       "      <td>7.12750</td>\n",
       "      <td>7.43410</td>\n",
       "      <td>3.680000</td>\n",
       "      <td>6.77130</td>\n",
       "      <td>8.8868</td>\n",
       "      <td>7.87950</td>\n",
       "      <td>9.15160</td>\n",
       "    </tr>\n",
       "    <tr>\n",
       "      <th>-119.8849</th>\n",
       "      <th>35.8671</th>\n",
       "      <td>0.0</td>\n",
       "      <td>-6.9006</td>\n",
       "      <td>1.5378</td>\n",
       "      <td>3.1628</td>\n",
       "      <td>0.49591</td>\n",
       "      <td>5.3001</td>\n",
       "      <td>1.69690</td>\n",
       "      <td>2.4262</td>\n",
       "      <td>1.60660</td>\n",
       "      <td>1.9497</td>\n",
       "      <td>...</td>\n",
       "      <td>6.71270</td>\n",
       "      <td>8.195900</td>\n",
       "      <td>6.89780</td>\n",
       "      <td>7.72280</td>\n",
       "      <td>7.08070</td>\n",
       "      <td>5.015800</td>\n",
       "      <td>6.95200</td>\n",
       "      <td>8.8647</td>\n",
       "      <td>8.17390</td>\n",
       "      <td>9.19100</td>\n",
       "    </tr>\n",
       "    <tr>\n",
       "      <th>-119.8829</th>\n",
       "      <th>35.9512</th>\n",
       "      <td>0.0</td>\n",
       "      <td>-6.3572</td>\n",
       "      <td>1.1703</td>\n",
       "      <td>2.1735</td>\n",
       "      <td>-0.47235</td>\n",
       "      <td>3.9732</td>\n",
       "      <td>0.57705</td>\n",
       "      <td>1.4311</td>\n",
       "      <td>0.69616</td>\n",
       "      <td>1.1763</td>\n",
       "      <td>...</td>\n",
       "      <td>5.86560</td>\n",
       "      <td>7.390000</td>\n",
       "      <td>6.27260</td>\n",
       "      <td>7.15710</td>\n",
       "      <td>5.54560</td>\n",
       "      <td>3.736800</td>\n",
       "      <td>6.18420</td>\n",
       "      <td>7.5924</td>\n",
       "      <td>6.51850</td>\n",
       "      <td>8.10940</td>\n",
       "    </tr>\n",
       "    <tr>\n",
       "      <th>...</th>\n",
       "      <th>...</th>\n",
       "      <td>...</td>\n",
       "      <td>...</td>\n",
       "      <td>...</td>\n",
       "      <td>...</td>\n",
       "      <td>...</td>\n",
       "      <td>...</td>\n",
       "      <td>...</td>\n",
       "      <td>...</td>\n",
       "      <td>...</td>\n",
       "      <td>...</td>\n",
       "      <td>...</td>\n",
       "      <td>...</td>\n",
       "      <td>...</td>\n",
       "      <td>...</td>\n",
       "      <td>...</td>\n",
       "      <td>...</td>\n",
       "      <td>...</td>\n",
       "      <td>...</td>\n",
       "      <td>...</td>\n",
       "      <td>...</td>\n",
       "      <td>...</td>\n",
       "    </tr>\n",
       "    <tr>\n",
       "      <th>-118.9071</th>\n",
       "      <th>35.3750</th>\n",
       "      <td>0.0</td>\n",
       "      <td>-3.8828</td>\n",
       "      <td>-1.1999</td>\n",
       "      <td>-1.2152</td>\n",
       "      <td>-2.12550</td>\n",
       "      <td>-3.4199</td>\n",
       "      <td>-0.94401</td>\n",
       "      <td>-3.6226</td>\n",
       "      <td>0.56910</td>\n",
       "      <td>-1.4506</td>\n",
       "      <td>...</td>\n",
       "      <td>2.44230</td>\n",
       "      <td>2.689300</td>\n",
       "      <td>3.37490</td>\n",
       "      <td>3.22130</td>\n",
       "      <td>3.32230</td>\n",
       "      <td>2.285500</td>\n",
       "      <td>1.94290</td>\n",
       "      <td>5.8860</td>\n",
       "      <td>2.26160</td>\n",
       "      <td>2.42750</td>\n",
       "    </tr>\n",
       "    <tr>\n",
       "      <th>-118.9051</th>\n",
       "      <th>35.3430</th>\n",
       "      <td>0.0</td>\n",
       "      <td>-4.1356</td>\n",
       "      <td>-1.1255</td>\n",
       "      <td>-1.2232</td>\n",
       "      <td>-2.18530</td>\n",
       "      <td>-3.3244</td>\n",
       "      <td>-0.70324</td>\n",
       "      <td>-3.5807</td>\n",
       "      <td>0.53279</td>\n",
       "      <td>-1.5025</td>\n",
       "      <td>...</td>\n",
       "      <td>1.45350</td>\n",
       "      <td>1.393300</td>\n",
       "      <td>2.12930</td>\n",
       "      <td>1.83520</td>\n",
       "      <td>2.14240</td>\n",
       "      <td>1.547400</td>\n",
       "      <td>1.06060</td>\n",
       "      <td>4.7605</td>\n",
       "      <td>0.96871</td>\n",
       "      <td>1.18650</td>\n",
       "    </tr>\n",
       "    <tr>\n",
       "      <th rowspan=\"2\" valign=\"top\">-118.9031</th>\n",
       "      <th>35.3110</th>\n",
       "      <td>0.0</td>\n",
       "      <td>-4.1879</td>\n",
       "      <td>-1.1213</td>\n",
       "      <td>-1.7977</td>\n",
       "      <td>-2.28030</td>\n",
       "      <td>-3.4793</td>\n",
       "      <td>-0.84339</td>\n",
       "      <td>-3.6445</td>\n",
       "      <td>0.30264</td>\n",
       "      <td>-2.1569</td>\n",
       "      <td>...</td>\n",
       "      <td>-0.17429</td>\n",
       "      <td>0.098737</td>\n",
       "      <td>0.56824</td>\n",
       "      <td>0.16814</td>\n",
       "      <td>0.69418</td>\n",
       "      <td>-0.011814</td>\n",
       "      <td>-0.57993</td>\n",
       "      <td>2.7450</td>\n",
       "      <td>-1.03220</td>\n",
       "      <td>-0.71361</td>\n",
       "    </tr>\n",
       "    <tr>\n",
       "      <th>35.4270</th>\n",
       "      <td>0.0</td>\n",
       "      <td>-4.1305</td>\n",
       "      <td>-1.2911</td>\n",
       "      <td>-1.1049</td>\n",
       "      <td>-2.53270</td>\n",
       "      <td>-3.4353</td>\n",
       "      <td>-0.79675</td>\n",
       "      <td>-3.7570</td>\n",
       "      <td>0.58227</td>\n",
       "      <td>-1.2981</td>\n",
       "      <td>...</td>\n",
       "      <td>3.02090</td>\n",
       "      <td>3.222600</td>\n",
       "      <td>4.33210</td>\n",
       "      <td>3.71760</td>\n",
       "      <td>4.08800</td>\n",
       "      <td>2.244900</td>\n",
       "      <td>2.98550</td>\n",
       "      <td>6.4669</td>\n",
       "      <td>2.77250</td>\n",
       "      <td>2.71350</td>\n",
       "    </tr>\n",
       "    <tr>\n",
       "      <th>-118.9011</th>\n",
       "      <th>35.3950</th>\n",
       "      <td>0.0</td>\n",
       "      <td>-4.1354</td>\n",
       "      <td>-1.3291</td>\n",
       "      <td>-1.1547</td>\n",
       "      <td>-2.29250</td>\n",
       "      <td>-3.5912</td>\n",
       "      <td>-0.82694</td>\n",
       "      <td>-3.6488</td>\n",
       "      <td>0.71169</td>\n",
       "      <td>-1.0560</td>\n",
       "      <td>...</td>\n",
       "      <td>2.84470</td>\n",
       "      <td>3.160200</td>\n",
       "      <td>4.13480</td>\n",
       "      <td>3.61790</td>\n",
       "      <td>3.82230</td>\n",
       "      <td>2.624100</td>\n",
       "      <td>2.65560</td>\n",
       "      <td>6.3724</td>\n",
       "      <td>2.70740</td>\n",
       "      <td>2.72110</td>\n",
       "    </tr>\n",
       "  </tbody>\n",
       "</table>\n",
       "<p>603 rows × 110 columns</p>\n",
       "</div>"
      ],
      "text/plain": [
       "                    2014-11-08  2014-12-02  2014-12-26  2015-02-12  \\\n",
       "Longitude Latitude                                                   \n",
       "-120.3387 36.5393          0.0     -6.2129      3.4247      5.7830   \n",
       "-120.1908 36.1412          0.0     -5.6951      2.2257      4.5835   \n",
       "-119.8869 35.6171          0.0     -6.7674      1.8611      3.5773   \n",
       "-119.8849 35.8671          0.0     -6.9006      1.5378      3.1628   \n",
       "-119.8829 35.9512          0.0     -6.3572      1.1703      2.1735   \n",
       "...                        ...         ...         ...         ...   \n",
       "-118.9071 35.3750          0.0     -3.8828     -1.1999     -1.2152   \n",
       "-118.9051 35.3430          0.0     -4.1356     -1.1255     -1.2232   \n",
       "-118.9031 35.3110          0.0     -4.1879     -1.1213     -1.7977   \n",
       "          35.4270          0.0     -4.1305     -1.2911     -1.1049   \n",
       "-118.9011 35.3950          0.0     -4.1354     -1.3291     -1.1547   \n",
       "\n",
       "                    2015-03-08  2015-04-01  2015-04-25  2015-05-19  \\\n",
       "Longitude Latitude                                                   \n",
       "-120.3387 36.5393      2.13990      6.8538     1.83540      2.1142   \n",
       "-120.1908 36.1412      1.70790      6.5348     2.98530      2.7613   \n",
       "-119.8869 35.6171      0.77856      4.5700     1.90460      2.8225   \n",
       "-119.8849 35.8671      0.49591      5.3001     1.69690      2.4262   \n",
       "-119.8829 35.9512     -0.47235      3.9732     0.57705      1.4311   \n",
       "...                        ...         ...         ...         ...   \n",
       "-118.9071 35.3750     -2.12550     -3.4199    -0.94401     -3.6226   \n",
       "-118.9051 35.3430     -2.18530     -3.3244    -0.70324     -3.5807   \n",
       "-118.9031 35.3110     -2.28030     -3.4793    -0.84339     -3.6445   \n",
       "          35.4270     -2.53270     -3.4353    -0.79675     -3.7570   \n",
       "-118.9011 35.3950     -2.29250     -3.5912    -0.82694     -3.6488   \n",
       "\n",
       "                    2015-06-12  2015-07-06  ...  2018-10-18  2018-10-30  \\\n",
       "Longitude Latitude                          ...                           \n",
       "-120.3387 36.5393      1.83670     -1.5935  ...     4.93520    8.059200   \n",
       "-120.1908 36.1412      3.76730      2.2235  ...     6.28560    8.606700   \n",
       "-119.8869 35.6171      0.89615      2.6578  ...     6.42140    7.527900   \n",
       "-119.8849 35.8671      1.60660      1.9497  ...     6.71270    8.195900   \n",
       "-119.8829 35.9512      0.69616      1.1763  ...     5.86560    7.390000   \n",
       "...                        ...         ...  ...         ...         ...   \n",
       "-118.9071 35.3750      0.56910     -1.4506  ...     2.44230    2.689300   \n",
       "-118.9051 35.3430      0.53279     -1.5025  ...     1.45350    1.393300   \n",
       "-118.9031 35.3110      0.30264     -2.1569  ...    -0.17429    0.098737   \n",
       "          35.4270      0.58227     -1.2981  ...     3.02090    3.222600   \n",
       "-118.9011 35.3950      0.71169     -1.0560  ...     2.84470    3.160200   \n",
       "\n",
       "                    2018-11-11  2018-11-17  2018-11-23  2018-12-05  \\\n",
       "Longitude Latitude                                                   \n",
       "-120.3387 36.5393      6.39190     6.56470     3.58430    5.337900   \n",
       "-120.1908 36.1412      7.15330     8.06940     5.60730    4.977600   \n",
       "-119.8869 35.6171      6.25500     7.12750     7.43410    3.680000   \n",
       "-119.8849 35.8671      6.89780     7.72280     7.08070    5.015800   \n",
       "-119.8829 35.9512      6.27260     7.15710     5.54560    3.736800   \n",
       "...                        ...         ...         ...         ...   \n",
       "-118.9071 35.3750      3.37490     3.22130     3.32230    2.285500   \n",
       "-118.9051 35.3430      2.12930     1.83520     2.14240    1.547400   \n",
       "-118.9031 35.3110      0.56824     0.16814     0.69418   -0.011814   \n",
       "          35.4270      4.33210     3.71760     4.08800    2.244900   \n",
       "-118.9011 35.3950      4.13480     3.61790     3.82230    2.624100   \n",
       "\n",
       "                    2018-12-17  2018-12-29  2019-01-10  2019-01-22  \n",
       "Longitude Latitude                                                  \n",
       "-120.3387 36.5393      7.14430      9.1285     8.73970    10.38400  \n",
       "-120.1908 36.1412      8.18450      9.0591     8.89620    10.35300  \n",
       "-119.8869 35.6171      6.77130      8.8868     7.87950     9.15160  \n",
       "-119.8849 35.8671      6.95200      8.8647     8.17390     9.19100  \n",
       "-119.8829 35.9512      6.18420      7.5924     6.51850     8.10940  \n",
       "...                        ...         ...         ...         ...  \n",
       "-118.9071 35.3750      1.94290      5.8860     2.26160     2.42750  \n",
       "-118.9051 35.3430      1.06060      4.7605     0.96871     1.18650  \n",
       "-118.9031 35.3110     -0.57993      2.7450    -1.03220    -0.71361  \n",
       "          35.4270      2.98550      6.4669     2.77250     2.71350  \n",
       "-118.9011 35.3950      2.65560      6.3724     2.70740     2.72110  \n",
       "\n",
       "[603 rows x 110 columns]"
      ]
     },
     "execution_count": 4,
     "metadata": {},
     "output_type": "execute_result"
    }
   ],
   "source": [
    "#df=df.iloc[500000:510000] #cuts data to long 120-119 approx\n",
    "df"
   ]
  },
  {
   "cell_type": "markdown",
   "metadata": {},
   "source": [
    "# Timestep"
   ]
  },
  {
   "cell_type": "code",
   "execution_count": 5,
   "metadata": {},
   "outputs": [],
   "source": [
    "timestep=10"
   ]
  },
  {
   "cell_type": "markdown",
   "metadata": {},
   "source": [
    "# Shaping function (remove start and step for first for loop to include all data)"
   ]
  },
  {
   "cell_type": "code",
   "execution_count": 6,
   "metadata": {},
   "outputs": [],
   "source": [
    "def shaping(datain, timestep):\n",
    "    #print(arr)\n",
    "    cnt=0\n",
    "    for row in range(len(datain.index)): #picks a row at every iteration, allows to reduction of input and inclusion of multiple time series, remove start and step to run on full dataset \n",
    "    # Convert input dataframe to array and flatten\n",
    "        #datain.iloc[row].fillna(datain.iloc[row].mean).to_numpy().flatten()\n",
    "        arr=datain.iloc[row].interpolate().to_numpy().flatten() # flatten row\n",
    "        #arr=arr.fillna(arr.mean)\n",
    "        #arr=np.where(np.isnan(arr), ma.array(arr, mask=np.isnan(arr)).mean(), arr) \n",
    "        for mth in range(0, len(datain.columns)-(2*timestep)+1): # Define range lenght of the dates - 2* amount of timesep?? +1\n",
    "            cnt=cnt+1 # Gives us the number of samples. Later used to reshape the data\n",
    "            X_start=mth # Start month for inputs of each sample\n",
    "            X_end=mth+timestep # End month for inputs of each sample\n",
    "            Y_start=mth+timestep # Start month for targets of each sample. Note, start is inclusive and end is exclusive, that's why X_end and Y_start is the same number\n",
    "            Y_end=mth+2*timestep # End month for targets of each sample.  \n",
    "            \n",
    "            # Assemble input and target arrays containing all samples\n",
    "            if cnt==1:\n",
    "                X_comb=arr[X_start:X_end]\n",
    "                Y_comb=arr[Y_start:Y_end]\n",
    "            else: \n",
    "                X_comb=np.append(X_comb, arr[X_start:X_end])\n",
    "                Y_comb=np.append(Y_comb, arr[Y_start:Y_end])\n",
    "    # Reshape input and target arrays\n",
    "    X_out=np.reshape(X_comb, (cnt, timestep, 1))\n",
    "    Y_out=np.reshape(Y_comb, (cnt, timestep, 1))\n",
    "    return X_out, Y_out"
   ]
  },
  {
   "cell_type": "markdown",
   "metadata": {},
   "source": [
    "##### Step 2 - Split and Shape data"
   ]
  },
  {
   "cell_type": "code",
   "execution_count": 7,
   "metadata": {},
   "outputs": [],
   "source": [
    "\n",
    "#train, test = train_test_split(df, test_size=0.2)\n",
    "# creates sequences to train\n",
    "#Need to decide on how to deal with rows with nans in them\n",
    "\n",
    "train, test=train_test_split(df,test_size=.2,shuffle=True,random_state=42)\n",
    "X_train , Y_train = shaping(datain=train, timestep= timestep )\n",
    "X_test, Y_test=shaping(test,10)\n",
    "\n",
    "\n",
    "nsamples, nx, ny = X_train.shape\n",
    "X_train = X_train.reshape((nsamples,nx*ny))\n",
    "nsamples, nx, ny = Y_train.shape\n",
    "Y_train = Y_train.reshape((nsamples,nx*ny))\n",
    "nsamples, nx, ny = X_test.shape\n",
    "X_test = X_test.reshape((nsamples,nx*ny))\n",
    "nsamples, nx, ny = Y_test.shape\n",
    "Y_test = Y_test.reshape((nsamples,nx*ny))\n"
   ]
  },
  {
   "cell_type": "markdown",
   "metadata": {},
   "source": [
    "##### Step 3 - Specify the structure of a Neural Network, first model"
   ]
  },
  {
   "cell_type": "code",
   "execution_count": 8,
   "metadata": {},
   "outputs": [
    {
     "data": {
      "text/plain": [
       "[<matplotlib.lines.Line2D at 0x1b06a6f02e0>]"
      ]
     },
     "execution_count": 8,
     "metadata": {},
     "output_type": "execute_result"
    },
    {
     "data": {
      "image/png": "[encoded data removed]",
      "text/plain": [
       "<Figure size 432x288 with 1 Axes>"
      ]
     },
     "metadata": {
      "needs_background": "light"
     },
     "output_type": "display_data"
    }
   ],
   "source": [
    "# set model\n",
    "model = RandomForestRegressor(n_jobs = -1, random_state = 64)\n",
    "estimators = np.arange(10, 200, 10)\n",
    "scores = []\n",
    "for n in estimators:\n",
    "    model.set_params(n_estimators=n)\n",
    "    model.fit(X_train, Y_train)\n",
    "    scores.append(model.score(X_test, Y_test))\n",
    "plt.title(\"Effect of n_estimators\")\n",
    "plt.xlabel(\"n_estimator\")\n",
    "plt.ylabel(\"score\")\n",
    "plt.plot(estimators, scores)\n",
    "\n"
   ]
  },
  {
   "cell_type": "code",
   "execution_count": 9,
   "metadata": {},
   "outputs": [
    {
     "data": {
      "text/plain": [
       "array([[  0.     ,  -4.7151 ,   0.17761, ..., -10.041  , -13.85   ,\n",
       "        -14.104  ],\n",
       "       [ -4.7151 ,   0.17761,  -2.275  , ..., -13.85   , -14.104  ,\n",
       "        -16.639  ],\n",
       "       [  0.17761,  -2.275  ,  -5.6831 , ..., -14.104  , -16.639  ,\n",
       "        -19.545  ],\n",
       "       ...,\n",
       "       [-64.783  , -64.338  , -67.615  , ..., -71.119  , -73.566  ,\n",
       "        -74.752  ],\n",
       "       [-64.338  , -67.615  , -66.738  , ..., -73.566  , -74.752  ,\n",
       "        -73.18   ],\n",
       "       [-67.615  , -66.738  , -67.916  , ..., -74.752  , -73.18   ,\n",
       "        -76.641  ]])"
      ]
     },
     "execution_count": 9,
     "metadata": {},
     "output_type": "execute_result"
    }
   ],
   "source": [
    "pred_test=model.predict(X_test)\n",
    "\n",
    "# pred_test = scaler2.inverse_transform(pred_test.reshape(-1, pred_test.shape[-1])).reshape(pred_test.shape)\n",
    "y=pred_test.flatten()\n",
    "z=[]\n",
    "for x in range(910*95,910*96,10): #predictioon\n",
    "    z.append(y[x])\n",
    "z\n",
    "b=Y_test.flatten() #Y test should match prediction\n",
    "c=[] #wtf is this\n",
    "for x in range(910*95,910*96,10):\n",
    "    c.append(b[x])\n",
    "y.size\n",
    "X_test\n"
   ]
  },
  {
   "cell_type": "code",
   "execution_count": 10,
   "metadata": {},
   "outputs": [
    {
     "data": {
      "application/vnd.plotly.v1+json": {
       "config": {
        "plotlyServerURL": "https://plot.ly"
       },
       "data": [
        {
         "line": {
          "color": "grey",
          "width": 1
         },
         "mode": "lines",
         "name": "Subsidence - Actual (YTest)",
         "opacity": 0.8,
         "type": "scatter",
         "x": [
          "2015-07-30T00:00:00.000000000",
          "2015-08-23T00:00:00.000000000",
          "2015-09-16T00:00:00.000000000",
          "2015-10-10T00:00:00.000000000",
          "2015-11-03T00:00:00.000000000",
          "2015-11-27T00:00:00.000000000",
          "2015-12-09T00:00:00.000000000",
          "2015-12-21T00:00:00.000000000",
          "2016-01-14T00:00:00.000000000",
          "2016-01-26T00:00:00.000000000",
          "2016-02-07T00:00:00.000000000",
          "2016-02-19T00:00:00.000000000",
          "2016-03-02T00:00:00.000000000",
          "2016-03-14T00:00:00.000000000",
          "2016-03-26T00:00:00.000000000",
          "2016-04-07T00:00:00.000000000",
          "2016-04-19T00:00:00.000000000",
          "2016-05-01T00:00:00.000000000",
          "2016-05-13T00:00:00.000000000",
          "2016-05-25T00:00:00.000000000",
          "2016-06-06T00:00:00.000000000",
          "2016-06-30T00:00:00.000000000",
          "2016-07-24T00:00:00.000000000",
          "2016-08-17T00:00:00.000000000",
          "2016-09-10T00:00:00.000000000",
          "2016-09-22T00:00:00.000000000",
          "2016-10-04T00:00:00.000000000",
          "2016-10-16T00:00:00.000000000",
          "2016-10-28T00:00:00.000000000",
          "2016-11-09T00:00:00.000000000",
          "2016-11-21T00:00:00.000000000",
          "2016-12-03T00:00:00.000000000",
          "2016-12-15T00:00:00.000000000",
          "2016-12-27T00:00:00.000000000",
          "2017-01-08T00:00:00.000000000",
          "2017-01-14T00:00:00.000000000",
          "2017-01-20T00:00:00.000000000",
          "2017-01-26T00:00:00.000000000",
          "2017-02-01T00:00:00.000000000",
          "2017-02-13T00:00:00.000000000",
          "2017-02-25T00:00:00.000000000",
          "2017-03-09T00:00:00.000000000",
          "2017-03-21T00:00:00.000000000",
          "2017-04-02T00:00:00.000000000",
          "2017-04-14T00:00:00.000000000",
          "2017-04-26T00:00:00.000000000",
          "2017-05-08T00:00:00.000000000",
          "2017-05-20T00:00:00.000000000",
          "2017-06-01T00:00:00.000000000",
          "2017-06-13T00:00:00.000000000",
          "2017-06-25T00:00:00.000000000",
          "2017-07-07T00:00:00.000000000",
          "2017-07-19T00:00:00.000000000",
          "2017-07-31T00:00:00.000000000",
          "2017-08-12T00:00:00.000000000",
          "2017-08-24T00:00:00.000000000",
          "2017-09-05T00:00:00.000000000",
          "2017-09-17T00:00:00.000000000",
          "2017-09-29T00:00:00.000000000",
          "2017-10-11T00:00:00.000000000",
          "2017-10-23T00:00:00.000000000",
          "2017-11-04T00:00:00.000000000",
          "2017-11-16T00:00:00.000000000",
          "2017-11-28T00:00:00.000000000",
          "2017-12-10T00:00:00.000000000",
          "2017-12-22T00:00:00.000000000",
          "2018-01-03T00:00:00.000000000",
          "2018-01-15T00:00:00.000000000",
          "2018-01-27T00:00:00.000000000",
          "2018-02-08T00:00:00.000000000",
          "2018-02-20T00:00:00.000000000",
          "2018-03-04T00:00:00.000000000",
          "2018-03-16T00:00:00.000000000",
          "2018-03-28T00:00:00.000000000",
          "2018-04-09T00:00:00.000000000",
          "2018-04-21T00:00:00.000000000",
          "2018-05-03T00:00:00.000000000",
          "2018-05-15T00:00:00.000000000",
          "2018-05-27T00:00:00.000000000",
          "2018-06-08T00:00:00.000000000",
          "2018-06-20T00:00:00.000000000",
          "2018-07-02T00:00:00.000000000",
          "2018-07-14T00:00:00.000000000",
          "2018-07-26T00:00:00.000000000",
          "2018-08-07T00:00:00.000000000",
          "2018-08-19T00:00:00.000000000",
          "2018-08-31T00:00:00.000000000",
          "2018-09-12T00:00:00.000000000",
          "2018-09-24T00:00:00.000000000",
          "2018-10-06T00:00:00.000000000",
          "2018-10-18T00:00:00.000000000",
          "2018-10-30T00:00:00.000000000",
          "2018-11-11T00:00:00.000000000",
          "2018-11-17T00:00:00.000000000",
          "2018-11-23T00:00:00.000000000",
          "2018-12-05T00:00:00.000000000",
          "2018-12-17T00:00:00.000000000",
          "2018-12-29T00:00:00.000000000",
          "2019-01-10T00:00:00.000000000",
          "2019-01-22T00:00:00.000000000"
         ],
         "y": [
          -17.093,
          -19.939,
          -26.643,
          -26.535,
          -22.791,
          -24.276,
          -23.667,
          -20.38,
          -24.689,
          -21.712,
          -20.908,
          -22.297,
          -24.717,
          -23.143,
          -21.659,
          -20.478,
          -24.901,
          -23.464,
          -24.136,
          -26.309,
          -25.547,
          -28.372,
          -32.304,
          -29.753,
          -32.82,
          -32.15,
          -31.518,
          -30.265,
          -33.868,
          -31.543,
          -31.477,
          -29.169,
          -30.379,
          -29.774,
          -28.993,
          -30.736,
          -30.743,
          -29.867,
          -30.217,
          -29.011,
          -30.016,
          -30.063,
          -27.525,
          -30.737,
          -31.866,
          -29.007,
          -29.202,
          -29.962,
          -30.336,
          -32.217,
          -33.656,
          -33.21,
          -33.931,
          -33.781,
          -35.897,
          -32.9,
          -30.449,
          -32.925,
          -34.405,
          -33.723,
          -34.993,
          -35.783,
          -33.599,
          -32.524,
          -34.805,
          -33.754,
          -33.758,
          -32.542,
          -32.233,
          -33.706,
          -33.989,
          -33.716,
          -31.366,
          -32.995,
          -36.09,
          -31.502,
          -34.675,
          -32.855,
          -35.649,
          -35.505,
          -38.275,
          -36.71,
          -36.698,
          -36.319500000000005,
          -35.941,
          -37.075,
          -38.517,
          -38.93,
          -37.269,
          -40.409,
          -37.857
         ]
        },
        {
         "line": {
          "color": "red",
          "width": 1
         },
         "mode": "lines",
         "name": "Subsidence - Predicted ",
         "opacity": 0.8,
         "type": "scatter",
         "x": [
          "2015-07-30T00:00:00.000000000",
          "2015-08-23T00:00:00.000000000",
          "2015-09-16T00:00:00.000000000",
          "2015-10-10T00:00:00.000000000",
          "2015-11-03T00:00:00.000000000",
          "2015-11-27T00:00:00.000000000",
          "2015-12-09T00:00:00.000000000",
          "2015-12-21T00:00:00.000000000",
          "2016-01-14T00:00:00.000000000",
          "2016-01-26T00:00:00.000000000",
          "2016-02-07T00:00:00.000000000",
          "2016-02-19T00:00:00.000000000",
          "2016-03-02T00:00:00.000000000",
          "2016-03-14T00:00:00.000000000",
          "2016-03-26T00:00:00.000000000",
          "2016-04-07T00:00:00.000000000",
          "2016-04-19T00:00:00.000000000",
          "2016-05-01T00:00:00.000000000",
          "2016-05-13T00:00:00.000000000",
          "2016-05-25T00:00:00.000000000",
          "2016-06-06T00:00:00.000000000",
          "2016-06-30T00:00:00.000000000",
          "2016-07-24T00:00:00.000000000",
          "2016-08-17T00:00:00.000000000",
          "2016-09-10T00:00:00.000000000",
          "2016-09-22T00:00:00.000000000",
          "2016-10-04T00:00:00.000000000",
          "2016-10-16T00:00:00.000000000",
          "2016-10-28T00:00:00.000000000",
          "2016-11-09T00:00:00.000000000",
          "2016-11-21T00:00:00.000000000",
          "2016-12-03T00:00:00.000000000",
          "2016-12-15T00:00:00.000000000",
          "2016-12-27T00:00:00.000000000",
          "2017-01-08T00:00:00.000000000",
          "2017-01-14T00:00:00.000000000",
          "2017-01-20T00:00:00.000000000",
          "2017-01-26T00:00:00.000000000",
          "2017-02-01T00:00:00.000000000",
          "2017-02-13T00:00:00.000000000",
          "2017-02-25T00:00:00.000000000",
          "2017-03-09T00:00:00.000000000",
          "2017-03-21T00:00:00.000000000",
          "2017-04-02T00:00:00.000000000",
          "2017-04-14T00:00:00.000000000",
          "2017-04-26T00:00:00.000000000",
          "2017-05-08T00:00:00.000000000",
          "2017-05-20T00:00:00.000000000",
          "2017-06-01T00:00:00.000000000",
          "2017-06-13T00:00:00.000000000",
          "2017-06-25T00:00:00.000000000",
          "2017-07-07T00:00:00.000000000",
          "2017-07-19T00:00:00.000000000",
          "2017-07-31T00:00:00.000000000",
          "2017-08-12T00:00:00.000000000",
          "2017-08-24T00:00:00.000000000",
          "2017-09-05T00:00:00.000000000",
          "2017-09-17T00:00:00.000000000",
          "2017-09-29T00:00:00.000000000",
          "2017-10-11T00:00:00.000000000",
          "2017-10-23T00:00:00.000000000",
          "2017-11-04T00:00:00.000000000",
          "2017-11-16T00:00:00.000000000",
          "2017-11-28T00:00:00.000000000",
          "2017-12-10T00:00:00.000000000",
          "2017-12-22T00:00:00.000000000",
          "2018-01-03T00:00:00.000000000",
          "2018-01-15T00:00:00.000000000",
          "2018-01-27T00:00:00.000000000",
          "2018-02-08T00:00:00.000000000",
          "2018-02-20T00:00:00.000000000",
          "2018-03-04T00:00:00.000000000",
          "2018-03-16T00:00:00.000000000",
          "2018-03-28T00:00:00.000000000",
          "2018-04-09T00:00:00.000000000",
          "2018-04-21T00:00:00.000000000",
          "2018-05-03T00:00:00.000000000",
          "2018-05-15T00:00:00.000000000",
          "2018-05-27T00:00:00.000000000",
          "2018-06-08T00:00:00.000000000",
          "2018-06-20T00:00:00.000000000",
          "2018-07-02T00:00:00.000000000",
          "2018-07-14T00:00:00.000000000",
          "2018-07-26T00:00:00.000000000",
          "2018-08-07T00:00:00.000000000",
          "2018-08-19T00:00:00.000000000",
          "2018-08-31T00:00:00.000000000",
          "2018-09-12T00:00:00.000000000",
          "2018-09-24T00:00:00.000000000",
          "2018-10-06T00:00:00.000000000",
          "2018-10-18T00:00:00.000000000",
          "2018-10-30T00:00:00.000000000",
          "2018-11-11T00:00:00.000000000",
          "2018-11-17T00:00:00.000000000",
          "2018-11-23T00:00:00.000000000",
          "2018-12-05T00:00:00.000000000",
          "2018-12-17T00:00:00.000000000",
          "2018-12-29T00:00:00.000000000",
          "2019-01-10T00:00:00.000000000",
          "2019-01-22T00:00:00.000000000"
         ],
         "y": [
          -12.035780526315797,
          -19.475721052631588,
          -22.644242105263135,
          -26.208589473684224,
          -26.741815789473687,
          -23.08353684210528,
          -25.784226315789482,
          -24.859405263157907,
          -24.113931578947412,
          -23.471952631578944,
          -22.749157894736847,
          -21.608278947368433,
          -23.608336842105263,
          -23.761368421052627,
          -23.860452631578962,
          -22.192255263157893,
          -22.894110526315792,
          -24.35334736842107,
          -24.280273684210524,
          -24.04059999999998,
          -25.681299999999972,
          -25.559284210526346,
          -29.43993157894737,
          -32.11983157894739,
          -32.70240263157897,
          -32.89876842105268,
          -33.35749999999997,
          -32.7612210526316,
          -31.56340263157893,
          -32.60380526315789,
          -32.195926315789464,
          -32.03074473684211,
          -31.04583684210528,
          -30.64871052631578,
          -29.978063157894738,
          -30.112399999999983,
          -30.505847368421033,
          -30.356173684210507,
          -30.072236842105223,
          -30.600799999999996,
          -30.2356736842105,
          -30.34241052631579,
          -30.025442105263146,
          -29.92153684210528,
          -31.139542105263168,
          -30.375165789473712,
          -30.1130157894737,
          -30.52800526315784,
          -30.930226315789486,
          -31.367152631578918,
          -33.120336842105296,
          -33.2829,
          -33.64376842105266,
          -34.17048157894736,
          -35.31768157894736,
          -35.77632105263159,
          -33.54150526315787,
          -32.860068421052645,
          -33.57250000000003,
          -34.68852631578949,
          -33.993489473684164,
          -35.196921052631595,
          -34.63115263157897,
          -33.39078421052632,
          -34.63861578947374,
          -34.55309473684204,
          -33.7674052631579,
          -33.771247368421,
          -33.105642105263136,
          -33.002189473684204,
          -33.77708421052629,
          -33.61006842105262,
          -33.75732105263158,
          -33.246489473684186,
          -33.714068421052616,
          -34.14962631578949,
          -33.682978947368426,
          -34.65826052631579,
          -35.1648315789474,
          -35.97943684210524,
          -37.07352631578945,
          -37.244647368421056,
          -36.96767894736843,
          -37.07756315789476,
          -37.553110526315805,
          -36.55156842105266,
          -37.21633157894736,
          -38.35226842105263,
          -38.68375789473687,
          -38.45150000000005,
          -39.063328947368404
         ]
        }
       ],
       "layout": {
        "legend": {
         "orientation": "h",
         "x": 1,
         "xanchor": "right",
         "y": 1.02,
         "yanchor": "bottom"
        },
        "plot_bgcolor": "white",
        "template": {
         "data": {
          "bar": [
           {
            "error_x": {
             "color": "#2a3f5f"
            },
            "error_y": {
             "color": "#2a3f5f"
            },
            "marker": {
             "line": {
              "color": "#E5ECF6",
              "width": 0.5
             },
             "pattern": {
              "fillmode": "overlay",
              "size": 10,
              "solidity": 0.2
             }
            },
            "type": "bar"
           }
          ],
          "barpolar": [
           {
            "marker": {
             "line": {
              "color": "#E5ECF6",
              "width": 0.5
             },
             "pattern": {
              "fillmode": "overlay",
              "size": 10,
              "solidity": 0.2
             }
            },
            "type": "barpolar"
           }
          ],
          "carpet": [
           {
            "aaxis": {
             "endlinecolor": "#2a3f5f",
             "gridcolor": "white",
             "linecolor": "white",
             "minorgridcolor": "white",
             "startlinecolor": "#2a3f5f"
            },
            "baxis": {
             "endlinecolor": "#2a3f5f",
             "gridcolor": "white",
             "linecolor": "white",
             "minorgridcolor": "white",
             "startlinecolor": "#2a3f5f"
            },
            "type": "carpet"
           }
          ],
          "choropleth": [
           {
            "colorbar": {
             "outlinewidth": 0,
             "ticks": ""
            },
            "type": "choropleth"
           }
          ],
          "contour": [
           {
            "colorbar": {
             "outlinewidth": 0,
             "ticks": ""
            },
            "colorscale": [
             [
              0,
              "#0d0887"
             ],
             [
              0.1111111111111111,
              "#46039f"
             ],
             [
              0.2222222222222222,
              "#7201a8"
             ],
             [
              0.3333333333333333,
              "#9c179e"
             ],
             [
              0.4444444444444444,
              "#bd3786"
             ],
             [
              0.5555555555555556,
              "#d8576b"
             ],
             [
              0.6666666666666666,
              "#ed7953"
             ],
             [
              0.7777777777777778,
              "#fb9f3a"
             ],
             [
              0.8888888888888888,
              "#fdca26"
             ],
             [
              1,
              "#f0f921"
             ]
            ],
            "type": "contour"
           }
          ],
          "contourcarpet": [
           {
            "colorbar": {
             "outlinewidth": 0,
             "ticks": ""
            },
            "type": "contourcarpet"
           }
          ],
          "heatmap": [
           {
            "colorbar": {
             "outlinewidth": 0,
             "ticks": ""
            },
            "colorscale": [
             [
              0,
              "#0d0887"
             ],
             [
              0.1111111111111111,
              "#46039f"
             ],
             [
              0.2222222222222222,
              "#7201a8"
             ],
             [
              0.3333333333333333,
              "#9c179e"
             ],
             [
              0.4444444444444444,
              "#bd3786"
             ],
             [
              0.5555555555555556,
              "#d8576b"
             ],
             [
              0.6666666666666666,
              "#ed7953"
             ],
             [
              0.7777777777777778,
              "#fb9f3a"
             ],
             [
              0.8888888888888888,
              "#fdca26"
             ],
             [
              1,
              "#f0f921"
             ]
            ],
            "type": "heatmap"
           }
          ],
          "heatmapgl": [
           {
            "colorbar": {
             "outlinewidth": 0,
             "ticks": ""
            },
            "colorscale": [
             [
              0,
              "#0d0887"
             ],
             [
              0.1111111111111111,
              "#46039f"
             ],
             [
              0.2222222222222222,
              "#7201a8"
             ],
             [
              0.3333333333333333,
              "#9c179e"
             ],
             [
              0.4444444444444444,
              "#bd3786"
             ],
             [
              0.5555555555555556,
              "#d8576b"
             ],
             [
              0.6666666666666666,
              "#ed7953"
             ],
             [
              0.7777777777777778,
              "#fb9f3a"
             ],
             [
              0.8888888888888888,
              "#fdca26"
             ],
             [
              1,
              "#f0f921"
             ]
            ],
            "type": "heatmapgl"
           }
          ],
          "histogram": [
           {
            "marker": {
             "pattern": {
              "fillmode": "overlay",
              "size": 10,
              "solidity": 0.2
             }
            },
            "type": "histogram"
           }
          ],
          "histogram2d": [
           {
            "colorbar": {
             "outlinewidth": 0,
             "ticks": ""
            },
            "colorscale": [
             [
              0,
              "#0d0887"
             ],
             [
              0.1111111111111111,
              "#46039f"
             ],
             [
              0.2222222222222222,
              "#7201a8"
             ],
             [
              0.3333333333333333,
              "#9c179e"
             ],
             [
              0.4444444444444444,
              "#bd3786"
             ],
             [
              0.5555555555555556,
              "#d8576b"
             ],
             [
              0.6666666666666666,
              "#ed7953"
             ],
             [
              0.7777777777777778,
              "#fb9f3a"
             ],
             [
              0.8888888888888888,
              "#fdca26"
             ],
             [
              1,
              "#f0f921"
             ]
            ],
            "type": "histogram2d"
           }
          ],
          "histogram2dcontour": [
           {
            "colorbar": {
             "outlinewidth": 0,
             "ticks": ""
            },
            "colorscale": [
             [
              0,
              "#0d0887"
             ],
             [
              0.1111111111111111,
              "#46039f"
             ],
             [
              0.2222222222222222,
              "#7201a8"
             ],
             [
              0.3333333333333333,
              "#9c179e"
             ],
             [
              0.4444444444444444,
              "#bd3786"
             ],
             [
              0.5555555555555556,
              "#d8576b"
             ],
             [
              0.6666666666666666,
              "#ed7953"
             ],
             [
              0.7777777777777778,
              "#fb9f3a"
             ],
             [
              0.8888888888888888,
              "#fdca26"
             ],
             [
              1,
              "#f0f921"
             ]
            ],
            "type": "histogram2dcontour"
           }
          ],
          "mesh3d": [
           {
            "colorbar": {
             "outlinewidth": 0,
             "ticks": ""
            },
            "type": "mesh3d"
           }
          ],
          "parcoords": [
           {
            "line": {
             "colorbar": {
              "outlinewidth": 0,
              "ticks": ""
             }
            },
            "type": "parcoords"
           }
          ],
          "pie": [
           {
            "automargin": true,
            "type": "pie"
           }
          ],
          "scatter": [
           {
            "fillpattern": {
             "fillmode": "overlay",
             "size": 10,
             "solidity": 0.2
            },
            "type": "scatter"
           }
          ],
          "scatter3d": [
           {
            "line": {
             "colorbar": {
              "outlinewidth": 0,
              "ticks": ""
             }
            },
            "marker": {
             "colorbar": {
              "outlinewidth": 0,
              "ticks": ""
             }
            },
            "type": "scatter3d"
           }
          ],
          "scattercarpet": [
           {
            "marker": {
             "colorbar": {
              "outlinewidth": 0,
              "ticks": ""
             }
            },
            "type": "scattercarpet"
           }
          ],
          "scattergeo": [
           {
            "marker": {
             "colorbar": {
              "outlinewidth": 0,
              "ticks": ""
             }
            },
            "type": "scattergeo"
           }
          ],
          "scattergl": [
           {
            "marker": {
             "colorbar": {
              "outlinewidth": 0,
              "ticks": ""
             }
            },
            "type": "scattergl"
           }
          ],
          "scattermapbox": [
           {
            "marker": {
             "colorbar": {
              "outlinewidth": 0,
              "ticks": ""
             }
            },
            "type": "scattermapbox"
           }
          ],
          "scatterpolar": [
           {
            "marker": {
             "colorbar": {
              "outlinewidth": 0,
              "ticks": ""
             }
            },
            "type": "scatterpolar"
           }
          ],
          "scatterpolargl": [
           {
            "marker": {
             "colorbar": {
              "outlinewidth": 0,
              "ticks": ""
             }
            },
            "type": "scatterpolargl"
           }
          ],
          "scatterternary": [
           {
            "marker": {
             "colorbar": {
              "outlinewidth": 0,
              "ticks": ""
             }
            },
            "type": "scatterternary"
           }
          ],
          "surface": [
           {
            "colorbar": {
             "outlinewidth": 0,
             "ticks": ""
            },
            "colorscale": [
             [
              0,
              "#0d0887"
             ],
             [
              0.1111111111111111,
              "#46039f"
             ],
             [
              0.2222222222222222,
              "#7201a8"
             ],
             [
              0.3333333333333333,
              "#9c179e"
             ],
             [
              0.4444444444444444,
              "#bd3786"
             ],
             [
              0.5555555555555556,
              "#d8576b"
             ],
             [
              0.6666666666666666,
              "#ed7953"
             ],
             [
              0.7777777777777778,
              "#fb9f3a"
             ],
             [
              0.8888888888888888,
              "#fdca26"
             ],
             [
              1,
              "#f0f921"
             ]
            ],
            "type": "surface"
           }
          ],
          "table": [
           {
            "cells": {
             "fill": {
              "color": "#EBF0F8"
             },
             "line": {
              "color": "white"
             }
            },
            "header": {
             "fill": {
              "color": "#C8D4E3"
             },
             "line": {
              "color": "white"
             }
            },
            "type": "table"
           }
          ]
         },
         "layout": {
          "annotationdefaults": {
           "arrowcolor": "#2a3f5f",
           "arrowhead": 0,
           "arrowwidth": 1
          },
          "autotypenumbers": "strict",
          "coloraxis": {
           "colorbar": {
            "outlinewidth": 0,
            "ticks": ""
           }
          },
          "colorscale": {
           "diverging": [
            [
             0,
             "#8e0152"
            ],
            [
             0.1,
             "#c51b7d"
            ],
            [
             0.2,
             "#de77ae"
            ],
            [
             0.3,
             "#f1b6da"
            ],
            [
             0.4,
             "#fde0ef"
            ],
            [
             0.5,
             "#f7f7f7"
            ],
            [
             0.6,
             "#e6f5d0"
            ],
            [
             0.7,
             "#b8e186"
            ],
            [
             0.8,
             "#7fbc41"
            ],
            [
             0.9,
             "#4d9221"
            ],
            [
             1,
             "#276419"
            ]
           ],
           "sequential": [
            [
             0,
             "#0d0887"
            ],
            [
             0.1111111111111111,
             "#46039f"
            ],
            [
             0.2222222222222222,
             "#7201a8"
            ],
            [
             0.3333333333333333,
             "#9c179e"
            ],
            [
             0.4444444444444444,
             "#bd3786"
            ],
            [
             0.5555555555555556,
             "#d8576b"
            ],
            [
             0.6666666666666666,
             "#ed7953"
            ],
            [
             0.7777777777777778,
             "#fb9f3a"
            ],
            [
             0.8888888888888888,
             "#fdca26"
            ],
            [
             1,
             "#f0f921"
            ]
           ],
           "sequentialminus": [
            [
             0,
             "#0d0887"
            ],
            [
             0.1111111111111111,
             "#46039f"
            ],
            [
             0.2222222222222222,
             "#7201a8"
            ],
            [
             0.3333333333333333,
             "#9c179e"
            ],
            [
             0.4444444444444444,
             "#bd3786"
            ],
            [
             0.5555555555555556,
             "#d8576b"
            ],
            [
             0.6666666666666666,
             "#ed7953"
            ],
            [
             0.7777777777777778,
             "#fb9f3a"
            ],
            [
             0.8888888888888888,
             "#fdca26"
            ],
            [
             1,
             "#f0f921"
            ]
           ]
          },
          "colorway": [
           "#636efa",
           "#EF553B",
           "#00cc96",
           "#ab63fa",
           "#FFA15A",
           "#19d3f3",
           "#FF6692",
           "#B6E880",
           "#FF97FF",
           "#FECB52"
          ],
          "font": {
           "color": "#2a3f5f"
          },
          "geo": {
           "bgcolor": "white",
           "lakecolor": "white",
           "landcolor": "#E5ECF6",
           "showlakes": true,
           "showland": true,
           "subunitcolor": "white"
          },
          "hoverlabel": {
           "align": "left"
          },
          "hovermode": "closest",
          "mapbox": {
           "style": "light"
          },
          "paper_bgcolor": "white",
          "plot_bgcolor": "#E5ECF6",
          "polar": {
           "angularaxis": {
            "gridcolor": "white",
            "linecolor": "white",
            "ticks": ""
           },
           "bgcolor": "#E5ECF6",
           "radialaxis": {
            "gridcolor": "white",
            "linecolor": "white",
            "ticks": ""
           }
          },
          "scene": {
           "xaxis": {
            "backgroundcolor": "#E5ECF6",
            "gridcolor": "white",
            "gridwidth": 2,
            "linecolor": "white",
            "showbackground": true,
            "ticks": "",
            "zerolinecolor": "white"
           },
           "yaxis": {
            "backgroundcolor": "#E5ECF6",
            "gridcolor": "white",
            "gridwidth": 2,
            "linecolor": "white",
            "showbackground": true,
            "ticks": "",
            "zerolinecolor": "white"
           },
           "zaxis": {
            "backgroundcolor": "#E5ECF6",
            "gridcolor": "white",
            "gridwidth": 2,
            "linecolor": "white",
            "showbackground": true,
            "ticks": "",
            "zerolinecolor": "white"
           }
          },
          "shapedefaults": {
           "line": {
            "color": "#2a3f5f"
           }
          },
          "ternary": {
           "aaxis": {
            "gridcolor": "white",
            "linecolor": "white",
            "ticks": ""
           },
           "baxis": {
            "gridcolor": "white",
            "linecolor": "white",
            "ticks": ""
           },
           "bgcolor": "#E5ECF6",
           "caxis": {
            "gridcolor": "white",
            "linecolor": "white",
            "ticks": ""
           }
          },
          "title": {
           "x": 0.05
          },
          "xaxis": {
           "automargin": true,
           "gridcolor": "white",
           "linecolor": "white",
           "ticks": "",
           "title": {
            "standoff": 15
           },
           "zerolinecolor": "white",
           "zerolinewidth": 2
          },
          "yaxis": {
           "automargin": true,
           "gridcolor": "white",
           "linecolor": "white",
           "ticks": "",
           "title": {
            "standoff": 15
           },
           "zerolinecolor": "white",
           "zerolinewidth": 2
          }
         }
        },
        "title": {
         "font": {
          "color": "black"
         },
         "text": "Subsidence"
        },
        "xaxis": {
         "gridcolor": "lightgrey",
         "gridwidth": 1,
         "linecolor": "black",
         "linewidth": 1,
         "showgrid": true,
         "showline": true,
         "title": {
          "text": "Month-Year"
         },
         "zeroline": true,
         "zerolinecolor": "lightgrey",
         "zerolinewidth": 1
        },
        "yaxis": {
         "gridcolor": "lightgrey",
         "gridwidth": 1,
         "linecolor": "black",
         "linewidth": 1,
         "showgrid": true,
         "showline": true,
         "title": {
          "text": "Subsidence"
         },
         "zeroline": true,
         "zerolinecolor": "lightgrey",
         "zerolinewidth": 1
        }
       }
      }
     },
     "metadata": {},
     "output_type": "display_data"
    }
   ],
   "source": [
    "# Plot (actual and predicted) for test (out of time) data\n",
    "fig = go.Figure()\n",
    "\n",
    "# #Trace for actual val\n",
    "# fig.add_trace(go.Scatter(x=np.array(test.columns),\n",
    "#                          y=np.array(test.values).flatten(),\n",
    "#                          mode='lines',\n",
    "#                          name='Subsidence - Actual (Test)',\n",
    "#                          opacity=0.8,\n",
    "#                          line=dict(color='black', width=1)\n",
    "#                         ))\n",
    "# fig.add_trace(go.Scatter(x=np.array(test.columns),\n",
    "#                          y=e,\n",
    "#                          mode='lines',\n",
    "#                          name='Subsidence - Actual (YTrain)',\n",
    "#                          opacity=0.8,\n",
    "#                          line=dict(color='pink', width=1)\n",
    "#                         ))\n",
    "\n",
    "fig.add_trace(go.Scatter(x=np.array(test.columns[10:]),\n",
    "                         y=c,\n",
    "                         mode='lines',\n",
    "                         name='Subsidence - Actual (YTest)',\n",
    "                         opacity=0.8,\n",
    "                         line=dict(color='grey', width=1)\n",
    "                        ))\n",
    "\n",
    "\n",
    "# Trace for predicted \n",
    "fig.add_trace(go.Scatter(x=np.array(test.columns[10:]),\n",
    "                         y=z,\n",
    "                         mode='lines',\n",
    "                         name='Subsidence - Predicted ',\n",
    "                         opacity=0.8,\n",
    "                         line=dict(color='red', width=1)\n",
    "                        ))\n",
    "\n",
    "# Change chart background color\n",
    "fig.update_layout(dict(plot_bgcolor = 'white'))\n",
    "\n",
    "# Update axes lines\n",
    "fig.update_xaxes(showgrid=True, gridwidth=1, gridcolor='lightgrey', \n",
    "                 zeroline=True, zerolinewidth=1, zerolinecolor='lightgrey', \n",
    "                 showline=True, linewidth=1, linecolor='black',\n",
    "                 title='Month-Year'\n",
    "                )\n",
    "\n",
    "fig.update_yaxes(showgrid=True, gridwidth=1, gridcolor='lightgrey', \n",
    "                 zeroline=True, zerolinewidth=1, zerolinecolor='lightgrey', \n",
    "                 showline=True, linewidth=1, linecolor='black',\n",
    "                 title='Subsidence'\n",
    "                )\n",
    "\n",
    "# Set figure title\n",
    "fig.update_layout(title=dict(text=\"Subsidence\", font=dict(color='black')),\n",
    "                  legend=dict(orientation=\"h\", yanchor=\"bottom\", y=1.02, xanchor=\"right\", x=1)\n",
    "                 )\n",
    "fig.show()"
   ]
  },
  {
   "cell_type": "code",
   "execution_count": 11,
   "metadata": {},
   "outputs": [],
   "source": [
    "# from sklearn import tree\n",
    "# Tree = model.estimators_[5]\n",
    "# plt.figure(figsize=(25,15))\n",
    "# tree.plot_tree(Tree,filled=True, \n",
    "#               rounded=True, \n",
    "#               fontsize=14);"
   ]
  },
  {
   "cell_type": "markdown",
   "metadata": {},
   "source": [
    "Scores:Return the coefficient of determination of the prediction. R^2"
   ]
  },
  {
   "cell_type": "code",
   "execution_count": 12,
   "metadata": {},
   "outputs": [
    {
     "data": {
      "text/plain": [
       "[0.9928840954021881,\n",
       " 0.9933530213398442,\n",
       " 0.9934958001944636,\n",
       " 0.9935867597089609,\n",
       " 0.993649375970938,\n",
       " 0.9936844222910356,\n",
       " 0.9936996918865818,\n",
       " 0.993717203112508,\n",
       " 0.9937343849983222,\n",
       " 0.9937374083632043,\n",
       " 0.9937450202416459,\n",
       " 0.9937479348668339,\n",
       " 0.9937491856570176,\n",
       " 0.9937494079723583,\n",
       " 0.9937645033712345,\n",
       " 0.9937690649792964,\n",
       " 0.9937706496011358,\n",
       " 0.9937851300284308,\n",
       " 0.9937886991365728]"
      ]
     },
     "execution_count": 12,
     "metadata": {},
     "output_type": "execute_result"
    }
   ],
   "source": [
    "scores"
   ]
  },
  {
   "cell_type": "markdown",
   "metadata": {},
   "source": [
    "##### Train model"
   ]
  },
  {
   "cell_type": "markdown",
   "metadata": {},
   "source": [
    "##### Step 4 - Plot loss over epochs"
   ]
  },
  {
   "cell_type": "code",
   "execution_count": 13,
   "metadata": {},
   "outputs": [
    {
     "name": "stdout",
     "output_type": "stream",
     "text": [
      "\n",
      "RMSE:  1.843\n",
      "Mean Absolute Error: 1.2489224197215247\n",
      "Mean Squared Error: 3.3974197874139795\n",
      "Root Mean Squared Error: 1.8432091002959972\n"
     ]
    }
   ],
   "source": [
    "# Predicting the target values of the test set\n",
    "Y_pred = model.predict(X_test)\n",
    "\n",
    "# RMSE (Root Mean Square Error)\n",
    "rmse = float(format(np.sqrt(mean_squared_error(Y_test, Y_pred)), '.3f'))\n",
    "print(\"\\nRMSE: \", rmse)\n",
    "from sklearn import metrics\n",
    "print('Mean Absolute Error:', metrics.mean_absolute_error(Y_test, Y_pred))\n",
    "print('Mean Squared Error:', metrics.mean_squared_error(Y_test, Y_pred))\n",
    "print('Root Mean Squared Error:', np.sqrt(metrics.mean_squared_error(Y_test, Y_pred)))\n"
   ]
  },
  {
   "cell_type": "code",
   "execution_count": 14,
   "metadata": {},
   "outputs": [
    {
     "name": "stdout",
     "output_type": "stream",
     "text": [
      "Mean Absolute Error: 1.25 degrees.\n",
      "Accuracy: 104.72 %.\n"
     ]
    }
   ],
   "source": [
    "# Calculate the absolute errors\n",
    "errors = abs(Y_pred - Y_test)\n",
    "# Print out the mean absolute error (mae)\n",
    "print('Mean Absolute Error:', round(np.mean(errors), 2), 'degrees.')\n",
    "\n",
    "# Calculate mean absolute percentage error (MAPE)\n",
    "mape = 100 * (errors / Y_test)\n",
    "# Calculate and display accuracy\n",
    "accuracy = 100 - np.mean(mape)\n",
    "print('Accuracy:', round(accuracy, 2), '%.')"
   ]
  },
  {
   "cell_type": "code",
   "execution_count": 15,
   "metadata": {},
   "outputs": [
    {
     "name": "stderr",
     "output_type": "stream",
     "text": [
      "c:\\Python\\Python310\\lib\\site-packages\\seaborn\\distributions.py:2619: FutureWarning:\n",
      "\n",
      "`distplot` is a deprecated function and will be removed in a future version. Please adapt your code to use either `displot` (a figure-level function with similar flexibility) or `kdeplot` (an axes-level function for kernel density plots).\n",
      "\n",
      "c:\\Python\\Python310\\lib\\site-packages\\seaborn\\distributions.py:2619: FutureWarning:\n",
      "\n",
      "`distplot` is a deprecated function and will be removed in a future version. Please adapt your code to use either `displot` (a figure-level function with similar flexibility) or `kdeplot` (an axes-level function for kernel density plots).\n",
      "\n"
     ]
    },
    {
     "data": {
      "image/png": "[encoded data removed]",
      "text/plain": [
       "<Figure size 360x504 with 1 Axes>"
      ]
     },
     "metadata": {
      "needs_background": "light"
     },
     "output_type": "display_data"
    }
   ],
   "source": [
    "import seaborn as sns\n",
    "plt.figure(figsize=(5, 7))\n",
    "\n",
    "\n",
    "ax = sns.distplot(Y_test, hist=False, color=\"r\", label=\"Actual Value\")\n",
    "sns.distplot(Y_pred, hist=False, color=\"b\", label=\"Fitted Values\" , ax=ax)\n",
    "\n",
    "\n",
    "plt.title('Actual vs Fitted Values')\n",
    "\n",
    "\n",
    "plt.show()\n",
    "plt.close()"
   ]
  },
  {
   "cell_type": "code",
   "execution_count": 16,
   "metadata": {},
   "outputs": [],
   "source": [
    "##### Step 5 - Print Performance Summary"
   ]
  }
 ],
 "metadata": {
  "kernelspec": {
   "display_name": "Python 3.10.5 64-bit",
   "language": "python",
   "name": "python3"
  },
  "language_info": {
   "codemirror_mode": {
    "name": "ipython",
    "version": 3
   },
   "file_extension": ".py",
   "mimetype": "text/x-python",
   "name": "python",
   "nbconvert_exporter": "python",
   "pygments_lexer": "ipython3",
   "version": "3.10.5"
  },
  "orig_nbformat": 4,
  "vscode": {
   "interpreter": {
    "hash": "d3e10ef16274dd72e574b8fa73b58450b957d8421a2901baded3cca26fcf5dda"
   }
  }
 },
 "nbformat": 4,
 "nbformat_minor": 2
}
