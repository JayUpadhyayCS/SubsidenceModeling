{
 "cells": [
  {
   "cell_type": "code",
   "execution_count": 83,
   "metadata": {},
   "outputs": [
    {
     "name": "stdout",
     "output_type": "stream",
     "text": [
      "Tensorflow/Keras: 2.9.0\n",
      "pandas: 1.4.2\n",
      "numpy: 1.22.4\n",
      "sklearn: 1.1.1\n",
      "plotly: 5.9.0\n"
     ]
    }
   ],
   "source": [
    "# Tensorflow / Keras\n",
    "from tensorflow import keras # for building Neural Networks\n",
    "print('Tensorflow/Keras: %s' % keras.__version__) # print version\n",
    "from keras.models import Sequential # for creating a linear stack of layers for our Neural Network\n",
    "from keras import Input # for instantiating a keras tensor\n",
    "from keras.layers import Masking,Bidirectional, LSTM, RepeatVector, Dense, TimeDistributed,MaxPooling1D, Flatten, Conv1D,Conv2D,Dropout, MaxPooling2D, GRU # for creating layers inside the Neural Network\n",
    "from keras.optimizers import Adam , SGD\n",
    "from keras import metrics, callbacks\n",
    "from keras.utils import plot_model\n",
    "# Data manipulation\n",
    "import pandas as pd # for data manipulation\n",
    "print('pandas: %s' % pd.__version__) # print version\n",
    "import numpy as np # for data manipulation\n",
    "print('numpy: %s' % np.__version__) # print version\n",
    "import numpy.ma as ma\n",
    "# Sklearn\n",
    "import sklearn\n",
    "print('sklearn: %s' % sklearn.__version__) # print version\n",
    "from sklearn.preprocessing import MinMaxScaler, StandardScaler # for feature scaling\n",
    "from sklearn.model_selection import train_test_split\n",
    "# Visualization\n",
    "import plotly \n",
    "import plotly.express as px\n",
    "import plotly.graph_objects as go\n",
    "print('plotly: %s' % plotly.__version__) # print version\n",
    "from matplotlib import pyplot as plt\n",
    "\n",
    "#file accessing\n",
    "import os\n",
    "# time stuff\n",
    "from datetime import timedelta\n",
    "import calendar\n"
   ]
  },
  {
   "cell_type": "code",
   "execution_count": 84,
   "metadata": {},
   "outputs": [
    {
     "name": "stdout",
     "output_type": "stream",
     "text": [
      "Defined the plot_the_model and plot_the_loss_curve functions.\n"
     ]
    }
   ],
   "source": [
    "#@title Define the plotting functions\n",
    "def plot_the_model(trained_weight, trained_bias, feature, label):\n",
    "  \"\"\"Plot the trained model against the training feature and label.\"\"\"\n",
    "\n",
    "  # Label the axes.\n",
    "  plt.xlabel(\"feature\")\n",
    "  plt.ylabel(\"label\")\n",
    "\n",
    "  # Plot the feature values vs. label values.\n",
    "  plt.scatter(feature, label)\n",
    "\n",
    "  # Create a red line representing the model. The red line starts\n",
    "  # at coordinates (x0, y0) and ends at coordinates (x1, y1).\n",
    "  x0 = 0\n",
    "  y0 = trained_bias\n",
    "  x1 = feature[-1]\n",
    "  y1 = trained_bias + (trained_weight * x1)\n",
    "  plt.plot([x0, x1], [y0, y1], c='r')\n",
    "\n",
    "  # Render the scatter plot and the red line.\n",
    "  plt.show()\n",
    "\n",
    "def plot_the_loss_curve(epochs, mse):\n",
    "  \"\"\"Plot the loss curve, which shows loss vs. epoch.\"\"\"\n",
    "\n",
    "  plt.figure()\n",
    "  plt.xlabel(\"Epoch\")\n",
    "  plt.ylabel(\"Mean Squared Error\")\n",
    "  #epochs.remove(max(epochs))\n",
    "  \n",
    "  #rmse.drop(max(rmse))\n",
    "  plt.plot(epochs, mse, label=\"Loss\")\n",
    "  plt.legend()\n",
    "  plt.ylim([min(mse)*0.97, max(mse)])\n",
    "  plt.show()\n",
    "\n",
    "print(\"Defined the plot_the_model and plot_the_loss_curve functions.\")"
   ]
  },
  {
   "cell_type": "markdown",
   "metadata": {},
   "source": [
    "##### Read from file and establish dataframe and future functions"
   ]
  },
  {
   "cell_type": "code",
   "execution_count": 85,
   "metadata": {},
   "outputs": [
    {
     "data": {
      "text/html": [
       "<div>\n",
       "<style scoped>\n",
       "    .dataframe tbody tr th:only-of-type {\n",
       "        vertical-align: middle;\n",
       "    }\n",
       "\n",
       "    .dataframe tbody tr th {\n",
       "        vertical-align: top;\n",
       "    }\n",
       "\n",
       "    .dataframe thead th {\n",
       "        text-align: right;\n",
       "    }\n",
       "</style>\n",
       "<table border=\"1\" class=\"dataframe\">\n",
       "  <thead>\n",
       "    <tr style=\"text-align: right;\">\n",
       "      <th></th>\n",
       "      <th></th>\n",
       "      <th>2014-11-08</th>\n",
       "      <th>2014-12-02</th>\n",
       "      <th>2014-12-26</th>\n",
       "      <th>2015-02-12</th>\n",
       "      <th>2015-03-08</th>\n",
       "      <th>2015-04-01</th>\n",
       "      <th>2015-04-25</th>\n",
       "      <th>2015-05-19</th>\n",
       "      <th>2015-06-12</th>\n",
       "      <th>2015-07-06</th>\n",
       "      <th>...</th>\n",
       "      <th>2018-10-18</th>\n",
       "      <th>2018-10-30</th>\n",
       "      <th>2018-11-11</th>\n",
       "      <th>2018-11-17</th>\n",
       "      <th>2018-11-23</th>\n",
       "      <th>2018-12-05</th>\n",
       "      <th>2018-12-17</th>\n",
       "      <th>2018-12-29</th>\n",
       "      <th>2019-01-10</th>\n",
       "      <th>2019-01-22</th>\n",
       "    </tr>\n",
       "    <tr>\n",
       "      <th>Longitude</th>\n",
       "      <th>Latitude</th>\n",
       "      <th></th>\n",
       "      <th></th>\n",
       "      <th></th>\n",
       "      <th></th>\n",
       "      <th></th>\n",
       "      <th></th>\n",
       "      <th></th>\n",
       "      <th></th>\n",
       "      <th></th>\n",
       "      <th></th>\n",
       "      <th></th>\n",
       "      <th></th>\n",
       "      <th></th>\n",
       "      <th></th>\n",
       "      <th></th>\n",
       "      <th></th>\n",
       "      <th></th>\n",
       "      <th></th>\n",
       "      <th></th>\n",
       "      <th></th>\n",
       "      <th></th>\n",
       "    </tr>\n",
       "  </thead>\n",
       "  <tbody>\n",
       "    <tr>\n",
       "      <th>-119.5609</th>\n",
       "      <th>36.1672</th>\n",
       "      <td>0.0</td>\n",
       "      <td>-5.35470</td>\n",
       "      <td>-2.365800</td>\n",
       "      <td>-5.38810</td>\n",
       "      <td>-8.0230</td>\n",
       "      <td>-7.35960</td>\n",
       "      <td>-10.658000</td>\n",
       "      <td>-11.5740</td>\n",
       "      <td>-14.73600</td>\n",
       "      <td>-15.653000</td>\n",
       "      <td>...</td>\n",
       "      <td>-51.2880</td>\n",
       "      <td>-52.2000</td>\n",
       "      <td>-51.5510</td>\n",
       "      <td>-50.8460</td>\n",
       "      <td>-52.1710</td>\n",
       "      <td>-51.1730</td>\n",
       "      <td>-51.0260</td>\n",
       "      <td>-51.1030</td>\n",
       "      <td>-53.1130</td>\n",
       "      <td>-53.6540</td>\n",
       "    </tr>\n",
       "    <tr>\n",
       "      <th>-119.5489</th>\n",
       "      <th>36.0072</th>\n",
       "      <td>0.0</td>\n",
       "      <td>-6.98510</td>\n",
       "      <td>-2.425400</td>\n",
       "      <td>-5.59300</td>\n",
       "      <td>-8.2796</td>\n",
       "      <td>-7.10480</td>\n",
       "      <td>-11.352000</td>\n",
       "      <td>-13.1490</td>\n",
       "      <td>-16.28400</td>\n",
       "      <td>-17.528000</td>\n",
       "      <td>...</td>\n",
       "      <td>-80.4520</td>\n",
       "      <td>-81.3120</td>\n",
       "      <td>-81.3700</td>\n",
       "      <td>-81.0500</td>\n",
       "      <td>-82.8020</td>\n",
       "      <td>-81.8950</td>\n",
       "      <td>-80.9560</td>\n",
       "      <td>-82.2640</td>\n",
       "      <td>-83.5630</td>\n",
       "      <td>-83.4070</td>\n",
       "    </tr>\n",
       "    <tr>\n",
       "      <th>-119.5369</th>\n",
       "      <th>36.0472</th>\n",
       "      <td>0.0</td>\n",
       "      <td>-6.52240</td>\n",
       "      <td>-2.652600</td>\n",
       "      <td>-7.67760</td>\n",
       "      <td>-11.1110</td>\n",
       "      <td>-10.59000</td>\n",
       "      <td>-14.676000</td>\n",
       "      <td>-17.0200</td>\n",
       "      <td>-20.39000</td>\n",
       "      <td>-22.219000</td>\n",
       "      <td>...</td>\n",
       "      <td>-82.7120</td>\n",
       "      <td>-83.1190</td>\n",
       "      <td>-82.8720</td>\n",
       "      <td>-82.5070</td>\n",
       "      <td>-84.1300</td>\n",
       "      <td>-83.3090</td>\n",
       "      <td>-83.1980</td>\n",
       "      <td>-83.6720</td>\n",
       "      <td>-84.9170</td>\n",
       "      <td>-84.5300</td>\n",
       "    </tr>\n",
       "    <tr>\n",
       "      <th>-119.5329</th>\n",
       "      <th>36.0152</th>\n",
       "      <td>0.0</td>\n",
       "      <td>-7.31990</td>\n",
       "      <td>-3.102300</td>\n",
       "      <td>-7.01660</td>\n",
       "      <td>-9.4511</td>\n",
       "      <td>-8.87950</td>\n",
       "      <td>-13.596000</td>\n",
       "      <td>-15.7800</td>\n",
       "      <td>-19.31200</td>\n",
       "      <td>-21.342000</td>\n",
       "      <td>...</td>\n",
       "      <td>-92.7010</td>\n",
       "      <td>-93.6410</td>\n",
       "      <td>-93.4770</td>\n",
       "      <td>-93.2590</td>\n",
       "      <td>-94.9470</td>\n",
       "      <td>-94.3050</td>\n",
       "      <td>-93.6450</td>\n",
       "      <td>-94.7880</td>\n",
       "      <td>-96.0660</td>\n",
       "      <td>-96.0170</td>\n",
       "    </tr>\n",
       "    <tr>\n",
       "      <th>-119.5289</th>\n",
       "      <th>35.9512</th>\n",
       "      <td>0.0</td>\n",
       "      <td>-5.69540</td>\n",
       "      <td>-0.297000</td>\n",
       "      <td>-1.17090</td>\n",
       "      <td>-3.5007</td>\n",
       "      <td>-0.99811</td>\n",
       "      <td>-3.422100</td>\n",
       "      <td>-3.9274</td>\n",
       "      <td>-5.57050</td>\n",
       "      <td>-4.514200</td>\n",
       "      <td>...</td>\n",
       "      <td>-31.5990</td>\n",
       "      <td>-31.9420</td>\n",
       "      <td>-31.8580</td>\n",
       "      <td>-31.5220</td>\n",
       "      <td>-32.9980</td>\n",
       "      <td>-32.5920</td>\n",
       "      <td>-31.5850</td>\n",
       "      <td>-32.0960</td>\n",
       "      <td>-33.1620</td>\n",
       "      <td>-32.8450</td>\n",
       "    </tr>\n",
       "    <tr>\n",
       "      <th>...</th>\n",
       "      <th>...</th>\n",
       "      <td>...</td>\n",
       "      <td>...</td>\n",
       "      <td>...</td>\n",
       "      <td>...</td>\n",
       "      <td>...</td>\n",
       "      <td>...</td>\n",
       "      <td>...</td>\n",
       "      <td>...</td>\n",
       "      <td>...</td>\n",
       "      <td>...</td>\n",
       "      <td>...</td>\n",
       "      <td>...</td>\n",
       "      <td>...</td>\n",
       "      <td>...</td>\n",
       "      <td>...</td>\n",
       "      <td>...</td>\n",
       "      <td>...</td>\n",
       "      <td>...</td>\n",
       "      <td>...</td>\n",
       "      <td>...</td>\n",
       "      <td>...</td>\n",
       "    </tr>\n",
       "    <tr>\n",
       "      <th>-118.9351</th>\n",
       "      <th>35.9912</th>\n",
       "      <td>0.0</td>\n",
       "      <td>1.31960</td>\n",
       "      <td>-0.454550</td>\n",
       "      <td>-1.12980</td>\n",
       "      <td>-2.1960</td>\n",
       "      <td>-2.29490</td>\n",
       "      <td>0.732390</td>\n",
       "      <td>-2.6491</td>\n",
       "      <td>-0.57953</td>\n",
       "      <td>-0.463840</td>\n",
       "      <td>...</td>\n",
       "      <td>3.3119</td>\n",
       "      <td>2.4877</td>\n",
       "      <td>3.7906</td>\n",
       "      <td>3.6429</td>\n",
       "      <td>3.8131</td>\n",
       "      <td>2.7015</td>\n",
       "      <td>5.1692</td>\n",
       "      <td>5.8056</td>\n",
       "      <td>3.2722</td>\n",
       "      <td>3.7133</td>\n",
       "    </tr>\n",
       "    <tr>\n",
       "      <th>-118.9331</th>\n",
       "      <th>35.8431</th>\n",
       "      <td>0.0</td>\n",
       "      <td>-0.27523</td>\n",
       "      <td>0.340730</td>\n",
       "      <td>0.11561</td>\n",
       "      <td>-1.8977</td>\n",
       "      <td>-1.72400</td>\n",
       "      <td>1.244300</td>\n",
       "      <td>-2.6508</td>\n",
       "      <td>0.44136</td>\n",
       "      <td>0.072182</td>\n",
       "      <td>...</td>\n",
       "      <td>5.3406</td>\n",
       "      <td>4.6145</td>\n",
       "      <td>5.8431</td>\n",
       "      <td>5.6430</td>\n",
       "      <td>5.8181</td>\n",
       "      <td>5.7786</td>\n",
       "      <td>7.0684</td>\n",
       "      <td>8.0765</td>\n",
       "      <td>5.0210</td>\n",
       "      <td>5.4701</td>\n",
       "    </tr>\n",
       "    <tr>\n",
       "      <th rowspan=\"2\" valign=\"top\">-118.9311</th>\n",
       "      <th>35.6111</th>\n",
       "      <td>0.0</td>\n",
       "      <td>-2.60280</td>\n",
       "      <td>0.000017</td>\n",
       "      <td>0.94402</td>\n",
       "      <td>-2.1042</td>\n",
       "      <td>-1.87170</td>\n",
       "      <td>0.510950</td>\n",
       "      <td>-2.7147</td>\n",
       "      <td>0.42639</td>\n",
       "      <td>0.334300</td>\n",
       "      <td>...</td>\n",
       "      <td>4.6175</td>\n",
       "      <td>4.2846</td>\n",
       "      <td>5.3261</td>\n",
       "      <td>5.0863</td>\n",
       "      <td>5.6278</td>\n",
       "      <td>4.1805</td>\n",
       "      <td>6.4902</td>\n",
       "      <td>7.5899</td>\n",
       "      <td>4.7841</td>\n",
       "      <td>5.1107</td>\n",
       "    </tr>\n",
       "    <tr>\n",
       "      <th>36.0432</th>\n",
       "      <td>0.0</td>\n",
       "      <td>1.67880</td>\n",
       "      <td>-0.808910</td>\n",
       "      <td>-1.57380</td>\n",
       "      <td>-1.4608</td>\n",
       "      <td>-2.81520</td>\n",
       "      <td>0.054982</td>\n",
       "      <td>-2.9420</td>\n",
       "      <td>-1.33580</td>\n",
       "      <td>-1.282900</td>\n",
       "      <td>...</td>\n",
       "      <td>2.8628</td>\n",
       "      <td>1.8351</td>\n",
       "      <td>3.5058</td>\n",
       "      <td>3.3816</td>\n",
       "      <td>3.2020</td>\n",
       "      <td>2.7933</td>\n",
       "      <td>4.2067</td>\n",
       "      <td>4.5700</td>\n",
       "      <td>2.6953</td>\n",
       "      <td>2.8795</td>\n",
       "    </tr>\n",
       "    <tr>\n",
       "      <th>-118.9271</th>\n",
       "      <th>35.7791</th>\n",
       "      <td>0.0</td>\n",
       "      <td>-0.74982</td>\n",
       "      <td>0.704870</td>\n",
       "      <td>0.91393</td>\n",
       "      <td>-2.0152</td>\n",
       "      <td>-1.41990</td>\n",
       "      <td>1.315100</td>\n",
       "      <td>-2.2612</td>\n",
       "      <td>0.90483</td>\n",
       "      <td>0.531310</td>\n",
       "      <td>...</td>\n",
       "      <td>6.6669</td>\n",
       "      <td>6.1738</td>\n",
       "      <td>7.0694</td>\n",
       "      <td>7.0594</td>\n",
       "      <td>7.1988</td>\n",
       "      <td>6.9346</td>\n",
       "      <td>8.5980</td>\n",
       "      <td>9.5428</td>\n",
       "      <td>6.8206</td>\n",
       "      <td>7.1979</td>\n",
       "    </tr>\n",
       "  </tbody>\n",
       "</table>\n",
       "<p>410 rows × 110 columns</p>\n",
       "</div>"
      ],
      "text/plain": [
       "                    2014-11-08  2014-12-02  2014-12-26  2015-02-12  \\\n",
       "Longitude Latitude                                                   \n",
       "-119.5609 36.1672          0.0    -5.35470   -2.365800    -5.38810   \n",
       "-119.5489 36.0072          0.0    -6.98510   -2.425400    -5.59300   \n",
       "-119.5369 36.0472          0.0    -6.52240   -2.652600    -7.67760   \n",
       "-119.5329 36.0152          0.0    -7.31990   -3.102300    -7.01660   \n",
       "-119.5289 35.9512          0.0    -5.69540   -0.297000    -1.17090   \n",
       "...                        ...         ...         ...         ...   \n",
       "-118.9351 35.9912          0.0     1.31960   -0.454550    -1.12980   \n",
       "-118.9331 35.8431          0.0    -0.27523    0.340730     0.11561   \n",
       "-118.9311 35.6111          0.0    -2.60280    0.000017     0.94402   \n",
       "          36.0432          0.0     1.67880   -0.808910    -1.57380   \n",
       "-118.9271 35.7791          0.0    -0.74982    0.704870     0.91393   \n",
       "\n",
       "                    2015-03-08  2015-04-01  2015-04-25  2015-05-19  \\\n",
       "Longitude Latitude                                                   \n",
       "-119.5609 36.1672      -8.0230    -7.35960  -10.658000    -11.5740   \n",
       "-119.5489 36.0072      -8.2796    -7.10480  -11.352000    -13.1490   \n",
       "-119.5369 36.0472     -11.1110   -10.59000  -14.676000    -17.0200   \n",
       "-119.5329 36.0152      -9.4511    -8.87950  -13.596000    -15.7800   \n",
       "-119.5289 35.9512      -3.5007    -0.99811   -3.422100     -3.9274   \n",
       "...                        ...         ...         ...         ...   \n",
       "-118.9351 35.9912      -2.1960    -2.29490    0.732390     -2.6491   \n",
       "-118.9331 35.8431      -1.8977    -1.72400    1.244300     -2.6508   \n",
       "-118.9311 35.6111      -2.1042    -1.87170    0.510950     -2.7147   \n",
       "          36.0432      -1.4608    -2.81520    0.054982     -2.9420   \n",
       "-118.9271 35.7791      -2.0152    -1.41990    1.315100     -2.2612   \n",
       "\n",
       "                    2015-06-12  2015-07-06  ...  2018-10-18  2018-10-30  \\\n",
       "Longitude Latitude                          ...                           \n",
       "-119.5609 36.1672    -14.73600  -15.653000  ...    -51.2880    -52.2000   \n",
       "-119.5489 36.0072    -16.28400  -17.528000  ...    -80.4520    -81.3120   \n",
       "-119.5369 36.0472    -20.39000  -22.219000  ...    -82.7120    -83.1190   \n",
       "-119.5329 36.0152    -19.31200  -21.342000  ...    -92.7010    -93.6410   \n",
       "-119.5289 35.9512     -5.57050   -4.514200  ...    -31.5990    -31.9420   \n",
       "...                        ...         ...  ...         ...         ...   \n",
       "-118.9351 35.9912     -0.57953   -0.463840  ...      3.3119      2.4877   \n",
       "-118.9331 35.8431      0.44136    0.072182  ...      5.3406      4.6145   \n",
       "-118.9311 35.6111      0.42639    0.334300  ...      4.6175      4.2846   \n",
       "          36.0432     -1.33580   -1.282900  ...      2.8628      1.8351   \n",
       "-118.9271 35.7791      0.90483    0.531310  ...      6.6669      6.1738   \n",
       "\n",
       "                    2018-11-11  2018-11-17  2018-11-23  2018-12-05  \\\n",
       "Longitude Latitude                                                   \n",
       "-119.5609 36.1672     -51.5510    -50.8460    -52.1710    -51.1730   \n",
       "-119.5489 36.0072     -81.3700    -81.0500    -82.8020    -81.8950   \n",
       "-119.5369 36.0472     -82.8720    -82.5070    -84.1300    -83.3090   \n",
       "-119.5329 36.0152     -93.4770    -93.2590    -94.9470    -94.3050   \n",
       "-119.5289 35.9512     -31.8580    -31.5220    -32.9980    -32.5920   \n",
       "...                        ...         ...         ...         ...   \n",
       "-118.9351 35.9912       3.7906      3.6429      3.8131      2.7015   \n",
       "-118.9331 35.8431       5.8431      5.6430      5.8181      5.7786   \n",
       "-118.9311 35.6111       5.3261      5.0863      5.6278      4.1805   \n",
       "          36.0432       3.5058      3.3816      3.2020      2.7933   \n",
       "-118.9271 35.7791       7.0694      7.0594      7.1988      6.9346   \n",
       "\n",
       "                    2018-12-17  2018-12-29  2019-01-10  2019-01-22  \n",
       "Longitude Latitude                                                  \n",
       "-119.5609 36.1672     -51.0260    -51.1030    -53.1130    -53.6540  \n",
       "-119.5489 36.0072     -80.9560    -82.2640    -83.5630    -83.4070  \n",
       "-119.5369 36.0472     -83.1980    -83.6720    -84.9170    -84.5300  \n",
       "-119.5329 36.0152     -93.6450    -94.7880    -96.0660    -96.0170  \n",
       "-119.5289 35.9512     -31.5850    -32.0960    -33.1620    -32.8450  \n",
       "...                        ...         ...         ...         ...  \n",
       "-118.9351 35.9912       5.1692      5.8056      3.2722      3.7133  \n",
       "-118.9331 35.8431       7.0684      8.0765      5.0210      5.4701  \n",
       "-118.9311 35.6111       6.4902      7.5899      4.7841      5.1107  \n",
       "          36.0432       4.2067      4.5700      2.6953      2.8795  \n",
       "-118.9271 35.7791       8.5980      9.5428      6.8206      7.1979  \n",
       "\n",
       "[410 rows x 110 columns]"
      ]
     },
     "execution_count": 85,
     "metadata": {},
     "output_type": "execute_result"
    }
   ],
   "source": [
    "df=pd.read_csv('E:\\DSFellowship\\InSAR_data_south/displacement/trainingvalidation.csv')\n",
    "df=df.set_index([df.columns[0],df.columns[1]])\n",
    "df.columns=pd.to_datetime(df.columns, format='%Y-%m-%d')\n",
    "df=df.dropna(axis=0, how='all')#drop full nan rows\n",
    "df"
   ]
  },
  {
   "cell_type": "markdown",
   "metadata": {},
   "source": [
    "##### Remove next line to include all data"
   ]
  },
  {
   "cell_type": "markdown",
   "metadata": {},
   "source": [
    "# Timestep"
   ]
  },
  {
   "cell_type": "code",
   "execution_count": 86,
   "metadata": {},
   "outputs": [],
   "source": [
    "timestep=10\n",
    "# 1 2 3 4 5 6 7 ...\n",
    "# w/ timestep of 2\n",
    "# [[1,2][2,3][3,4]"
   ]
  },
  {
   "cell_type": "markdown",
   "metadata": {},
   "source": [
    "# Shaping function (remove start and step for first for loop to include all data)"
   ]
  },
  {
   "cell_type": "code",
   "execution_count": 87,
   "metadata": {},
   "outputs": [],
   "source": [
    "def shaping(datain, timestep):\n",
    "    #print(arr)\n",
    "    cnt=0\n",
    "    for row in range(len(datain.index)): #picks a row at every iteration, allows to reduction of input and inclusion of multiple time series, remove start and step to run on full dataset \n",
    "    # Convert input dataframe to array and flatten\n",
    "        #datain.iloc[row].fillna(datain.iloc[row].mean).to_numpy().flatten()\n",
    "        arr=datain.iloc[row].interpolate().to_numpy().flatten() # flatten row\n",
    "        #arr=arr.fillna(arr.mean)\n",
    "        #arr=np.where(np.isnan(arr), ma.array(arr, mask=np.isnan(arr)).mean(), arr) \n",
    "        for mth in range(0, len(datain.columns)-(2*timestep)+1): # Define range lenght of the dates - 2* amount of timesep?? +1\n",
    "            cnt=cnt+1 # Gives us the number of samples. Later used to reshape the data\n",
    "            X_start=mth # Start month for inputs of each sample\n",
    "            X_end=mth+timestep # End month for inputs of each sample\n",
    "            Y_start=mth+timestep # Start month for targets of each sample. Note, start is inclusive and end is exclusive, that's why X_end and Y_start is the same number\n",
    "            Y_end=mth+2*timestep # End month for targets of each sample.  \n",
    "            \n",
    "            # Assemble input and target arrays containing all samples\n",
    "            if cnt==1:\n",
    "                X_comb=arr[X_start:X_end]\n",
    "                Y_comb=arr[Y_start:Y_end]\n",
    "            else: \n",
    "                X_comb=np.append(X_comb, arr[X_start:X_end])\n",
    "                Y_comb=np.append(Y_comb, arr[Y_start:Y_end])\n",
    "    # Reshape input and target arrays\n",
    "    X_out=np.reshape(X_comb, (cnt, timestep, 1))\n",
    "    Y_out=np.reshape(Y_comb, (cnt, timestep, 1))\n",
    "    return X_out, Y_out"
   ]
  },
  {
   "cell_type": "markdown",
   "metadata": {},
   "source": [
    "##### Step 2 - Split and Shape data"
   ]
  },
  {
   "cell_type": "code",
   "execution_count": 88,
   "metadata": {},
   "outputs": [],
   "source": [
    "#Divides data into 80% training 20% testing\n",
    "#train, test = train_test_split(df, test_size=0.2)\n",
    "# creates sequences to train\n",
    "# X , Y = shaping(datain=df, timestep= timestep )\n",
    "# X_train, X_test, Y_train, Y_test = train_test_split(X,Y , test_size=0.2, random_state=28)\n",
    "# nsamples, nx, ny = X_train.shape\n",
    "# X_train = X_train.reshape((nsamples,nx*ny))\n",
    "# nsamples, nx, ny = Y_train.shape\n",
    "# Y_train = Y_train.reshape((nsamples,nx*ny))\n",
    "# nsamples, nx, ny = X_test.shape\n",
    "# X_test = X_test.reshape((nsamples,nx*ny))\n",
    "# nsamples, nx, ny = Y_test.shape\n",
    "# Y_test = Y_test.reshape((nsamples,nx*ny))\n",
    "#Divides data into 80% training 20% testing\n",
    "# scaler=MinMaxScaler()\n",
    "# scaler2=MinMaxScaler()\n",
    "# creates sequences to train\n",
    "shuffled = df.sample(frac=1)\n",
    "X_train, Y_train = shaping(datain=shuffled, timestep= timestep )\n",
    "test=pd.read_csv('E:\\DSFellowship\\InSAR_data_south/displacement/testset170.csv')\n",
    "test=test.set_index([test.columns[0],test.columns[1]])\n",
    "test.columns=pd.to_datetime(test.columns, format='%Y-%m-%d')\n",
    "test=test.dropna(axis=0, how='all')#drop full nan rows\n",
    "\n",
    "X_test, Y_test = shaping(datain=test, timestep=timestep)\n",
    "# X_train=scaler.fit_transform(X_train.reshape(-1,X_train.shape[-1])).reshape(X_train.shape)\n",
    "# X_test=scaler.transform(X_test.reshape(-1,X_test.shape[-1])).reshape(X_test.shape)\n",
    "\n",
    "# Y_train=scaler2.fit_transform(Y_train.reshape(-1,Y_train.shape[-1])).reshape(Y_train.shape)\n",
    "# Y_test=scaler2.transform(Y_test.reshape(-1,Y_test.shape[-1])).reshape(Y_test.shape)"
   ]
  },
  {
   "cell_type": "code",
   "execution_count": 89,
   "metadata": {},
   "outputs": [],
   "source": [
    "# scaler = MinMaxScaler()\n",
    "# scaler2 = MinMaxScaler()\n",
    "# X_train = scaler.fit_transform(X_train.reshape(-1, X_train.shape[-1])).reshape(X_train.shape)\n",
    "# X_test = scaler.transform(X_test.reshape(-1, X_test.shape[-1])).reshape(X_test.shape)\n",
    "# Y_train = scaler2.fit_transform(Y_train.reshape(-1, Y_train.shape[-1])).reshape(Y_train.shape)\n",
    "# Y_test = scaler.transform(Y_test.reshape(-1, Y_test.shape[-1])).reshape(Y_test.shape)\n"
   ]
  },
  {
   "cell_type": "markdown",
   "metadata": {},
   "source": [
    "##### Step 3 - Specify the structure of a Neural Network, first model"
   ]
  },
  {
   "cell_type": "code",
   "execution_count": 90,
   "metadata": {},
   "outputs": [],
   "source": [
    "callback = callbacks.EarlyStopping(monitor='loss', patience=3)\n",
    "model2 = Sequential(name=\"biLSTM-Model\") # Model\n",
    "#model2.add(Masking(mask_value=-1000, input_shape=(timestep, 1)))\n",
    "\n",
    "model2.add(Input(shape=(X_train.shape[1],X_train.shape[2]), name='Input-Layer')) # Input Layer - need to speicfy the shape of inputs\n",
    "model2.add(Bidirectional(LSTM(units=64, activation='relu', recurrent_activation='sigmoid', stateful=False), name='Hidden-LSTM-Encoder-Layer')) # Encoder Layer\n",
    "model2.add(RepeatVector(Y_train.shape[1], name='Repeat-Vector-Layer')) # Repeat Vector\n",
    "model2.add(Bidirectional(LSTM(units=64, activation='relu', recurrent_activation='sigmoid', stateful=False, return_sequences=True), name='Hidden-LSTM-Decoder-Layer')) # Decoder Layer\n",
    "model2.add(TimeDistributed(Dense(units=1, activation='linear'), name='Output-Layer')) # Output Layer, Linear(x) = x\n",
    "#optimizer=Adam(.005)\n",
    "model2.compile(optimizer='adam', # default='rmsprop', an algorithm to be used in backpropagation\n",
    "              loss='mean_squared_error', # Loss function to be optimized. A string (name of loss function), or a tf.keras.losses.Loss instance.\n",
    "              metrics=['MeanSquaredError', 'mean_absolute_error'], # List of metrics to be evaluated by the model during training and testing. Each of this can be a string (name of a built-in function), function or a tf.keras.metrics.Metric instance. \n",
    "              loss_weights=None, # default=None, Optional list or dictionary specifying scalar coefficients (Python floats) to weight the loss contributions of different model outputs.\n",
    "              weighted_metrics=None, # default=None, List of metrics to be evaluated and weighted by sample_weight or class_weight during training and testing.\n",
    "              run_eagerly=None, # Defaults to False. If True, this Model's logic will not be wrapped in a tf.function. Recommended to leave this as None unless your Model cannot be run inside a tf.function.\n",
    "              steps_per_execution=None, # Defaults to 1. The number of batches to run during each tf.function call. Running multiple batches inside a single tf.function call can greatly improve performance on TPUs or small models with a large Python overhead.\n",
    "                   \n",
    "             )"
   ]
  },
  {
   "cell_type": "code",
   "execution_count": 91,
   "metadata": {},
   "outputs": [],
   "source": [
    "##### Train model"
   ]
  },
  {
   "cell_type": "code",
   "execution_count": 92,
   "metadata": {},
   "outputs": [
    {
     "name": "stdout",
     "output_type": "stream",
     "text": [
      "Epoch 1/100\n",
      "1050/1050 - 24s - loss: 12.4982 - mean_squared_error: 12.4982 - mean_absolute_error: 2.3899 - val_loss: 9.0591 - val_mean_squared_error: 9.0591 - val_mean_absolute_error: 2.2366 - 24s/epoch - 23ms/step\n",
      "Epoch 2/100\n",
      "1050/1050 - 18s - loss: 8.2541 - mean_squared_error: 8.2541 - mean_absolute_error: 2.1275 - val_loss: 6.9462 - val_mean_squared_error: 6.9462 - val_mean_absolute_error: 1.9324 - 18s/epoch - 18ms/step\n",
      "Epoch 3/100\n",
      "1050/1050 - 18s - loss: 7.7803 - mean_squared_error: 7.7803 - mean_absolute_error: 2.0696 - val_loss: 8.5985 - val_mean_squared_error: 8.5985 - val_mean_absolute_error: 2.0783 - 18s/epoch - 17ms/step\n",
      "Epoch 4/100\n",
      "1050/1050 - 18s - loss: 7.2521 - mean_squared_error: 7.2521 - mean_absolute_error: 2.0027 - val_loss: 6.5389 - val_mean_squared_error: 6.5389 - val_mean_absolute_error: 1.8832 - 18s/epoch - 17ms/step\n",
      "Epoch 5/100\n",
      "1050/1050 - 18s - loss: 6.5447 - mean_squared_error: 6.5447 - mean_absolute_error: 1.9170 - val_loss: 6.3831 - val_mean_squared_error: 6.3831 - val_mean_absolute_error: 1.8155 - 18s/epoch - 17ms/step\n",
      "Epoch 6/100\n",
      "1050/1050 - 18s - loss: 5.9227 - mean_squared_error: 5.9227 - mean_absolute_error: 1.8271 - val_loss: 5.4606 - val_mean_squared_error: 5.4606 - val_mean_absolute_error: 1.7330 - 18s/epoch - 17ms/step\n",
      "Epoch 7/100\n",
      "1050/1050 - 19s - loss: 5.5028 - mean_squared_error: 5.5028 - mean_absolute_error: 1.7649 - val_loss: 4.9537 - val_mean_squared_error: 4.9537 - val_mean_absolute_error: 1.6745 - 19s/epoch - 18ms/step\n",
      "Epoch 8/100\n",
      "1050/1050 - 18s - loss: 5.0588 - mean_squared_error: 5.0588 - mean_absolute_error: 1.6879 - val_loss: 4.2588 - val_mean_squared_error: 4.2588 - val_mean_absolute_error: 1.5866 - 18s/epoch - 17ms/step\n",
      "Epoch 9/100\n",
      "1050/1050 - 18s - loss: 4.8275 - mean_squared_error: 4.8275 - mean_absolute_error: 1.6451 - val_loss: 4.8648 - val_mean_squared_error: 4.8648 - val_mean_absolute_error: 1.6304 - 18s/epoch - 17ms/step\n",
      "Epoch 10/100\n",
      "1050/1050 - 18s - loss: 4.6217 - mean_squared_error: 4.6217 - mean_absolute_error: 1.6057 - val_loss: 5.1249 - val_mean_squared_error: 5.1249 - val_mean_absolute_error: 1.7093 - 18s/epoch - 17ms/step\n",
      "Epoch 11/100\n",
      "1050/1050 - 18s - loss: 4.2928 - mean_squared_error: 4.2928 - mean_absolute_error: 1.5499 - val_loss: 4.4642 - val_mean_squared_error: 4.4642 - val_mean_absolute_error: 1.5970 - 18s/epoch - 17ms/step\n",
      "Epoch 12/100\n",
      "1050/1050 - 18s - loss: 4.1420 - mean_squared_error: 4.1420 - mean_absolute_error: 1.5118 - val_loss: 3.4891 - val_mean_squared_error: 3.4891 - val_mean_absolute_error: 1.4116 - 18s/epoch - 17ms/step\n",
      "Epoch 13/100\n",
      "1050/1050 - 18s - loss: 3.8066 - mean_squared_error: 3.8066 - mean_absolute_error: 1.4471 - val_loss: 3.4825 - val_mean_squared_error: 3.4825 - val_mean_absolute_error: 1.4154 - 18s/epoch - 17ms/step\n",
      "Epoch 14/100\n",
      "1050/1050 - 20s - loss: 3.5266 - mean_squared_error: 3.5266 - mean_absolute_error: 1.3936 - val_loss: 5.1091 - val_mean_squared_error: 5.1091 - val_mean_absolute_error: 1.7073 - 20s/epoch - 19ms/step\n",
      "Epoch 15/100\n",
      "1050/1050 - 19s - loss: 3.2695 - mean_squared_error: 3.2695 - mean_absolute_error: 1.3428 - val_loss: 3.2736 - val_mean_squared_error: 3.2736 - val_mean_absolute_error: 1.3293 - 19s/epoch - 19ms/step\n",
      "Epoch 16/100\n",
      "1050/1050 - 18s - loss: 3.0162 - mean_squared_error: 3.0162 - mean_absolute_error: 1.2867 - val_loss: 3.0021 - val_mean_squared_error: 3.0021 - val_mean_absolute_error: 1.2918 - 18s/epoch - 17ms/step\n",
      "Epoch 17/100\n",
      "1050/1050 - 19s - loss: 2.9416 - mean_squared_error: 2.9416 - mean_absolute_error: 1.2675 - val_loss: 3.3193 - val_mean_squared_error: 3.3193 - val_mean_absolute_error: 1.3773 - 19s/epoch - 18ms/step\n",
      "Epoch 18/100\n",
      "1050/1050 - 18s - loss: 2.6848 - mean_squared_error: 2.6848 - mean_absolute_error: 1.2116 - val_loss: 2.3771 - val_mean_squared_error: 2.3771 - val_mean_absolute_error: 1.1625 - 18s/epoch - 17ms/step\n",
      "Epoch 19/100\n",
      "1050/1050 - 20s - loss: 2.4375 - mean_squared_error: 2.4375 - mean_absolute_error: 1.1560 - val_loss: 2.2620 - val_mean_squared_error: 2.2620 - val_mean_absolute_error: 1.1362 - 20s/epoch - 19ms/step\n",
      "Epoch 20/100\n",
      "1050/1050 - 19s - loss: 2.4083 - mean_squared_error: 2.4083 - mean_absolute_error: 1.1446 - val_loss: 2.5021 - val_mean_squared_error: 2.5021 - val_mean_absolute_error: 1.1789 - 19s/epoch - 18ms/step\n",
      "Epoch 21/100\n",
      "1050/1050 - 19s - loss: 2.0805 - mean_squared_error: 2.0805 - mean_absolute_error: 1.0695 - val_loss: 2.2870 - val_mean_squared_error: 2.2870 - val_mean_absolute_error: 1.1328 - 19s/epoch - 18ms/step\n",
      "Epoch 22/100\n",
      "1050/1050 - 19s - loss: 2.1386 - mean_squared_error: 2.1386 - mean_absolute_error: 1.0726 - val_loss: 2.0079 - val_mean_squared_error: 2.0079 - val_mean_absolute_error: 1.0731 - 19s/epoch - 18ms/step\n",
      "Epoch 23/100\n",
      "1050/1050 - 20s - loss: 1.8583 - mean_squared_error: 1.8583 - mean_absolute_error: 1.0071 - val_loss: 1.9009 - val_mean_squared_error: 1.9009 - val_mean_absolute_error: 1.0264 - 20s/epoch - 19ms/step\n",
      "Epoch 24/100\n",
      "1050/1050 - 20s - loss: 1.8657 - mean_squared_error: 1.8657 - mean_absolute_error: 1.0050 - val_loss: 2.1796 - val_mean_squared_error: 2.1796 - val_mean_absolute_error: 1.0962 - 20s/epoch - 19ms/step\n",
      "Epoch 25/100\n",
      "1050/1050 - 19s - loss: 1.8536 - mean_squared_error: 1.8536 - mean_absolute_error: 0.9962 - val_loss: 1.8893 - val_mean_squared_error: 1.8893 - val_mean_absolute_error: 1.0364 - 19s/epoch - 18ms/step\n",
      "Epoch 26/100\n",
      "1050/1050 - 18s - loss: 1.7666 - mean_squared_error: 1.7666 - mean_absolute_error: 0.9714 - val_loss: 1.5175 - val_mean_squared_error: 1.5175 - val_mean_absolute_error: 0.9242 - 18s/epoch - 17ms/step\n",
      "Epoch 27/100\n",
      "1050/1050 - 18s - loss: 1.5444 - mean_squared_error: 1.5444 - mean_absolute_error: 0.9164 - val_loss: 1.4777 - val_mean_squared_error: 1.4777 - val_mean_absolute_error: 0.9124 - 18s/epoch - 17ms/step\n",
      "Epoch 28/100\n",
      "1050/1050 - 18s - loss: 1.5864 - mean_squared_error: 1.5864 - mean_absolute_error: 0.9212 - val_loss: 1.4215 - val_mean_squared_error: 1.4215 - val_mean_absolute_error: 0.8910 - 18s/epoch - 17ms/step\n",
      "Epoch 29/100\n",
      "1050/1050 - 18s - loss: 1.5821 - mean_squared_error: 1.5821 - mean_absolute_error: 0.9175 - val_loss: 1.6010 - val_mean_squared_error: 1.6010 - val_mean_absolute_error: 0.9430 - 18s/epoch - 17ms/step\n",
      "Epoch 30/100\n",
      "1050/1050 - 18s - loss: 1.4384 - mean_squared_error: 1.4384 - mean_absolute_error: 0.8769 - val_loss: 1.4668 - val_mean_squared_error: 1.4668 - val_mean_absolute_error: 0.9043 - 18s/epoch - 17ms/step\n",
      "Epoch 31/100\n",
      "1050/1050 - 18s - loss: 1.5045 - mean_squared_error: 1.5045 - mean_absolute_error: 0.8879 - val_loss: 1.2745 - val_mean_squared_error: 1.2745 - val_mean_absolute_error: 0.8442 - 18s/epoch - 17ms/step\n",
      "Epoch 32/100\n",
      "1050/1050 - 18s - loss: 1.4063 - mean_squared_error: 1.4063 - mean_absolute_error: 0.8521 - val_loss: 2.0971 - val_mean_squared_error: 2.0971 - val_mean_absolute_error: 1.0412 - 18s/epoch - 17ms/step\n",
      "Epoch 33/100\n",
      "1050/1050 - 18s - loss: 1.3657 - mean_squared_error: 1.3657 - mean_absolute_error: 0.8475 - val_loss: 1.2048 - val_mean_squared_error: 1.2048 - val_mean_absolute_error: 0.8182 - 18s/epoch - 17ms/step\n",
      "Epoch 34/100\n",
      "1050/1050 - 18s - loss: 1.3808 - mean_squared_error: 1.3808 - mean_absolute_error: 0.8514 - val_loss: 1.4703 - val_mean_squared_error: 1.4703 - val_mean_absolute_error: 0.8946 - 18s/epoch - 17ms/step\n",
      "Epoch 35/100\n",
      "1050/1050 - 19s - loss: 1.2977 - mean_squared_error: 1.2977 - mean_absolute_error: 0.8212 - val_loss: 1.4414 - val_mean_squared_error: 1.4414 - val_mean_absolute_error: 0.9125 - 19s/epoch - 18ms/step\n",
      "Epoch 36/100\n",
      "1050/1050 - 18s - loss: 1.1195 - mean_squared_error: 1.1195 - mean_absolute_error: 0.7734 - val_loss: 1.1059 - val_mean_squared_error: 1.1059 - val_mean_absolute_error: 0.7765 - 18s/epoch - 18ms/step\n",
      "Epoch 37/100\n",
      "1050/1050 - 19s - loss: 1.2268 - mean_squared_error: 1.2268 - mean_absolute_error: 0.8026 - val_loss: 1.1378 - val_mean_squared_error: 1.1378 - val_mean_absolute_error: 0.7992 - 19s/epoch - 18ms/step\n",
      "Epoch 38/100\n",
      "1050/1050 - 18s - loss: 1.1795 - mean_squared_error: 1.1795 - mean_absolute_error: 0.7874 - val_loss: 1.0347 - val_mean_squared_error: 1.0347 - val_mean_absolute_error: 0.7548 - 18s/epoch - 17ms/step\n",
      "Epoch 39/100\n",
      "1050/1050 - 18s - loss: 1.1302 - mean_squared_error: 1.1302 - mean_absolute_error: 0.7735 - val_loss: 1.1306 - val_mean_squared_error: 1.1306 - val_mean_absolute_error: 0.7821 - 18s/epoch - 17ms/step\n",
      "Epoch 40/100\n",
      "1050/1050 - 18s - loss: 1.1614 - mean_squared_error: 1.1614 - mean_absolute_error: 0.7762 - val_loss: 1.2209 - val_mean_squared_error: 1.2209 - val_mean_absolute_error: 0.8141 - 18s/epoch - 17ms/step\n",
      "Epoch 41/100\n",
      "1050/1050 - 18s - loss: 1.0904 - mean_squared_error: 1.0904 - mean_absolute_error: 0.7536 - val_loss: 1.7134 - val_mean_squared_error: 1.7134 - val_mean_absolute_error: 0.9546 - 18s/epoch - 17ms/step\n",
      "Epoch 42/100\n",
      "1050/1050 - 18s - loss: 1.1708 - mean_squared_error: 1.1708 - mean_absolute_error: 0.7704 - val_loss: 1.0923 - val_mean_squared_error: 1.0923 - val_mean_absolute_error: 0.7625 - 18s/epoch - 17ms/step\n",
      "Epoch 43/100\n",
      "1050/1050 - 18s - loss: 1.0416 - mean_squared_error: 1.0416 - mean_absolute_error: 0.7306 - val_loss: 1.6676 - val_mean_squared_error: 1.6676 - val_mean_absolute_error: 0.9444 - 18s/epoch - 17ms/step\n",
      "Epoch 44/100\n",
      "1050/1050 - 18s - loss: 1.0489 - mean_squared_error: 1.0489 - mean_absolute_error: 0.7360 - val_loss: 1.1636 - val_mean_squared_error: 1.1636 - val_mean_absolute_error: 0.8001 - 18s/epoch - 17ms/step\n",
      "Epoch 45/100\n",
      "1050/1050 - 18s - loss: 0.9780 - mean_squared_error: 0.9780 - mean_absolute_error: 0.7208 - val_loss: 1.1485 - val_mean_squared_error: 1.1485 - val_mean_absolute_error: 0.7964 - 18s/epoch - 17ms/step\n",
      "Epoch 46/100\n",
      "1050/1050 - 18s - loss: 1.0441 - mean_squared_error: 1.0441 - mean_absolute_error: 0.7321 - val_loss: 0.9187 - val_mean_squared_error: 0.9187 - val_mean_absolute_error: 0.7072 - 18s/epoch - 17ms/step\n",
      "Epoch 47/100\n",
      "1050/1050 - 18s - loss: 1.1593 - mean_squared_error: 1.1593 - mean_absolute_error: 0.7591 - val_loss: 1.1569 - val_mean_squared_error: 1.1569 - val_mean_absolute_error: 0.8002 - 18s/epoch - 17ms/step\n",
      "Epoch 48/100\n",
      "1050/1050 - 18s - loss: 0.9018 - mean_squared_error: 0.9018 - mean_absolute_error: 0.6877 - val_loss: 1.0079 - val_mean_squared_error: 1.0079 - val_mean_absolute_error: 0.7549 - 18s/epoch - 17ms/step\n",
      "Epoch 49/100\n",
      "1050/1050 - 19s - loss: 1.1834 - mean_squared_error: 1.1834 - mean_absolute_error: 0.7554 - val_loss: 0.9536 - val_mean_squared_error: 0.9536 - val_mean_absolute_error: 0.7188 - 19s/epoch - 18ms/step\n",
      "Epoch 50/100\n",
      "1050/1050 - 19s - loss: 0.8475 - mean_squared_error: 0.8475 - mean_absolute_error: 0.6667 - val_loss: 1.0328 - val_mean_squared_error: 1.0328 - val_mean_absolute_error: 0.7452 - 19s/epoch - 18ms/step\n",
      "Epoch 51/100\n",
      "1050/1050 - 19s - loss: 0.9572 - mean_squared_error: 0.9572 - mean_absolute_error: 0.6985 - val_loss: 1.8181 - val_mean_squared_error: 1.8181 - val_mean_absolute_error: 0.9946 - 19s/epoch - 18ms/step\n",
      "Epoch 52/100\n",
      "1050/1050 - 18s - loss: 0.8584 - mean_squared_error: 0.8584 - mean_absolute_error: 0.6740 - val_loss: 1.0283 - val_mean_squared_error: 1.0283 - val_mean_absolute_error: 0.7412 - 18s/epoch - 17ms/step\n",
      "Epoch 53/100\n",
      "1050/1050 - 18s - loss: 0.9447 - mean_squared_error: 0.9447 - mean_absolute_error: 0.6974 - val_loss: 0.8457 - val_mean_squared_error: 0.8457 - val_mean_absolute_error: 0.6754 - 18s/epoch - 17ms/step\n",
      "Epoch 54/100\n",
      "1050/1050 - 18s - loss: 0.8841 - mean_squared_error: 0.8841 - mean_absolute_error: 0.6753 - val_loss: 0.8524 - val_mean_squared_error: 0.8524 - val_mean_absolute_error: 0.6723 - 18s/epoch - 17ms/step\n",
      "Epoch 55/100\n",
      "1050/1050 - 18s - loss: 1.3134 - mean_squared_error: 1.3134 - mean_absolute_error: 0.7799 - val_loss: 0.9346 - val_mean_squared_error: 0.9346 - val_mean_absolute_error: 0.7114 - 18s/epoch - 17ms/step\n",
      "Epoch 56/100\n",
      "1050/1050 - 18s - loss: 0.7833 - mean_squared_error: 0.7833 - mean_absolute_error: 0.6405 - val_loss: 0.9032 - val_mean_squared_error: 0.9032 - val_mean_absolute_error: 0.6941 - 18s/epoch - 17ms/step\n",
      "Epoch 57/100\n",
      "1050/1050 - 18s - loss: 0.7733 - mean_squared_error: 0.7733 - mean_absolute_error: 0.6382 - val_loss: 0.9463 - val_mean_squared_error: 0.9463 - val_mean_absolute_error: 0.7132 - 18s/epoch - 17ms/step\n",
      "Epoch 58/100\n",
      "1050/1050 - 18s - loss: 0.7955 - mean_squared_error: 0.7955 - mean_absolute_error: 0.6482 - val_loss: 0.8879 - val_mean_squared_error: 0.8879 - val_mean_absolute_error: 0.6865 - 18s/epoch - 17ms/step\n",
      "Epoch 59/100\n",
      "1050/1050 - 18s - loss: 0.9137 - mean_squared_error: 0.9137 - mean_absolute_error: 0.6825 - val_loss: 0.9748 - val_mean_squared_error: 0.9748 - val_mean_absolute_error: 0.7162 - 18s/epoch - 17ms/step\n",
      "Epoch 60/100\n",
      "1050/1050 - 18s - loss: 0.8004 - mean_squared_error: 0.8004 - mean_absolute_error: 0.6463 - val_loss: 0.9457 - val_mean_squared_error: 0.9457 - val_mean_absolute_error: 0.6996 - 18s/epoch - 17ms/step\n",
      "Epoch 61/100\n",
      "1050/1050 - 18s - loss: 0.8048 - mean_squared_error: 0.8048 - mean_absolute_error: 0.6465 - val_loss: 0.8451 - val_mean_squared_error: 0.8451 - val_mean_absolute_error: 0.6646 - 18s/epoch - 17ms/step\n",
      "Epoch 62/100\n",
      "1050/1050 - 18s - loss: 0.7378 - mean_squared_error: 0.7378 - mean_absolute_error: 0.6229 - val_loss: 0.8612 - val_mean_squared_error: 0.8612 - val_mean_absolute_error: 0.6703 - 18s/epoch - 17ms/step\n",
      "Epoch 63/100\n",
      "1050/1050 - 18s - loss: 0.9948 - mean_squared_error: 0.9948 - mean_absolute_error: 0.6941 - val_loss: 0.8548 - val_mean_squared_error: 0.8548 - val_mean_absolute_error: 0.6731 - 18s/epoch - 17ms/step\n",
      "Epoch 64/100\n",
      "1050/1050 - 18s - loss: 0.7287 - mean_squared_error: 0.7287 - mean_absolute_error: 0.6183 - val_loss: 0.8802 - val_mean_squared_error: 0.8802 - val_mean_absolute_error: 0.6806 - 18s/epoch - 17ms/step\n",
      "Epoch 65/100\n",
      "1050/1050 - 18s - loss: 1.0331 - mean_squared_error: 1.0331 - mean_absolute_error: 0.7106 - val_loss: 0.9892 - val_mean_squared_error: 0.9892 - val_mean_absolute_error: 0.7209 - 18s/epoch - 17ms/step\n",
      "Epoch 66/100\n",
      "1050/1050 - 19s - loss: 0.6961 - mean_squared_error: 0.6961 - mean_absolute_error: 0.6053 - val_loss: 1.0486 - val_mean_squared_error: 1.0486 - val_mean_absolute_error: 0.7469 - 19s/epoch - 18ms/step\n",
      "Epoch 67/100\n",
      "1050/1050 - 19s - loss: 0.7101 - mean_squared_error: 0.7101 - mean_absolute_error: 0.6100 - val_loss: 0.8939 - val_mean_squared_error: 0.8939 - val_mean_absolute_error: 0.6911 - 19s/epoch - 18ms/step\n",
      "Epoch 68/100\n",
      "1050/1050 - 19s - loss: 0.8040 - mean_squared_error: 0.8040 - mean_absolute_error: 0.6427 - val_loss: 1.0708 - val_mean_squared_error: 1.0708 - val_mean_absolute_error: 0.7721 - 19s/epoch - 18ms/step\n",
      "Epoch 69/100\n",
      "1050/1050 - 19s - loss: 0.7345 - mean_squared_error: 0.7345 - mean_absolute_error: 0.6193 - val_loss: 0.9085 - val_mean_squared_error: 0.9085 - val_mean_absolute_error: 0.6935 - 19s/epoch - 18ms/step\n",
      "Epoch 70/100\n",
      "1050/1050 - 20s - loss: 0.8836 - mean_squared_error: 0.8836 - mean_absolute_error: 0.6621 - val_loss: 0.8311 - val_mean_squared_error: 0.8311 - val_mean_absolute_error: 0.6595 - 20s/epoch - 19ms/step\n",
      "Epoch 71/100\n",
      "1050/1050 - 21s - loss: 0.6517 - mean_squared_error: 0.6517 - mean_absolute_error: 0.5869 - val_loss: 0.8420 - val_mean_squared_error: 0.8420 - val_mean_absolute_error: 0.6701 - 21s/epoch - 20ms/step\n",
      "Epoch 72/100\n",
      "1050/1050 - 20s - loss: 0.6829 - mean_squared_error: 0.6829 - mean_absolute_error: 0.5991 - val_loss: 1.0717 - val_mean_squared_error: 1.0717 - val_mean_absolute_error: 0.7616 - 20s/epoch - 19ms/step\n",
      "Epoch 73/100\n",
      "1050/1050 - 19s - loss: 0.7695 - mean_squared_error: 0.7695 - mean_absolute_error: 0.6300 - val_loss: 1.1744 - val_mean_squared_error: 1.1744 - val_mean_absolute_error: 0.7865 - 19s/epoch - 19ms/step\n",
      "Epoch 74/100\n",
      "1050/1050 - 20s - loss: 0.7822 - mean_squared_error: 0.7822 - mean_absolute_error: 0.6330 - val_loss: 0.8241 - val_mean_squared_error: 0.8241 - val_mean_absolute_error: 0.6570 - 20s/epoch - 19ms/step\n",
      "Epoch 75/100\n",
      "1050/1050 - 19s - loss: 0.6770 - mean_squared_error: 0.6770 - mean_absolute_error: 0.5963 - val_loss: 0.8027 - val_mean_squared_error: 0.8027 - val_mean_absolute_error: 0.6552 - 19s/epoch - 18ms/step\n",
      "Epoch 76/100\n",
      "1050/1050 - 19s - loss: 0.8233 - mean_squared_error: 0.8233 - mean_absolute_error: 0.6439 - val_loss: 0.7547 - val_mean_squared_error: 0.7547 - val_mean_absolute_error: 0.6350 - 19s/epoch - 18ms/step\n",
      "Epoch 77/100\n",
      "1050/1050 - 19s - loss: 0.6235 - mean_squared_error: 0.6235 - mean_absolute_error: 0.5712 - val_loss: 0.8446 - val_mean_squared_error: 0.8446 - val_mean_absolute_error: 0.6754 - 19s/epoch - 18ms/step\n",
      "Epoch 78/100\n",
      "1050/1050 - 19s - loss: 0.7605 - mean_squared_error: 0.7605 - mean_absolute_error: 0.6251 - val_loss: 0.8542 - val_mean_squared_error: 0.8542 - val_mean_absolute_error: 0.6787 - 19s/epoch - 18ms/step\n",
      "Epoch 79/100\n",
      "1050/1050 - 19s - loss: 0.6444 - mean_squared_error: 0.6444 - mean_absolute_error: 0.5809 - val_loss: 0.7984 - val_mean_squared_error: 0.7984 - val_mean_absolute_error: 0.6573 - 19s/epoch - 18ms/step\n",
      "Epoch 80/100\n",
      "1050/1050 - 18s - loss: 1.4935 - mean_squared_error: 1.4935 - mean_absolute_error: 0.8066 - val_loss: 1.1055 - val_mean_squared_error: 1.1055 - val_mean_absolute_error: 0.7625 - 18s/epoch - 17ms/step\n",
      "Epoch 81/100\n",
      "1050/1050 - 20s - loss: 0.6371 - mean_squared_error: 0.6371 - mean_absolute_error: 0.5761 - val_loss: 0.7348 - val_mean_squared_error: 0.7348 - val_mean_absolute_error: 0.6216 - 20s/epoch - 19ms/step\n",
      "Epoch 82/100\n",
      "1050/1050 - 19s - loss: 0.6131 - mean_squared_error: 0.6131 - mean_absolute_error: 0.5664 - val_loss: 1.1541 - val_mean_squared_error: 1.1541 - val_mean_absolute_error: 0.7711 - 19s/epoch - 18ms/step\n",
      "Epoch 83/100\n",
      "1050/1050 - 18s - loss: 0.6920 - mean_squared_error: 0.6920 - mean_absolute_error: 0.5968 - val_loss: 0.7723 - val_mean_squared_error: 0.7723 - val_mean_absolute_error: 0.6352 - 18s/epoch - 17ms/step\n",
      "Epoch 84/100\n",
      "1050/1050 - 18s - loss: 0.6373 - mean_squared_error: 0.6373 - mean_absolute_error: 0.5777 - val_loss: 0.7640 - val_mean_squared_error: 0.7640 - val_mean_absolute_error: 0.6397 - 18s/epoch - 17ms/step\n",
      "Epoch 85/100\n",
      "1050/1050 - 19s - loss: 0.7810 - mean_squared_error: 0.7810 - mean_absolute_error: 0.6242 - val_loss: 1.3461 - val_mean_squared_error: 1.3461 - val_mean_absolute_error: 0.8798 - 19s/epoch - 18ms/step\n",
      "Epoch 86/100\n",
      "1050/1050 - 20s - loss: 0.7369 - mean_squared_error: 0.7369 - mean_absolute_error: 0.6023 - val_loss: 0.7415 - val_mean_squared_error: 0.7415 - val_mean_absolute_error: 0.6185 - 20s/epoch - 19ms/step\n",
      "Epoch 87/100\n",
      "1050/1050 - 20s - loss: 0.6182 - mean_squared_error: 0.6182 - mean_absolute_error: 0.5686 - val_loss: 0.7452 - val_mean_squared_error: 0.7452 - val_mean_absolute_error: 0.6252 - 20s/epoch - 19ms/step\n",
      "Epoch 88/100\n",
      "1050/1050 - 19s - loss: 0.6018 - mean_squared_error: 0.6018 - mean_absolute_error: 0.5628 - val_loss: 0.7512 - val_mean_squared_error: 0.7512 - val_mean_absolute_error: 0.6304 - 19s/epoch - 18ms/step\n",
      "Epoch 89/100\n",
      "1050/1050 - 19s - loss: 0.7621 - mean_squared_error: 0.7621 - mean_absolute_error: 0.6113 - val_loss: 0.7108 - val_mean_squared_error: 0.7108 - val_mean_absolute_error: 0.6104 - 19s/epoch - 18ms/step\n",
      "Epoch 90/100\n",
      "1050/1050 - 18s - loss: 0.6268 - mean_squared_error: 0.6268 - mean_absolute_error: 0.5683 - val_loss: 0.7378 - val_mean_squared_error: 0.7378 - val_mean_absolute_error: 0.6205 - 18s/epoch - 17ms/step\n",
      "Epoch 91/100\n",
      "1050/1050 - 19s - loss: 0.5839 - mean_squared_error: 0.5839 - mean_absolute_error: 0.5541 - val_loss: 0.9077 - val_mean_squared_error: 0.9077 - val_mean_absolute_error: 0.6855 - 19s/epoch - 18ms/step\n",
      "Epoch 92/100\n",
      "1050/1050 - 18s - loss: 0.8990 - mean_squared_error: 0.8990 - mean_absolute_error: 0.6557 - val_loss: 0.8035 - val_mean_squared_error: 0.8035 - val_mean_absolute_error: 0.6561 - 18s/epoch - 17ms/step\n",
      "Epoch 93/100\n",
      "1050/1050 - 19s - loss: 0.5609 - mean_squared_error: 0.5609 - mean_absolute_error: 0.5433 - val_loss: 0.6782 - val_mean_squared_error: 0.6782 - val_mean_absolute_error: 0.5941 - 19s/epoch - 18ms/step\n",
      "Epoch 94/100\n",
      "1050/1050 - 18s - loss: 0.5642 - mean_squared_error: 0.5642 - mean_absolute_error: 0.5432 - val_loss: 0.7091 - val_mean_squared_error: 0.7091 - val_mean_absolute_error: 0.6048 - 18s/epoch - 17ms/step\n",
      "Epoch 95/100\n",
      "1050/1050 - 19s - loss: 0.6447 - mean_squared_error: 0.6447 - mean_absolute_error: 0.5772 - val_loss: 0.6871 - val_mean_squared_error: 0.6871 - val_mean_absolute_error: 0.5967 - 19s/epoch - 18ms/step\n",
      "Epoch 96/100\n",
      "1050/1050 - 19s - loss: 0.5876 - mean_squared_error: 0.5876 - mean_absolute_error: 0.5552 - val_loss: 0.8103 - val_mean_squared_error: 0.8103 - val_mean_absolute_error: 0.6350 - 19s/epoch - 18ms/step\n",
      "Epoch 97/100\n",
      "1050/1050 - 21s - loss: 0.6493 - mean_squared_error: 0.6493 - mean_absolute_error: 0.5748 - val_loss: 0.8935 - val_mean_squared_error: 0.8935 - val_mean_absolute_error: 0.6803 - 21s/epoch - 20ms/step\n",
      "Epoch 98/100\n",
      "1050/1050 - 18s - loss: 1.1632 - mean_squared_error: 1.1632 - mean_absolute_error: 0.7286 - val_loss: 1.0867 - val_mean_squared_error: 1.0867 - val_mean_absolute_error: 0.7509 - 18s/epoch - 17ms/step\n",
      "Epoch 99/100\n",
      "1050/1050 - 15s - loss: 0.5756 - mean_squared_error: 0.5756 - mean_absolute_error: 0.5479 - val_loss: 0.7399 - val_mean_squared_error: 0.7399 - val_mean_absolute_error: 0.6251 - 15s/epoch - 14ms/step\n",
      "Epoch 100/100\n",
      "1050/1050 - 15s - loss: 0.5422 - mean_squared_error: 0.5422 - mean_absolute_error: 0.5334 - val_loss: 0.7162 - val_mean_squared_error: 0.7162 - val_mean_absolute_error: 0.6107 - 15s/epoch - 14ms/step\n"
     ]
    }
   ],
   "source": [
    "\n",
    "history = model2.fit(X_train, # input data\n",
    "                    Y_train, # target data\n",
    "                    batch_size=32, # Number of samples per gradient update. If unspecified, batch_size will default to 32.\n",
    "                    epochs=100, # default=1, Number of epochs to train the model. An epoch is an iteration over the entire x and y data provided\n",
    "                    verbose=2, # default='auto', ('auto', 0, 1, or 2). Verbosity mode. 0 = silent, 1 = progress bar, 2 = one line per epoch. 'auto' defaults to 1 for most cases, but 2 when used with ParameterServerStrategy.\n",
    "                    callbacks=None, # default=None, list of callbacks to apply during training. See tf.keras.callbacks\n",
    "                    validation_split=0.1, # default=0.0, Fraction of the training data to be used as validation data. The model will set apart this fraction of the training data, will not train on it, and will evaluate the loss and any model metrics on this data at the end of each epoch. \n",
    "                    #validation_data=(X_test, y_test), # default=None, Data on which to evaluate the loss and any model metrics at the end of each epoch. \n",
    "                    shuffle=True, # default=True, Boolean (whether to shuffle the training data before each epoch) or str (for 'batch').\n",
    "                    class_weight=None, # default=None, Optional dictionary mapping class indices (integers) to a weight (float) value, used for weighting the loss function (during training only). This can be useful to tell the model to \"pay more attention\" to samples from an under-represented class.\n",
    "                    sample_weight=None, # default=None, Optional Numpy array of weights for the training samples, used for weighting the loss function (during training only).\n",
    "                    initial_epoch=0, # Integer, default=0, Epoch at which to start training (useful for resuming a previous training run).\n",
    "                    steps_per_epoch=None, # Integer or None, default=None, Total number of steps (batches of samples) before declaring one epoch finished and starting the next epoch. When training with input tensors such as TensorFlow data tensors, the default None is equal to the number of samples in your dataset divided by the batch size, or 1 if that cannot be determined. \n",
    "                    validation_steps=None, # Only relevant if validation_data is provided and is a tf.data dataset. Total number of steps (batches of samples) to draw before stopping when performing validation at the end of every epoch.\n",
    "                    validation_batch_size=None, # Integer or None, default=None, Number of samples per validation batch. If unspecified, will default to batch_size.\n",
    "                    validation_freq=1, # default=1, Only relevant if validation data is provided. If an integer, specifies how many training epochs to run before a new validation run is performed, e.g. validation_freq=2 runs validation every 2 epochs.\n",
    "                    max_queue_size=10, # default=10, Used for generator or keras.utils.Sequence input only. Maximum size for the generator queue. If unspecified, max_queue_size will default to 10.\n",
    "                    workers=1, # default=1, Used for generator or keras.utils.Sequence input only. Maximum number of processes to spin up when using process-based threading. If unspecified, workers will default to 1.\n",
    "                    use_multiprocessing=True, # default=False, Used for generator or keras.utils.Sequence input only. If True, use process-based threading. If unspecified, use_multiprocessing will default to False. \n",
    "                \n",
    "                   )\n",
    "\n",
    "\n"
   ]
  },
  {
   "cell_type": "markdown",
   "metadata": {},
   "source": [
    "##### Step 4 - Plot loss over epochs"
   ]
  },
  {
   "cell_type": "code",
   "execution_count": 93,
   "metadata": {},
   "outputs": [
    {
     "data": {
      "image/png": "[encoded data removed]",
      "text/plain": [
       "<Figure size 432x288 with 1 Axes>"
      ]
     },
     "metadata": {
      "needs_background": "light"
     },
     "output_type": "display_data"
    }
   ],
   "source": [
    "#loss: 4.2573 - mean_squared_error: 4.2572 - accuracy: 0.0000e+00 - val_loss: 4.6314 - val_mean_squared_error: 4.6314\n",
    "# Gather the trained model's weight and bias.\n",
    "trained_weight = model2.get_weights()[0]\n",
    "trained_bias = model2.get_weights()[1]\n",
    "\n",
    "  # The list of epochs is stored separately from the \n",
    "  # rest of history.\n",
    "epochs = history.epoch\n",
    "  \n",
    "  # Gather the history (a snapshot) of each epoch.\n",
    "#hist = pd.DataFrame(history.history)\n",
    "\n",
    "  # Specifically gather the model's root mean \n",
    "  # squared error at each epoch. \n",
    "mse = history.history[\"mean_squared_error\"]\n",
    "\n",
    "#plot_the_model(trained_weight, trained_bias, X_test, Y_train)\n",
    "plot_the_loss_curve(epochs, mse)"
   ]
  },
  {
   "cell_type": "markdown",
   "metadata": {},
   "source": [
    "##### Step 5 - Print Performance Summary"
   ]
  },
  {
   "cell_type": "code",
   "execution_count": 94,
   "metadata": {},
   "outputs": [
    {
     "name": "stdout",
     "output_type": "stream",
     "text": [
      "\n",
      "-------------------- Model Summary --------------------\n",
      "Model: \"biLSTM-Model\"\n",
      "_________________________________________________________________\n",
      " Layer (type)                Output Shape              Param #   \n",
      "=================================================================\n",
      " Hidden-LSTM-Encoder-Layer (  (None, 128)              33792     \n",
      " Bidirectional)                                                  \n",
      "                                                                 \n",
      " Repeat-Vector-Layer (Repeat  (None, 10, 128)          0         \n",
      " Vector)                                                         \n",
      "                                                                 \n",
      " Hidden-LSTM-Decoder-Layer (  (None, 10, 128)          98816     \n",
      " Bidirectional)                                                  \n",
      "                                                                 \n",
      " Output-Layer (TimeDistribut  (None, 10, 1)            129       \n",
      " ed)                                                             \n",
      "                                                                 \n",
      "=================================================================\n",
      "Total params: 132,737\n",
      "Trainable params: 132,737\n",
      "Non-trainable params: 0\n",
      "_________________________________________________________________\n",
      "\n",
      "-------------------- Weights and Biases --------------------\n",
      "Too many parameters to print but you can use the code provided if needed\n",
      "\n",
      "-------------------- Evaluation on Training Data --------------------\n",
      "Final loss : 0.5422379970550537\n",
      "Final mean_squared_error : 0.5422382950782776\n",
      "Final mean_absolute_error : 0.53335040807724\n",
      "Final val_loss : 0.7161542177200317\n",
      "Final val_mean_squared_error : 0.7161542177200317\n",
      "Final val_mean_absolute_error : 0.6107045412063599\n",
      "\n",
      "-------------------- Evaluation on Test Data --------------------\n",
      "484/484 [==============================] - 4s 8ms/step - loss: 6.5374 - mean_squared_error: 6.5374 - mean_absolute_error: 1.8290\n",
      "\n"
     ]
    }
   ],
   "source": [
    "print(\"\")\n",
    "print('-------------------- Model Summary --------------------')\n",
    "model2.summary() # print model summary\n",
    "print(\"\")\n",
    "print('-------------------- Weights and Biases --------------------')\n",
    "print(\"Too many parameters to print but you can use the code provided if needed\")\n",
    "print(\"\")\n",
    "#for layer in model.layers:\n",
    "#    print(layer.name)\n",
    "#    for item in layer.get_weights():\n",
    "#        print(\"  \", item)\n",
    "#print(\"\")\n",
    "\n",
    "# Print the last value in the evaluation metrics contained within history file\n",
    "print('-------------------- Evaluation on Training Data --------------------')\n",
    "for item in history.history:\n",
    "    print(\"Final\", item, \":\", history.history[item][-1])\n",
    "print(\"\")\n",
    "\n",
    "# Evaluate the model on the test data using \"evaluate\"\n",
    "print('-------------------- Evaluation on Test Data --------------------')\n",
    "results = model2.evaluate(X_test, Y_test)\n",
    "print(\"\")"
   ]
  },
  {
   "cell_type": "code",
   "execution_count": 102,
   "metadata": {},
   "outputs": [
    {
     "data": {
      "image/png": "[encoded data removed]",
      "text/plain": [
       "<IPython.core.display.Image object>"
      ]
     },
     "execution_count": 102,
     "metadata": {},
     "output_type": "execute_result"
    }
   ],
   "source": [
    "#loss: 6.1995 - mean_squared_error: 6.1995 normalize01  loss: 6.8981 - mean_squared_error: 6.8981 - accuracy: 0.0000e+00// After new set loss: 6.3898 - mean_squared_error: 6.3898 - accuracy: 0.0000e+00   mean_squared_error: 5.7319 - accurac\n",
    "\n",
    "\n",
    "from keras.utils import plot_model,model_to_dot\n",
    "plot_model(model2, show_shapes=True, to_file='plotmodelbilstm0810.png')\n"
   ]
  },
  {
   "cell_type": "code",
   "execution_count": 96,
   "metadata": {},
   "outputs": [
    {
     "name": "stdout",
     "output_type": "stream",
     "text": [
      "484/484 [==============================] - 4s 7ms/step\n"
     ]
    },
    {
     "data": {
      "text/plain": [
       "array([[[ 0.28533554],\n",
       "        [ 0.6483078 ],\n",
       "        [ 0.76695645],\n",
       "        ...,\n",
       "        [ 2.7603085 ],\n",
       "        [-0.24711227],\n",
       "        [ 2.3091764 ]],\n",
       "\n",
       "       [[-1.9695631 ],\n",
       "        [ 1.147233  ],\n",
       "        [ 4.288313  ],\n",
       "        ...,\n",
       "        [ 0.35904408],\n",
       "        [ 0.2825973 ],\n",
       "        [ 1.6489608 ]],\n",
       "\n",
       "       [[ 2.2408984 ],\n",
       "        [ 2.3550038 ],\n",
       "        [ 2.6238024 ],\n",
       "        ...,\n",
       "        [ 2.1975508 ],\n",
       "        [ 2.4360473 ],\n",
       "        [ 2.9233954 ]],\n",
       "\n",
       "       ...,\n",
       "\n",
       "       [[ 2.1471946 ],\n",
       "        [ 2.3559957 ],\n",
       "        [ 3.397865  ],\n",
       "        ...,\n",
       "        [ 3.8036802 ],\n",
       "        [ 2.9662502 ],\n",
       "        [ 2.6773849 ]],\n",
       "\n",
       "       [[ 2.9998896 ],\n",
       "        [ 3.4939077 ],\n",
       "        [ 3.3756182 ],\n",
       "        ...,\n",
       "        [ 4.055316  ],\n",
       "        [ 2.830108  ],\n",
       "        [ 3.0619516 ]],\n",
       "\n",
       "       [[ 3.218323  ],\n",
       "        [ 3.3960555 ],\n",
       "        [ 3.2924798 ],\n",
       "        ...,\n",
       "        [ 3.3544285 ],\n",
       "        [ 2.8451064 ],\n",
       "        [ 2.302181  ]]], dtype=float32)"
      ]
     },
     "execution_count": 96,
     "metadata": {},
     "output_type": "execute_result"
    }
   ],
   "source": [
    "pred_test=model2.predict(X_test)\n",
    "\n",
    "pred_test"
   ]
  },
  {
   "cell_type": "code",
   "execution_count": 97,
   "metadata": {},
   "outputs": [
    {
     "data": {
      "text/plain": [
       "(15470, 10, 1)"
      ]
     },
     "execution_count": 97,
     "metadata": {},
     "output_type": "execute_result"
    }
   ],
   "source": [
    "Y_test.shape\n",
    "#1792"
   ]
  },
  {
   "cell_type": "code",
   "execution_count": 98,
   "metadata": {},
   "outputs": [
    {
     "data": {
      "text/plain": [
       "18700"
      ]
     },
     "execution_count": 98,
     "metadata": {},
     "output_type": "execute_result"
    }
   ],
   "source": [
    "test.values.size"
   ]
  },
  {
   "cell_type": "code",
   "execution_count": 99,
   "metadata": {},
   "outputs": [
    {
     "data": {
      "text/plain": [
       "(15470, 10, 1)"
      ]
     },
     "execution_count": 99,
     "metadata": {},
     "output_type": "execute_result"
    }
   ],
   "source": [
    "pred_test.shape"
   ]
  },
  {
   "cell_type": "code",
   "execution_count": 100,
   "metadata": {},
   "outputs": [],
   "source": [
    "# # pred_test = scaler2.inverse_transform(pred_test.reshape(-1, pred_test.shape[-1])).reshape(pred_test.shape)\n",
    "# y=pred_test.flatten()\n",
    "# z=[]\n",
    "# for x in range(910*95,910*96,10): #predictioon\n",
    "#     z.append(y[x])\n",
    "# z\n",
    "# b=Y_test.flatten() #Y test should match prediction\n",
    "# c=[] #wtf is this\n",
    "# for x in range(910*95,910*96,10):\n",
    "#     c.append(b[x])\n",
    "# #c\n",
    "\n",
    "# # d=X_test.flatten() # Y train doesnt match because why\n",
    "# # e=[]\n",
    "# # for x in range(0,10000,1):\n",
    "# #     if(d[x]==0):\n",
    "# #         print(x)\n",
    "# #     e.append(d[x])\n",
    "# # # e\n",
    "y=pred_test.flatten()\n",
    "# y=scaler2.inverse_transform(y.reshape(-1,y.shape[-1])).reshape(y.shape)\n",
    "z=[]\n",
    "for x in range(910*96,910*97,10): #predictioon\n",
    "    z.append(y[x])\n",
    "z\n",
    "\n",
    "b=Y_test.flatten() #Y test should match prediction\n",
    "# b=scaler2.inverse_transform(b.reshape(-1,b.shape[-1])).reshape(b.shape)\n",
    "c=[] #wtf is this\n",
    "for x in range(910*96,910*97,10):\n",
    "    c.append(b[x])"
   ]
  },
  {
   "cell_type": "code",
   "execution_count": 101,
   "metadata": {},
   "outputs": [
    {
     "data": {
      "application/vnd.plotly.v1+json": {
       "config": {
        "plotlyServerURL": "https://plot.ly"
       },
       "data": [
        {
         "line": {
          "color": "grey",
          "width": 5
         },
         "mode": "lines",
         "name": "Subsidence - Actual (YTest)",
         "opacity": 0.8,
         "type": "scatter",
         "x": [
          "2015-07-30T00:00:00.000000000",
          "2015-08-23T00:00:00.000000000",
          "2015-09-16T00:00:00.000000000",
          "2015-10-10T00:00:00.000000000",
          "2015-11-03T00:00:00.000000000",
          "2015-11-27T00:00:00.000000000",
          "2015-12-09T00:00:00.000000000",
          "2015-12-21T00:00:00.000000000",
          "2016-01-14T00:00:00.000000000",
          "2016-01-26T00:00:00.000000000",
          "2016-02-07T00:00:00.000000000",
          "2016-02-19T00:00:00.000000000",
          "2016-03-02T00:00:00.000000000",
          "2016-03-14T00:00:00.000000000",
          "2016-03-26T00:00:00.000000000",
          "2016-04-07T00:00:00.000000000",
          "2016-04-19T00:00:00.000000000",
          "2016-05-01T00:00:00.000000000",
          "2016-05-13T00:00:00.000000000",
          "2016-05-25T00:00:00.000000000",
          "2016-06-06T00:00:00.000000000",
          "2016-06-30T00:00:00.000000000",
          "2016-07-24T00:00:00.000000000",
          "2016-08-17T00:00:00.000000000",
          "2016-09-10T00:00:00.000000000",
          "2016-09-22T00:00:00.000000000",
          "2016-10-04T00:00:00.000000000",
          "2016-10-16T00:00:00.000000000",
          "2016-10-28T00:00:00.000000000",
          "2016-11-09T00:00:00.000000000",
          "2016-11-21T00:00:00.000000000",
          "2016-12-03T00:00:00.000000000",
          "2016-12-15T00:00:00.000000000",
          "2016-12-27T00:00:00.000000000",
          "2017-01-08T00:00:00.000000000",
          "2017-01-14T00:00:00.000000000",
          "2017-01-20T00:00:00.000000000",
          "2017-01-26T00:00:00.000000000",
          "2017-02-01T00:00:00.000000000",
          "2017-02-13T00:00:00.000000000",
          "2017-02-25T00:00:00.000000000",
          "2017-03-09T00:00:00.000000000",
          "2017-03-21T00:00:00.000000000",
          "2017-04-02T00:00:00.000000000",
          "2017-04-14T00:00:00.000000000",
          "2017-04-26T00:00:00.000000000",
          "2017-05-08T00:00:00.000000000",
          "2017-05-20T00:00:00.000000000",
          "2017-06-01T00:00:00.000000000",
          "2017-06-13T00:00:00.000000000",
          "2017-06-25T00:00:00.000000000",
          "2017-07-07T00:00:00.000000000",
          "2017-07-19T00:00:00.000000000",
          "2017-07-31T00:00:00.000000000",
          "2017-08-12T00:00:00.000000000",
          "2017-08-24T00:00:00.000000000",
          "2017-09-05T00:00:00.000000000",
          "2017-09-17T00:00:00.000000000",
          "2017-09-29T00:00:00.000000000",
          "2017-10-11T00:00:00.000000000",
          "2017-10-23T00:00:00.000000000",
          "2017-11-04T00:00:00.000000000",
          "2017-11-16T00:00:00.000000000",
          "2017-11-28T00:00:00.000000000",
          "2017-12-10T00:00:00.000000000",
          "2017-12-22T00:00:00.000000000",
          "2018-01-03T00:00:00.000000000",
          "2018-01-15T00:00:00.000000000",
          "2018-01-27T00:00:00.000000000",
          "2018-02-08T00:00:00.000000000",
          "2018-02-20T00:00:00.000000000",
          "2018-03-04T00:00:00.000000000",
          "2018-03-16T00:00:00.000000000",
          "2018-03-28T00:00:00.000000000",
          "2018-04-09T00:00:00.000000000",
          "2018-04-21T00:00:00.000000000",
          "2018-05-03T00:00:00.000000000",
          "2018-05-15T00:00:00.000000000",
          "2018-05-27T00:00:00.000000000",
          "2018-06-08T00:00:00.000000000",
          "2018-06-20T00:00:00.000000000",
          "2018-07-02T00:00:00.000000000",
          "2018-07-14T00:00:00.000000000",
          "2018-07-26T00:00:00.000000000",
          "2018-08-07T00:00:00.000000000",
          "2018-08-19T00:00:00.000000000",
          "2018-08-31T00:00:00.000000000",
          "2018-09-12T00:00:00.000000000",
          "2018-09-24T00:00:00.000000000",
          "2018-10-06T00:00:00.000000000",
          "2018-10-18T00:00:00.000000000",
          "2018-10-30T00:00:00.000000000",
          "2018-11-11T00:00:00.000000000",
          "2018-11-17T00:00:00.000000000",
          "2018-11-23T00:00:00.000000000",
          "2018-12-05T00:00:00.000000000",
          "2018-12-17T00:00:00.000000000",
          "2018-12-29T00:00:00.000000000",
          "2019-01-10T00:00:00.000000000",
          "2019-01-22T00:00:00.000000000"
         ],
         "y": [
          -18.398,
          -22.092,
          -24.062,
          -23.366,
          -24.054,
          -25.487,
          -26.169,
          -25.261,
          -26.073,
          -25.324,
          -26.425,
          -25.79,
          -28.488,
          -28.567,
          -27.364,
          -30.514,
          -32.701,
          -32.841,
          -33.433,
          -35.138,
          -34.533,
          -38.651,
          -41.498,
          -44.292,
          -45.134,
          -47.621,
          -48.646,
          -48.525,
          -49.736,
          -49.885,
          -49.916,
          -49.159,
          -49.78,
          -49.994,
          -50.245,
          -50.35,
          -50.94,
          -50.017,
          -50.817,
          -49.964,
          -51.047,
          -50.283,
          -47.718,
          -51.499,
          -50.72,
          -51.157,
          -51.259,
          -51.44,
          -52.218,
          -53.051,
          -52.958,
          -52.356,
          -52.724,
          -51.807,
          -56.664,
          -53.361,
          -55.09,
          -54.545,
          -56.257,
          -57.673,
          -58.275,
          -59.461,
          -57.298,
          -56.884,
          -57.603,
          -58.182,
          -58.242,
          -57.672,
          -56.722,
          -58.245,
          -59.18,
          -60.557,
          -60.95,
          -60.81,
          -61.115,
          -61.373,
          -63.445,
          -63.45,
          -66.063,
          -64.926,
          -65.789,
          -67.232,
          -68.649,
          -69.47149999999999,
          -70.294,
          -71.96,
          -74.276,
          -74.088,
          -73.302,
          -74.605,
          -75.305
         ]
        },
        {
         "line": {
          "color": "red",
          "width": 5
         },
         "mode": "lines",
         "name": "Subsidence - Predicted ",
         "opacity": 0.8,
         "type": "scatter",
         "x": [
          "2015-07-30T00:00:00.000000000",
          "2015-08-23T00:00:00.000000000",
          "2015-09-16T00:00:00.000000000",
          "2015-10-10T00:00:00.000000000",
          "2015-11-03T00:00:00.000000000",
          "2015-11-27T00:00:00.000000000",
          "2015-12-09T00:00:00.000000000",
          "2015-12-21T00:00:00.000000000",
          "2016-01-14T00:00:00.000000000",
          "2016-01-26T00:00:00.000000000",
          "2016-02-07T00:00:00.000000000",
          "2016-02-19T00:00:00.000000000",
          "2016-03-02T00:00:00.000000000",
          "2016-03-14T00:00:00.000000000",
          "2016-03-26T00:00:00.000000000",
          "2016-04-07T00:00:00.000000000",
          "2016-04-19T00:00:00.000000000",
          "2016-05-01T00:00:00.000000000",
          "2016-05-13T00:00:00.000000000",
          "2016-05-25T00:00:00.000000000",
          "2016-06-06T00:00:00.000000000",
          "2016-06-30T00:00:00.000000000",
          "2016-07-24T00:00:00.000000000",
          "2016-08-17T00:00:00.000000000",
          "2016-09-10T00:00:00.000000000",
          "2016-09-22T00:00:00.000000000",
          "2016-10-04T00:00:00.000000000",
          "2016-10-16T00:00:00.000000000",
          "2016-10-28T00:00:00.000000000",
          "2016-11-09T00:00:00.000000000",
          "2016-11-21T00:00:00.000000000",
          "2016-12-03T00:00:00.000000000",
          "2016-12-15T00:00:00.000000000",
          "2016-12-27T00:00:00.000000000",
          "2017-01-08T00:00:00.000000000",
          "2017-01-14T00:00:00.000000000",
          "2017-01-20T00:00:00.000000000",
          "2017-01-26T00:00:00.000000000",
          "2017-02-01T00:00:00.000000000",
          "2017-02-13T00:00:00.000000000",
          "2017-02-25T00:00:00.000000000",
          "2017-03-09T00:00:00.000000000",
          "2017-03-21T00:00:00.000000000",
          "2017-04-02T00:00:00.000000000",
          "2017-04-14T00:00:00.000000000",
          "2017-04-26T00:00:00.000000000",
          "2017-05-08T00:00:00.000000000",
          "2017-05-20T00:00:00.000000000",
          "2017-06-01T00:00:00.000000000",
          "2017-06-13T00:00:00.000000000",
          "2017-06-25T00:00:00.000000000",
          "2017-07-07T00:00:00.000000000",
          "2017-07-19T00:00:00.000000000",
          "2017-07-31T00:00:00.000000000",
          "2017-08-12T00:00:00.000000000",
          "2017-08-24T00:00:00.000000000",
          "2017-09-05T00:00:00.000000000",
          "2017-09-17T00:00:00.000000000",
          "2017-09-29T00:00:00.000000000",
          "2017-10-11T00:00:00.000000000",
          "2017-10-23T00:00:00.000000000",
          "2017-11-04T00:00:00.000000000",
          "2017-11-16T00:00:00.000000000",
          "2017-11-28T00:00:00.000000000",
          "2017-12-10T00:00:00.000000000",
          "2017-12-22T00:00:00.000000000",
          "2018-01-03T00:00:00.000000000",
          "2018-01-15T00:00:00.000000000",
          "2018-01-27T00:00:00.000000000",
          "2018-02-08T00:00:00.000000000",
          "2018-02-20T00:00:00.000000000",
          "2018-03-04T00:00:00.000000000",
          "2018-03-16T00:00:00.000000000",
          "2018-03-28T00:00:00.000000000",
          "2018-04-09T00:00:00.000000000",
          "2018-04-21T00:00:00.000000000",
          "2018-05-03T00:00:00.000000000",
          "2018-05-15T00:00:00.000000000",
          "2018-05-27T00:00:00.000000000",
          "2018-06-08T00:00:00.000000000",
          "2018-06-20T00:00:00.000000000",
          "2018-07-02T00:00:00.000000000",
          "2018-07-14T00:00:00.000000000",
          "2018-07-26T00:00:00.000000000",
          "2018-08-07T00:00:00.000000000",
          "2018-08-19T00:00:00.000000000",
          "2018-08-31T00:00:00.000000000",
          "2018-09-12T00:00:00.000000000",
          "2018-09-24T00:00:00.000000000",
          "2018-10-06T00:00:00.000000000",
          "2018-10-18T00:00:00.000000000",
          "2018-10-30T00:00:00.000000000",
          "2018-11-11T00:00:00.000000000",
          "2018-11-17T00:00:00.000000000",
          "2018-11-23T00:00:00.000000000",
          "2018-12-05T00:00:00.000000000",
          "2018-12-17T00:00:00.000000000",
          "2018-12-29T00:00:00.000000000",
          "2019-01-10T00:00:00.000000000",
          "2019-01-22T00:00:00.000000000"
         ],
         "y": [
          -19.44442367553711,
          -21.838069915771484,
          -26.265962600708008,
          -23.99688720703125,
          -22.36516571044922,
          -24.603404998779297,
          -25.296833038330078,
          -26.523090362548828,
          -27.163881301879883,
          -26.53350257873535,
          -25.240583419799805,
          -25.79658317565918,
          -26.149234771728516,
          -27.864990234375,
          -28.925724029541016,
          -29.680644989013672,
          -31.864131927490234,
          -33.47907638549805,
          -35.9765739440918,
          -34.954654693603516,
          -35.945037841796875,
          -35.0589485168457,
          -38.343833923339844,
          -41.44908905029297,
          -46.1901741027832,
          -46.719112396240234,
          -47.58457565307617,
          -47.73072052001953,
          -50.3945426940918,
          -50.148860931396484,
          -49.4586181640625,
          -49.823150634765625,
          -49.1531982421875,
          -50.296913146972656,
          -49.650020599365234,
          -50.37227249145508,
          -50.226463317871094,
          -51.17439651489258,
          -49.859214782714844,
          -50.419677734375,
          -49.582828521728516,
          -50.987064361572266,
          -49.432701110839844,
          -51.47283935546875,
          -51.78776931762695,
          -49.77969741821289,
          -50.99767303466797,
          -51.42084884643555,
          -51.749393463134766,
          -52.8746452331543,
          -54.32672119140625,
          -52.30642318725586,
          -52.92157745361328,
          -53.474788665771484,
          -51.50885009765625,
          -55.36906051635742,
          -53.723876953125,
          -55.31344223022461,
          -55.9045524597168,
          -56.47356033325195,
          -58.597862243652344,
          -58.841217041015625,
          -59.34463882446289,
          -59.758548736572266,
          -58.483036041259766,
          -58.48991012573242,
          -59.4345817565918,
          -58.58869934082031,
          -58.8698616027832,
          -59.87534713745117,
          -58.479740142822266,
          -58.315425872802734,
          -61.08233642578125,
          -61.30391311645508,
          -61.42097473144531,
          -60.765201568603516,
          -61.83431625366211,
          -63.13633346557617,
          -63.76704025268555,
          -66.08903503417969,
          -65.61719512939453,
          -67.41789245605469,
          -69.4154281616211,
          -70.83661651611328,
          -70.25203704833984,
          -71.88282012939453,
          -70.52545928955078,
          -75.01139068603516,
          -72.23651885986328,
          -73.8055419921875,
          -74.20713806152344
         ]
        }
       ],
       "layout": {
        "legend": {
         "orientation": "h",
         "x": 1,
         "xanchor": "right",
         "y": 1.02,
         "yanchor": "bottom"
        },
        "plot_bgcolor": "white",
        "template": {
         "data": {
          "bar": [
           {
            "error_x": {
             "color": "#2a3f5f"
            },
            "error_y": {
             "color": "#2a3f5f"
            },
            "marker": {
             "line": {
              "color": "#E5ECF6",
              "width": 0.5
             },
             "pattern": {
              "fillmode": "overlay",
              "size": 10,
              "solidity": 0.2
             }
            },
            "type": "bar"
           }
          ],
          "barpolar": [
           {
            "marker": {
             "line": {
              "color": "#E5ECF6",
              "width": 0.5
             },
             "pattern": {
              "fillmode": "overlay",
              "size": 10,
              "solidity": 0.2
             }
            },
            "type": "barpolar"
           }
          ],
          "carpet": [
           {
            "aaxis": {
             "endlinecolor": "#2a3f5f",
             "gridcolor": "white",
             "linecolor": "white",
             "minorgridcolor": "white",
             "startlinecolor": "#2a3f5f"
            },
            "baxis": {
             "endlinecolor": "#2a3f5f",
             "gridcolor": "white",
             "linecolor": "white",
             "minorgridcolor": "white",
             "startlinecolor": "#2a3f5f"
            },
            "type": "carpet"
           }
          ],
          "choropleth": [
           {
            "colorbar": {
             "outlinewidth": 0,
             "ticks": ""
            },
            "type": "choropleth"
           }
          ],
          "contour": [
           {
            "colorbar": {
             "outlinewidth": 0,
             "ticks": ""
            },
            "colorscale": [
             [
              0,
              "#0d0887"
             ],
             [
              0.1111111111111111,
              "#46039f"
             ],
             [
              0.2222222222222222,
              "#7201a8"
             ],
             [
              0.3333333333333333,
              "#9c179e"
             ],
             [
              0.4444444444444444,
              "#bd3786"
             ],
             [
              0.5555555555555556,
              "#d8576b"
             ],
             [
              0.6666666666666666,
              "#ed7953"
             ],
             [
              0.7777777777777778,
              "#fb9f3a"
             ],
             [
              0.8888888888888888,
              "#fdca26"
             ],
             [
              1,
              "#f0f921"
             ]
            ],
            "type": "contour"
           }
          ],
          "contourcarpet": [
           {
            "colorbar": {
             "outlinewidth": 0,
             "ticks": ""
            },
            "type": "contourcarpet"
           }
          ],
          "heatmap": [
           {
            "colorbar": {
             "outlinewidth": 0,
             "ticks": ""
            },
            "colorscale": [
             [
              0,
              "#0d0887"
             ],
             [
              0.1111111111111111,
              "#46039f"
             ],
             [
              0.2222222222222222,
              "#7201a8"
             ],
             [
              0.3333333333333333,
              "#9c179e"
             ],
             [
              0.4444444444444444,
              "#bd3786"
             ],
             [
              0.5555555555555556,
              "#d8576b"
             ],
             [
              0.6666666666666666,
              "#ed7953"
             ],
             [
              0.7777777777777778,
              "#fb9f3a"
             ],
             [
              0.8888888888888888,
              "#fdca26"
             ],
             [
              1,
              "#f0f921"
             ]
            ],
            "type": "heatmap"
           }
          ],
          "heatmapgl": [
           {
            "colorbar": {
             "outlinewidth": 0,
             "ticks": ""
            },
            "colorscale": [
             [
              0,
              "#0d0887"
             ],
             [
              0.1111111111111111,
              "#46039f"
             ],
             [
              0.2222222222222222,
              "#7201a8"
             ],
             [
              0.3333333333333333,
              "#9c179e"
             ],
             [
              0.4444444444444444,
              "#bd3786"
             ],
             [
              0.5555555555555556,
              "#d8576b"
             ],
             [
              0.6666666666666666,
              "#ed7953"
             ],
             [
              0.7777777777777778,
              "#fb9f3a"
             ],
             [
              0.8888888888888888,
              "#fdca26"
             ],
             [
              1,
              "#f0f921"
             ]
            ],
            "type": "heatmapgl"
           }
          ],
          "histogram": [
           {
            "marker": {
             "pattern": {
              "fillmode": "overlay",
              "size": 10,
              "solidity": 0.2
             }
            },
            "type": "histogram"
           }
          ],
          "histogram2d": [
           {
            "colorbar": {
             "outlinewidth": 0,
             "ticks": ""
            },
            "colorscale": [
             [
              0,
              "#0d0887"
             ],
             [
              0.1111111111111111,
              "#46039f"
             ],
             [
              0.2222222222222222,
              "#7201a8"
             ],
             [
              0.3333333333333333,
              "#9c179e"
             ],
             [
              0.4444444444444444,
              "#bd3786"
             ],
             [
              0.5555555555555556,
              "#d8576b"
             ],
             [
              0.6666666666666666,
              "#ed7953"
             ],
             [
              0.7777777777777778,
              "#fb9f3a"
             ],
             [
              0.8888888888888888,
              "#fdca26"
             ],
             [
              1,
              "#f0f921"
             ]
            ],
            "type": "histogram2d"
           }
          ],
          "histogram2dcontour": [
           {
            "colorbar": {
             "outlinewidth": 0,
             "ticks": ""
            },
            "colorscale": [
             [
              0,
              "#0d0887"
             ],
             [
              0.1111111111111111,
              "#46039f"
             ],
             [
              0.2222222222222222,
              "#7201a8"
             ],
             [
              0.3333333333333333,
              "#9c179e"
             ],
             [
              0.4444444444444444,
              "#bd3786"
             ],
             [
              0.5555555555555556,
              "#d8576b"
             ],
             [
              0.6666666666666666,
              "#ed7953"
             ],
             [
              0.7777777777777778,
              "#fb9f3a"
             ],
             [
              0.8888888888888888,
              "#fdca26"
             ],
             [
              1,
              "#f0f921"
             ]
            ],
            "type": "histogram2dcontour"
           }
          ],
          "mesh3d": [
           {
            "colorbar": {
             "outlinewidth": 0,
             "ticks": ""
            },
            "type": "mesh3d"
           }
          ],
          "parcoords": [
           {
            "line": {
             "colorbar": {
              "outlinewidth": 0,
              "ticks": ""
             }
            },
            "type": "parcoords"
           }
          ],
          "pie": [
           {
            "automargin": true,
            "type": "pie"
           }
          ],
          "scatter": [
           {
            "fillpattern": {
             "fillmode": "overlay",
             "size": 10,
             "solidity": 0.2
            },
            "type": "scatter"
           }
          ],
          "scatter3d": [
           {
            "line": {
             "colorbar": {
              "outlinewidth": 0,
              "ticks": ""
             }
            },
            "marker": {
             "colorbar": {
              "outlinewidth": 0,
              "ticks": ""
             }
            },
            "type": "scatter3d"
           }
          ],
          "scattercarpet": [
           {
            "marker": {
             "colorbar": {
              "outlinewidth": 0,
              "ticks": ""
             }
            },
            "type": "scattercarpet"
           }
          ],
          "scattergeo": [
           {
            "marker": {
             "colorbar": {
              "outlinewidth": 0,
              "ticks": ""
             }
            },
            "type": "scattergeo"
           }
          ],
          "scattergl": [
           {
            "marker": {
             "colorbar": {
              "outlinewidth": 0,
              "ticks": ""
             }
            },
            "type": "scattergl"
           }
          ],
          "scattermapbox": [
           {
            "marker": {
             "colorbar": {
              "outlinewidth": 0,
              "ticks": ""
             }
            },
            "type": "scattermapbox"
           }
          ],
          "scatterpolar": [
           {
            "marker": {
             "colorbar": {
              "outlinewidth": 0,
              "ticks": ""
             }
            },
            "type": "scatterpolar"
           }
          ],
          "scatterpolargl": [
           {
            "marker": {
             "colorbar": {
              "outlinewidth": 0,
              "ticks": ""
             }
            },
            "type": "scatterpolargl"
           }
          ],
          "scatterternary": [
           {
            "marker": {
             "colorbar": {
              "outlinewidth": 0,
              "ticks": ""
             }
            },
            "type": "scatterternary"
           }
          ],
          "surface": [
           {
            "colorbar": {
             "outlinewidth": 0,
             "ticks": ""
            },
            "colorscale": [
             [
              0,
              "#0d0887"
             ],
             [
              0.1111111111111111,
              "#46039f"
             ],
             [
              0.2222222222222222,
              "#7201a8"
             ],
             [
              0.3333333333333333,
              "#9c179e"
             ],
             [
              0.4444444444444444,
              "#bd3786"
             ],
             [
              0.5555555555555556,
              "#d8576b"
             ],
             [
              0.6666666666666666,
              "#ed7953"
             ],
             [
              0.7777777777777778,
              "#fb9f3a"
             ],
             [
              0.8888888888888888,
              "#fdca26"
             ],
             [
              1,
              "#f0f921"
             ]
            ],
            "type": "surface"
           }
          ],
          "table": [
           {
            "cells": {
             "fill": {
              "color": "#EBF0F8"
             },
             "line": {
              "color": "white"
             }
            },
            "header": {
             "fill": {
              "color": "#C8D4E3"
             },
             "line": {
              "color": "white"
             }
            },
            "type": "table"
           }
          ]
         },
         "layout": {
          "annotationdefaults": {
           "arrowcolor": "#2a3f5f",
           "arrowhead": 0,
           "arrowwidth": 1
          },
          "autotypenumbers": "strict",
          "coloraxis": {
           "colorbar": {
            "outlinewidth": 0,
            "ticks": ""
           }
          },
          "colorscale": {
           "diverging": [
            [
             0,
             "#8e0152"
            ],
            [
             0.1,
             "#c51b7d"
            ],
            [
             0.2,
             "#de77ae"
            ],
            [
             0.3,
             "#f1b6da"
            ],
            [
             0.4,
             "#fde0ef"
            ],
            [
             0.5,
             "#f7f7f7"
            ],
            [
             0.6,
             "#e6f5d0"
            ],
            [
             0.7,
             "#b8e186"
            ],
            [
             0.8,
             "#7fbc41"
            ],
            [
             0.9,
             "#4d9221"
            ],
            [
             1,
             "#276419"
            ]
           ],
           "sequential": [
            [
             0,
             "#0d0887"
            ],
            [
             0.1111111111111111,
             "#46039f"
            ],
            [
             0.2222222222222222,
             "#7201a8"
            ],
            [
             0.3333333333333333,
             "#9c179e"
            ],
            [
             0.4444444444444444,
             "#bd3786"
            ],
            [
             0.5555555555555556,
             "#d8576b"
            ],
            [
             0.6666666666666666,
             "#ed7953"
            ],
            [
             0.7777777777777778,
             "#fb9f3a"
            ],
            [
             0.8888888888888888,
             "#fdca26"
            ],
            [
             1,
             "#f0f921"
            ]
           ],
           "sequentialminus": [
            [
             0,
             "#0d0887"
            ],
            [
             0.1111111111111111,
             "#46039f"
            ],
            [
             0.2222222222222222,
             "#7201a8"
            ],
            [
             0.3333333333333333,
             "#9c179e"
            ],
            [
             0.4444444444444444,
             "#bd3786"
            ],
            [
             0.5555555555555556,
             "#d8576b"
            ],
            [
             0.6666666666666666,
             "#ed7953"
            ],
            [
             0.7777777777777778,
             "#fb9f3a"
            ],
            [
             0.8888888888888888,
             "#fdca26"
            ],
            [
             1,
             "#f0f921"
            ]
           ]
          },
          "colorway": [
           "#636efa",
           "#EF553B",
           "#00cc96",
           "#ab63fa",
           "#FFA15A",
           "#19d3f3",
           "#FF6692",
           "#B6E880",
           "#FF97FF",
           "#FECB52"
          ],
          "font": {
           "color": "#2a3f5f"
          },
          "geo": {
           "bgcolor": "white",
           "lakecolor": "white",
           "landcolor": "#E5ECF6",
           "showlakes": true,
           "showland": true,
           "subunitcolor": "white"
          },
          "hoverlabel": {
           "align": "left"
          },
          "hovermode": "closest",
          "mapbox": {
           "style": "light"
          },
          "paper_bgcolor": "white",
          "plot_bgcolor": "#E5ECF6",
          "polar": {
           "angularaxis": {
            "gridcolor": "white",
            "linecolor": "white",
            "ticks": ""
           },
           "bgcolor": "#E5ECF6",
           "radialaxis": {
            "gridcolor": "white",
            "linecolor": "white",
            "ticks": ""
           }
          },
          "scene": {
           "xaxis": {
            "backgroundcolor": "#E5ECF6",
            "gridcolor": "white",
            "gridwidth": 2,
            "linecolor": "white",
            "showbackground": true,
            "ticks": "",
            "zerolinecolor": "white"
           },
           "yaxis": {
            "backgroundcolor": "#E5ECF6",
            "gridcolor": "white",
            "gridwidth": 2,
            "linecolor": "white",
            "showbackground": true,
            "ticks": "",
            "zerolinecolor": "white"
           },
           "zaxis": {
            "backgroundcolor": "#E5ECF6",
            "gridcolor": "white",
            "gridwidth": 2,
            "linecolor": "white",
            "showbackground": true,
            "ticks": "",
            "zerolinecolor": "white"
           }
          },
          "shapedefaults": {
           "line": {
            "color": "#2a3f5f"
           }
          },
          "ternary": {
           "aaxis": {
            "gridcolor": "white",
            "linecolor": "white",
            "ticks": ""
           },
           "baxis": {
            "gridcolor": "white",
            "linecolor": "white",
            "ticks": ""
           },
           "bgcolor": "#E5ECF6",
           "caxis": {
            "gridcolor": "white",
            "linecolor": "white",
            "ticks": ""
           }
          },
          "title": {
           "x": 0.05
          },
          "xaxis": {
           "automargin": true,
           "gridcolor": "white",
           "linecolor": "white",
           "ticks": "",
           "title": {
            "standoff": 15
           },
           "zerolinecolor": "white",
           "zerolinewidth": 2
          },
          "yaxis": {
           "automargin": true,
           "gridcolor": "white",
           "linecolor": "white",
           "ticks": "",
           "title": {
            "standoff": 15
           },
           "zerolinecolor": "white",
           "zerolinewidth": 2
          }
         }
        },
        "title": {
         "font": {
          "color": "black"
         },
         "text": "Subsidence"
        },
        "xaxis": {
         "gridcolor": "lightgrey",
         "gridwidth": 1,
         "linecolor": "black",
         "linewidth": 1,
         "showgrid": true,
         "showline": true,
         "title": {
          "text": "Month-Year"
         },
         "zeroline": true,
         "zerolinecolor": "lightgrey",
         "zerolinewidth": 1
        },
        "yaxis": {
         "gridcolor": "lightgrey",
         "gridwidth": 1,
         "linecolor": "black",
         "linewidth": 1,
         "showgrid": true,
         "showline": true,
         "title": {
          "text": "Subsidence"
         },
         "zeroline": true,
         "zerolinecolor": "lightgrey",
         "zerolinewidth": 1
        }
       }
      }
     },
     "metadata": {},
     "output_type": "display_data"
    }
   ],
   "source": [
    "# Plot (actual and predicted) for test (out of time) data\n",
    "fig = go.Figure()\n",
    "\n",
    "# #Trace for actual val\n",
    "# fig.add_trace(go.Scatter(x=np.array(test.columns),\n",
    "#                          y=np.array(test.values).flatten(),\n",
    "#                          mode='lines',\n",
    "#                          name='Subsidence - Actual (Test)',\n",
    "#                          opacity=0.8,\n",
    "#                          line=dict(color='black', width=1)\n",
    "#                         ))\n",
    "# fig.add_trace(go.Scatter(x=np.array(test.columns),\n",
    "#                          y=e,\n",
    "#                          mode='lines',\n",
    "#                          name='Subsidence - Actual (YTrain)',\n",
    "#                          opacity=0.8,\n",
    "#                          line=dict(color='pink', width=1)\n",
    "#                         ))\n",
    "\n",
    "fig.add_trace(go.Scatter(x=np.array(test.columns[10:]),\n",
    "                         y=c,\n",
    "                         mode='lines',\n",
    "                         name='Subsidence - Actual (YTest)',\n",
    "                         opacity=0.8,\n",
    "                         line=dict(color='grey', width=5)\n",
    "                        ))\n",
    "\n",
    "\n",
    "# Trace for predicted \n",
    "fig.add_trace(go.Scatter(x=np.array(test.columns[10:]),\n",
    "                         y=z,\n",
    "                         mode='lines',\n",
    "                         name='Subsidence - Predicted ',\n",
    "                         opacity=0.8,\n",
    "                         line=dict(color='red', width=5)\n",
    "                        ))\n",
    "\n",
    "# Change chart background color\n",
    "fig.update_layout(dict(plot_bgcolor = 'white'))\n",
    "\n",
    "# Update axes lines\n",
    "fig.update_xaxes(showgrid=True, gridwidth=1, gridcolor='lightgrey', \n",
    "                 zeroline=True, zerolinewidth=1, zerolinecolor='lightgrey', \n",
    "                 showline=True, linewidth=1, linecolor='black',\n",
    "                 title='Month-Year'\n",
    "                )\n",
    "\n",
    "fig.update_yaxes(showgrid=True, gridwidth=1, gridcolor='lightgrey', \n",
    "                 zeroline=True, zerolinewidth=1, zerolinecolor='lightgrey', \n",
    "                 showline=True, linewidth=1, linecolor='black',\n",
    "                 title='Subsidence'\n",
    "                )\n",
    "\n",
    "# Set figure title\n",
    "fig.update_layout(title=dict(text=\"Subsidence\", font=dict(color='black')),\n",
    "                  legend=dict(orientation=\"h\", yanchor=\"bottom\", y=1.02, xanchor=\"right\", x=1)\n",
    "                 )\n",
    "fig.show()"
   ]
  },
  {
   "cell_type": "markdown",
   "metadata": {},
   "source": []
  }
 ],
 "metadata": {
  "kernelspec": {
   "display_name": "Python 3.10.5 64-bit",
   "language": "python",
   "name": "python3"
  },
  "language_info": {
   "codemirror_mode": {
    "name": "ipython",
    "version": 3
   },
   "file_extension": ".py",
   "mimetype": "text/x-python",
   "name": "python",
   "nbconvert_exporter": "python",
   "pygments_lexer": "ipython3",
   "version": "3.10.5"
  },
  "orig_nbformat": 4,
  "vscode": {
   "interpreter": {
    "hash": "d3e10ef16274dd72e574b8fa73b58450b957d8421a2901baded3cca26fcf5dda"
   }
  }
 },
 "nbformat": 4,
 "nbformat_minor": 2
}
