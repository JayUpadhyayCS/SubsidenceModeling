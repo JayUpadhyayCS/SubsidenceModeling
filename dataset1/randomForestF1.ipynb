{
 "cells": [
  {
   "cell_type": "code",
   "execution_count": 1,
   "metadata": {},
   "outputs": [
    {
     "name": "stderr",
     "output_type": "stream",
     "text": [
      "c:\\Python\\Python310\\lib\\site-packages\\requests\\__init__.py:109: RequestsDependencyWarning: urllib3 (1.26.9) or chardet (5.0.0)/charset_normalizer (2.0.12) doesn't match a supported version!\n",
      "  warnings.warn(\n"
     ]
    },
    {
     "name": "stdout",
     "output_type": "stream",
     "text": [
      "Tensorflow/Keras: 2.9.0\n",
      "pandas: 1.4.2\n",
      "numpy: 1.22.4\n",
      "sklearn: 1.1.1\n",
      "plotly: 5.9.0\n"
     ]
    }
   ],
   "source": [
    "# Tensorflow / Keras\n",
    "from tensorflow import keras # for building Neural Networks\n",
    "print('Tensorflow/Keras: %s' % keras.__version__) # print version\n",
    "from keras.models import Sequential # for creating a linear stack of layers for our Neural Network\n",
    "from keras import Input # for instantiating a keras tensor\n",
    "from keras.layers import Masking,Bidirectional, LSTM, RepeatVector, Dense, TimeDistributed,MaxPooling1D, Flatten, Conv1D,Conv2D,Dropout, MaxPooling2D # for creating layers inside the Neural Network\n",
    "from keras.optimizers import Adam , SGD\n",
    "# Data manipulation\n",
    "import pandas as pd # for data manipulation\n",
    "print('pandas: %s' % pd.__version__) # print version\n",
    "import numpy as np # for data manipulation\n",
    "print('numpy: %s' % np.__version__) # print version\n",
    "import numpy.ma as ma\n",
    "# Sklearn\n",
    "import sklearn\n",
    "print('sklearn: %s' % sklearn.__version__) # print version\n",
    "from sklearn.preprocessing import MinMaxScaler # for feature scaling\n",
    "from sklearn.model_selection import train_test_split, GridSearchCV\n",
    "from sklearn.metrics import mean_squared_error # for calculating the cost function\n",
    "from sklearn.ensemble import RandomForestRegressor # for building the model\n",
    "# Visualization\n",
    "import plotly \n",
    "import plotly.express as px\n",
    "import plotly.graph_objects as go\n",
    "print('plotly: %s' % plotly.__version__) # print version\n",
    "from matplotlib import pyplot as plt\n",
    "\n",
    "#file accessing\n",
    "import os\n",
    "# time stuff\n",
    "from datetime import timedelta\n",
    "import calendar\n"
   ]
  },
  {
   "cell_type": "code",
   "execution_count": 2,
   "metadata": {},
   "outputs": [
    {
     "name": "stdout",
     "output_type": "stream",
     "text": [
      "Defined the plot_the_model and plot_the_loss_curve functions.\n"
     ]
    }
   ],
   "source": [
    "#@title Define the plotting functions\n",
    "def plot_the_model(trained_weight, trained_bias, feature, label):\n",
    "  \"\"\"Plot the trained model against the training feature and label.\"\"\"\n",
    "\n",
    "  # Label the axes.\n",
    "  plt.xlabel(\"feature\")\n",
    "  plt.ylabel(\"label\")\n",
    "\n",
    "  # Plot the feature values vs. label values.\n",
    "  plt.scatter(feature, label)\n",
    "\n",
    "  # Create a red line representing the model. The red line starts\n",
    "  # at coordinates (x0, y0) and ends at coordinates (x1, y1).\n",
    "  x0 = 0\n",
    "  y0 = trained_bias\n",
    "  x1 = feature[-1]\n",
    "  y1 = trained_bias + (trained_weight * x1)\n",
    "  plt.plot([x0, x1], [y0, y1], c='r')\n",
    "\n",
    "  # Render the scatter plot and the red line.\n",
    "  plt.show()\n",
    "\n",
    "def plot_the_loss_curve(epochs, rmse):\n",
    "  \"\"\"Plot the loss curve, which shows loss vs. epoch.\"\"\"\n",
    "\n",
    "  plt.figure()\n",
    "  plt.xlabel(\"Epoch\")\n",
    "  plt.ylabel(\"Root Mean Squared Error\")\n",
    "  #epochs.remove(max(epochs))\n",
    "  \n",
    "  #rmse.drop(max(rmse))\n",
    "  plt.plot(epochs, rmse, label=\"Loss\")\n",
    "  plt.legend()\n",
    "  plt.ylim([rmse.min()*0.97, rmse.max()])\n",
    "  plt.show()\n",
    "\n",
    "print(\"Defined the plot_the_model and plot_the_loss_curve functions.\")"
   ]
  },
  {
   "cell_type": "markdown",
   "metadata": {},
   "source": [
    "##### Read from file and establish dataframe and future functions"
   ]
  },
  {
   "cell_type": "code",
   "execution_count": 3,
   "metadata": {},
   "outputs": [],
   "source": [
    "df=pd.read_csv('InSAR_data_south/displacement/trainingvalidation.csv')\n",
    "df=df.set_index([df.columns[0],df.columns[1]])\n",
    "df.columns=pd.to_datetime(df.columns, format='%Y-%m-%d')\n",
    "df=df.dropna(axis=0, how='all')#drop full nan rows"
   ]
  },
  {
   "cell_type": "markdown",
   "metadata": {},
   "source": [
    "##### Remove next line to include all data"
   ]
  },
  {
   "cell_type": "code",
   "execution_count": 4,
   "metadata": {},
   "outputs": [
    {
     "data": {
      "text/html": [
       "<div>\n",
       "<style scoped>\n",
       "    .dataframe tbody tr th:only-of-type {\n",
       "        vertical-align: middle;\n",
       "    }\n",
       "\n",
       "    .dataframe tbody tr th {\n",
       "        vertical-align: top;\n",
       "    }\n",
       "\n",
       "    .dataframe thead th {\n",
       "        text-align: right;\n",
       "    }\n",
       "</style>\n",
       "<table border=\"1\" class=\"dataframe\">\n",
       "  <thead>\n",
       "    <tr style=\"text-align: right;\">\n",
       "      <th></th>\n",
       "      <th></th>\n",
       "      <th>2014-11-08</th>\n",
       "      <th>2014-12-02</th>\n",
       "      <th>2014-12-26</th>\n",
       "      <th>2015-02-12</th>\n",
       "      <th>2015-03-08</th>\n",
       "      <th>2015-04-01</th>\n",
       "      <th>2015-04-25</th>\n",
       "      <th>2015-05-19</th>\n",
       "      <th>2015-06-12</th>\n",
       "      <th>2015-07-06</th>\n",
       "      <th>...</th>\n",
       "      <th>2018-10-18</th>\n",
       "      <th>2018-10-30</th>\n",
       "      <th>2018-11-11</th>\n",
       "      <th>2018-11-17</th>\n",
       "      <th>2018-11-23</th>\n",
       "      <th>2018-12-05</th>\n",
       "      <th>2018-12-17</th>\n",
       "      <th>2018-12-29</th>\n",
       "      <th>2019-01-10</th>\n",
       "      <th>2019-01-22</th>\n",
       "    </tr>\n",
       "    <tr>\n",
       "      <th>Longitude</th>\n",
       "      <th>Latitude</th>\n",
       "      <th></th>\n",
       "      <th></th>\n",
       "      <th></th>\n",
       "      <th></th>\n",
       "      <th></th>\n",
       "      <th></th>\n",
       "      <th></th>\n",
       "      <th></th>\n",
       "      <th></th>\n",
       "      <th></th>\n",
       "      <th></th>\n",
       "      <th></th>\n",
       "      <th></th>\n",
       "      <th></th>\n",
       "      <th></th>\n",
       "      <th></th>\n",
       "      <th></th>\n",
       "      <th></th>\n",
       "      <th></th>\n",
       "      <th></th>\n",
       "      <th></th>\n",
       "    </tr>\n",
       "  </thead>\n",
       "  <tbody>\n",
       "    <tr>\n",
       "      <th>-119.5609</th>\n",
       "      <th>36.1672</th>\n",
       "      <td>0.0</td>\n",
       "      <td>-5.35470</td>\n",
       "      <td>-2.365800</td>\n",
       "      <td>-5.38810</td>\n",
       "      <td>-8.0230</td>\n",
       "      <td>-7.35960</td>\n",
       "      <td>-10.658000</td>\n",
       "      <td>-11.5740</td>\n",
       "      <td>-14.73600</td>\n",
       "      <td>-15.653000</td>\n",
       "      <td>...</td>\n",
       "      <td>-51.2880</td>\n",
       "      <td>-52.2000</td>\n",
       "      <td>-51.5510</td>\n",
       "      <td>-50.8460</td>\n",
       "      <td>-52.1710</td>\n",
       "      <td>-51.1730</td>\n",
       "      <td>-51.0260</td>\n",
       "      <td>-51.1030</td>\n",
       "      <td>-53.1130</td>\n",
       "      <td>-53.6540</td>\n",
       "    </tr>\n",
       "    <tr>\n",
       "      <th>-119.5489</th>\n",
       "      <th>36.0072</th>\n",
       "      <td>0.0</td>\n",
       "      <td>-6.98510</td>\n",
       "      <td>-2.425400</td>\n",
       "      <td>-5.59300</td>\n",
       "      <td>-8.2796</td>\n",
       "      <td>-7.10480</td>\n",
       "      <td>-11.352000</td>\n",
       "      <td>-13.1490</td>\n",
       "      <td>-16.28400</td>\n",
       "      <td>-17.528000</td>\n",
       "      <td>...</td>\n",
       "      <td>-80.4520</td>\n",
       "      <td>-81.3120</td>\n",
       "      <td>-81.3700</td>\n",
       "      <td>-81.0500</td>\n",
       "      <td>-82.8020</td>\n",
       "      <td>-81.8950</td>\n",
       "      <td>-80.9560</td>\n",
       "      <td>-82.2640</td>\n",
       "      <td>-83.5630</td>\n",
       "      <td>-83.4070</td>\n",
       "    </tr>\n",
       "    <tr>\n",
       "      <th>-119.5369</th>\n",
       "      <th>36.0472</th>\n",
       "      <td>0.0</td>\n",
       "      <td>-6.52240</td>\n",
       "      <td>-2.652600</td>\n",
       "      <td>-7.67760</td>\n",
       "      <td>-11.1110</td>\n",
       "      <td>-10.59000</td>\n",
       "      <td>-14.676000</td>\n",
       "      <td>-17.0200</td>\n",
       "      <td>-20.39000</td>\n",
       "      <td>-22.219000</td>\n",
       "      <td>...</td>\n",
       "      <td>-82.7120</td>\n",
       "      <td>-83.1190</td>\n",
       "      <td>-82.8720</td>\n",
       "      <td>-82.5070</td>\n",
       "      <td>-84.1300</td>\n",
       "      <td>-83.3090</td>\n",
       "      <td>-83.1980</td>\n",
       "      <td>-83.6720</td>\n",
       "      <td>-84.9170</td>\n",
       "      <td>-84.5300</td>\n",
       "    </tr>\n",
       "    <tr>\n",
       "      <th>-119.5329</th>\n",
       "      <th>36.0152</th>\n",
       "      <td>0.0</td>\n",
       "      <td>-7.31990</td>\n",
       "      <td>-3.102300</td>\n",
       "      <td>-7.01660</td>\n",
       "      <td>-9.4511</td>\n",
       "      <td>-8.87950</td>\n",
       "      <td>-13.596000</td>\n",
       "      <td>-15.7800</td>\n",
       "      <td>-19.31200</td>\n",
       "      <td>-21.342000</td>\n",
       "      <td>...</td>\n",
       "      <td>-92.7010</td>\n",
       "      <td>-93.6410</td>\n",
       "      <td>-93.4770</td>\n",
       "      <td>-93.2590</td>\n",
       "      <td>-94.9470</td>\n",
       "      <td>-94.3050</td>\n",
       "      <td>-93.6450</td>\n",
       "      <td>-94.7880</td>\n",
       "      <td>-96.0660</td>\n",
       "      <td>-96.0170</td>\n",
       "    </tr>\n",
       "    <tr>\n",
       "      <th>-119.5289</th>\n",
       "      <th>35.9512</th>\n",
       "      <td>0.0</td>\n",
       "      <td>-5.69540</td>\n",
       "      <td>-0.297000</td>\n",
       "      <td>-1.17090</td>\n",
       "      <td>-3.5007</td>\n",
       "      <td>-0.99811</td>\n",
       "      <td>-3.422100</td>\n",
       "      <td>-3.9274</td>\n",
       "      <td>-5.57050</td>\n",
       "      <td>-4.514200</td>\n",
       "      <td>...</td>\n",
       "      <td>-31.5990</td>\n",
       "      <td>-31.9420</td>\n",
       "      <td>-31.8580</td>\n",
       "      <td>-31.5220</td>\n",
       "      <td>-32.9980</td>\n",
       "      <td>-32.5920</td>\n",
       "      <td>-31.5850</td>\n",
       "      <td>-32.0960</td>\n",
       "      <td>-33.1620</td>\n",
       "      <td>-32.8450</td>\n",
       "    </tr>\n",
       "    <tr>\n",
       "      <th>...</th>\n",
       "      <th>...</th>\n",
       "      <td>...</td>\n",
       "      <td>...</td>\n",
       "      <td>...</td>\n",
       "      <td>...</td>\n",
       "      <td>...</td>\n",
       "      <td>...</td>\n",
       "      <td>...</td>\n",
       "      <td>...</td>\n",
       "      <td>...</td>\n",
       "      <td>...</td>\n",
       "      <td>...</td>\n",
       "      <td>...</td>\n",
       "      <td>...</td>\n",
       "      <td>...</td>\n",
       "      <td>...</td>\n",
       "      <td>...</td>\n",
       "      <td>...</td>\n",
       "      <td>...</td>\n",
       "      <td>...</td>\n",
       "      <td>...</td>\n",
       "      <td>...</td>\n",
       "    </tr>\n",
       "    <tr>\n",
       "      <th>-118.9351</th>\n",
       "      <th>35.9912</th>\n",
       "      <td>0.0</td>\n",
       "      <td>1.31960</td>\n",
       "      <td>-0.454550</td>\n",
       "      <td>-1.12980</td>\n",
       "      <td>-2.1960</td>\n",
       "      <td>-2.29490</td>\n",
       "      <td>0.732390</td>\n",
       "      <td>-2.6491</td>\n",
       "      <td>-0.57953</td>\n",
       "      <td>-0.463840</td>\n",
       "      <td>...</td>\n",
       "      <td>3.3119</td>\n",
       "      <td>2.4877</td>\n",
       "      <td>3.7906</td>\n",
       "      <td>3.6429</td>\n",
       "      <td>3.8131</td>\n",
       "      <td>2.7015</td>\n",
       "      <td>5.1692</td>\n",
       "      <td>5.8056</td>\n",
       "      <td>3.2722</td>\n",
       "      <td>3.7133</td>\n",
       "    </tr>\n",
       "    <tr>\n",
       "      <th>-118.9331</th>\n",
       "      <th>35.8431</th>\n",
       "      <td>0.0</td>\n",
       "      <td>-0.27523</td>\n",
       "      <td>0.340730</td>\n",
       "      <td>0.11561</td>\n",
       "      <td>-1.8977</td>\n",
       "      <td>-1.72400</td>\n",
       "      <td>1.244300</td>\n",
       "      <td>-2.6508</td>\n",
       "      <td>0.44136</td>\n",
       "      <td>0.072182</td>\n",
       "      <td>...</td>\n",
       "      <td>5.3406</td>\n",
       "      <td>4.6145</td>\n",
       "      <td>5.8431</td>\n",
       "      <td>5.6430</td>\n",
       "      <td>5.8181</td>\n",
       "      <td>5.7786</td>\n",
       "      <td>7.0684</td>\n",
       "      <td>8.0765</td>\n",
       "      <td>5.0210</td>\n",
       "      <td>5.4701</td>\n",
       "    </tr>\n",
       "    <tr>\n",
       "      <th rowspan=\"2\" valign=\"top\">-118.9311</th>\n",
       "      <th>35.6111</th>\n",
       "      <td>0.0</td>\n",
       "      <td>-2.60280</td>\n",
       "      <td>0.000017</td>\n",
       "      <td>0.94402</td>\n",
       "      <td>-2.1042</td>\n",
       "      <td>-1.87170</td>\n",
       "      <td>0.510950</td>\n",
       "      <td>-2.7147</td>\n",
       "      <td>0.42639</td>\n",
       "      <td>0.334300</td>\n",
       "      <td>...</td>\n",
       "      <td>4.6175</td>\n",
       "      <td>4.2846</td>\n",
       "      <td>5.3261</td>\n",
       "      <td>5.0863</td>\n",
       "      <td>5.6278</td>\n",
       "      <td>4.1805</td>\n",
       "      <td>6.4902</td>\n",
       "      <td>7.5899</td>\n",
       "      <td>4.7841</td>\n",
       "      <td>5.1107</td>\n",
       "    </tr>\n",
       "    <tr>\n",
       "      <th>36.0432</th>\n",
       "      <td>0.0</td>\n",
       "      <td>1.67880</td>\n",
       "      <td>-0.808910</td>\n",
       "      <td>-1.57380</td>\n",
       "      <td>-1.4608</td>\n",
       "      <td>-2.81520</td>\n",
       "      <td>0.054982</td>\n",
       "      <td>-2.9420</td>\n",
       "      <td>-1.33580</td>\n",
       "      <td>-1.282900</td>\n",
       "      <td>...</td>\n",
       "      <td>2.8628</td>\n",
       "      <td>1.8351</td>\n",
       "      <td>3.5058</td>\n",
       "      <td>3.3816</td>\n",
       "      <td>3.2020</td>\n",
       "      <td>2.7933</td>\n",
       "      <td>4.2067</td>\n",
       "      <td>4.5700</td>\n",
       "      <td>2.6953</td>\n",
       "      <td>2.8795</td>\n",
       "    </tr>\n",
       "    <tr>\n",
       "      <th>-118.9271</th>\n",
       "      <th>35.7791</th>\n",
       "      <td>0.0</td>\n",
       "      <td>-0.74982</td>\n",
       "      <td>0.704870</td>\n",
       "      <td>0.91393</td>\n",
       "      <td>-2.0152</td>\n",
       "      <td>-1.41990</td>\n",
       "      <td>1.315100</td>\n",
       "      <td>-2.2612</td>\n",
       "      <td>0.90483</td>\n",
       "      <td>0.531310</td>\n",
       "      <td>...</td>\n",
       "      <td>6.6669</td>\n",
       "      <td>6.1738</td>\n",
       "      <td>7.0694</td>\n",
       "      <td>7.0594</td>\n",
       "      <td>7.1988</td>\n",
       "      <td>6.9346</td>\n",
       "      <td>8.5980</td>\n",
       "      <td>9.5428</td>\n",
       "      <td>6.8206</td>\n",
       "      <td>7.1979</td>\n",
       "    </tr>\n",
       "  </tbody>\n",
       "</table>\n",
       "<p>410 rows × 110 columns</p>\n",
       "</div>"
      ],
      "text/plain": [
       "                    2014-11-08  2014-12-02  2014-12-26  2015-02-12  \\\n",
       "Longitude Latitude                                                   \n",
       "-119.5609 36.1672          0.0    -5.35470   -2.365800    -5.38810   \n",
       "-119.5489 36.0072          0.0    -6.98510   -2.425400    -5.59300   \n",
       "-119.5369 36.0472          0.0    -6.52240   -2.652600    -7.67760   \n",
       "-119.5329 36.0152          0.0    -7.31990   -3.102300    -7.01660   \n",
       "-119.5289 35.9512          0.0    -5.69540   -0.297000    -1.17090   \n",
       "...                        ...         ...         ...         ...   \n",
       "-118.9351 35.9912          0.0     1.31960   -0.454550    -1.12980   \n",
       "-118.9331 35.8431          0.0    -0.27523    0.340730     0.11561   \n",
       "-118.9311 35.6111          0.0    -2.60280    0.000017     0.94402   \n",
       "          36.0432          0.0     1.67880   -0.808910    -1.57380   \n",
       "-118.9271 35.7791          0.0    -0.74982    0.704870     0.91393   \n",
       "\n",
       "                    2015-03-08  2015-04-01  2015-04-25  2015-05-19  \\\n",
       "Longitude Latitude                                                   \n",
       "-119.5609 36.1672      -8.0230    -7.35960  -10.658000    -11.5740   \n",
       "-119.5489 36.0072      -8.2796    -7.10480  -11.352000    -13.1490   \n",
       "-119.5369 36.0472     -11.1110   -10.59000  -14.676000    -17.0200   \n",
       "-119.5329 36.0152      -9.4511    -8.87950  -13.596000    -15.7800   \n",
       "-119.5289 35.9512      -3.5007    -0.99811   -3.422100     -3.9274   \n",
       "...                        ...         ...         ...         ...   \n",
       "-118.9351 35.9912      -2.1960    -2.29490    0.732390     -2.6491   \n",
       "-118.9331 35.8431      -1.8977    -1.72400    1.244300     -2.6508   \n",
       "-118.9311 35.6111      -2.1042    -1.87170    0.510950     -2.7147   \n",
       "          36.0432      -1.4608    -2.81520    0.054982     -2.9420   \n",
       "-118.9271 35.7791      -2.0152    -1.41990    1.315100     -2.2612   \n",
       "\n",
       "                    2015-06-12  2015-07-06  ...  2018-10-18  2018-10-30  \\\n",
       "Longitude Latitude                          ...                           \n",
       "-119.5609 36.1672    -14.73600  -15.653000  ...    -51.2880    -52.2000   \n",
       "-119.5489 36.0072    -16.28400  -17.528000  ...    -80.4520    -81.3120   \n",
       "-119.5369 36.0472    -20.39000  -22.219000  ...    -82.7120    -83.1190   \n",
       "-119.5329 36.0152    -19.31200  -21.342000  ...    -92.7010    -93.6410   \n",
       "-119.5289 35.9512     -5.57050   -4.514200  ...    -31.5990    -31.9420   \n",
       "...                        ...         ...  ...         ...         ...   \n",
       "-118.9351 35.9912     -0.57953   -0.463840  ...      3.3119      2.4877   \n",
       "-118.9331 35.8431      0.44136    0.072182  ...      5.3406      4.6145   \n",
       "-118.9311 35.6111      0.42639    0.334300  ...      4.6175      4.2846   \n",
       "          36.0432     -1.33580   -1.282900  ...      2.8628      1.8351   \n",
       "-118.9271 35.7791      0.90483    0.531310  ...      6.6669      6.1738   \n",
       "\n",
       "                    2018-11-11  2018-11-17  2018-11-23  2018-12-05  \\\n",
       "Longitude Latitude                                                   \n",
       "-119.5609 36.1672     -51.5510    -50.8460    -52.1710    -51.1730   \n",
       "-119.5489 36.0072     -81.3700    -81.0500    -82.8020    -81.8950   \n",
       "-119.5369 36.0472     -82.8720    -82.5070    -84.1300    -83.3090   \n",
       "-119.5329 36.0152     -93.4770    -93.2590    -94.9470    -94.3050   \n",
       "-119.5289 35.9512     -31.8580    -31.5220    -32.9980    -32.5920   \n",
       "...                        ...         ...         ...         ...   \n",
       "-118.9351 35.9912       3.7906      3.6429      3.8131      2.7015   \n",
       "-118.9331 35.8431       5.8431      5.6430      5.8181      5.7786   \n",
       "-118.9311 35.6111       5.3261      5.0863      5.6278      4.1805   \n",
       "          36.0432       3.5058      3.3816      3.2020      2.7933   \n",
       "-118.9271 35.7791       7.0694      7.0594      7.1988      6.9346   \n",
       "\n",
       "                    2018-12-17  2018-12-29  2019-01-10  2019-01-22  \n",
       "Longitude Latitude                                                  \n",
       "-119.5609 36.1672     -51.0260    -51.1030    -53.1130    -53.6540  \n",
       "-119.5489 36.0072     -80.9560    -82.2640    -83.5630    -83.4070  \n",
       "-119.5369 36.0472     -83.1980    -83.6720    -84.9170    -84.5300  \n",
       "-119.5329 36.0152     -93.6450    -94.7880    -96.0660    -96.0170  \n",
       "-119.5289 35.9512     -31.5850    -32.0960    -33.1620    -32.8450  \n",
       "...                        ...         ...         ...         ...  \n",
       "-118.9351 35.9912       5.1692      5.8056      3.2722      3.7133  \n",
       "-118.9331 35.8431       7.0684      8.0765      5.0210      5.4701  \n",
       "-118.9311 35.6111       6.4902      7.5899      4.7841      5.1107  \n",
       "          36.0432       4.2067      4.5700      2.6953      2.8795  \n",
       "-118.9271 35.7791       8.5980      9.5428      6.8206      7.1979  \n",
       "\n",
       "[410 rows x 110 columns]"
      ]
     },
     "execution_count": 4,
     "metadata": {},
     "output_type": "execute_result"
    }
   ],
   "source": [
    "#df=df.iloc[500000:510000] #cuts data to long 120-119 approx\n",
    "df"
   ]
  },
  {
   "cell_type": "markdown",
   "metadata": {},
   "source": [
    "# Timestep"
   ]
  },
  {
   "cell_type": "code",
   "execution_count": 5,
   "metadata": {},
   "outputs": [],
   "source": [
    "timestep=10"
   ]
  },
  {
   "cell_type": "markdown",
   "metadata": {},
   "source": [
    "# Shaping function (remove start and step for first for loop to include all data)"
   ]
  },
  {
   "cell_type": "code",
   "execution_count": 6,
   "metadata": {},
   "outputs": [],
   "source": [
    "def shaping(datain, timestep):\n",
    "    #print(arr)\n",
    "    cnt=0\n",
    "    for row in range(len(datain.index)): #picks a row at every iteration, allows to reduction of input and inclusion of multiple time series, remove start and step to run on full dataset \n",
    "    # Convert input dataframe to array and flatten\n",
    "        #datain.iloc[row].fillna(datain.iloc[row].mean).to_numpy().flatten()\n",
    "        arr=datain.iloc[row].interpolate().to_numpy().flatten() # flatten row\n",
    "        #arr=arr.fillna(arr.mean)\n",
    "        #arr=np.where(np.isnan(arr), ma.array(arr, mask=np.isnan(arr)).mean(), arr) \n",
    "        for mth in range(0, len(datain.columns)-(2*timestep)+1): # Define range lenght of the dates - 2* amount of timesep?? +1\n",
    "            cnt=cnt+1 # Gives us the number of samples. Later used to reshape the data\n",
    "            X_start=mth # Start month for inputs of each sample\n",
    "            X_end=mth+timestep # End month for inputs of each sample\n",
    "            Y_start=mth+timestep # Start month for targets of each sample. Note, start is inclusive and end is exclusive, that's why X_end and Y_start is the same number\n",
    "            Y_end=mth+2*timestep # End month for targets of each sample.  \n",
    "            \n",
    "            # Assemble input and target arrays containing all samples\n",
    "            if cnt==1:\n",
    "                X_comb=arr[X_start:X_end]\n",
    "                Y_comb=arr[Y_start:Y_end]\n",
    "            else: \n",
    "                X_comb=np.append(X_comb, arr[X_start:X_end])\n",
    "                Y_comb=np.append(Y_comb, arr[Y_start:Y_end])\n",
    "    # Reshape input and target arrays\n",
    "    X_out=np.reshape(X_comb, (cnt, timestep, 1))\n",
    "    Y_out=np.reshape(Y_comb, (cnt, timestep, 1))\n",
    "    return X_out, Y_out"
   ]
  },
  {
   "cell_type": "markdown",
   "metadata": {},
   "source": [
    "##### Step 2 - Split and Shape data"
   ]
  },
  {
   "cell_type": "code",
   "execution_count": 7,
   "metadata": {},
   "outputs": [
    {
     "name": "stdout",
     "output_type": "stream",
     "text": [
      "(15470, 10, 1)\n",
      "(15470, 10)\n"
     ]
    }
   ],
   "source": [
    "test=pd.read_csv('InSAR_data_south/displacement/testset170.csv')\n",
    "test=test.set_index([test.columns[0],test.columns[1]])\n",
    "test.columns=pd.to_datetime(test.columns, format='%Y-%m-%d')\n",
    "test=test.dropna(axis=0, how='all')#drop full nan rows\n",
    "#train, test = train_test_split(df, test_size=0.2)\n",
    "# creates sequences to train\n",
    "#Need to decide on how to deal with rows with nans in them\n",
    "X_train , Y_train = shaping(datain=df, timestep= timestep )\n",
    "X_test, Y_test=shaping(test,10)\n",
    "print(Y_test.shape)\n",
    "\n",
    "nsamples, nx, ny = X_train.shape\n",
    "X_train = X_train.reshape((nsamples,nx*ny))\n",
    "nsamples, nx, ny = Y_train.shape\n",
    "Y_train = Y_train.reshape((nsamples,nx*ny))\n",
    "nsamples, nx, ny = X_test.shape\n",
    "X_test = X_test.reshape((nsamples,nx*ny))\n",
    "nsamples, nx, ny = Y_test.shape\n",
    "Y_test = Y_test.reshape((nsamples,nx*ny))\n",
    "print(Y_test.shape)"
   ]
  },
  {
   "cell_type": "markdown",
   "metadata": {},
   "source": [
    "##### Step 3 - Specify the structure of a Neural Network, first model"
   ]
  },
  {
   "cell_type": "code",
   "execution_count": 8,
   "metadata": {},
   "outputs": [
    {
     "data": {
      "text/plain": [
       "[<matplotlib.lines.Line2D at 0x1aac1a20280>]"
      ]
     },
     "execution_count": 8,
     "metadata": {},
     "output_type": "execute_result"
    },
    {
     "data": {
      "image/png": "[encoded data removed]",
      "text/plain": [
       "<Figure size 432x288 with 1 Axes>"
      ]
     },
     "metadata": {
      "needs_background": "light"
     },
     "output_type": "display_data"
    }
   ],
   "source": [
    "# set model\n",
    "model = RandomForestRegressor(n_jobs = -1, random_state = 64)\n",
    "estimators = np.arange(10, 200, 10)\n",
    "scores = []\n",
    "for n in estimators:\n",
    "    model.set_params(n_estimators=n)\n",
    "    model.fit(X_train, Y_train)\n",
    "    scores.append(model.score(X_test, Y_test))\n",
    "plt.title(\"Effect of n_estimators\")\n",
    "plt.xlabel(\"n_estimator\")\n",
    "plt.ylabel(\"score\")\n",
    "plt.plot(estimators, scores)\n",
    "\n"
   ]
  },
  {
   "cell_type": "code",
   "execution_count": 9,
   "metadata": {},
   "outputs": [
    {
     "data": {
      "text/plain": [
       "array([[ 0.     , -7.2827 ,  1.7623 , ...,  2.4962 ,  0.98722,  2.4338 ],\n",
       "       [-7.2827 ,  1.7623 ,  3.4042 , ...,  0.98722,  2.4338 ,  0.91733],\n",
       "       [ 1.7623 ,  3.4042 , -0.12604, ...,  2.4338 ,  0.91733,  1.2025 ],\n",
       "       ...,\n",
       "       [ 2.9871 ,  2.9559 ,  2.4582 , ...,  2.551  ,  2.7136 ,  2.9668 ],\n",
       "       [ 2.9559 ,  2.4582 ,  3.3708 , ...,  2.7136 ,  2.9668 ,  3.4686 ],\n",
       "       [ 2.4582 ,  3.3708 ,  2.9002 , ...,  2.9668 ,  3.4686 ,  3.2524 ]])"
      ]
     },
     "execution_count": 9,
     "metadata": {},
     "output_type": "execute_result"
    }
   ],
   "source": [
    "pred_test=model.predict(X_test)\n",
    "\n",
    "# pred_test = scaler2.inverse_transform(pred_test.reshape(-1, pred_test.shape[-1])).reshape(pred_test.shape)\n",
    "y=pred_test.flatten()\n",
    "z=[]\n",
    "for x in range(910*95,910*96,10): #predictioon\n",
    "    z.append(y[x])\n",
    "z\n",
    "b=Y_test.flatten() #Y test should match prediction\n",
    "c=[] #wtf is this\n",
    "for x in range(910*95,910*96,10):\n",
    "    c.append(b[x])\n",
    "y.size\n",
    "X_test\n"
   ]
  },
  {
   "cell_type": "code",
   "execution_count": 10,
   "metadata": {},
   "outputs": [
    {
     "data": {
      "application/vnd.plotly.v1+json": {
       "config": {
        "plotlyServerURL": "https://plot.ly"
       },
       "data": [
        {
         "line": {
          "color": "grey",
          "width": 1
         },
         "mode": "lines",
         "name": "Subsidence - Actual (YTest)",
         "opacity": 0.8,
         "type": "scatter",
         "x": [
          "2015-07-30T00:00:00.000000000",
          "2015-08-23T00:00:00.000000000",
          "2015-09-16T00:00:00.000000000",
          "2015-10-10T00:00:00.000000000",
          "2015-11-03T00:00:00.000000000",
          "2015-11-27T00:00:00.000000000",
          "2015-12-09T00:00:00.000000000",
          "2015-12-21T00:00:00.000000000",
          "2016-01-14T00:00:00.000000000",
          "2016-01-26T00:00:00.000000000",
          "2016-02-07T00:00:00.000000000",
          "2016-02-19T00:00:00.000000000",
          "2016-03-02T00:00:00.000000000",
          "2016-03-14T00:00:00.000000000",
          "2016-03-26T00:00:00.000000000",
          "2016-04-07T00:00:00.000000000",
          "2016-04-19T00:00:00.000000000",
          "2016-05-01T00:00:00.000000000",
          "2016-05-13T00:00:00.000000000",
          "2016-05-25T00:00:00.000000000",
          "2016-06-06T00:00:00.000000000",
          "2016-06-30T00:00:00.000000000",
          "2016-07-24T00:00:00.000000000",
          "2016-08-17T00:00:00.000000000",
          "2016-09-10T00:00:00.000000000",
          "2016-09-22T00:00:00.000000000",
          "2016-10-04T00:00:00.000000000",
          "2016-10-16T00:00:00.000000000",
          "2016-10-28T00:00:00.000000000",
          "2016-11-09T00:00:00.000000000",
          "2016-11-21T00:00:00.000000000",
          "2016-12-03T00:00:00.000000000",
          "2016-12-15T00:00:00.000000000",
          "2016-12-27T00:00:00.000000000",
          "2017-01-08T00:00:00.000000000",
          "2017-01-14T00:00:00.000000000",
          "2017-01-20T00:00:00.000000000",
          "2017-01-26T00:00:00.000000000",
          "2017-02-01T00:00:00.000000000",
          "2017-02-13T00:00:00.000000000",
          "2017-02-25T00:00:00.000000000",
          "2017-03-09T00:00:00.000000000",
          "2017-03-21T00:00:00.000000000",
          "2017-04-02T00:00:00.000000000",
          "2017-04-14T00:00:00.000000000",
          "2017-04-26T00:00:00.000000000",
          "2017-05-08T00:00:00.000000000",
          "2017-05-20T00:00:00.000000000",
          "2017-06-01T00:00:00.000000000",
          "2017-06-13T00:00:00.000000000",
          "2017-06-25T00:00:00.000000000",
          "2017-07-07T00:00:00.000000000",
          "2017-07-19T00:00:00.000000000",
          "2017-07-31T00:00:00.000000000",
          "2017-08-12T00:00:00.000000000",
          "2017-08-24T00:00:00.000000000",
          "2017-09-05T00:00:00.000000000",
          "2017-09-17T00:00:00.000000000",
          "2017-09-29T00:00:00.000000000",
          "2017-10-11T00:00:00.000000000",
          "2017-10-23T00:00:00.000000000",
          "2017-11-04T00:00:00.000000000",
          "2017-11-16T00:00:00.000000000",
          "2017-11-28T00:00:00.000000000",
          "2017-12-10T00:00:00.000000000",
          "2017-12-22T00:00:00.000000000",
          "2018-01-03T00:00:00.000000000",
          "2018-01-15T00:00:00.000000000",
          "2018-01-27T00:00:00.000000000",
          "2018-02-08T00:00:00.000000000",
          "2018-02-20T00:00:00.000000000",
          "2018-03-04T00:00:00.000000000",
          "2018-03-16T00:00:00.000000000",
          "2018-03-28T00:00:00.000000000",
          "2018-04-09T00:00:00.000000000",
          "2018-04-21T00:00:00.000000000",
          "2018-05-03T00:00:00.000000000",
          "2018-05-15T00:00:00.000000000",
          "2018-05-27T00:00:00.000000000",
          "2018-06-08T00:00:00.000000000",
          "2018-06-20T00:00:00.000000000",
          "2018-07-02T00:00:00.000000000",
          "2018-07-14T00:00:00.000000000",
          "2018-07-26T00:00:00.000000000",
          "2018-08-07T00:00:00.000000000",
          "2018-08-19T00:00:00.000000000",
          "2018-08-31T00:00:00.000000000",
          "2018-09-12T00:00:00.000000000",
          "2018-09-24T00:00:00.000000000",
          "2018-10-06T00:00:00.000000000",
          "2018-10-18T00:00:00.000000000",
          "2018-10-30T00:00:00.000000000",
          "2018-11-11T00:00:00.000000000",
          "2018-11-17T00:00:00.000000000",
          "2018-11-23T00:00:00.000000000",
          "2018-12-05T00:00:00.000000000",
          "2018-12-17T00:00:00.000000000",
          "2018-12-29T00:00:00.000000000",
          "2019-01-10T00:00:00.000000000",
          "2019-01-22T00:00:00.000000000"
         ],
         "y": [
          0.81931,
          1.193,
          0.45918,
          0.90713,
          0.35519,
          0.665,
          0.55189,
          0.18997,
          0.68063,
          0.64881,
          0.54099,
          0.9959,
          0.52315,
          0.047612,
          0.69614,
          1.5524,
          0.38875,
          0.56079,
          1.1604,
          0.77496,
          2.3455,
          1.1463,
          1.392,
          0.84732,
          1.0196,
          0.81954,
          0.79047,
          0.94528,
          1.1293,
          0.64376,
          0.74534,
          0.51077,
          1.0451,
          1.0755,
          0.98327,
          0.71059,
          0.65041,
          0.91102,
          1.0649,
          0.80093,
          0.65888,
          0.69866,
          0.85221,
          0.81044,
          1.2727,
          0.96765,
          1.1816,
          1.2106,
          1.7792,
          1.076,
          2.2766,
          1.5063,
          1.4057,
          2.1472,
          0.82685,
          1.4579,
          2.4128,
          1.6781,
          1.1411,
          0.35672,
          0.91664,
          0.83424,
          0.18816,
          0.72377,
          1.0928,
          0.84574,
          0.9316,
          0.72424,
          1.6475,
          0.90543,
          1.0934,
          1.1081,
          0.35582,
          0.9107,
          0.52485,
          0.90082,
          0.8488,
          0.63463,
          1.492,
          1.8595,
          0.96523,
          2.2302,
          1.5158,
          1.4969999999999999,
          1.4782,
          1.6176,
          1.2346,
          1.1408,
          1.836,
          1.8314,
          0.93919
         ]
        },
        {
         "line": {
          "color": "red",
          "width": 1
         },
         "mode": "lines",
         "name": "Subsidence - Predicted ",
         "opacity": 0.8,
         "type": "scatter",
         "x": [
          "2015-07-30T00:00:00.000000000",
          "2015-08-23T00:00:00.000000000",
          "2015-09-16T00:00:00.000000000",
          "2015-10-10T00:00:00.000000000",
          "2015-11-03T00:00:00.000000000",
          "2015-11-27T00:00:00.000000000",
          "2015-12-09T00:00:00.000000000",
          "2015-12-21T00:00:00.000000000",
          "2016-01-14T00:00:00.000000000",
          "2016-01-26T00:00:00.000000000",
          "2016-02-07T00:00:00.000000000",
          "2016-02-19T00:00:00.000000000",
          "2016-03-02T00:00:00.000000000",
          "2016-03-14T00:00:00.000000000",
          "2016-03-26T00:00:00.000000000",
          "2016-04-07T00:00:00.000000000",
          "2016-04-19T00:00:00.000000000",
          "2016-05-01T00:00:00.000000000",
          "2016-05-13T00:00:00.000000000",
          "2016-05-25T00:00:00.000000000",
          "2016-06-06T00:00:00.000000000",
          "2016-06-30T00:00:00.000000000",
          "2016-07-24T00:00:00.000000000",
          "2016-08-17T00:00:00.000000000",
          "2016-09-10T00:00:00.000000000",
          "2016-09-22T00:00:00.000000000",
          "2016-10-04T00:00:00.000000000",
          "2016-10-16T00:00:00.000000000",
          "2016-10-28T00:00:00.000000000",
          "2016-11-09T00:00:00.000000000",
          "2016-11-21T00:00:00.000000000",
          "2016-12-03T00:00:00.000000000",
          "2016-12-15T00:00:00.000000000",
          "2016-12-27T00:00:00.000000000",
          "2017-01-08T00:00:00.000000000",
          "2017-01-14T00:00:00.000000000",
          "2017-01-20T00:00:00.000000000",
          "2017-01-26T00:00:00.000000000",
          "2017-02-01T00:00:00.000000000",
          "2017-02-13T00:00:00.000000000",
          "2017-02-25T00:00:00.000000000",
          "2017-03-09T00:00:00.000000000",
          "2017-03-21T00:00:00.000000000",
          "2017-04-02T00:00:00.000000000",
          "2017-04-14T00:00:00.000000000",
          "2017-04-26T00:00:00.000000000",
          "2017-05-08T00:00:00.000000000",
          "2017-05-20T00:00:00.000000000",
          "2017-06-01T00:00:00.000000000",
          "2017-06-13T00:00:00.000000000",
          "2017-06-25T00:00:00.000000000",
          "2017-07-07T00:00:00.000000000",
          "2017-07-19T00:00:00.000000000",
          "2017-07-31T00:00:00.000000000",
          "2017-08-12T00:00:00.000000000",
          "2017-08-24T00:00:00.000000000",
          "2017-09-05T00:00:00.000000000",
          "2017-09-17T00:00:00.000000000",
          "2017-09-29T00:00:00.000000000",
          "2017-10-11T00:00:00.000000000",
          "2017-10-23T00:00:00.000000000",
          "2017-11-04T00:00:00.000000000",
          "2017-11-16T00:00:00.000000000",
          "2017-11-28T00:00:00.000000000",
          "2017-12-10T00:00:00.000000000",
          "2017-12-22T00:00:00.000000000",
          "2018-01-03T00:00:00.000000000",
          "2018-01-15T00:00:00.000000000",
          "2018-01-27T00:00:00.000000000",
          "2018-02-08T00:00:00.000000000",
          "2018-02-20T00:00:00.000000000",
          "2018-03-04T00:00:00.000000000",
          "2018-03-16T00:00:00.000000000",
          "2018-03-28T00:00:00.000000000",
          "2018-04-09T00:00:00.000000000",
          "2018-04-21T00:00:00.000000000",
          "2018-05-03T00:00:00.000000000",
          "2018-05-15T00:00:00.000000000",
          "2018-05-27T00:00:00.000000000",
          "2018-06-08T00:00:00.000000000",
          "2018-06-20T00:00:00.000000000",
          "2018-07-02T00:00:00.000000000",
          "2018-07-14T00:00:00.000000000",
          "2018-07-26T00:00:00.000000000",
          "2018-08-07T00:00:00.000000000",
          "2018-08-19T00:00:00.000000000",
          "2018-08-31T00:00:00.000000000",
          "2018-09-12T00:00:00.000000000",
          "2018-09-24T00:00:00.000000000",
          "2018-10-06T00:00:00.000000000",
          "2018-10-18T00:00:00.000000000",
          "2018-10-30T00:00:00.000000000",
          "2018-11-11T00:00:00.000000000",
          "2018-11-17T00:00:00.000000000",
          "2018-11-23T00:00:00.000000000",
          "2018-12-05T00:00:00.000000000",
          "2018-12-17T00:00:00.000000000",
          "2018-12-29T00:00:00.000000000",
          "2019-01-10T00:00:00.000000000",
          "2019-01-22T00:00:00.000000000"
         ],
         "y": [
          0.5577780631578941,
          0.5372501342105264,
          0.6868459684210525,
          0.38647524736842126,
          0.630900747368421,
          0.5489095210526314,
          0.6890105773684209,
          0.6741161394736839,
          0.5713828973684207,
          0.7183061578947367,
          0.6926889842105263,
          0.677278684210526,
          0.504182384210526,
          0.7964791131578944,
          0.5701715552631579,
          0.3162578763157896,
          0.8723266578947373,
          0.6388042526315787,
          0.8642578263157892,
          0.8975809947368422,
          1.143068421052632,
          0.8862321821052637,
          0.5641857999999998,
          1.4383435157894733,
          0.9087650157894736,
          1.0075425210526305,
          0.77534814,
          0.9649480736842108,
          1.1986166,
          1.1183653210526314,
          0.7886161157894734,
          0.690336442105263,
          0.7527406473684215,
          0.7355533931578945,
          0.7779329189473684,
          0.9770284842105261,
          0.7514868789473682,
          0.7336068052631582,
          0.6950178421052627,
          0.8296433157894734,
          0.8449471052631584,
          0.8709624473684217,
          0.7913071578947373,
          0.7052146631578945,
          0.7732753157894733,
          0.8835700526315791,
          0.9010062210526321,
          1.0538170473684205,
          1.0047367368421047,
          1.2258023263157887,
          0.9927877852631575,
          1.505825157894736,
          1.0298915505263155,
          1.6233662263157895,
          1.5481752347368423,
          1.2018243684210526,
          1.4453666842105268,
          1.6916589610526311,
          1.8301346273684216,
          1.4614975421052636,
          1.0780537236842112,
          1.3834842105263172,
          1.4047560789473679,
          1.1425386578947379,
          1.2148340210526318,
          1.2561277842105267,
          1.0704651210526313,
          0.6845747557894731,
          0.6949665421052633,
          0.5523383210526321,
          0.675131763157895,
          1.2151338999999988,
          0.8500491421052628,
          0.9328528631578952,
          1.0366573926315792,
          0.9845005552631589,
          0.8782272684210529,
          0.6857311631578948,
          0.7587432684210524,
          0.638637097894737,
          1.032729609473684,
          1.1286461168421043,
          1.489853436842105,
          0.9861964736842099,
          1.5068424736842099,
          1.3300251031578956,
          1.2956373052631573,
          1.500943315789473,
          1.1194635315789474,
          1.6959016273684213,
          1.755200704210527
         ]
        }
       ],
       "layout": {
        "legend": {
         "orientation": "h",
         "x": 1,
         "xanchor": "right",
         "y": 1.02,
         "yanchor": "bottom"
        },
        "plot_bgcolor": "white",
        "template": {
         "data": {
          "bar": [
           {
            "error_x": {
             "color": "#2a3f5f"
            },
            "error_y": {
             "color": "#2a3f5f"
            },
            "marker": {
             "line": {
              "color": "#E5ECF6",
              "width": 0.5
             },
             "pattern": {
              "fillmode": "overlay",
              "size": 10,
              "solidity": 0.2
             }
            },
            "type": "bar"
           }
          ],
          "barpolar": [
           {
            "marker": {
             "line": {
              "color": "#E5ECF6",
              "width": 0.5
             },
             "pattern": {
              "fillmode": "overlay",
              "size": 10,
              "solidity": 0.2
             }
            },
            "type": "barpolar"
           }
          ],
          "carpet": [
           {
            "aaxis": {
             "endlinecolor": "#2a3f5f",
             "gridcolor": "white",
             "linecolor": "white",
             "minorgridcolor": "white",
             "startlinecolor": "#2a3f5f"
            },
            "baxis": {
             "endlinecolor": "#2a3f5f",
             "gridcolor": "white",
             "linecolor": "white",
             "minorgridcolor": "white",
             "startlinecolor": "#2a3f5f"
            },
            "type": "carpet"
           }
          ],
          "choropleth": [
           {
            "colorbar": {
             "outlinewidth": 0,
             "ticks": ""
            },
            "type": "choropleth"
           }
          ],
          "contour": [
           {
            "colorbar": {
             "outlinewidth": 0,
             "ticks": ""
            },
            "colorscale": [
             [
              0,
              "#0d0887"
             ],
             [
              0.1111111111111111,
              "#46039f"
             ],
             [
              0.2222222222222222,
              "#7201a8"
             ],
             [
              0.3333333333333333,
              "#9c179e"
             ],
             [
              0.4444444444444444,
              "#bd3786"
             ],
             [
              0.5555555555555556,
              "#d8576b"
             ],
             [
              0.6666666666666666,
              "#ed7953"
             ],
             [
              0.7777777777777778,
              "#fb9f3a"
             ],
             [
              0.8888888888888888,
              "#fdca26"
             ],
             [
              1,
              "#f0f921"
             ]
            ],
            "type": "contour"
           }
          ],
          "contourcarpet": [
           {
            "colorbar": {
             "outlinewidth": 0,
             "ticks": ""
            },
            "type": "contourcarpet"
           }
          ],
          "heatmap": [
           {
            "colorbar": {
             "outlinewidth": 0,
             "ticks": ""
            },
            "colorscale": [
             [
              0,
              "#0d0887"
             ],
             [
              0.1111111111111111,
              "#46039f"
             ],
             [
              0.2222222222222222,
              "#7201a8"
             ],
             [
              0.3333333333333333,
              "#9c179e"
             ],
             [
              0.4444444444444444,
              "#bd3786"
             ],
             [
              0.5555555555555556,
              "#d8576b"
             ],
             [
              0.6666666666666666,
              "#ed7953"
             ],
             [
              0.7777777777777778,
              "#fb9f3a"
             ],
             [
              0.8888888888888888,
              "#fdca26"
             ],
             [
              1,
              "#f0f921"
             ]
            ],
            "type": "heatmap"
           }
          ],
          "heatmapgl": [
           {
            "colorbar": {
             "outlinewidth": 0,
             "ticks": ""
            },
            "colorscale": [
             [
              0,
              "#0d0887"
             ],
             [
              0.1111111111111111,
              "#46039f"
             ],
             [
              0.2222222222222222,
              "#7201a8"
             ],
             [
              0.3333333333333333,
              "#9c179e"
             ],
             [
              0.4444444444444444,
              "#bd3786"
             ],
             [
              0.5555555555555556,
              "#d8576b"
             ],
             [
              0.6666666666666666,
              "#ed7953"
             ],
             [
              0.7777777777777778,
              "#fb9f3a"
             ],
             [
              0.8888888888888888,
              "#fdca26"
             ],
             [
              1,
              "#f0f921"
             ]
            ],
            "type": "heatmapgl"
           }
          ],
          "histogram": [
           {
            "marker": {
             "pattern": {
              "fillmode": "overlay",
              "size": 10,
              "solidity": 0.2
             }
            },
            "type": "histogram"
           }
          ],
          "histogram2d": [
           {
            "colorbar": {
             "outlinewidth": 0,
             "ticks": ""
            },
            "colorscale": [
             [
              0,
              "#0d0887"
             ],
             [
              0.1111111111111111,
              "#46039f"
             ],
             [
              0.2222222222222222,
              "#7201a8"
             ],
             [
              0.3333333333333333,
              "#9c179e"
             ],
             [
              0.4444444444444444,
              "#bd3786"
             ],
             [
              0.5555555555555556,
              "#d8576b"
             ],
             [
              0.6666666666666666,
              "#ed7953"
             ],
             [
              0.7777777777777778,
              "#fb9f3a"
             ],
             [
              0.8888888888888888,
              "#fdca26"
             ],
             [
              1,
              "#f0f921"
             ]
            ],
            "type": "histogram2d"
           }
          ],
          "histogram2dcontour": [
           {
            "colorbar": {
             "outlinewidth": 0,
             "ticks": ""
            },
            "colorscale": [
             [
              0,
              "#0d0887"
             ],
             [
              0.1111111111111111,
              "#46039f"
             ],
             [
              0.2222222222222222,
              "#7201a8"
             ],
             [
              0.3333333333333333,
              "#9c179e"
             ],
             [
              0.4444444444444444,
              "#bd3786"
             ],
             [
              0.5555555555555556,
              "#d8576b"
             ],
             [
              0.6666666666666666,
              "#ed7953"
             ],
             [
              0.7777777777777778,
              "#fb9f3a"
             ],
             [
              0.8888888888888888,
              "#fdca26"
             ],
             [
              1,
              "#f0f921"
             ]
            ],
            "type": "histogram2dcontour"
           }
          ],
          "mesh3d": [
           {
            "colorbar": {
             "outlinewidth": 0,
             "ticks": ""
            },
            "type": "mesh3d"
           }
          ],
          "parcoords": [
           {
            "line": {
             "colorbar": {
              "outlinewidth": 0,
              "ticks": ""
             }
            },
            "type": "parcoords"
           }
          ],
          "pie": [
           {
            "automargin": true,
            "type": "pie"
           }
          ],
          "scatter": [
           {
            "fillpattern": {
             "fillmode": "overlay",
             "size": 10,
             "solidity": 0.2
            },
            "type": "scatter"
           }
          ],
          "scatter3d": [
           {
            "line": {
             "colorbar": {
              "outlinewidth": 0,
              "ticks": ""
             }
            },
            "marker": {
             "colorbar": {
              "outlinewidth": 0,
              "ticks": ""
             }
            },
            "type": "scatter3d"
           }
          ],
          "scattercarpet": [
           {
            "marker": {
             "colorbar": {
              "outlinewidth": 0,
              "ticks": ""
             }
            },
            "type": "scattercarpet"
           }
          ],
          "scattergeo": [
           {
            "marker": {
             "colorbar": {
              "outlinewidth": 0,
              "ticks": ""
             }
            },
            "type": "scattergeo"
           }
          ],
          "scattergl": [
           {
            "marker": {
             "colorbar": {
              "outlinewidth": 0,
              "ticks": ""
             }
            },
            "type": "scattergl"
           }
          ],
          "scattermapbox": [
           {
            "marker": {
             "colorbar": {
              "outlinewidth": 0,
              "ticks": ""
             }
            },
            "type": "scattermapbox"
           }
          ],
          "scatterpolar": [
           {
            "marker": {
             "colorbar": {
              "outlinewidth": 0,
              "ticks": ""
             }
            },
            "type": "scatterpolar"
           }
          ],
          "scatterpolargl": [
           {
            "marker": {
             "colorbar": {
              "outlinewidth": 0,
              "ticks": ""
             }
            },
            "type": "scatterpolargl"
           }
          ],
          "scatterternary": [
           {
            "marker": {
             "colorbar": {
              "outlinewidth": 0,
              "ticks": ""
             }
            },
            "type": "scatterternary"
           }
          ],
          "surface": [
           {
            "colorbar": {
             "outlinewidth": 0,
             "ticks": ""
            },
            "colorscale": [
             [
              0,
              "#0d0887"
             ],
             [
              0.1111111111111111,
              "#46039f"
             ],
             [
              0.2222222222222222,
              "#7201a8"
             ],
             [
              0.3333333333333333,
              "#9c179e"
             ],
             [
              0.4444444444444444,
              "#bd3786"
             ],
             [
              0.5555555555555556,
              "#d8576b"
             ],
             [
              0.6666666666666666,
              "#ed7953"
             ],
             [
              0.7777777777777778,
              "#fb9f3a"
             ],
             [
              0.8888888888888888,
              "#fdca26"
             ],
             [
              1,
              "#f0f921"
             ]
            ],
            "type": "surface"
           }
          ],
          "table": [
           {
            "cells": {
             "fill": {
              "color": "#EBF0F8"
             },
             "line": {
              "color": "white"
             }
            },
            "header": {
             "fill": {
              "color": "#C8D4E3"
             },
             "line": {
              "color": "white"
             }
            },
            "type": "table"
           }
          ]
         },
         "layout": {
          "annotationdefaults": {
           "arrowcolor": "#2a3f5f",
           "arrowhead": 0,
           "arrowwidth": 1
          },
          "autotypenumbers": "strict",
          "coloraxis": {
           "colorbar": {
            "outlinewidth": 0,
            "ticks": ""
           }
          },
          "colorscale": {
           "diverging": [
            [
             0,
             "#8e0152"
            ],
            [
             0.1,
             "#c51b7d"
            ],
            [
             0.2,
             "#de77ae"
            ],
            [
             0.3,
             "#f1b6da"
            ],
            [
             0.4,
             "#fde0ef"
            ],
            [
             0.5,
             "#f7f7f7"
            ],
            [
             0.6,
             "#e6f5d0"
            ],
            [
             0.7,
             "#b8e186"
            ],
            [
             0.8,
             "#7fbc41"
            ],
            [
             0.9,
             "#4d9221"
            ],
            [
             1,
             "#276419"
            ]
           ],
           "sequential": [
            [
             0,
             "#0d0887"
            ],
            [
             0.1111111111111111,
             "#46039f"
            ],
            [
             0.2222222222222222,
             "#7201a8"
            ],
            [
             0.3333333333333333,
             "#9c179e"
            ],
            [
             0.4444444444444444,
             "#bd3786"
            ],
            [
             0.5555555555555556,
             "#d8576b"
            ],
            [
             0.6666666666666666,
             "#ed7953"
            ],
            [
             0.7777777777777778,
             "#fb9f3a"
            ],
            [
             0.8888888888888888,
             "#fdca26"
            ],
            [
             1,
             "#f0f921"
            ]
           ],
           "sequentialminus": [
            [
             0,
             "#0d0887"
            ],
            [
             0.1111111111111111,
             "#46039f"
            ],
            [
             0.2222222222222222,
             "#7201a8"
            ],
            [
             0.3333333333333333,
             "#9c179e"
            ],
            [
             0.4444444444444444,
             "#bd3786"
            ],
            [
             0.5555555555555556,
             "#d8576b"
            ],
            [
             0.6666666666666666,
             "#ed7953"
            ],
            [
             0.7777777777777778,
             "#fb9f3a"
            ],
            [
             0.8888888888888888,
             "#fdca26"
            ],
            [
             1,
             "#f0f921"
            ]
           ]
          },
          "colorway": [
           "#636efa",
           "#EF553B",
           "#00cc96",
           "#ab63fa",
           "#FFA15A",
           "#19d3f3",
           "#FF6692",
           "#B6E880",
           "#FF97FF",
           "#FECB52"
          ],
          "font": {
           "color": "#2a3f5f"
          },
          "geo": {
           "bgcolor": "white",
           "lakecolor": "white",
           "landcolor": "#E5ECF6",
           "showlakes": true,
           "showland": true,
           "subunitcolor": "white"
          },
          "hoverlabel": {
           "align": "left"
          },
          "hovermode": "closest",
          "mapbox": {
           "style": "light"
          },
          "paper_bgcolor": "white",
          "plot_bgcolor": "#E5ECF6",
          "polar": {
           "angularaxis": {
            "gridcolor": "white",
            "linecolor": "white",
            "ticks": ""
           },
           "bgcolor": "#E5ECF6",
           "radialaxis": {
            "gridcolor": "white",
            "linecolor": "white",
            "ticks": ""
           }
          },
          "scene": {
           "xaxis": {
            "backgroundcolor": "#E5ECF6",
            "gridcolor": "white",
            "gridwidth": 2,
            "linecolor": "white",
            "showbackground": true,
            "ticks": "",
            "zerolinecolor": "white"
           },
           "yaxis": {
            "backgroundcolor": "#E5ECF6",
            "gridcolor": "white",
            "gridwidth": 2,
            "linecolor": "white",
            "showbackground": true,
            "ticks": "",
            "zerolinecolor": "white"
           },
           "zaxis": {
            "backgroundcolor": "#E5ECF6",
            "gridcolor": "white",
            "gridwidth": 2,
            "linecolor": "white",
            "showbackground": true,
            "ticks": "",
            "zerolinecolor": "white"
           }
          },
          "shapedefaults": {
           "line": {
            "color": "#2a3f5f"
           }
          },
          "ternary": {
           "aaxis": {
            "gridcolor": "white",
            "linecolor": "white",
            "ticks": ""
           },
           "baxis": {
            "gridcolor": "white",
            "linecolor": "white",
            "ticks": ""
           },
           "bgcolor": "#E5ECF6",
           "caxis": {
            "gridcolor": "white",
            "linecolor": "white",
            "ticks": ""
           }
          },
          "title": {
           "x": 0.05
          },
          "xaxis": {
           "automargin": true,
           "gridcolor": "white",
           "linecolor": "white",
           "ticks": "",
           "title": {
            "standoff": 15
           },
           "zerolinecolor": "white",
           "zerolinewidth": 2
          },
          "yaxis": {
           "automargin": true,
           "gridcolor": "white",
           "linecolor": "white",
           "ticks": "",
           "title": {
            "standoff": 15
           },
           "zerolinecolor": "white",
           "zerolinewidth": 2
          }
         }
        },
        "title": {
         "font": {
          "color": "black"
         },
         "text": "Subsidence"
        },
        "xaxis": {
         "gridcolor": "lightgrey",
         "gridwidth": 1,
         "linecolor": "black",
         "linewidth": 1,
         "showgrid": true,
         "showline": true,
         "title": {
          "text": "Month-Year"
         },
         "zeroline": true,
         "zerolinecolor": "lightgrey",
         "zerolinewidth": 1
        },
        "yaxis": {
         "gridcolor": "lightgrey",
         "gridwidth": 1,
         "linecolor": "black",
         "linewidth": 1,
         "showgrid": true,
         "showline": true,
         "title": {
          "text": "Subsidence"
         },
         "zeroline": true,
         "zerolinecolor": "lightgrey",
         "zerolinewidth": 1
        }
       }
      }
     },
     "metadata": {},
     "output_type": "display_data"
    }
   ],
   "source": [
    "# Plot (actual and predicted) for test (out of time) data\n",
    "fig = go.Figure()\n",
    "\n",
    "# #Trace for actual val\n",
    "# fig.add_trace(go.Scatter(x=np.array(test.columns),\n",
    "#                          y=np.array(test.values).flatten(),\n",
    "#                          mode='lines',\n",
    "#                          name='Subsidence - Actual (Test)',\n",
    "#                          opacity=0.8,\n",
    "#                          line=dict(color='black', width=1)\n",
    "#                         ))\n",
    "# fig.add_trace(go.Scatter(x=np.array(test.columns),\n",
    "#                          y=e,\n",
    "#                          mode='lines',\n",
    "#                          name='Subsidence - Actual (YTrain)',\n",
    "#                          opacity=0.8,\n",
    "#                          line=dict(color='pink', width=1)\n",
    "#                         ))\n",
    "\n",
    "fig.add_trace(go.Scatter(x=np.array(test.columns[10:]),\n",
    "                         y=c,\n",
    "                         mode='lines',\n",
    "                         name='Subsidence - Actual (YTest)',\n",
    "                         opacity=0.8,\n",
    "                         line=dict(color='grey', width=1)\n",
    "                        ))\n",
    "\n",
    "\n",
    "# Trace for predicted \n",
    "fig.add_trace(go.Scatter(x=np.array(test.columns[10:]),\n",
    "                         y=z,\n",
    "                         mode='lines',\n",
    "                         name='Subsidence - Predicted ',\n",
    "                         opacity=0.8,\n",
    "                         line=dict(color='red', width=1)\n",
    "                        ))\n",
    "\n",
    "# Change chart background color\n",
    "fig.update_layout(dict(plot_bgcolor = 'white'))\n",
    "\n",
    "# Update axes lines\n",
    "fig.update_xaxes(showgrid=True, gridwidth=1, gridcolor='lightgrey', \n",
    "                 zeroline=True, zerolinewidth=1, zerolinecolor='lightgrey', \n",
    "                 showline=True, linewidth=1, linecolor='black',\n",
    "                 title='Month-Year'\n",
    "                )\n",
    "\n",
    "fig.update_yaxes(showgrid=True, gridwidth=1, gridcolor='lightgrey', \n",
    "                 zeroline=True, zerolinewidth=1, zerolinecolor='lightgrey', \n",
    "                 showline=True, linewidth=1, linecolor='black',\n",
    "                 title='Subsidence'\n",
    "                )\n",
    "\n",
    "# Set figure title\n",
    "fig.update_layout(title=dict(text=\"Subsidence\", font=dict(color='black')),\n",
    "                  legend=dict(orientation=\"h\", yanchor=\"bottom\", y=1.02, xanchor=\"right\", x=1)\n",
    "                 )\n",
    "fig.show()"
   ]
  },
  {
   "cell_type": "code",
   "execution_count": 11,
   "metadata": {},
   "outputs": [],
   "source": [
    "# from sklearn import tree\n",
    "# Tree = model.estimators_[5]\n",
    "# plt.figure(figsize=(25,15))\n",
    "# tree.plot_tree(Tree,filled=True, \n",
    "#               rounded=True, \n",
    "#               fontsize=14);"
   ]
  },
  {
   "cell_type": "markdown",
   "metadata": {},
   "source": [
    "Scores:Return the coefficient of determination of the prediction. R^2"
   ]
  },
  {
   "cell_type": "code",
   "execution_count": 12,
   "metadata": {},
   "outputs": [
    {
     "data": {
      "text/plain": [
       "[0.9834764161519217,\n",
       " 0.9843264393839439,\n",
       " 0.9845615254687813,\n",
       " 0.9847337957249469,\n",
       " 0.9847990433588787,\n",
       " 0.9848634216328926,\n",
       " 0.9849042588193383,\n",
       " 0.9849386904758249,\n",
       " 0.9849702378062363,\n",
       " 0.9849923367583759,\n",
       " 0.9850219738877998,\n",
       " 0.9850288263496237,\n",
       " 0.9850466772950448,\n",
       " 0.9850508851209631,\n",
       " 0.9850617411231644,\n",
       " 0.985080434682225,\n",
       " 0.9850890378720045,\n",
       " 0.9850999400108236,\n",
       " 0.9851094514177896]"
      ]
     },
     "execution_count": 12,
     "metadata": {},
     "output_type": "execute_result"
    }
   ],
   "source": [
    "scores"
   ]
  },
  {
   "cell_type": "markdown",
   "metadata": {},
   "source": [
    "##### Train model"
   ]
  },
  {
   "cell_type": "markdown",
   "metadata": {},
   "source": [
    "##### Step 4 - Plot loss over epochs"
   ]
  },
  {
   "cell_type": "code",
   "execution_count": 13,
   "metadata": {},
   "outputs": [
    {
     "name": "stdout",
     "output_type": "stream",
     "text": [
      "\n",
      "RMSE:  2.367\n",
      "Mean Absolute Error: 1.730191806472464\n",
      "Mean Squared Error: 5.603327831842854\n",
      "Root Mean Squared Error: 2.3671349416209577\n"
     ]
    }
   ],
   "source": [
    "# Predicting the target values of the test set\n",
    "Y_pred = model.predict(X_test)\n",
    "\n",
    "# RMSE (Root Mean Square Error)\n",
    "rmse = float(format(np.sqrt(mean_squared_error(Y_test, Y_pred)), '.3f'))\n",
    "print(\"\\nRMSE: \", rmse)\n",
    "from sklearn import metrics\n",
    "print('Mean Absolute Error:', metrics.mean_absolute_error(Y_test, Y_pred))\n",
    "print('Mean Squared Error:', metrics.mean_squared_error(Y_test, Y_pred))\n",
    "print('Root Mean Squared Error:', np.sqrt(metrics.mean_squared_error(Y_test, Y_pred)))\n"
   ]
  },
  {
   "cell_type": "code",
   "execution_count": 14,
   "metadata": {},
   "outputs": [
    {
     "name": "stdout",
     "output_type": "stream",
     "text": [
      "Mean Absolute Error: 1.73 degrees.\n",
      "Accuracy: 125.22 %.\n"
     ]
    }
   ],
   "source": [
    "# Calculate the absolute errors\n",
    "errors = abs(Y_pred - Y_test)\n",
    "# Print out the mean absolute error (mae)\n",
    "print('Mean Absolute Error:', round(np.mean(errors), 2), 'degrees.')\n",
    "\n",
    "# Calculate mean absolute percentage error (MAPE)\n",
    "mape = 100 * (errors / Y_test)\n",
    "# Calculate and display accuracy\n",
    "accuracy = 100 - np.mean(mape)\n",
    "print('Accuracy:', round(accuracy, 2), '%.')"
   ]
  },
  {
   "cell_type": "code",
   "execution_count": 15,
   "metadata": {},
   "outputs": [
    {
     "name": "stderr",
     "output_type": "stream",
     "text": [
      "c:\\Python\\Python310\\lib\\site-packages\\seaborn\\distributions.py:2619: FutureWarning:\n",
      "\n",
      "`distplot` is a deprecated function and will be removed in a future version. Please adapt your code to use either `displot` (a figure-level function with similar flexibility) or `kdeplot` (an axes-level function for kernel density plots).\n",
      "\n",
      "c:\\Python\\Python310\\lib\\site-packages\\seaborn\\distributions.py:2619: FutureWarning:\n",
      "\n",
      "`distplot` is a deprecated function and will be removed in a future version. Please adapt your code to use either `displot` (a figure-level function with similar flexibility) or `kdeplot` (an axes-level function for kernel density plots).\n",
      "\n"
     ]
    },
    {
     "data": {
      "image/png": "[encoded data removed]",
      "text/plain": [
       "<Figure size 360x504 with 1 Axes>"
      ]
     },
     "metadata": {
      "needs_background": "light"
     },
     "output_type": "display_data"
    }
   ],
   "source": [
    "import seaborn as sns\n",
    "plt.figure(figsize=(5, 7))\n",
    "\n",
    "\n",
    "ax = sns.distplot(Y_test, hist=False, color=\"r\", label=\"Actual Value\")\n",
    "sns.distplot(Y_pred, hist=False, color=\"b\", label=\"Fitted Values\" , ax=ax)\n",
    "\n",
    "\n",
    "plt.title('Actual vs Fitted Values')\n",
    "\n",
    "\n",
    "plt.show()\n",
    "plt.close()"
   ]
  },
  {
   "cell_type": "code",
   "execution_count": 16,
   "metadata": {},
   "outputs": [],
   "source": [
    "##### Step 5 - Print Performance Summary"
   ]
  }
 ],
 "metadata": {
  "kernelspec": {
   "display_name": "Python 3.10.5 64-bit",
   "language": "python",
   "name": "python3"
  },
  "language_info": {
   "codemirror_mode": {
    "name": "ipython",
    "version": 3
   },
   "file_extension": ".py",
   "mimetype": "text/x-python",
   "name": "python",
   "nbconvert_exporter": "python",
   "pygments_lexer": "ipython3",
   "version": "3.10.5"
  },
  "orig_nbformat": 4,
  "vscode": {
   "interpreter": {
    "hash": "d3e10ef16274dd72e574b8fa73b58450b957d8421a2901baded3cca26fcf5dda"
   }
  }
 },
 "nbformat": 4,
 "nbformat_minor": 2
}
