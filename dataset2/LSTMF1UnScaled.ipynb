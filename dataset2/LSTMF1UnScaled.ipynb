{
 "cells": [
  {
   "cell_type": "code",
   "execution_count": 28,
   "metadata": {},
   "outputs": [
    {
     "name": "stdout",
     "output_type": "stream",
     "text": [
      "Tensorflow/Keras: 2.9.0\n",
      "pandas: 1.4.2\n",
      "numpy: 1.22.4\n",
      "sklearn: 1.1.1\n",
      "plotly: 5.9.0\n"
     ]
    }
   ],
   "source": [
    "# Tensorflow / Keras\n",
    "from tensorflow import keras # for building Neural Networks\n",
    "print('Tensorflow/Keras: %s' % keras.__version__) # print version\n",
    "from keras.models import Sequential # for creating a linear stack of layers for our Neural Network\n",
    "from keras import Input # for instantiating a keras tensor\n",
    "from keras.layers import Masking,Bidirectional, LSTM, RepeatVector, Dense, TimeDistributed,MaxPooling1D, Flatten, Conv1D,Conv2D,Dropout, MaxPooling2D, GRU # for creating layers inside the Neural Network\n",
    "from keras.optimizers import Adam , SGD\n",
    "from keras import metrics, callbacks\n",
    "from keras.utils import plot_model\n",
    "# Data manipulation\n",
    "import pandas as pd # for data manipulation\n",
    "print('pandas: %s' % pd.__version__) # print version\n",
    "import numpy as np # for data manipulation\n",
    "print('numpy: %s' % np.__version__) # print version\n",
    "import numpy.ma as ma\n",
    "# Sklearn\n",
    "import sklearn\n",
    "print('sklearn: %s' % sklearn.__version__) # print version\n",
    "from sklearn.preprocessing import MinMaxScaler, StandardScaler # for feature scaling\n",
    "from sklearn.model_selection import train_test_split\n",
    "# Visualization\n",
    "import plotly \n",
    "import plotly.express as px\n",
    "import plotly.graph_objects as go\n",
    "print('plotly: %s' % plotly.__version__) # print version\n",
    "from matplotlib import pyplot as plt\n",
    "\n",
    "#file accessing\n",
    "import os\n",
    "# time stuff\n",
    "from datetime import timedelta\n",
    "import calendar\n"
   ]
  },
  {
   "cell_type": "code",
   "execution_count": 29,
   "metadata": {},
   "outputs": [
    {
     "name": "stdout",
     "output_type": "stream",
     "text": [
      "Defined the plot_the_model and plot_the_loss_curve functions.\n"
     ]
    }
   ],
   "source": [
    "#@title Define the plotting functions\n",
    "def plot_the_model(trained_weight, trained_bias, feature, label):\n",
    "  \"\"\"Plot the trained model against the training feature and label.\"\"\"\n",
    "\n",
    "  # Label the axes.\n",
    "  plt.xlabel(\"feature\")\n",
    "  plt.ylabel(\"label\")\n",
    "\n",
    "  # Plot the feature values vs. label values.\n",
    "  plt.scatter(feature, label)\n",
    "\n",
    "  # Create a red line representing the model. The red line starts\n",
    "  # at coordinates (x0, y0) and ends at coordinates (x1, y1).\n",
    "  x0 = 0\n",
    "  y0 = trained_bias\n",
    "  x1 = feature[-1]\n",
    "  y1 = trained_bias + (trained_weight * x1)\n",
    "  plt.plot([x0, x1], [y0, y1], c='r')\n",
    "\n",
    "  # Render the scatter plot and the red line.\n",
    "  plt.show()\n",
    "\n",
    "def plot_the_loss_curve(epochs, mse):\n",
    "  \"\"\"Plot the loss curve, which shows loss vs. epoch.\"\"\"\n",
    "\n",
    "  plt.figure()\n",
    "  plt.xlabel(\"Epoch\")\n",
    "  plt.ylabel(\"Mean Squared Error\")\n",
    "  #epochs.remove(max(epochs))\n",
    "  \n",
    "  #rmse.drop(max(rmse))\n",
    "  plt.plot(epochs, mse, label=\"Loss\")\n",
    "  plt.legend()\n",
    "  plt.ylim([min(mse)*0.97, max(mse)])\n",
    "  plt.show()\n",
    "\n",
    "print(\"Defined the plot_the_model and plot_the_loss_curve functions.\")"
   ]
  },
  {
   "cell_type": "markdown",
   "metadata": {},
   "source": [
    "##### Read from file and establish dataframe and future functions"
   ]
  },
  {
   "cell_type": "code",
   "execution_count": 30,
   "metadata": {},
   "outputs": [
    {
     "data": {
      "text/html": [
       "<div>\n",
       "<style scoped>\n",
       "    .dataframe tbody tr th:only-of-type {\n",
       "        vertical-align: middle;\n",
       "    }\n",
       "\n",
       "    .dataframe tbody tr th {\n",
       "        vertical-align: top;\n",
       "    }\n",
       "\n",
       "    .dataframe thead th {\n",
       "        text-align: right;\n",
       "    }\n",
       "</style>\n",
       "<table border=\"1\" class=\"dataframe\">\n",
       "  <thead>\n",
       "    <tr style=\"text-align: right;\">\n",
       "      <th></th>\n",
       "      <th></th>\n",
       "      <th>2014-11-08</th>\n",
       "      <th>2014-12-02</th>\n",
       "      <th>2014-12-26</th>\n",
       "      <th>2015-02-12</th>\n",
       "      <th>2015-03-08</th>\n",
       "      <th>2015-04-01</th>\n",
       "      <th>2015-04-25</th>\n",
       "      <th>2015-05-19</th>\n",
       "      <th>2015-06-12</th>\n",
       "      <th>2015-07-06</th>\n",
       "      <th>...</th>\n",
       "      <th>2018-10-18</th>\n",
       "      <th>2018-10-30</th>\n",
       "      <th>2018-11-11</th>\n",
       "      <th>2018-11-17</th>\n",
       "      <th>2018-11-23</th>\n",
       "      <th>2018-12-05</th>\n",
       "      <th>2018-12-17</th>\n",
       "      <th>2018-12-29</th>\n",
       "      <th>2019-01-10</th>\n",
       "      <th>2019-01-22</th>\n",
       "    </tr>\n",
       "    <tr>\n",
       "      <th>Longitude</th>\n",
       "      <th>Latitude</th>\n",
       "      <th></th>\n",
       "      <th></th>\n",
       "      <th></th>\n",
       "      <th></th>\n",
       "      <th></th>\n",
       "      <th></th>\n",
       "      <th></th>\n",
       "      <th></th>\n",
       "      <th></th>\n",
       "      <th></th>\n",
       "      <th></th>\n",
       "      <th></th>\n",
       "      <th></th>\n",
       "      <th></th>\n",
       "      <th></th>\n",
       "      <th></th>\n",
       "      <th></th>\n",
       "      <th></th>\n",
       "      <th></th>\n",
       "      <th></th>\n",
       "      <th></th>\n",
       "    </tr>\n",
       "  </thead>\n",
       "  <tbody>\n",
       "    <tr>\n",
       "      <th>-120.3387</th>\n",
       "      <th>36.5393</th>\n",
       "      <td>0.0</td>\n",
       "      <td>-6.2129</td>\n",
       "      <td>3.4247</td>\n",
       "      <td>5.7830</td>\n",
       "      <td>2.13990</td>\n",
       "      <td>6.8538</td>\n",
       "      <td>1.83540</td>\n",
       "      <td>2.1142</td>\n",
       "      <td>1.83670</td>\n",
       "      <td>-1.5935</td>\n",
       "      <td>...</td>\n",
       "      <td>4.93520</td>\n",
       "      <td>8.059200</td>\n",
       "      <td>6.39190</td>\n",
       "      <td>6.56470</td>\n",
       "      <td>3.58430</td>\n",
       "      <td>5.337900</td>\n",
       "      <td>7.14430</td>\n",
       "      <td>9.1285</td>\n",
       "      <td>8.73970</td>\n",
       "      <td>10.38400</td>\n",
       "    </tr>\n",
       "    <tr>\n",
       "      <th>-120.1908</th>\n",
       "      <th>36.1412</th>\n",
       "      <td>0.0</td>\n",
       "      <td>-5.6951</td>\n",
       "      <td>2.2257</td>\n",
       "      <td>4.5835</td>\n",
       "      <td>1.70790</td>\n",
       "      <td>6.5348</td>\n",
       "      <td>2.98530</td>\n",
       "      <td>2.7613</td>\n",
       "      <td>3.76730</td>\n",
       "      <td>2.2235</td>\n",
       "      <td>...</td>\n",
       "      <td>6.28560</td>\n",
       "      <td>8.606700</td>\n",
       "      <td>7.15330</td>\n",
       "      <td>8.06940</td>\n",
       "      <td>5.60730</td>\n",
       "      <td>4.977600</td>\n",
       "      <td>8.18450</td>\n",
       "      <td>9.0591</td>\n",
       "      <td>8.89620</td>\n",
       "      <td>10.35300</td>\n",
       "    </tr>\n",
       "    <tr>\n",
       "      <th>-119.8869</th>\n",
       "      <th>35.6171</th>\n",
       "      <td>0.0</td>\n",
       "      <td>-6.7674</td>\n",
       "      <td>1.8611</td>\n",
       "      <td>3.5773</td>\n",
       "      <td>0.77856</td>\n",
       "      <td>4.5700</td>\n",
       "      <td>1.90460</td>\n",
       "      <td>2.8225</td>\n",
       "      <td>0.89615</td>\n",
       "      <td>2.6578</td>\n",
       "      <td>...</td>\n",
       "      <td>6.42140</td>\n",
       "      <td>7.527900</td>\n",
       "      <td>6.25500</td>\n",
       "      <td>7.12750</td>\n",
       "      <td>7.43410</td>\n",
       "      <td>3.680000</td>\n",
       "      <td>6.77130</td>\n",
       "      <td>8.8868</td>\n",
       "      <td>7.87950</td>\n",
       "      <td>9.15160</td>\n",
       "    </tr>\n",
       "    <tr>\n",
       "      <th>-119.8849</th>\n",
       "      <th>35.8671</th>\n",
       "      <td>0.0</td>\n",
       "      <td>-6.9006</td>\n",
       "      <td>1.5378</td>\n",
       "      <td>3.1628</td>\n",
       "      <td>0.49591</td>\n",
       "      <td>5.3001</td>\n",
       "      <td>1.69690</td>\n",
       "      <td>2.4262</td>\n",
       "      <td>1.60660</td>\n",
       "      <td>1.9497</td>\n",
       "      <td>...</td>\n",
       "      <td>6.71270</td>\n",
       "      <td>8.195900</td>\n",
       "      <td>6.89780</td>\n",
       "      <td>7.72280</td>\n",
       "      <td>7.08070</td>\n",
       "      <td>5.015800</td>\n",
       "      <td>6.95200</td>\n",
       "      <td>8.8647</td>\n",
       "      <td>8.17390</td>\n",
       "      <td>9.19100</td>\n",
       "    </tr>\n",
       "    <tr>\n",
       "      <th>-119.8829</th>\n",
       "      <th>35.9512</th>\n",
       "      <td>0.0</td>\n",
       "      <td>-6.3572</td>\n",
       "      <td>1.1703</td>\n",
       "      <td>2.1735</td>\n",
       "      <td>-0.47235</td>\n",
       "      <td>3.9732</td>\n",
       "      <td>0.57705</td>\n",
       "      <td>1.4311</td>\n",
       "      <td>0.69616</td>\n",
       "      <td>1.1763</td>\n",
       "      <td>...</td>\n",
       "      <td>5.86560</td>\n",
       "      <td>7.390000</td>\n",
       "      <td>6.27260</td>\n",
       "      <td>7.15710</td>\n",
       "      <td>5.54560</td>\n",
       "      <td>3.736800</td>\n",
       "      <td>6.18420</td>\n",
       "      <td>7.5924</td>\n",
       "      <td>6.51850</td>\n",
       "      <td>8.10940</td>\n",
       "    </tr>\n",
       "    <tr>\n",
       "      <th>...</th>\n",
       "      <th>...</th>\n",
       "      <td>...</td>\n",
       "      <td>...</td>\n",
       "      <td>...</td>\n",
       "      <td>...</td>\n",
       "      <td>...</td>\n",
       "      <td>...</td>\n",
       "      <td>...</td>\n",
       "      <td>...</td>\n",
       "      <td>...</td>\n",
       "      <td>...</td>\n",
       "      <td>...</td>\n",
       "      <td>...</td>\n",
       "      <td>...</td>\n",
       "      <td>...</td>\n",
       "      <td>...</td>\n",
       "      <td>...</td>\n",
       "      <td>...</td>\n",
       "      <td>...</td>\n",
       "      <td>...</td>\n",
       "      <td>...</td>\n",
       "      <td>...</td>\n",
       "    </tr>\n",
       "    <tr>\n",
       "      <th>-118.9071</th>\n",
       "      <th>35.3750</th>\n",
       "      <td>0.0</td>\n",
       "      <td>-3.8828</td>\n",
       "      <td>-1.1999</td>\n",
       "      <td>-1.2152</td>\n",
       "      <td>-2.12550</td>\n",
       "      <td>-3.4199</td>\n",
       "      <td>-0.94401</td>\n",
       "      <td>-3.6226</td>\n",
       "      <td>0.56910</td>\n",
       "      <td>-1.4506</td>\n",
       "      <td>...</td>\n",
       "      <td>2.44230</td>\n",
       "      <td>2.689300</td>\n",
       "      <td>3.37490</td>\n",
       "      <td>3.22130</td>\n",
       "      <td>3.32230</td>\n",
       "      <td>2.285500</td>\n",
       "      <td>1.94290</td>\n",
       "      <td>5.8860</td>\n",
       "      <td>2.26160</td>\n",
       "      <td>2.42750</td>\n",
       "    </tr>\n",
       "    <tr>\n",
       "      <th>-118.9051</th>\n",
       "      <th>35.3430</th>\n",
       "      <td>0.0</td>\n",
       "      <td>-4.1356</td>\n",
       "      <td>-1.1255</td>\n",
       "      <td>-1.2232</td>\n",
       "      <td>-2.18530</td>\n",
       "      <td>-3.3244</td>\n",
       "      <td>-0.70324</td>\n",
       "      <td>-3.5807</td>\n",
       "      <td>0.53279</td>\n",
       "      <td>-1.5025</td>\n",
       "      <td>...</td>\n",
       "      <td>1.45350</td>\n",
       "      <td>1.393300</td>\n",
       "      <td>2.12930</td>\n",
       "      <td>1.83520</td>\n",
       "      <td>2.14240</td>\n",
       "      <td>1.547400</td>\n",
       "      <td>1.06060</td>\n",
       "      <td>4.7605</td>\n",
       "      <td>0.96871</td>\n",
       "      <td>1.18650</td>\n",
       "    </tr>\n",
       "    <tr>\n",
       "      <th rowspan=\"2\" valign=\"top\">-118.9031</th>\n",
       "      <th>35.3110</th>\n",
       "      <td>0.0</td>\n",
       "      <td>-4.1879</td>\n",
       "      <td>-1.1213</td>\n",
       "      <td>-1.7977</td>\n",
       "      <td>-2.28030</td>\n",
       "      <td>-3.4793</td>\n",
       "      <td>-0.84339</td>\n",
       "      <td>-3.6445</td>\n",
       "      <td>0.30264</td>\n",
       "      <td>-2.1569</td>\n",
       "      <td>...</td>\n",
       "      <td>-0.17429</td>\n",
       "      <td>0.098737</td>\n",
       "      <td>0.56824</td>\n",
       "      <td>0.16814</td>\n",
       "      <td>0.69418</td>\n",
       "      <td>-0.011814</td>\n",
       "      <td>-0.57993</td>\n",
       "      <td>2.7450</td>\n",
       "      <td>-1.03220</td>\n",
       "      <td>-0.71361</td>\n",
       "    </tr>\n",
       "    <tr>\n",
       "      <th>35.4270</th>\n",
       "      <td>0.0</td>\n",
       "      <td>-4.1305</td>\n",
       "      <td>-1.2911</td>\n",
       "      <td>-1.1049</td>\n",
       "      <td>-2.53270</td>\n",
       "      <td>-3.4353</td>\n",
       "      <td>-0.79675</td>\n",
       "      <td>-3.7570</td>\n",
       "      <td>0.58227</td>\n",
       "      <td>-1.2981</td>\n",
       "      <td>...</td>\n",
       "      <td>3.02090</td>\n",
       "      <td>3.222600</td>\n",
       "      <td>4.33210</td>\n",
       "      <td>3.71760</td>\n",
       "      <td>4.08800</td>\n",
       "      <td>2.244900</td>\n",
       "      <td>2.98550</td>\n",
       "      <td>6.4669</td>\n",
       "      <td>2.77250</td>\n",
       "      <td>2.71350</td>\n",
       "    </tr>\n",
       "    <tr>\n",
       "      <th>-118.9011</th>\n",
       "      <th>35.3950</th>\n",
       "      <td>0.0</td>\n",
       "      <td>-4.1354</td>\n",
       "      <td>-1.3291</td>\n",
       "      <td>-1.1547</td>\n",
       "      <td>-2.29250</td>\n",
       "      <td>-3.5912</td>\n",
       "      <td>-0.82694</td>\n",
       "      <td>-3.6488</td>\n",
       "      <td>0.71169</td>\n",
       "      <td>-1.0560</td>\n",
       "      <td>...</td>\n",
       "      <td>2.84470</td>\n",
       "      <td>3.160200</td>\n",
       "      <td>4.13480</td>\n",
       "      <td>3.61790</td>\n",
       "      <td>3.82230</td>\n",
       "      <td>2.624100</td>\n",
       "      <td>2.65560</td>\n",
       "      <td>6.3724</td>\n",
       "      <td>2.70740</td>\n",
       "      <td>2.72110</td>\n",
       "    </tr>\n",
       "  </tbody>\n",
       "</table>\n",
       "<p>603 rows × 110 columns</p>\n",
       "</div>"
      ],
      "text/plain": [
       "                    2014-11-08  2014-12-02  2014-12-26  2015-02-12  \\\n",
       "Longitude Latitude                                                   \n",
       "-120.3387 36.5393          0.0     -6.2129      3.4247      5.7830   \n",
       "-120.1908 36.1412          0.0     -5.6951      2.2257      4.5835   \n",
       "-119.8869 35.6171          0.0     -6.7674      1.8611      3.5773   \n",
       "-119.8849 35.8671          0.0     -6.9006      1.5378      3.1628   \n",
       "-119.8829 35.9512          0.0     -6.3572      1.1703      2.1735   \n",
       "...                        ...         ...         ...         ...   \n",
       "-118.9071 35.3750          0.0     -3.8828     -1.1999     -1.2152   \n",
       "-118.9051 35.3430          0.0     -4.1356     -1.1255     -1.2232   \n",
       "-118.9031 35.3110          0.0     -4.1879     -1.1213     -1.7977   \n",
       "          35.4270          0.0     -4.1305     -1.2911     -1.1049   \n",
       "-118.9011 35.3950          0.0     -4.1354     -1.3291     -1.1547   \n",
       "\n",
       "                    2015-03-08  2015-04-01  2015-04-25  2015-05-19  \\\n",
       "Longitude Latitude                                                   \n",
       "-120.3387 36.5393      2.13990      6.8538     1.83540      2.1142   \n",
       "-120.1908 36.1412      1.70790      6.5348     2.98530      2.7613   \n",
       "-119.8869 35.6171      0.77856      4.5700     1.90460      2.8225   \n",
       "-119.8849 35.8671      0.49591      5.3001     1.69690      2.4262   \n",
       "-119.8829 35.9512     -0.47235      3.9732     0.57705      1.4311   \n",
       "...                        ...         ...         ...         ...   \n",
       "-118.9071 35.3750     -2.12550     -3.4199    -0.94401     -3.6226   \n",
       "-118.9051 35.3430     -2.18530     -3.3244    -0.70324     -3.5807   \n",
       "-118.9031 35.3110     -2.28030     -3.4793    -0.84339     -3.6445   \n",
       "          35.4270     -2.53270     -3.4353    -0.79675     -3.7570   \n",
       "-118.9011 35.3950     -2.29250     -3.5912    -0.82694     -3.6488   \n",
       "\n",
       "                    2015-06-12  2015-07-06  ...  2018-10-18  2018-10-30  \\\n",
       "Longitude Latitude                          ...                           \n",
       "-120.3387 36.5393      1.83670     -1.5935  ...     4.93520    8.059200   \n",
       "-120.1908 36.1412      3.76730      2.2235  ...     6.28560    8.606700   \n",
       "-119.8869 35.6171      0.89615      2.6578  ...     6.42140    7.527900   \n",
       "-119.8849 35.8671      1.60660      1.9497  ...     6.71270    8.195900   \n",
       "-119.8829 35.9512      0.69616      1.1763  ...     5.86560    7.390000   \n",
       "...                        ...         ...  ...         ...         ...   \n",
       "-118.9071 35.3750      0.56910     -1.4506  ...     2.44230    2.689300   \n",
       "-118.9051 35.3430      0.53279     -1.5025  ...     1.45350    1.393300   \n",
       "-118.9031 35.3110      0.30264     -2.1569  ...    -0.17429    0.098737   \n",
       "          35.4270      0.58227     -1.2981  ...     3.02090    3.222600   \n",
       "-118.9011 35.3950      0.71169     -1.0560  ...     2.84470    3.160200   \n",
       "\n",
       "                    2018-11-11  2018-11-17  2018-11-23  2018-12-05  \\\n",
       "Longitude Latitude                                                   \n",
       "-120.3387 36.5393      6.39190     6.56470     3.58430    5.337900   \n",
       "-120.1908 36.1412      7.15330     8.06940     5.60730    4.977600   \n",
       "-119.8869 35.6171      6.25500     7.12750     7.43410    3.680000   \n",
       "-119.8849 35.8671      6.89780     7.72280     7.08070    5.015800   \n",
       "-119.8829 35.9512      6.27260     7.15710     5.54560    3.736800   \n",
       "...                        ...         ...         ...         ...   \n",
       "-118.9071 35.3750      3.37490     3.22130     3.32230    2.285500   \n",
       "-118.9051 35.3430      2.12930     1.83520     2.14240    1.547400   \n",
       "-118.9031 35.3110      0.56824     0.16814     0.69418   -0.011814   \n",
       "          35.4270      4.33210     3.71760     4.08800    2.244900   \n",
       "-118.9011 35.3950      4.13480     3.61790     3.82230    2.624100   \n",
       "\n",
       "                    2018-12-17  2018-12-29  2019-01-10  2019-01-22  \n",
       "Longitude Latitude                                                  \n",
       "-120.3387 36.5393      7.14430      9.1285     8.73970    10.38400  \n",
       "-120.1908 36.1412      8.18450      9.0591     8.89620    10.35300  \n",
       "-119.8869 35.6171      6.77130      8.8868     7.87950     9.15160  \n",
       "-119.8849 35.8671      6.95200      8.8647     8.17390     9.19100  \n",
       "-119.8829 35.9512      6.18420      7.5924     6.51850     8.10940  \n",
       "...                        ...         ...         ...         ...  \n",
       "-118.9071 35.3750      1.94290      5.8860     2.26160     2.42750  \n",
       "-118.9051 35.3430      1.06060      4.7605     0.96871     1.18650  \n",
       "-118.9031 35.3110     -0.57993      2.7450    -1.03220    -0.71361  \n",
       "          35.4270      2.98550      6.4669     2.77250     2.71350  \n",
       "-118.9011 35.3950      2.65560      6.3724     2.70740     2.72110  \n",
       "\n",
       "[603 rows x 110 columns]"
      ]
     },
     "execution_count": 30,
     "metadata": {},
     "output_type": "execute_result"
    }
   ],
   "source": [
    "df=pd.read_csv('E:\\DSFellowship\\Complete\\dataset2\\dataset2.csv')\n",
    "df=df.set_index([df.columns[0],df.columns[1]])\n",
    "df.columns=pd.to_datetime(df.columns, format='%Y-%m-%d')\n",
    "df=df.dropna(axis=0, how='all')#drop full nan rows\n",
    "df"
   ]
  },
  {
   "cell_type": "markdown",
   "metadata": {},
   "source": [
    "##### Remove next line to include all data"
   ]
  },
  {
   "cell_type": "markdown",
   "metadata": {},
   "source": [
    "# Timestep"
   ]
  },
  {
   "cell_type": "code",
   "execution_count": 31,
   "metadata": {},
   "outputs": [],
   "source": [
    "timestep=10\n",
    "# 1 2 3 4 5 6 7 ...\n",
    "# w/ timestep of 2\n",
    "# [[1,2][2,3][3,4]"
   ]
  },
  {
   "cell_type": "markdown",
   "metadata": {},
   "source": [
    "# Shaping function (remove start and step for first for loop to include all data)"
   ]
  },
  {
   "cell_type": "code",
   "execution_count": 32,
   "metadata": {},
   "outputs": [],
   "source": [
    "def shaping(datain, timestep):\n",
    "    #print(arr)\n",
    "    cnt=0\n",
    "    for row in range(len(datain.index)): #picks a row at every iteration, allows to reduction of input and inclusion of multiple time series, remove start and step to run on full dataset \n",
    "    # Convert input dataframe to array and flatten\n",
    "        #datain.iloc[row].fillna(datain.iloc[row].mean).to_numpy().flatten()\n",
    "        arr=datain.iloc[row].interpolate().to_numpy().flatten() # flatten row\n",
    "        #arr=arr.fillna(arr.mean)\n",
    "        #arr=np.where(np.isnan(arr), ma.array(arr, mask=np.isnan(arr)).mean(), arr) \n",
    "        for mth in range(0, len(datain.columns)-(2*timestep)+1): # Define range lenght of the dates - 2* amount of timesep?? +1\n",
    "            cnt=cnt+1 # Gives us the number of samples. Later used to reshape the data\n",
    "            X_start=mth # Start month for inputs of each sample\n",
    "            X_end=mth+timestep # End month for inputs of each sample\n",
    "            Y_start=mth+timestep # Start month for targets of each sample. Note, start is inclusive and end is exclusive, that's why X_end and Y_start is the same number\n",
    "            Y_end=mth+2*timestep # End month for targets of each sample.  \n",
    "            \n",
    "            # Assemble input and target arrays containing all samples\n",
    "            if cnt==1:\n",
    "                X_comb=arr[X_start:X_end]\n",
    "                Y_comb=arr[Y_start:Y_end]\n",
    "            else: \n",
    "                X_comb=np.append(X_comb, arr[X_start:X_end])\n",
    "                Y_comb=np.append(Y_comb, arr[Y_start:Y_end])\n",
    "    # Reshape input and target arrays\n",
    "    X_out=np.reshape(X_comb, (cnt, timestep, 1))\n",
    "    Y_out=np.reshape(Y_comb, (cnt, timestep, 1))\n",
    "    return X_out, Y_out"
   ]
  },
  {
   "cell_type": "markdown",
   "metadata": {},
   "source": [
    "##### Step 2 - Split and Shape data"
   ]
  },
  {
   "cell_type": "code",
   "execution_count": 33,
   "metadata": {},
   "outputs": [],
   "source": [
    "#Divides data into 80% training 20% testing\n",
    "#train, test = train_test_split(df, test_size=0.2)\n",
    "# creates sequences to train\n",
    "# X , Y = shaping(datain=df, timestep= timestep )\n",
    "# X_train, X_test, Y_train, Y_test = train_test_split(X,Y , test_size=0.2, random_state=28)\n",
    "# nsamples, nx, ny = X_train.shape\n",
    "# X_train = X_train.reshape((nsamples,nx*ny))\n",
    "# nsamples, nx, ny = Y_train.shape\n",
    "# Y_train = Y_train.reshape((nsamples,nx*ny))\n",
    "# nsamples, nx, ny = X_test.shape\n",
    "# X_test = X_test.reshape((nsamples,nx*ny))\n",
    "# nsamples, nx, ny = Y_test.shape\n",
    "# Y_test = Y_test.reshape((nsamples,nx*ny))\n",
    "#Divides data into 80% training 20% testing\n",
    "# scaler=MinMaxScaler()\n",
    "# scaler2=MinMaxScaler()\n",
    "\n",
    "train, test=train_test_split(df,test_size=.2,shuffle=True,random_state=42)\n",
    "# creates sequences to train\n",
    "X_train, Y_train = shaping(datain=train, timestep= timestep )\n",
    "\n",
    "\n",
    "X_test, Y_test = shaping(datain=test, timestep=timestep)\n",
    "# X_train=scaler.fit_transform(X_train.reshape(-1,X_train.shape[-1])).reshape(X_train.shape)\n",
    "# X_test=scaler.transform(X_test.reshape(-1,X_test.shape[-1])).reshape(X_test.shape)\n",
    "\n",
    "# Y_train=scaler2.fit_transform(Y_train.reshape(-1,Y_train.shape[-1])).reshape(Y_train.shape)\n",
    "# Y_test=scaler2.transform(Y_test.reshape(-1,Y_test.shape[-1])).reshape(Y_test.shape)"
   ]
  },
  {
   "cell_type": "code",
   "execution_count": 34,
   "metadata": {},
   "outputs": [],
   "source": [
    "# scaler = MinMaxScaler()\n",
    "# scaler2 = MinMaxScaler()\n",
    "# X_train = scaler.fit_transform(X_train.reshape(-1, X_train.shape[-1])).reshape(X_train.shape)\n",
    "# X_test = scaler.transform(X_test.reshape(-1, X_test.shape[-1])).reshape(X_test.shape)\n",
    "# Y_train = scaler2.fit_transform(Y_train.reshape(-1, Y_train.shape[-1])).reshape(Y_train.shape)\n",
    "# Y_test = scaler.transform(Y_test.reshape(-1, Y_test.shape[-1])).reshape(Y_test.shape)\n"
   ]
  },
  {
   "cell_type": "markdown",
   "metadata": {},
   "source": [
    "##### Step 3 - Specify the structure of a Neural Network, first model"
   ]
  },
  {
   "cell_type": "code",
   "execution_count": 35,
   "metadata": {},
   "outputs": [],
   "source": [
    "model2 = Sequential(name=\"LSTM-Model\") # Model\n",
    "#model2.add(Masking(mask_value=-1000, input_shape=(timestep, 1)))\n",
    "\n",
    "model2.add(Input(shape=(X_train.shape[1],X_train.shape[2]), name='Input-Layer')) # Input Layer - need to speicfy the shape of inputs\n",
    "model2.add(LSTM(units=64, activation='relu', recurrent_activation='sigmoid', stateful=False, return_sequences=True)) \n",
    "model2.add(TimeDistributed(Dense(units=1, activation='linear'), name='Output-Layer')) # Output Layer, Linear(x) = x\n",
    "#optimizer=Adam(.005)\n",
    "model2.compile(optimizer='adam', # default='rmsprop', an algorithm to be used in backpropagation\n",
    "              loss='mean_squared_error', # Loss function to be optimized. A string (name of loss function), or a tf.keras.losses.Loss instance.\n",
    "              metrics=['MeanSquaredError', 'mean_absolute_error'], # List of metrics to be evaluated by the model during training and testing. Each of this can be a string (name of a built-in function), function or a tf.keras.metrics.Metric instance. \n",
    "              loss_weights=None, # default=None, Optional list or dictionary specifying scalar coefficients (Python floats) to weight the loss contributions of different model outputs.\n",
    "              weighted_metrics=None, # default=None, List of metrics to be evaluated and weighted by sample_weight or class_weight during training and testing.\n",
    "              run_eagerly=None, # Defaults to False. If True, this Model's logic will not be wrapped in a tf.function. Recommended to leave this as None unless your Model cannot be run inside a tf.function.\n",
    "              steps_per_execution=None, # Defaults to 1. The number of batches to run during each tf.function call. Running multiple batches inside a single tf.function call can greatly improve performance on TPUs or small models with a large Python overhead.\n",
    "                   \n",
    "             )"
   ]
  },
  {
   "cell_type": "code",
   "execution_count": 36,
   "metadata": {},
   "outputs": [],
   "source": [
    "##### Train model"
   ]
  },
  {
   "cell_type": "code",
   "execution_count": 37,
   "metadata": {},
   "outputs": [
    {
     "name": "stdout",
     "output_type": "stream",
     "text": [
      "Epoch 1/100\n",
      "1028/1028 - 6s - loss: 55.8900 - mean_squared_error: 55.8900 - mean_absolute_error: 4.3743 - val_loss: 21.5732 - val_mean_squared_error: 21.5732 - val_mean_absolute_error: 3.3340 - 6s/epoch - 6ms/step\n",
      "Epoch 2/100\n",
      "1028/1028 - 5s - loss: 19.9607 - mean_squared_error: 19.9607 - mean_absolute_error: 3.2717 - val_loss: 20.0080 - val_mean_squared_error: 20.0080 - val_mean_absolute_error: 3.3294 - 5s/epoch - 5ms/step\n",
      "Epoch 3/100\n",
      "1028/1028 - 5s - loss: 19.1260 - mean_squared_error: 19.1260 - mean_absolute_error: 3.2178 - val_loss: 20.0273 - val_mean_squared_error: 20.0273 - val_mean_absolute_error: 3.2206 - 5s/epoch - 5ms/step\n",
      "Epoch 4/100\n",
      "1028/1028 - 5s - loss: 18.6593 - mean_squared_error: 18.6594 - mean_absolute_error: 3.1823 - val_loss: 19.5287 - val_mean_squared_error: 19.5287 - val_mean_absolute_error: 3.2787 - 5s/epoch - 5ms/step\n",
      "Epoch 5/100\n",
      "1028/1028 - 5s - loss: 18.2828 - mean_squared_error: 18.2828 - mean_absolute_error: 3.1534 - val_loss: 19.5848 - val_mean_squared_error: 19.5848 - val_mean_absolute_error: 3.2369 - 5s/epoch - 5ms/step\n",
      "Epoch 6/100\n",
      "1028/1028 - 5s - loss: 17.7782 - mean_squared_error: 17.7782 - mean_absolute_error: 3.1065 - val_loss: 18.4960 - val_mean_squared_error: 18.4960 - val_mean_absolute_error: 3.2468 - 5s/epoch - 4ms/step\n",
      "Epoch 7/100\n",
      "1028/1028 - 5s - loss: 17.1973 - mean_squared_error: 17.1973 - mean_absolute_error: 3.0547 - val_loss: 17.9275 - val_mean_squared_error: 17.9275 - val_mean_absolute_error: 3.0945 - 5s/epoch - 4ms/step\n",
      "Epoch 8/100\n",
      "1028/1028 - 5s - loss: 16.9033 - mean_squared_error: 16.9033 - mean_absolute_error: 3.0200 - val_loss: 17.3159 - val_mean_squared_error: 17.3159 - val_mean_absolute_error: 3.0387 - 5s/epoch - 5ms/step\n",
      "Epoch 9/100\n",
      "1028/1028 - 5s - loss: 16.6445 - mean_squared_error: 16.6444 - mean_absolute_error: 2.9883 - val_loss: 16.7927 - val_mean_squared_error: 16.7927 - val_mean_absolute_error: 2.9925 - 5s/epoch - 5ms/step\n",
      "Epoch 10/100\n",
      "1028/1028 - 5s - loss: 16.2355 - mean_squared_error: 16.2355 - mean_absolute_error: 2.9455 - val_loss: 16.8311 - val_mean_squared_error: 16.8311 - val_mean_absolute_error: 2.9794 - 5s/epoch - 5ms/step\n",
      "Epoch 11/100\n",
      "1028/1028 - 5s - loss: 16.0920 - mean_squared_error: 16.0920 - mean_absolute_error: 2.9247 - val_loss: 15.9417 - val_mean_squared_error: 15.9417 - val_mean_absolute_error: 2.9206 - 5s/epoch - 4ms/step\n",
      "Epoch 12/100\n",
      "1028/1028 - 5s - loss: 15.7655 - mean_squared_error: 15.7656 - mean_absolute_error: 2.8860 - val_loss: 17.0095 - val_mean_squared_error: 17.0095 - val_mean_absolute_error: 2.9586 - 5s/epoch - 4ms/step\n",
      "Epoch 13/100\n",
      "1028/1028 - 5s - loss: 15.4296 - mean_squared_error: 15.4296 - mean_absolute_error: 2.8460 - val_loss: 15.7256 - val_mean_squared_error: 15.7256 - val_mean_absolute_error: 2.8522 - 5s/epoch - 5ms/step\n",
      "Epoch 14/100\n",
      "1028/1028 - 6s - loss: 15.3231 - mean_squared_error: 15.3232 - mean_absolute_error: 2.8281 - val_loss: 15.6293 - val_mean_squared_error: 15.6293 - val_mean_absolute_error: 2.8732 - 6s/epoch - 5ms/step\n",
      "Epoch 15/100\n",
      "1028/1028 - 6s - loss: 14.9533 - mean_squared_error: 14.9533 - mean_absolute_error: 2.7862 - val_loss: 15.6294 - val_mean_squared_error: 15.6294 - val_mean_absolute_error: 2.8144 - 6s/epoch - 6ms/step\n",
      "Epoch 16/100\n",
      "1028/1028 - 6s - loss: 14.8666 - mean_squared_error: 14.8666 - mean_absolute_error: 2.7724 - val_loss: 15.1223 - val_mean_squared_error: 15.1223 - val_mean_absolute_error: 2.7839 - 6s/epoch - 5ms/step\n",
      "Epoch 17/100\n",
      "1028/1028 - 5s - loss: 14.6821 - mean_squared_error: 14.6821 - mean_absolute_error: 2.7490 - val_loss: 15.4313 - val_mean_squared_error: 15.4314 - val_mean_absolute_error: 2.8194 - 5s/epoch - 5ms/step\n",
      "Epoch 18/100\n",
      "1028/1028 - 5s - loss: 14.5383 - mean_squared_error: 14.5383 - mean_absolute_error: 2.7315 - val_loss: 14.6993 - val_mean_squared_error: 14.6993 - val_mean_absolute_error: 2.7361 - 5s/epoch - 5ms/step\n",
      "Epoch 19/100\n",
      "1028/1028 - 5s - loss: 14.4002 - mean_squared_error: 14.4002 - mean_absolute_error: 2.7130 - val_loss: 15.3973 - val_mean_squared_error: 15.3973 - val_mean_absolute_error: 2.7830 - 5s/epoch - 5ms/step\n",
      "Epoch 20/100\n",
      "1028/1028 - 7s - loss: 14.2304 - mean_squared_error: 14.2304 - mean_absolute_error: 2.6916 - val_loss: 14.5455 - val_mean_squared_error: 14.5455 - val_mean_absolute_error: 2.7163 - 7s/epoch - 7ms/step\n",
      "Epoch 21/100\n",
      "1028/1028 - 6s - loss: 14.1990 - mean_squared_error: 14.1991 - mean_absolute_error: 2.6845 - val_loss: 14.5844 - val_mean_squared_error: 14.5844 - val_mean_absolute_error: 2.7369 - 6s/epoch - 6ms/step\n",
      "Epoch 22/100\n",
      "1028/1028 - 5s - loss: 14.0189 - mean_squared_error: 14.0189 - mean_absolute_error: 2.6649 - val_loss: 14.6744 - val_mean_squared_error: 14.6744 - val_mean_absolute_error: 2.7579 - 5s/epoch - 5ms/step\n",
      "Epoch 23/100\n",
      "1028/1028 - 5s - loss: 13.9758 - mean_squared_error: 13.9758 - mean_absolute_error: 2.6554 - val_loss: 13.9384 - val_mean_squared_error: 13.9384 - val_mean_absolute_error: 2.6440 - 5s/epoch - 5ms/step\n",
      "Epoch 24/100\n",
      "1028/1028 - 5s - loss: 13.7231 - mean_squared_error: 13.7231 - mean_absolute_error: 2.6245 - val_loss: 14.0362 - val_mean_squared_error: 14.0362 - val_mean_absolute_error: 2.6445 - 5s/epoch - 5ms/step\n",
      "Epoch 25/100\n",
      "1028/1028 - 5s - loss: 13.6232 - mean_squared_error: 13.6231 - mean_absolute_error: 2.6108 - val_loss: 14.3602 - val_mean_squared_error: 14.3602 - val_mean_absolute_error: 2.7161 - 5s/epoch - 5ms/step\n",
      "Epoch 26/100\n",
      "1028/1028 - 6s - loss: 13.5875 - mean_squared_error: 13.5875 - mean_absolute_error: 2.6044 - val_loss: 14.2636 - val_mean_squared_error: 14.2636 - val_mean_absolute_error: 2.6811 - 6s/epoch - 5ms/step\n",
      "Epoch 27/100\n",
      "1028/1028 - 6s - loss: 13.5475 - mean_squared_error: 13.5475 - mean_absolute_error: 2.5990 - val_loss: 13.7361 - val_mean_squared_error: 13.7360 - val_mean_absolute_error: 2.6012 - 6s/epoch - 6ms/step\n",
      "Epoch 28/100\n",
      "1028/1028 - 5s - loss: 13.3682 - mean_squared_error: 13.3682 - mean_absolute_error: 2.5746 - val_loss: 14.4034 - val_mean_squared_error: 14.4034 - val_mean_absolute_error: 2.6835 - 5s/epoch - 5ms/step\n",
      "Epoch 29/100\n",
      "1028/1028 - 6s - loss: 13.2707 - mean_squared_error: 13.2707 - mean_absolute_error: 2.5633 - val_loss: 13.6190 - val_mean_squared_error: 13.6190 - val_mean_absolute_error: 2.5851 - 6s/epoch - 6ms/step\n",
      "Epoch 30/100\n",
      "1028/1028 - 6s - loss: 13.1164 - mean_squared_error: 13.1164 - mean_absolute_error: 2.5429 - val_loss: 13.7423 - val_mean_squared_error: 13.7423 - val_mean_absolute_error: 2.6120 - 6s/epoch - 6ms/step\n",
      "Epoch 31/100\n",
      "1028/1028 - 6s - loss: 13.1105 - mean_squared_error: 13.1105 - mean_absolute_error: 2.5414 - val_loss: 13.5567 - val_mean_squared_error: 13.5567 - val_mean_absolute_error: 2.5842 - 6s/epoch - 6ms/step\n",
      "Epoch 32/100\n",
      "1028/1028 - 5s - loss: 13.0841 - mean_squared_error: 13.0841 - mean_absolute_error: 2.5356 - val_loss: 13.2738 - val_mean_squared_error: 13.2738 - val_mean_absolute_error: 2.5506 - 5s/epoch - 5ms/step\n",
      "Epoch 33/100\n",
      "1028/1028 - 5s - loss: 12.9832 - mean_squared_error: 12.9832 - mean_absolute_error: 2.5233 - val_loss: 13.3751 - val_mean_squared_error: 13.3751 - val_mean_absolute_error: 2.5528 - 5s/epoch - 5ms/step\n",
      "Epoch 34/100\n",
      "1028/1028 - 5s - loss: 12.9276 - mean_squared_error: 12.9276 - mean_absolute_error: 2.5142 - val_loss: 13.2545 - val_mean_squared_error: 13.2546 - val_mean_absolute_error: 2.5379 - 5s/epoch - 5ms/step\n",
      "Epoch 35/100\n",
      "1028/1028 - 6s - loss: 12.8532 - mean_squared_error: 12.8532 - mean_absolute_error: 2.5033 - val_loss: 13.8178 - val_mean_squared_error: 13.8178 - val_mean_absolute_error: 2.6158 - 6s/epoch - 6ms/step\n",
      "Epoch 36/100\n",
      "1028/1028 - 6s - loss: 12.7909 - mean_squared_error: 12.7909 - mean_absolute_error: 2.4938 - val_loss: 13.1789 - val_mean_squared_error: 13.1789 - val_mean_absolute_error: 2.5255 - 6s/epoch - 6ms/step\n",
      "Epoch 37/100\n",
      "1028/1028 - 6s - loss: 12.7516 - mean_squared_error: 12.7516 - mean_absolute_error: 2.4861 - val_loss: 13.4276 - val_mean_squared_error: 13.4276 - val_mean_absolute_error: 2.5896 - 6s/epoch - 6ms/step\n",
      "Epoch 38/100\n",
      "1028/1028 - 6s - loss: 12.6315 - mean_squared_error: 12.6315 - mean_absolute_error: 2.4720 - val_loss: 12.9513 - val_mean_squared_error: 12.9513 - val_mean_absolute_error: 2.5020 - 6s/epoch - 6ms/step\n",
      "Epoch 39/100\n",
      "1028/1028 - 6s - loss: 12.6570 - mean_squared_error: 12.6570 - mean_absolute_error: 2.4734 - val_loss: 12.9838 - val_mean_squared_error: 12.9838 - val_mean_absolute_error: 2.4989 - 6s/epoch - 5ms/step\n",
      "Epoch 40/100\n",
      "1028/1028 - 5s - loss: 12.6482 - mean_squared_error: 12.6481 - mean_absolute_error: 2.4691 - val_loss: 12.9640 - val_mean_squared_error: 12.9640 - val_mean_absolute_error: 2.4652 - 5s/epoch - 5ms/step\n",
      "Epoch 41/100\n",
      "1028/1028 - 5s - loss: 12.4910 - mean_squared_error: 12.4910 - mean_absolute_error: 2.4507 - val_loss: 12.8740 - val_mean_squared_error: 12.8740 - val_mean_absolute_error: 2.5020 - 5s/epoch - 5ms/step\n",
      "Epoch 42/100\n",
      "1028/1028 - 6s - loss: 12.4990 - mean_squared_error: 12.4991 - mean_absolute_error: 2.4510 - val_loss: 12.8091 - val_mean_squared_error: 12.8091 - val_mean_absolute_error: 2.4918 - 6s/epoch - 5ms/step\n",
      "Epoch 43/100\n",
      "1028/1028 - 5s - loss: 12.4236 - mean_squared_error: 12.4236 - mean_absolute_error: 2.4395 - val_loss: 13.0940 - val_mean_squared_error: 13.0940 - val_mean_absolute_error: 2.4959 - 5s/epoch - 5ms/step\n",
      "Epoch 44/100\n",
      "1028/1028 - 5s - loss: 12.4191 - mean_squared_error: 12.4191 - mean_absolute_error: 2.4378 - val_loss: 12.9931 - val_mean_squared_error: 12.9931 - val_mean_absolute_error: 2.5000 - 5s/epoch - 5ms/step\n",
      "Epoch 45/100\n",
      "1028/1028 - 5s - loss: 12.3636 - mean_squared_error: 12.3636 - mean_absolute_error: 2.4286 - val_loss: 12.7669 - val_mean_squared_error: 12.7669 - val_mean_absolute_error: 2.4474 - 5s/epoch - 5ms/step\n",
      "Epoch 46/100\n",
      "1028/1028 - 5s - loss: 12.3491 - mean_squared_error: 12.3491 - mean_absolute_error: 2.4252 - val_loss: 12.6340 - val_mean_squared_error: 12.6340 - val_mean_absolute_error: 2.4648 - 5s/epoch - 4ms/step\n",
      "Epoch 47/100\n",
      "1028/1028 - 5s - loss: 12.3313 - mean_squared_error: 12.3313 - mean_absolute_error: 2.4221 - val_loss: 12.5683 - val_mean_squared_error: 12.5683 - val_mean_absolute_error: 2.4420 - 5s/epoch - 4ms/step\n",
      "Epoch 48/100\n",
      "1028/1028 - 5s - loss: 12.2035 - mean_squared_error: 12.2035 - mean_absolute_error: 2.4070 - val_loss: 12.5397 - val_mean_squared_error: 12.5397 - val_mean_absolute_error: 2.4309 - 5s/epoch - 5ms/step\n",
      "Epoch 49/100\n",
      "1028/1028 - 5s - loss: 12.3065 - mean_squared_error: 12.3065 - mean_absolute_error: 2.4193 - val_loss: 12.6385 - val_mean_squared_error: 12.6385 - val_mean_absolute_error: 2.4604 - 5s/epoch - 5ms/step\n",
      "Epoch 50/100\n",
      "1028/1028 - 5s - loss: 12.1474 - mean_squared_error: 12.1473 - mean_absolute_error: 2.3969 - val_loss: 12.5324 - val_mean_squared_error: 12.5324 - val_mean_absolute_error: 2.4450 - 5s/epoch - 5ms/step\n",
      "Epoch 51/100\n",
      "1028/1028 - 5s - loss: 12.1946 - mean_squared_error: 12.1946 - mean_absolute_error: 2.4025 - val_loss: 13.1265 - val_mean_squared_error: 13.1265 - val_mean_absolute_error: 2.4952 - 5s/epoch - 5ms/step\n",
      "Epoch 52/100\n",
      "1028/1028 - 5s - loss: 12.0779 - mean_squared_error: 12.0779 - mean_absolute_error: 2.3851 - val_loss: 12.8858 - val_mean_squared_error: 12.8858 - val_mean_absolute_error: 2.4832 - 5s/epoch - 5ms/step\n",
      "Epoch 53/100\n",
      "1028/1028 - 5s - loss: 12.0927 - mean_squared_error: 12.0927 - mean_absolute_error: 2.3886 - val_loss: 12.4618 - val_mean_squared_error: 12.4618 - val_mean_absolute_error: 2.4329 - 5s/epoch - 5ms/step\n",
      "Epoch 54/100\n",
      "1028/1028 - 5s - loss: 12.0819 - mean_squared_error: 12.0819 - mean_absolute_error: 2.3856 - val_loss: 12.3591 - val_mean_squared_error: 12.3591 - val_mean_absolute_error: 2.4103 - 5s/epoch - 5ms/step\n",
      "Epoch 55/100\n",
      "1028/1028 - 5s - loss: 12.0291 - mean_squared_error: 12.0292 - mean_absolute_error: 2.3767 - val_loss: 12.8134 - val_mean_squared_error: 12.8134 - val_mean_absolute_error: 2.4612 - 5s/epoch - 5ms/step\n",
      "Epoch 56/100\n",
      "1028/1028 - 5s - loss: 12.0713 - mean_squared_error: 12.0714 - mean_absolute_error: 2.3832 - val_loss: 12.4801 - val_mean_squared_error: 12.4801 - val_mean_absolute_error: 2.4149 - 5s/epoch - 5ms/step\n",
      "Epoch 57/100\n",
      "1028/1028 - 5s - loss: 11.9856 - mean_squared_error: 11.9856 - mean_absolute_error: 2.3723 - val_loss: 12.8796 - val_mean_squared_error: 12.8796 - val_mean_absolute_error: 2.4660 - 5s/epoch - 5ms/step\n",
      "Epoch 58/100\n",
      "1028/1028 - 5s - loss: 11.9307 - mean_squared_error: 11.9307 - mean_absolute_error: 2.3647 - val_loss: 12.1842 - val_mean_squared_error: 12.1842 - val_mean_absolute_error: 2.3789 - 5s/epoch - 5ms/step\n",
      "Epoch 59/100\n",
      "1028/1028 - 5s - loss: 11.9539 - mean_squared_error: 11.9539 - mean_absolute_error: 2.3669 - val_loss: 12.2206 - val_mean_squared_error: 12.2206 - val_mean_absolute_error: 2.3964 - 5s/epoch - 5ms/step\n",
      "Epoch 60/100\n",
      "1028/1028 - 5s - loss: 11.9051 - mean_squared_error: 11.9050 - mean_absolute_error: 2.3590 - val_loss: 12.3375 - val_mean_squared_error: 12.3375 - val_mean_absolute_error: 2.4058 - 5s/epoch - 5ms/step\n",
      "Epoch 61/100\n",
      "1028/1028 - 5s - loss: 11.8789 - mean_squared_error: 11.8789 - mean_absolute_error: 2.3562 - val_loss: 12.4426 - val_mean_squared_error: 12.4426 - val_mean_absolute_error: 2.3997 - 5s/epoch - 5ms/step\n",
      "Epoch 62/100\n",
      "1028/1028 - 5s - loss: 11.9017 - mean_squared_error: 11.9017 - mean_absolute_error: 2.3549 - val_loss: 12.4567 - val_mean_squared_error: 12.4567 - val_mean_absolute_error: 2.3975 - 5s/epoch - 5ms/step\n",
      "Epoch 63/100\n",
      "1028/1028 - 5s - loss: 11.8309 - mean_squared_error: 11.8309 - mean_absolute_error: 2.3490 - val_loss: 12.2193 - val_mean_squared_error: 12.2193 - val_mean_absolute_error: 2.3581 - 5s/epoch - 5ms/step\n",
      "Epoch 64/100\n",
      "1028/1028 - 5s - loss: 11.8107 - mean_squared_error: 11.8107 - mean_absolute_error: 2.3450 - val_loss: 12.2352 - val_mean_squared_error: 12.2352 - val_mean_absolute_error: 2.3678 - 5s/epoch - 5ms/step\n",
      "Epoch 65/100\n",
      "1028/1028 - 5s - loss: 11.8166 - mean_squared_error: 11.8166 - mean_absolute_error: 2.3439 - val_loss: 12.3823 - val_mean_squared_error: 12.3823 - val_mean_absolute_error: 2.4036 - 5s/epoch - 5ms/step\n",
      "Epoch 66/100\n",
      "1028/1028 - 5s - loss: 11.8812 - mean_squared_error: 11.8812 - mean_absolute_error: 2.3534 - val_loss: 12.2146 - val_mean_squared_error: 12.2146 - val_mean_absolute_error: 2.3832 - 5s/epoch - 5ms/step\n",
      "Epoch 67/100\n",
      "1028/1028 - 5s - loss: 11.7474 - mean_squared_error: 11.7474 - mean_absolute_error: 2.3329 - val_loss: 12.1267 - val_mean_squared_error: 12.1267 - val_mean_absolute_error: 2.3370 - 5s/epoch - 5ms/step\n",
      "Epoch 68/100\n",
      "1028/1028 - 5s - loss: 11.7519 - mean_squared_error: 11.7520 - mean_absolute_error: 2.3341 - val_loss: 12.0853 - val_mean_squared_error: 12.0853 - val_mean_absolute_error: 2.3422 - 5s/epoch - 5ms/step\n",
      "Epoch 69/100\n",
      "1028/1028 - 5s - loss: 11.7799 - mean_squared_error: 11.7799 - mean_absolute_error: 2.3411 - val_loss: 12.4142 - val_mean_squared_error: 12.4142 - val_mean_absolute_error: 2.4004 - 5s/epoch - 5ms/step\n",
      "Epoch 70/100\n",
      "1028/1028 - 5s - loss: 11.7099 - mean_squared_error: 11.7099 - mean_absolute_error: 2.3277 - val_loss: 12.0792 - val_mean_squared_error: 12.0792 - val_mean_absolute_error: 2.3634 - 5s/epoch - 4ms/step\n",
      "Epoch 71/100\n",
      "1028/1028 - 5s - loss: 11.6935 - mean_squared_error: 11.6935 - mean_absolute_error: 2.3281 - val_loss: 12.0591 - val_mean_squared_error: 12.0591 - val_mean_absolute_error: 2.3484 - 5s/epoch - 5ms/step\n",
      "Epoch 72/100\n",
      "1028/1028 - 5s - loss: 11.7139 - mean_squared_error: 11.7139 - mean_absolute_error: 2.3294 - val_loss: 12.2584 - val_mean_squared_error: 12.2584 - val_mean_absolute_error: 2.3873 - 5s/epoch - 5ms/step\n",
      "Epoch 73/100\n",
      "1028/1028 - 6s - loss: 11.6155 - mean_squared_error: 11.6155 - mean_absolute_error: 2.3123 - val_loss: 11.9837 - val_mean_squared_error: 11.9837 - val_mean_absolute_error: 2.3505 - 6s/epoch - 6ms/step\n",
      "Epoch 74/100\n",
      "1028/1028 - 6s - loss: 11.6114 - mean_squared_error: 11.6114 - mean_absolute_error: 2.3122 - val_loss: 12.1533 - val_mean_squared_error: 12.1533 - val_mean_absolute_error: 2.3647 - 6s/epoch - 6ms/step\n",
      "Epoch 75/100\n",
      "1028/1028 - 5s - loss: 11.5916 - mean_squared_error: 11.5917 - mean_absolute_error: 2.3112 - val_loss: 12.2620 - val_mean_squared_error: 12.2620 - val_mean_absolute_error: 2.4108 - 5s/epoch - 5ms/step\n",
      "Epoch 76/100\n",
      "1028/1028 - 5s - loss: 11.6244 - mean_squared_error: 11.6244 - mean_absolute_error: 2.3143 - val_loss: 12.0757 - val_mean_squared_error: 12.0757 - val_mean_absolute_error: 2.3357 - 5s/epoch - 5ms/step\n",
      "Epoch 77/100\n",
      "1028/1028 - 5s - loss: 11.5812 - mean_squared_error: 11.5811 - mean_absolute_error: 2.3106 - val_loss: 12.3634 - val_mean_squared_error: 12.3634 - val_mean_absolute_error: 2.4068 - 5s/epoch - 5ms/step\n",
      "Epoch 78/100\n",
      "1028/1028 - 6s - loss: 11.5545 - mean_squared_error: 11.5544 - mean_absolute_error: 2.3050 - val_loss: 12.1886 - val_mean_squared_error: 12.1886 - val_mean_absolute_error: 2.3665 - 6s/epoch - 6ms/step\n",
      "Epoch 79/100\n",
      "1028/1028 - 5s - loss: 11.5459 - mean_squared_error: 11.5459 - mean_absolute_error: 2.3037 - val_loss: 12.3674 - val_mean_squared_error: 12.3674 - val_mean_absolute_error: 2.4020 - 5s/epoch - 5ms/step\n",
      "Epoch 80/100\n",
      "1028/1028 - 5s - loss: 11.5418 - mean_squared_error: 11.5418 - mean_absolute_error: 2.3027 - val_loss: 12.2650 - val_mean_squared_error: 12.2650 - val_mean_absolute_error: 2.3782 - 5s/epoch - 5ms/step\n",
      "Epoch 81/100\n",
      "1028/1028 - 5s - loss: 11.5545 - mean_squared_error: 11.5545 - mean_absolute_error: 2.3060 - val_loss: 11.8628 - val_mean_squared_error: 11.8628 - val_mean_absolute_error: 2.3115 - 5s/epoch - 5ms/step\n",
      "Epoch 82/100\n",
      "1028/1028 - 5s - loss: 11.5218 - mean_squared_error: 11.5218 - mean_absolute_error: 2.2971 - val_loss: 12.1325 - val_mean_squared_error: 12.1325 - val_mean_absolute_error: 2.3858 - 5s/epoch - 5ms/step\n",
      "Epoch 83/100\n",
      "1028/1028 - 5s - loss: 11.4988 - mean_squared_error: 11.4987 - mean_absolute_error: 2.2949 - val_loss: 11.8547 - val_mean_squared_error: 11.8547 - val_mean_absolute_error: 2.3214 - 5s/epoch - 5ms/step\n",
      "Epoch 84/100\n",
      "1028/1028 - 5s - loss: 11.4580 - mean_squared_error: 11.4580 - mean_absolute_error: 2.2870 - val_loss: 12.0364 - val_mean_squared_error: 12.0364 - val_mean_absolute_error: 2.3781 - 5s/epoch - 5ms/step\n",
      "Epoch 85/100\n",
      "1028/1028 - 6s - loss: 11.4411 - mean_squared_error: 11.4411 - mean_absolute_error: 2.2881 - val_loss: 11.9303 - val_mean_squared_error: 11.9303 - val_mean_absolute_error: 2.3422 - 6s/epoch - 5ms/step\n",
      "Epoch 86/100\n",
      "1028/1028 - 5s - loss: 11.4345 - mean_squared_error: 11.4345 - mean_absolute_error: 2.2863 - val_loss: 11.7949 - val_mean_squared_error: 11.7949 - val_mean_absolute_error: 2.3316 - 5s/epoch - 5ms/step\n",
      "Epoch 87/100\n",
      "1028/1028 - 5s - loss: 11.4776 - mean_squared_error: 11.4776 - mean_absolute_error: 2.2923 - val_loss: 11.9649 - val_mean_squared_error: 11.9649 - val_mean_absolute_error: 2.3368 - 5s/epoch - 5ms/step\n",
      "Epoch 88/100\n",
      "1028/1028 - 6s - loss: 11.4826 - mean_squared_error: 11.4826 - mean_absolute_error: 2.2918 - val_loss: 12.0460 - val_mean_squared_error: 12.0460 - val_mean_absolute_error: 2.3631 - 6s/epoch - 6ms/step\n",
      "Epoch 89/100\n",
      "1028/1028 - 5s - loss: 11.3662 - mean_squared_error: 11.3662 - mean_absolute_error: 2.2754 - val_loss: 12.0839 - val_mean_squared_error: 12.0839 - val_mean_absolute_error: 2.3535 - 5s/epoch - 5ms/step\n",
      "Epoch 90/100\n",
      "1028/1028 - 6s - loss: 11.4011 - mean_squared_error: 11.4011 - mean_absolute_error: 2.2805 - val_loss: 12.0342 - val_mean_squared_error: 12.0342 - val_mean_absolute_error: 2.3790 - 6s/epoch - 5ms/step\n",
      "Epoch 91/100\n",
      "1028/1028 - 6s - loss: 11.3847 - mean_squared_error: 11.3847 - mean_absolute_error: 2.2747 - val_loss: 11.7947 - val_mean_squared_error: 11.7947 - val_mean_absolute_error: 2.3047 - 6s/epoch - 5ms/step\n",
      "Epoch 92/100\n",
      "1028/1028 - 6s - loss: 11.3985 - mean_squared_error: 11.3985 - mean_absolute_error: 2.2784 - val_loss: 12.3774 - val_mean_squared_error: 12.3774 - val_mean_absolute_error: 2.3820 - 6s/epoch - 6ms/step\n",
      "Epoch 93/100\n",
      "1028/1028 - 6s - loss: 11.4653 - mean_squared_error: 11.4653 - mean_absolute_error: 2.2878 - val_loss: 11.8288 - val_mean_squared_error: 11.8288 - val_mean_absolute_error: 2.3121 - 6s/epoch - 6ms/step\n",
      "Epoch 94/100\n",
      "1028/1028 - 6s - loss: 11.3584 - mean_squared_error: 11.3584 - mean_absolute_error: 2.2738 - val_loss: 11.8548 - val_mean_squared_error: 11.8548 - val_mean_absolute_error: 2.3329 - 6s/epoch - 6ms/step\n",
      "Epoch 95/100\n",
      "1028/1028 - 6s - loss: 11.3351 - mean_squared_error: 11.3351 - mean_absolute_error: 2.2673 - val_loss: 11.7624 - val_mean_squared_error: 11.7624 - val_mean_absolute_error: 2.2916 - 6s/epoch - 6ms/step\n",
      "Epoch 96/100\n",
      "1028/1028 - 6s - loss: 11.2736 - mean_squared_error: 11.2736 - mean_absolute_error: 2.2601 - val_loss: 11.7132 - val_mean_squared_error: 11.7132 - val_mean_absolute_error: 2.3034 - 6s/epoch - 6ms/step\n",
      "Epoch 97/100\n",
      "1028/1028 - 5s - loss: 11.3433 - mean_squared_error: 11.3433 - mean_absolute_error: 2.2698 - val_loss: 12.0381 - val_mean_squared_error: 12.0381 - val_mean_absolute_error: 2.3650 - 5s/epoch - 5ms/step\n",
      "Epoch 98/100\n",
      "1028/1028 - 5s - loss: 11.3623 - mean_squared_error: 11.3623 - mean_absolute_error: 2.2712 - val_loss: 12.1796 - val_mean_squared_error: 12.1796 - val_mean_absolute_error: 2.3649 - 5s/epoch - 5ms/step\n",
      "Epoch 99/100\n",
      "1028/1028 - 5s - loss: 11.2680 - mean_squared_error: 11.2680 - mean_absolute_error: 2.2607 - val_loss: 11.7829 - val_mean_squared_error: 11.7829 - val_mean_absolute_error: 2.2847 - 5s/epoch - 5ms/step\n",
      "Epoch 100/100\n",
      "1028/1028 - 5s - loss: 11.2620 - mean_squared_error: 11.2620 - mean_absolute_error: 2.2582 - val_loss: 12.0751 - val_mean_squared_error: 12.0751 - val_mean_absolute_error: 2.3497 - 5s/epoch - 5ms/step\n"
     ]
    }
   ],
   "source": [
    "\n",
    "history = model2.fit(X_train, # input data\n",
    "                    Y_train, # target data\n",
    "                    batch_size=32, # Number of samples per gradient update. If unspecified, batch_size will default to 32.\n",
    "                    epochs=100, # default=1, Number of epochs to train the model. An epoch is an iteration over the entire x and y data provided\n",
    "                    verbose=2, # default='auto', ('auto', 0, 1, or 2). Verbosity mode. 0 = silent, 1 = progress bar, 2 = one line per epoch. 'auto' defaults to 1 for most cases, but 2 when used with ParameterServerStrategy.\n",
    "                    callbacks=None, # default=None, list of callbacks to apply during training. See tf.keras.callbacks\n",
    "                    validation_split=0.25, # default=0.0, Fraction of the training data to be used as validation data. The model will set apart this fraction of the training data, will not train on it, and will evaluate the loss and any model metrics on this data at the end of each epoch. \n",
    "                    #validation_data=(X_test, y_test), # default=None, Data on which to evaluate the loss and any model metrics at the end of each epoch. \n",
    "                    shuffle=True, # default=True, Boolean (whether to shuffle the training data before each epoch) or str (for 'batch').\n",
    "                    class_weight=None, # default=None, Optional dictionary mapping class indices (integers) to a weight (float) value, used for weighting the loss function (during training only). This can be useful to tell the model to \"pay more attention\" to samples from an under-represented class.\n",
    "                    sample_weight=None, # default=None, Optional Numpy array of weights for the training samples, used for weighting the loss function (during training only).\n",
    "                    initial_epoch=0, # Integer, default=0, Epoch at which to start training (useful for resuming a previous training run).\n",
    "                    steps_per_epoch=None, # Integer or None, default=None, Total number of steps (batches of samples) before declaring one epoch finished and starting the next epoch. When training with input tensors such as TensorFlow data tensors, the default None is equal to the number of samples in your dataset divided by the batch size, or 1 if that cannot be determined. \n",
    "                    validation_steps=None, # Only relevant if validation_data is provided and is a tf.data dataset. Total number of steps (batches of samples) to draw before stopping when performing validation at the end of every epoch.\n",
    "                    validation_batch_size=None, # Integer or None, default=None, Number of samples per validation batch. If unspecified, will default to batch_size.\n",
    "                    validation_freq=1, # default=1, Only relevant if validation data is provided. If an integer, specifies how many training epochs to run before a new validation run is performed, e.g. validation_freq=2 runs validation every 2 epochs.\n",
    "                    max_queue_size=10, # default=10, Used for generator or keras.utils.Sequence input only. Maximum size for the generator queue. If unspecified, max_queue_size will default to 10.\n",
    "                    workers=1, # default=1, Used for generator or keras.utils.Sequence input only. Maximum number of processes to spin up when using process-based threading. If unspecified, workers will default to 1.\n",
    "                    use_multiprocessing=True, # default=False, Used for generator or keras.utils.Sequence input only. If True, use process-based threading. If unspecified, use_multiprocessing will default to False. \n",
    "                \n",
    "                   )\n",
    "\n",
    "\n"
   ]
  },
  {
   "cell_type": "markdown",
   "metadata": {},
   "source": [
    "##### Step 4 - Plot loss over epochs"
   ]
  },
  {
   "cell_type": "code",
   "execution_count": 38,
   "metadata": {},
   "outputs": [
    {
     "data": {
      "image/png": "[encoded data removed]",
      "text/plain": [
       "<Figure size 432x288 with 1 Axes>"
      ]
     },
     "metadata": {
      "needs_background": "light"
     },
     "output_type": "display_data"
    }
   ],
   "source": [
    "#loss: 4.2573 - mean_squared_error: 4.2572 - accuracy: 0.0000e+00 - val_loss: 4.6314 - val_mean_squared_error: 4.6314\n",
    "# Gather the trained model's weight and bias.\n",
    "trained_weight = model2.get_weights()[0]\n",
    "trained_bias = model2.get_weights()[1]\n",
    "\n",
    "  # The list of epochs is stored separately from the \n",
    "  # rest of history.\n",
    "epochs = history.epoch\n",
    "  \n",
    "  # Gather the history (a snapshot) of each epoch.\n",
    "#hist = pd.DataFrame(history.history)\n",
    "\n",
    "  # Specifically gather the model's root mean \n",
    "  # squared error at each epoch. \n",
    "mse = history.history[\"mean_squared_error\"]\n",
    "\n",
    "#plot_the_model(trained_weight, trained_bias, X_test, Y_train)\n",
    "plot_the_loss_curve(epochs, mse)"
   ]
  },
  {
   "cell_type": "markdown",
   "metadata": {},
   "source": [
    "##### Step 5 - Print Performance Summary"
   ]
  },
  {
   "cell_type": "code",
   "execution_count": 39,
   "metadata": {},
   "outputs": [
    {
     "name": "stdout",
     "output_type": "stream",
     "text": [
      "\n",
      "-------------------- Model Summary --------------------\n",
      "Model: \"LSTM-Model\"\n",
      "_________________________________________________________________\n",
      " Layer (type)                Output Shape              Param #   \n",
      "=================================================================\n",
      " lstm_2 (LSTM)               (None, 10, 64)            16896     \n",
      "                                                                 \n",
      " Output-Layer (TimeDistribut  (None, 10, 1)            65        \n",
      " ed)                                                             \n",
      "                                                                 \n",
      "=================================================================\n",
      "Total params: 16,961\n",
      "Trainable params: 16,961\n",
      "Non-trainable params: 0\n",
      "_________________________________________________________________\n",
      "\n",
      "-------------------- Weights and Biases --------------------\n",
      "Too many parameters to print but you can use the code provided if needed\n",
      "\n",
      "-------------------- Evaluation on Training Data --------------------\n",
      "Final loss : 11.262046813964844\n",
      "Final mean_squared_error : 11.262045860290527\n",
      "Final mean_absolute_error : 2.258164882659912\n",
      "Final val_loss : 12.07507038116455\n",
      "Final val_mean_squared_error : 12.0750732421875\n",
      "Final val_mean_absolute_error : 2.3497183322906494\n",
      "\n",
      "-------------------- Evaluation on Test Data --------------------\n",
      "345/345 [==============================] - 1s 2ms/step - loss: 12.0490 - mean_squared_error: 12.0490 - mean_absolute_error: 2.3349\n",
      "\n"
     ]
    }
   ],
   "source": [
    "print(\"\")\n",
    "print('-------------------- Model Summary --------------------')\n",
    "model2.summary() # print model summary\n",
    "print(\"\")\n",
    "print('-------------------- Weights and Biases --------------------')\n",
    "print(\"Too many parameters to print but you can use the code provided if needed\")\n",
    "print(\"\")\n",
    "#for layer in model.layers:\n",
    "#    print(layer.name)\n",
    "#    for item in layer.get_weights():\n",
    "#        print(\"  \", item)\n",
    "#print(\"\")\n",
    "\n",
    "# Print the last value in the evaluation metrics contained within history file\n",
    "print('-------------------- Evaluation on Training Data --------------------')\n",
    "for item in history.history:\n",
    "    print(\"Final\", item, \":\", history.history[item][-1])\n",
    "print(\"\")\n",
    "\n",
    "# Evaluate the model on the test data using \"evaluate\"\n",
    "print('-------------------- Evaluation on Test Data --------------------')\n",
    "results = model2.evaluate(X_test, Y_test)\n",
    "print(\"\")"
   ]
  },
  {
   "cell_type": "code",
   "execution_count": 40,
   "metadata": {},
   "outputs": [],
   "source": [
    "#loss: 6.1995 - mean_squared_error: 6.1995 normalize01  loss: 6.8981 - mean_squared_error: 6.8981 - accuracy: 0.0000e+00// After new set loss: 6.3898 - mean_squared_error: 6.3898 - accuracy: 0.0000e+00   mean_squared_error: 5.7319 - accurac\n",
    "\n",
    "\n",
    "# from keras.utils import plot_model,model_to_dot\n",
    "# plot_model(model2, show_shapes=True, to_file='plotmodelbilstm0810.png')\n"
   ]
  },
  {
   "cell_type": "code",
   "execution_count": 41,
   "metadata": {},
   "outputs": [
    {
     "name": "stdout",
     "output_type": "stream",
     "text": [
      "345/345 [==============================] - 1s 2ms/step\n"
     ]
    },
    {
     "data": {
      "text/plain": [
       "array([[[ -6.470539 ],\n",
       "        [-15.236693 ],\n",
       "        [-21.553677 ],\n",
       "        ...,\n",
       "        [-25.035913 ],\n",
       "        [-27.988504 ],\n",
       "        [-27.107512 ]],\n",
       "\n",
       "       [[ -8.4643755],\n",
       "        [ -9.588243 ],\n",
       "        [-11.979795 ],\n",
       "        ...,\n",
       "        [-25.11542  ],\n",
       "        [-21.939857 ],\n",
       "        [-24.548952 ]],\n",
       "\n",
       "       [[ -5.799167 ],\n",
       "        [ -7.726767 ],\n",
       "        [-14.198628 ],\n",
       "        ...,\n",
       "        [-24.662167 ],\n",
       "        [-24.216106 ],\n",
       "        [-23.662964 ]],\n",
       "\n",
       "       ...,\n",
       "\n",
       "       [[-69.53846  ],\n",
       "        [-69.83974  ],\n",
       "        [-73.59819  ],\n",
       "        ...,\n",
       "        [-76.16797  ],\n",
       "        [-76.179535 ],\n",
       "        [-75.64682  ]],\n",
       "\n",
       "       [[-69.063    ],\n",
       "        [-73.74817  ],\n",
       "        [-73.61827  ],\n",
       "        ...,\n",
       "        [-76.57269  ],\n",
       "        [-76.323784 ],\n",
       "        [-75.74811  ]],\n",
       "\n",
       "       [[-72.57315  ],\n",
       "        [-72.78199  ],\n",
       "        [-74.34508  ],\n",
       "        ...,\n",
       "        [-77.393456 ],\n",
       "        [-76.907074 ],\n",
       "        [-76.315735 ]]], dtype=float32)"
      ]
     },
     "execution_count": 41,
     "metadata": {},
     "output_type": "execute_result"
    }
   ],
   "source": [
    "pred_test=model2.predict(X_test)\n",
    "\n",
    "pred_test"
   ]
  },
  {
   "cell_type": "code",
   "execution_count": 42,
   "metadata": {},
   "outputs": [
    {
     "data": {
      "text/plain": [
       "(11011, 10, 1)"
      ]
     },
     "execution_count": 42,
     "metadata": {},
     "output_type": "execute_result"
    }
   ],
   "source": [
    "Y_test.shape\n",
    "#1792"
   ]
  },
  {
   "cell_type": "code",
   "execution_count": 43,
   "metadata": {},
   "outputs": [
    {
     "data": {
      "text/plain": [
       "13310"
      ]
     },
     "execution_count": 43,
     "metadata": {},
     "output_type": "execute_result"
    }
   ],
   "source": [
    "test.values.size"
   ]
  },
  {
   "cell_type": "code",
   "execution_count": 44,
   "metadata": {},
   "outputs": [
    {
     "data": {
      "text/plain": [
       "(11011, 10, 1)"
      ]
     },
     "execution_count": 44,
     "metadata": {},
     "output_type": "execute_result"
    }
   ],
   "source": [
    "pred_test.shape"
   ]
  },
  {
   "cell_type": "code",
   "execution_count": 45,
   "metadata": {},
   "outputs": [],
   "source": [
    "# # pred_test = scaler2.inverse_transform(pred_test.reshape(-1, pred_test.shape[-1])).reshape(pred_test.shape)\n",
    "# y=pred_test.flatten()\n",
    "# z=[]\n",
    "# for x in range(910*95,910*96,10): #predictioon\n",
    "#     z.append(y[x])\n",
    "# z\n",
    "# b=Y_test.flatten() #Y test should match prediction\n",
    "# c=[] #wtf is this\n",
    "# for x in range(910*95,910*96,10):\n",
    "#     c.append(b[x])\n",
    "# #c\n",
    "\n",
    "# # d=X_test.flatten() # Y train doesnt match because why\n",
    "# # e=[]\n",
    "# # for x in range(0,10000,1):\n",
    "# #     if(d[x]==0):\n",
    "# #         print(x)\n",
    "# #     e.append(d[x])\n",
    "# # # e\n",
    "y=pred_test.flatten()\n",
    "# y=scaler2.inverse_transform(y.reshape(-1,y.shape[-1])).reshape(y.shape)\n",
    "z=[]\n",
    "for x in range(910*96,910*97,10): #predictioon\n",
    "    z.append(y[x])\n",
    "z\n",
    "\n",
    "b=Y_test.flatten() #Y test should match prediction\n",
    "# b=scaler2.inverse_transform(b.reshape(-1,b.shape[-1])).reshape(b.shape)\n",
    "c=[] #wtf is this\n",
    "for x in range(910*96,910*97,10):\n",
    "    c.append(b[x])"
   ]
  },
  {
   "cell_type": "code",
   "execution_count": 46,
   "metadata": {},
   "outputs": [
    {
     "data": {
      "application/vnd.plotly.v1+json": {
       "config": {
        "plotlyServerURL": "https://plot.ly"
       },
       "data": [
        {
         "line": {
          "color": "grey",
          "width": 5
         },
         "mode": "lines",
         "name": "Subsidence - Actual (YTest)",
         "opacity": 0.8,
         "type": "scatter",
         "x": [
          "2015-07-30T00:00:00.000000000",
          "2015-08-23T00:00:00.000000000",
          "2015-09-16T00:00:00.000000000",
          "2015-10-10T00:00:00.000000000",
          "2015-11-03T00:00:00.000000000",
          "2015-11-27T00:00:00.000000000",
          "2015-12-09T00:00:00.000000000",
          "2015-12-21T00:00:00.000000000",
          "2016-01-14T00:00:00.000000000",
          "2016-01-26T00:00:00.000000000",
          "2016-02-07T00:00:00.000000000",
          "2016-02-19T00:00:00.000000000",
          "2016-03-02T00:00:00.000000000",
          "2016-03-14T00:00:00.000000000",
          "2016-03-26T00:00:00.000000000",
          "2016-04-07T00:00:00.000000000",
          "2016-04-19T00:00:00.000000000",
          "2016-05-01T00:00:00.000000000",
          "2016-05-13T00:00:00.000000000",
          "2016-05-25T00:00:00.000000000",
          "2016-06-06T00:00:00.000000000",
          "2016-06-30T00:00:00.000000000",
          "2016-07-24T00:00:00.000000000",
          "2016-08-17T00:00:00.000000000",
          "2016-09-10T00:00:00.000000000",
          "2016-09-22T00:00:00.000000000",
          "2016-10-04T00:00:00.000000000",
          "2016-10-16T00:00:00.000000000",
          "2016-10-28T00:00:00.000000000",
          "2016-11-09T00:00:00.000000000",
          "2016-11-21T00:00:00.000000000",
          "2016-12-03T00:00:00.000000000",
          "2016-12-15T00:00:00.000000000",
          "2016-12-27T00:00:00.000000000",
          "2017-01-08T00:00:00.000000000",
          "2017-01-14T00:00:00.000000000",
          "2017-01-20T00:00:00.000000000",
          "2017-01-26T00:00:00.000000000",
          "2017-02-01T00:00:00.000000000",
          "2017-02-13T00:00:00.000000000",
          "2017-02-25T00:00:00.000000000",
          "2017-03-09T00:00:00.000000000",
          "2017-03-21T00:00:00.000000000",
          "2017-04-02T00:00:00.000000000",
          "2017-04-14T00:00:00.000000000",
          "2017-04-26T00:00:00.000000000",
          "2017-05-08T00:00:00.000000000",
          "2017-05-20T00:00:00.000000000",
          "2017-06-01T00:00:00.000000000",
          "2017-06-13T00:00:00.000000000",
          "2017-06-25T00:00:00.000000000",
          "2017-07-07T00:00:00.000000000",
          "2017-07-19T00:00:00.000000000",
          "2017-07-31T00:00:00.000000000",
          "2017-08-12T00:00:00.000000000",
          "2017-08-24T00:00:00.000000000",
          "2017-09-05T00:00:00.000000000",
          "2017-09-17T00:00:00.000000000",
          "2017-09-29T00:00:00.000000000",
          "2017-10-11T00:00:00.000000000",
          "2017-10-23T00:00:00.000000000",
          "2017-11-04T00:00:00.000000000",
          "2017-11-16T00:00:00.000000000",
          "2017-11-28T00:00:00.000000000",
          "2017-12-10T00:00:00.000000000",
          "2017-12-22T00:00:00.000000000",
          "2018-01-03T00:00:00.000000000",
          "2018-01-15T00:00:00.000000000",
          "2018-01-27T00:00:00.000000000",
          "2018-02-08T00:00:00.000000000",
          "2018-02-20T00:00:00.000000000",
          "2018-03-04T00:00:00.000000000",
          "2018-03-16T00:00:00.000000000",
          "2018-03-28T00:00:00.000000000",
          "2018-04-09T00:00:00.000000000",
          "2018-04-21T00:00:00.000000000",
          "2018-05-03T00:00:00.000000000",
          "2018-05-15T00:00:00.000000000",
          "2018-05-27T00:00:00.000000000",
          "2018-06-08T00:00:00.000000000",
          "2018-06-20T00:00:00.000000000",
          "2018-07-02T00:00:00.000000000",
          "2018-07-14T00:00:00.000000000",
          "2018-07-26T00:00:00.000000000",
          "2018-08-07T00:00:00.000000000",
          "2018-08-19T00:00:00.000000000",
          "2018-08-31T00:00:00.000000000",
          "2018-09-12T00:00:00.000000000",
          "2018-09-24T00:00:00.000000000",
          "2018-10-06T00:00:00.000000000",
          "2018-10-18T00:00:00.000000000",
          "2018-10-30T00:00:00.000000000",
          "2018-11-11T00:00:00.000000000",
          "2018-11-17T00:00:00.000000000",
          "2018-11-23T00:00:00.000000000",
          "2018-12-05T00:00:00.000000000",
          "2018-12-17T00:00:00.000000000",
          "2018-12-29T00:00:00.000000000",
          "2019-01-10T00:00:00.000000000",
          "2019-01-22T00:00:00.000000000"
         ],
         "y": [
          -10.44,
          -12.113,
          -17.499,
          -16.77,
          -13.134,
          -15.072,
          -14.68,
          -11.325,
          -15.596,
          -12.434,
          -11.064,
          -12.867,
          -15.249,
          -13.909,
          -12.297,
          -12.08,
          -15.856,
          -14.95,
          -15.334,
          -17.227,
          -14.545,
          -16.492,
          -20.279,
          -15.919,
          -19.919,
          -18.83,
          -18.126,
          -15.819,
          -20.324,
          -18.288,
          -18.108,
          -15.706,
          -16.646,
          -16.055,
          -14.947,
          -16.923,
          -17.131,
          -15.939,
          -16.039,
          -14.991,
          -15.814,
          -15.526,
          -13.748,
          -16.638,
          -16.999,
          -14.055,
          -14.422,
          -14.465,
          -14.222,
          -16.286,
          -15.957,
          -16.123,
          -16.773,
          -15.261,
          -18.808,
          -15.412,
          -14.29,
          -15.849,
          -16.909,
          -16.9,
          -18.075,
          -18.605,
          -15.411,
          -14.899,
          -17.105,
          -15.76,
          -16.071,
          -14.672,
          -14.467,
          -15.739,
          -15.837,
          -15.271,
          -13.213,
          -14.814,
          -17.741,
          -12.957,
          -16.523,
          -14.462,
          -17.585,
          -16.598,
          -20.176,
          -19.086,
          -19.335,
          -18.618000000000002,
          -17.901,
          -18.805,
          -21.215,
          -21.085,
          -19.445,
          -22.137,
          -19.697
         ]
        },
        {
         "line": {
          "color": "red",
          "width": 5
         },
         "mode": "lines",
         "name": "Subsidence - Predicted ",
         "opacity": 0.8,
         "type": "scatter",
         "x": [
          "2015-07-30T00:00:00.000000000",
          "2015-08-23T00:00:00.000000000",
          "2015-09-16T00:00:00.000000000",
          "2015-10-10T00:00:00.000000000",
          "2015-11-03T00:00:00.000000000",
          "2015-11-27T00:00:00.000000000",
          "2015-12-09T00:00:00.000000000",
          "2015-12-21T00:00:00.000000000",
          "2016-01-14T00:00:00.000000000",
          "2016-01-26T00:00:00.000000000",
          "2016-02-07T00:00:00.000000000",
          "2016-02-19T00:00:00.000000000",
          "2016-03-02T00:00:00.000000000",
          "2016-03-14T00:00:00.000000000",
          "2016-03-26T00:00:00.000000000",
          "2016-04-07T00:00:00.000000000",
          "2016-04-19T00:00:00.000000000",
          "2016-05-01T00:00:00.000000000",
          "2016-05-13T00:00:00.000000000",
          "2016-05-25T00:00:00.000000000",
          "2016-06-06T00:00:00.000000000",
          "2016-06-30T00:00:00.000000000",
          "2016-07-24T00:00:00.000000000",
          "2016-08-17T00:00:00.000000000",
          "2016-09-10T00:00:00.000000000",
          "2016-09-22T00:00:00.000000000",
          "2016-10-04T00:00:00.000000000",
          "2016-10-16T00:00:00.000000000",
          "2016-10-28T00:00:00.000000000",
          "2016-11-09T00:00:00.000000000",
          "2016-11-21T00:00:00.000000000",
          "2016-12-03T00:00:00.000000000",
          "2016-12-15T00:00:00.000000000",
          "2016-12-27T00:00:00.000000000",
          "2017-01-08T00:00:00.000000000",
          "2017-01-14T00:00:00.000000000",
          "2017-01-20T00:00:00.000000000",
          "2017-01-26T00:00:00.000000000",
          "2017-02-01T00:00:00.000000000",
          "2017-02-13T00:00:00.000000000",
          "2017-02-25T00:00:00.000000000",
          "2017-03-09T00:00:00.000000000",
          "2017-03-21T00:00:00.000000000",
          "2017-04-02T00:00:00.000000000",
          "2017-04-14T00:00:00.000000000",
          "2017-04-26T00:00:00.000000000",
          "2017-05-08T00:00:00.000000000",
          "2017-05-20T00:00:00.000000000",
          "2017-06-01T00:00:00.000000000",
          "2017-06-13T00:00:00.000000000",
          "2017-06-25T00:00:00.000000000",
          "2017-07-07T00:00:00.000000000",
          "2017-07-19T00:00:00.000000000",
          "2017-07-31T00:00:00.000000000",
          "2017-08-12T00:00:00.000000000",
          "2017-08-24T00:00:00.000000000",
          "2017-09-05T00:00:00.000000000",
          "2017-09-17T00:00:00.000000000",
          "2017-09-29T00:00:00.000000000",
          "2017-10-11T00:00:00.000000000",
          "2017-10-23T00:00:00.000000000",
          "2017-11-04T00:00:00.000000000",
          "2017-11-16T00:00:00.000000000",
          "2017-11-28T00:00:00.000000000",
          "2017-12-10T00:00:00.000000000",
          "2017-12-22T00:00:00.000000000",
          "2018-01-03T00:00:00.000000000",
          "2018-01-15T00:00:00.000000000",
          "2018-01-27T00:00:00.000000000",
          "2018-02-08T00:00:00.000000000",
          "2018-02-20T00:00:00.000000000",
          "2018-03-04T00:00:00.000000000",
          "2018-03-16T00:00:00.000000000",
          "2018-03-28T00:00:00.000000000",
          "2018-04-09T00:00:00.000000000",
          "2018-04-21T00:00:00.000000000",
          "2018-05-03T00:00:00.000000000",
          "2018-05-15T00:00:00.000000000",
          "2018-05-27T00:00:00.000000000",
          "2018-06-08T00:00:00.000000000",
          "2018-06-20T00:00:00.000000000",
          "2018-07-02T00:00:00.000000000",
          "2018-07-14T00:00:00.000000000",
          "2018-07-26T00:00:00.000000000",
          "2018-08-07T00:00:00.000000000",
          "2018-08-19T00:00:00.000000000",
          "2018-08-31T00:00:00.000000000",
          "2018-09-12T00:00:00.000000000",
          "2018-09-24T00:00:00.000000000",
          "2018-10-06T00:00:00.000000000",
          "2018-10-18T00:00:00.000000000",
          "2018-10-30T00:00:00.000000000",
          "2018-11-11T00:00:00.000000000",
          "2018-11-17T00:00:00.000000000",
          "2018-11-23T00:00:00.000000000",
          "2018-12-05T00:00:00.000000000",
          "2018-12-17T00:00:00.000000000",
          "2018-12-29T00:00:00.000000000",
          "2019-01-10T00:00:00.000000000",
          "2019-01-22T00:00:00.000000000"
         ],
         "y": [
          -6.470539093017578,
          -7.672646999359131,
          -0.8235277533531189,
          -3.563737154006958,
          -5.868911266326904,
          -3.220881938934326,
          -5.953797340393066,
          -7.797530174255371,
          -9.471966743469238,
          -10.201101303100586,
          -13.817461013793945,
          -15.488421440124512,
          -21.04947853088379,
          -20.225339889526367,
          -16.518896102905273,
          -18.478195190429688,
          -18.082441329956055,
          -14.697628021240234,
          -19.00623321533203,
          -15.811881065368652,
          -14.437028884887695,
          -16.2490177154541,
          -18.65669822692871,
          -17.30287742614746,
          -15.673758506774902,
          -15.455204963684082,
          -19.267732620239258,
          -18.355085372924805,
          -18.742372512817383,
          -20.742820739746094,
          -17.946033477783203,
          -19.909208297729492,
          -24.123031616210938,
          -19.331037521362305,
          -23.73134422302246,
          -22.535009384155273,
          -21.7524356842041,
          -19.230539321899414,
          -24.17186164855957,
          -21.933149337768555,
          -21.732332229614258,
          -19.116910934448242,
          -20.084455490112305,
          -19.467622756958008,
          -18.3520565032959,
          -20.39889907836914,
          -20.63435173034668,
          -19.351131439208984,
          -19.45155906677246,
          -18.396465301513672,
          -19.225515365600586,
          -18.93577003479004,
          -17.139989852905273,
          -20.07535743713379,
          -20.484996795654297,
          -17.450572967529297,
          -17.82170867919922,
          -17.865175247192383,
          -17.619482040405273,
          -19.699359893798828,
          -19.369211196899414,
          -19.535873413085938,
          -20.22874641418457,
          -18.668794631958008,
          -22.510665893554688,
          -18.820960998535156,
          -17.688247680664062,
          -19.260696411132812,
          -20.38302993774414,
          -20.372827529907227,
          -21.695466995239258,
          -22.285676956176758,
          -18.8199520111084,
          -18.303604125976562,
          -20.604949951171875,
          -19.171220779418945,
          -19.483684539794922,
          -18.074357986450195,
          -17.867197036743164,
          -19.150102615356445,
          -19.24863624572754,
          -18.678876876831055,
          -16.598783493041992,
          -18.21778678894043,
          -21.321453094482422,
          -16.339963912963867,
          -19.944509506225586,
          -17.86214256286621,
          -21.146223068237305,
          -20.029863357543945,
          -24.011157989501953
         ]
        }
       ],
       "layout": {
        "legend": {
         "orientation": "h",
         "x": 1,
         "xanchor": "right",
         "y": 1.02,
         "yanchor": "bottom"
        },
        "plot_bgcolor": "white",
        "template": {
         "data": {
          "bar": [
           {
            "error_x": {
             "color": "#2a3f5f"
            },
            "error_y": {
             "color": "#2a3f5f"
            },
            "marker": {
             "line": {
              "color": "#E5ECF6",
              "width": 0.5
             },
             "pattern": {
              "fillmode": "overlay",
              "size": 10,
              "solidity": 0.2
             }
            },
            "type": "bar"
           }
          ],
          "barpolar": [
           {
            "marker": {
             "line": {
              "color": "#E5ECF6",
              "width": 0.5
             },
             "pattern": {
              "fillmode": "overlay",
              "size": 10,
              "solidity": 0.2
             }
            },
            "type": "barpolar"
           }
          ],
          "carpet": [
           {
            "aaxis": {
             "endlinecolor": "#2a3f5f",
             "gridcolor": "white",
             "linecolor": "white",
             "minorgridcolor": "white",
             "startlinecolor": "#2a3f5f"
            },
            "baxis": {
             "endlinecolor": "#2a3f5f",
             "gridcolor": "white",
             "linecolor": "white",
             "minorgridcolor": "white",
             "startlinecolor": "#2a3f5f"
            },
            "type": "carpet"
           }
          ],
          "choropleth": [
           {
            "colorbar": {
             "outlinewidth": 0,
             "ticks": ""
            },
            "type": "choropleth"
           }
          ],
          "contour": [
           {
            "colorbar": {
             "outlinewidth": 0,
             "ticks": ""
            },
            "colorscale": [
             [
              0,
              "#0d0887"
             ],
             [
              0.1111111111111111,
              "#46039f"
             ],
             [
              0.2222222222222222,
              "#7201a8"
             ],
             [
              0.3333333333333333,
              "#9c179e"
             ],
             [
              0.4444444444444444,
              "#bd3786"
             ],
             [
              0.5555555555555556,
              "#d8576b"
             ],
             [
              0.6666666666666666,
              "#ed7953"
             ],
             [
              0.7777777777777778,
              "#fb9f3a"
             ],
             [
              0.8888888888888888,
              "#fdca26"
             ],
             [
              1,
              "#f0f921"
             ]
            ],
            "type": "contour"
           }
          ],
          "contourcarpet": [
           {
            "colorbar": {
             "outlinewidth": 0,
             "ticks": ""
            },
            "type": "contourcarpet"
           }
          ],
          "heatmap": [
           {
            "colorbar": {
             "outlinewidth": 0,
             "ticks": ""
            },
            "colorscale": [
             [
              0,
              "#0d0887"
             ],
             [
              0.1111111111111111,
              "#46039f"
             ],
             [
              0.2222222222222222,
              "#7201a8"
             ],
             [
              0.3333333333333333,
              "#9c179e"
             ],
             [
              0.4444444444444444,
              "#bd3786"
             ],
             [
              0.5555555555555556,
              "#d8576b"
             ],
             [
              0.6666666666666666,
              "#ed7953"
             ],
             [
              0.7777777777777778,
              "#fb9f3a"
             ],
             [
              0.8888888888888888,
              "#fdca26"
             ],
             [
              1,
              "#f0f921"
             ]
            ],
            "type": "heatmap"
           }
          ],
          "heatmapgl": [
           {
            "colorbar": {
             "outlinewidth": 0,
             "ticks": ""
            },
            "colorscale": [
             [
              0,
              "#0d0887"
             ],
             [
              0.1111111111111111,
              "#46039f"
             ],
             [
              0.2222222222222222,
              "#7201a8"
             ],
             [
              0.3333333333333333,
              "#9c179e"
             ],
             [
              0.4444444444444444,
              "#bd3786"
             ],
             [
              0.5555555555555556,
              "#d8576b"
             ],
             [
              0.6666666666666666,
              "#ed7953"
             ],
             [
              0.7777777777777778,
              "#fb9f3a"
             ],
             [
              0.8888888888888888,
              "#fdca26"
             ],
             [
              1,
              "#f0f921"
             ]
            ],
            "type": "heatmapgl"
           }
          ],
          "histogram": [
           {
            "marker": {
             "pattern": {
              "fillmode": "overlay",
              "size": 10,
              "solidity": 0.2
             }
            },
            "type": "histogram"
           }
          ],
          "histogram2d": [
           {
            "colorbar": {
             "outlinewidth": 0,
             "ticks": ""
            },
            "colorscale": [
             [
              0,
              "#0d0887"
             ],
             [
              0.1111111111111111,
              "#46039f"
             ],
             [
              0.2222222222222222,
              "#7201a8"
             ],
             [
              0.3333333333333333,
              "#9c179e"
             ],
             [
              0.4444444444444444,
              "#bd3786"
             ],
             [
              0.5555555555555556,
              "#d8576b"
             ],
             [
              0.6666666666666666,
              "#ed7953"
             ],
             [
              0.7777777777777778,
              "#fb9f3a"
             ],
             [
              0.8888888888888888,
              "#fdca26"
             ],
             [
              1,
              "#f0f921"
             ]
            ],
            "type": "histogram2d"
           }
          ],
          "histogram2dcontour": [
           {
            "colorbar": {
             "outlinewidth": 0,
             "ticks": ""
            },
            "colorscale": [
             [
              0,
              "#0d0887"
             ],
             [
              0.1111111111111111,
              "#46039f"
             ],
             [
              0.2222222222222222,
              "#7201a8"
             ],
             [
              0.3333333333333333,
              "#9c179e"
             ],
             [
              0.4444444444444444,
              "#bd3786"
             ],
             [
              0.5555555555555556,
              "#d8576b"
             ],
             [
              0.6666666666666666,
              "#ed7953"
             ],
             [
              0.7777777777777778,
              "#fb9f3a"
             ],
             [
              0.8888888888888888,
              "#fdca26"
             ],
             [
              1,
              "#f0f921"
             ]
            ],
            "type": "histogram2dcontour"
           }
          ],
          "mesh3d": [
           {
            "colorbar": {
             "outlinewidth": 0,
             "ticks": ""
            },
            "type": "mesh3d"
           }
          ],
          "parcoords": [
           {
            "line": {
             "colorbar": {
              "outlinewidth": 0,
              "ticks": ""
             }
            },
            "type": "parcoords"
           }
          ],
          "pie": [
           {
            "automargin": true,
            "type": "pie"
           }
          ],
          "scatter": [
           {
            "fillpattern": {
             "fillmode": "overlay",
             "size": 10,
             "solidity": 0.2
            },
            "type": "scatter"
           }
          ],
          "scatter3d": [
           {
            "line": {
             "colorbar": {
              "outlinewidth": 0,
              "ticks": ""
             }
            },
            "marker": {
             "colorbar": {
              "outlinewidth": 0,
              "ticks": ""
             }
            },
            "type": "scatter3d"
           }
          ],
          "scattercarpet": [
           {
            "marker": {
             "colorbar": {
              "outlinewidth": 0,
              "ticks": ""
             }
            },
            "type": "scattercarpet"
           }
          ],
          "scattergeo": [
           {
            "marker": {
             "colorbar": {
              "outlinewidth": 0,
              "ticks": ""
             }
            },
            "type": "scattergeo"
           }
          ],
          "scattergl": [
           {
            "marker": {
             "colorbar": {
              "outlinewidth": 0,
              "ticks": ""
             }
            },
            "type": "scattergl"
           }
          ],
          "scattermapbox": [
           {
            "marker": {
             "colorbar": {
              "outlinewidth": 0,
              "ticks": ""
             }
            },
            "type": "scattermapbox"
           }
          ],
          "scatterpolar": [
           {
            "marker": {
             "colorbar": {
              "outlinewidth": 0,
              "ticks": ""
             }
            },
            "type": "scatterpolar"
           }
          ],
          "scatterpolargl": [
           {
            "marker": {
             "colorbar": {
              "outlinewidth": 0,
              "ticks": ""
             }
            },
            "type": "scatterpolargl"
           }
          ],
          "scatterternary": [
           {
            "marker": {
             "colorbar": {
              "outlinewidth": 0,
              "ticks": ""
             }
            },
            "type": "scatterternary"
           }
          ],
          "surface": [
           {
            "colorbar": {
             "outlinewidth": 0,
             "ticks": ""
            },
            "colorscale": [
             [
              0,
              "#0d0887"
             ],
             [
              0.1111111111111111,
              "#46039f"
             ],
             [
              0.2222222222222222,
              "#7201a8"
             ],
             [
              0.3333333333333333,
              "#9c179e"
             ],
             [
              0.4444444444444444,
              "#bd3786"
             ],
             [
              0.5555555555555556,
              "#d8576b"
             ],
             [
              0.6666666666666666,
              "#ed7953"
             ],
             [
              0.7777777777777778,
              "#fb9f3a"
             ],
             [
              0.8888888888888888,
              "#fdca26"
             ],
             [
              1,
              "#f0f921"
             ]
            ],
            "type": "surface"
           }
          ],
          "table": [
           {
            "cells": {
             "fill": {
              "color": "#EBF0F8"
             },
             "line": {
              "color": "white"
             }
            },
            "header": {
             "fill": {
              "color": "#C8D4E3"
             },
             "line": {
              "color": "white"
             }
            },
            "type": "table"
           }
          ]
         },
         "layout": {
          "annotationdefaults": {
           "arrowcolor": "#2a3f5f",
           "arrowhead": 0,
           "arrowwidth": 1
          },
          "autotypenumbers": "strict",
          "coloraxis": {
           "colorbar": {
            "outlinewidth": 0,
            "ticks": ""
           }
          },
          "colorscale": {
           "diverging": [
            [
             0,
             "#8e0152"
            ],
            [
             0.1,
             "#c51b7d"
            ],
            [
             0.2,
             "#de77ae"
            ],
            [
             0.3,
             "#f1b6da"
            ],
            [
             0.4,
             "#fde0ef"
            ],
            [
             0.5,
             "#f7f7f7"
            ],
            [
             0.6,
             "#e6f5d0"
            ],
            [
             0.7,
             "#b8e186"
            ],
            [
             0.8,
             "#7fbc41"
            ],
            [
             0.9,
             "#4d9221"
            ],
            [
             1,
             "#276419"
            ]
           ],
           "sequential": [
            [
             0,
             "#0d0887"
            ],
            [
             0.1111111111111111,
             "#46039f"
            ],
            [
             0.2222222222222222,
             "#7201a8"
            ],
            [
             0.3333333333333333,
             "#9c179e"
            ],
            [
             0.4444444444444444,
             "#bd3786"
            ],
            [
             0.5555555555555556,
             "#d8576b"
            ],
            [
             0.6666666666666666,
             "#ed7953"
            ],
            [
             0.7777777777777778,
             "#fb9f3a"
            ],
            [
             0.8888888888888888,
             "#fdca26"
            ],
            [
             1,
             "#f0f921"
            ]
           ],
           "sequentialminus": [
            [
             0,
             "#0d0887"
            ],
            [
             0.1111111111111111,
             "#46039f"
            ],
            [
             0.2222222222222222,
             "#7201a8"
            ],
            [
             0.3333333333333333,
             "#9c179e"
            ],
            [
             0.4444444444444444,
             "#bd3786"
            ],
            [
             0.5555555555555556,
             "#d8576b"
            ],
            [
             0.6666666666666666,
             "#ed7953"
            ],
            [
             0.7777777777777778,
             "#fb9f3a"
            ],
            [
             0.8888888888888888,
             "#fdca26"
            ],
            [
             1,
             "#f0f921"
            ]
           ]
          },
          "colorway": [
           "#636efa",
           "#EF553B",
           "#00cc96",
           "#ab63fa",
           "#FFA15A",
           "#19d3f3",
           "#FF6692",
           "#B6E880",
           "#FF97FF",
           "#FECB52"
          ],
          "font": {
           "color": "#2a3f5f"
          },
          "geo": {
           "bgcolor": "white",
           "lakecolor": "white",
           "landcolor": "#E5ECF6",
           "showlakes": true,
           "showland": true,
           "subunitcolor": "white"
          },
          "hoverlabel": {
           "align": "left"
          },
          "hovermode": "closest",
          "mapbox": {
           "style": "light"
          },
          "paper_bgcolor": "white",
          "plot_bgcolor": "#E5ECF6",
          "polar": {
           "angularaxis": {
            "gridcolor": "white",
            "linecolor": "white",
            "ticks": ""
           },
           "bgcolor": "#E5ECF6",
           "radialaxis": {
            "gridcolor": "white",
            "linecolor": "white",
            "ticks": ""
           }
          },
          "scene": {
           "xaxis": {
            "backgroundcolor": "#E5ECF6",
            "gridcolor": "white",
            "gridwidth": 2,
            "linecolor": "white",
            "showbackground": true,
            "ticks": "",
            "zerolinecolor": "white"
           },
           "yaxis": {
            "backgroundcolor": "#E5ECF6",
            "gridcolor": "white",
            "gridwidth": 2,
            "linecolor": "white",
            "showbackground": true,
            "ticks": "",
            "zerolinecolor": "white"
           },
           "zaxis": {
            "backgroundcolor": "#E5ECF6",
            "gridcolor": "white",
            "gridwidth": 2,
            "linecolor": "white",
            "showbackground": true,
            "ticks": "",
            "zerolinecolor": "white"
           }
          },
          "shapedefaults": {
           "line": {
            "color": "#2a3f5f"
           }
          },
          "ternary": {
           "aaxis": {
            "gridcolor": "white",
            "linecolor": "white",
            "ticks": ""
           },
           "baxis": {
            "gridcolor": "white",
            "linecolor": "white",
            "ticks": ""
           },
           "bgcolor": "#E5ECF6",
           "caxis": {
            "gridcolor": "white",
            "linecolor": "white",
            "ticks": ""
           }
          },
          "title": {
           "x": 0.05
          },
          "xaxis": {
           "automargin": true,
           "gridcolor": "white",
           "linecolor": "white",
           "ticks": "",
           "title": {
            "standoff": 15
           },
           "zerolinecolor": "white",
           "zerolinewidth": 2
          },
          "yaxis": {
           "automargin": true,
           "gridcolor": "white",
           "linecolor": "white",
           "ticks": "",
           "title": {
            "standoff": 15
           },
           "zerolinecolor": "white",
           "zerolinewidth": 2
          }
         }
        },
        "title": {
         "font": {
          "color": "black"
         },
         "text": "Subsidence"
        },
        "xaxis": {
         "gridcolor": "lightgrey",
         "gridwidth": 1,
         "linecolor": "black",
         "linewidth": 1,
         "showgrid": true,
         "showline": true,
         "title": {
          "text": "Month-Year"
         },
         "zeroline": true,
         "zerolinecolor": "lightgrey",
         "zerolinewidth": 1
        },
        "yaxis": {
         "gridcolor": "lightgrey",
         "gridwidth": 1,
         "linecolor": "black",
         "linewidth": 1,
         "showgrid": true,
         "showline": true,
         "title": {
          "text": "Subsidence"
         },
         "zeroline": true,
         "zerolinecolor": "lightgrey",
         "zerolinewidth": 1
        }
       }
      }
     },
     "metadata": {},
     "output_type": "display_data"
    }
   ],
   "source": [
    "# Plot (actual and predicted) for test (out of time) data\n",
    "fig = go.Figure()\n",
    "\n",
    "# #Trace for actual val\n",
    "# fig.add_trace(go.Scatter(x=np.array(test.columns),\n",
    "#                          y=np.array(test.values).flatten(),\n",
    "#                          mode='lines',\n",
    "#                          name='Subsidence - Actual (Test)',\n",
    "#                          opacity=0.8,\n",
    "#                          line=dict(color='black', width=1)\n",
    "#                         ))\n",
    "# fig.add_trace(go.Scatter(x=np.array(test.columns),\n",
    "#                          y=e,\n",
    "#                          mode='lines',\n",
    "#                          name='Subsidence - Actual (YTrain)',\n",
    "#                          opacity=0.8,\n",
    "#                          line=dict(color='pink', width=1)\n",
    "#                         ))\n",
    "\n",
    "fig.add_trace(go.Scatter(x=np.array(test.columns[10:]),\n",
    "                         y=c,\n",
    "                         mode='lines',\n",
    "                         name='Subsidence - Actual (YTest)',\n",
    "                         opacity=0.8,\n",
    "                         line=dict(color='grey', width=5)\n",
    "                        ))\n",
    "\n",
    "\n",
    "# Trace for predicted \n",
    "fig.add_trace(go.Scatter(x=np.array(test.columns[10:]),\n",
    "                         y=z,\n",
    "                         mode='lines',\n",
    "                         name='Subsidence - Predicted ',\n",
    "                         opacity=0.8,\n",
    "                         line=dict(color='red', width=5)\n",
    "                        ))\n",
    "\n",
    "# Change chart background color\n",
    "fig.update_layout(dict(plot_bgcolor = 'white'))\n",
    "\n",
    "# Update axes lines\n",
    "fig.update_xaxes(showgrid=True, gridwidth=1, gridcolor='lightgrey', \n",
    "                 zeroline=True, zerolinewidth=1, zerolinecolor='lightgrey', \n",
    "                 showline=True, linewidth=1, linecolor='black',\n",
    "                 title='Month-Year'\n",
    "                )\n",
    "\n",
    "fig.update_yaxes(showgrid=True, gridwidth=1, gridcolor='lightgrey', \n",
    "                 zeroline=True, zerolinewidth=1, zerolinecolor='lightgrey', \n",
    "                 showline=True, linewidth=1, linecolor='black',\n",
    "                 title='Subsidence'\n",
    "                )\n",
    "\n",
    "# Set figure title\n",
    "fig.update_layout(title=dict(text=\"Subsidence\", font=dict(color='black')),\n",
    "                  legend=dict(orientation=\"h\", yanchor=\"bottom\", y=1.02, xanchor=\"right\", x=1)\n",
    "                 )\n",
    "fig.show()"
   ]
  },
  {
   "cell_type": "markdown",
   "metadata": {},
   "source": []
  }
 ],
 "metadata": {
  "kernelspec": {
   "display_name": "Python 3.10.5 64-bit",
   "language": "python",
   "name": "python3"
  },
  "language_info": {
   "codemirror_mode": {
    "name": "ipython",
    "version": 3
   },
   "file_extension": ".py",
   "mimetype": "text/x-python",
   "name": "python",
   "nbconvert_exporter": "python",
   "pygments_lexer": "ipython3",
   "version": "3.10.5"
  },
  "orig_nbformat": 4,
  "vscode": {
   "interpreter": {
    "hash": "d3e10ef16274dd72e574b8fa73b58450b957d8421a2901baded3cca26fcf5dda"
   }
  }
 },
 "nbformat": 4,
 "nbformat_minor": 2
}
